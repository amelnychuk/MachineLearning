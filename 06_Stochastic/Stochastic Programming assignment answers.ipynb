{
 "cells": [
  {
   "cell_type": "code",
   "execution_count": null,
   "metadata": {
    "collapsed": true
   },
   "outputs": [],
   "source": [
    "2c\n",
    "3b\n",
    "4a\n",
    "5a\n",
    "6 47781\n",
    "7 47780\n",
    "8 c\n",
    "9 b a\n",
    "10 200 2 x\n",
    "11 a d x \n",
    "12 d e x\n",
    "13 c"
   ]
  }
 ],
 "metadata": {
  "kernelspec": {
   "display_name": "Python 2",
   "language": "python",
   "name": "python2"
  },
  "language_info": {
   "codemirror_mode": {
    "name": "ipython",
    "version": 2
   },
   "file_extension": ".py",
   "mimetype": "text/x-python",
   "name": "python",
   "nbconvert_exporter": "python",
   "pygments_lexer": "ipython2",
   "version": "2.7.10"
  }
 },
 "nbformat": 4,
 "nbformat_minor": 0
}
