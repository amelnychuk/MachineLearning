{
 "cells": [
  {
   "cell_type": "markdown",
   "metadata": {},
   "source": [
    "# Regression Week 2: Multiple Regression (gradient descent)"
   ]
  },
  {
   "cell_type": "markdown",
   "metadata": {},
   "source": [
    "In the first notebook we explored multiple regression using graphlab create. Now we will use graphlab along with numpy to solve for the regression weights with gradient descent.\n",
    "\n",
    "In this notebook we will cover estimating multiple regression weights via gradient descent. You will:\n",
    "* Add a constant column of 1's to a graphlab SFrame to account for the intercept\n",
    "* Convert an SFrame into a Numpy array\n",
    "* Write a predict_output() function using Numpy\n",
    "* Write a numpy function to compute the derivative of the regression weights with respect to a single feature\n",
    "* Write gradient descent function to compute the regression weights given an initial weight vector, step size and tolerance.\n",
    "* Use the gradient descent function to estimate regression weights for multiple features"
   ]
  },
  {
   "cell_type": "markdown",
   "metadata": {},
   "source": [
    "# Fire up graphlab create"
   ]
  },
  {
   "cell_type": "markdown",
   "metadata": {},
   "source": [
    "Make sure you have the latest version of graphlab (>= 1.7)"
   ]
  },
  {
   "cell_type": "code",
   "execution_count": 3,
   "metadata": {
    "collapsed": false
   },
   "outputs": [],
   "source": [
    "import graphlab"
   ]
  },
  {
   "cell_type": "markdown",
   "metadata": {},
   "source": [
    "# Load in house sales data\n",
    "\n",
    "Dataset is from house sales in King County, the region where the city of Seattle, WA is located."
   ]
  },
  {
   "cell_type": "code",
   "execution_count": 4,
   "metadata": {
    "collapsed": false
   },
   "outputs": [
    {
     "name": "stderr",
     "output_type": "stream",
     "text": [
      "[INFO] \u001b[1;32m1450823816 : INFO:     (initialize_globals_from_environment:282): Setting configuration variable GRAPHLAB_FILEIO_ALTERNATIVE_SSL_CERT_FILE to /Users/endless/anaconda/envs/dato-env/lib/python2.7/site-packages/certifi/cacert.pem\n",
      "\u001b[0m\u001b[1;32m1450823816 : INFO:     (initialize_globals_from_environment:282): Setting configuration variable GRAPHLAB_FILEIO_ALTERNATIVE_SSL_CERT_DIR to \n",
      "\u001b[0mThis non-commercial license of GraphLab Create is assigned to amelnychukoseen@gmail.com and will expire on September 25, 2016. For commercial licensing options, visit https://dato.com/buy/.\n",
      "\n",
      "[INFO] Start server at: ipc:///tmp/graphlab_server-3093 - Server binary: /Users/endless/anaconda/envs/dato-env/lib/python2.7/site-packages/graphlab/unity_server - Server log: /tmp/graphlab_server_1450823816.log\n",
      "[INFO] GraphLab Server Version: 1.7.1\n"
     ]
    }
   ],
   "source": [
    "sales = graphlab.SFrame('./data/kc_house_data.gl/')"
   ]
  },
  {
   "cell_type": "markdown",
   "metadata": {},
   "source": [
    "If we want to do any \"feature engineering\" like creating new features or adjusting existing ones we should do this directly using the SFrames as seen in the other Week 2 notebook. For this notebook, however, we will work with the existing features."
   ]
  },
  {
   "cell_type": "markdown",
   "metadata": {},
   "source": [
    "# Convert to Numpy Array"
   ]
  },
  {
   "cell_type": "markdown",
   "metadata": {},
   "source": [
    "Although SFrames offer a number of benefits to users (especially when using Big Data and built-in graphlab functions) in order to understand the details of the implementation of algorithms it's important to work with a library that allows for direct (and optimized) matrix operations. Numpy is a Python solution to work with matrices (or any multi-dimensional \"array\").\n",
    "\n",
    "Recall that the predicted value given the weights and the features is just the dot product between the feature and weight vector. Similarly, if we put all of the features row-by-row in a matrix then the predicted value for *all* the observations can be computed by right multiplying the \"feature matrix\" by the \"weight vector\". \n",
    "\n",
    "First we need to take the SFrame of our data and convert it into a 2D numpy array (also called a matrix). To do this we use graphlab's built in .to_dataframe() which converts the SFrame into a Pandas (another python library) dataframe. We can then use Panda's .as_matrix() to convert the dataframe into a numpy matrix."
   ]
  },
  {
   "cell_type": "code",
   "execution_count": 5,
   "metadata": {
    "collapsed": true
   },
   "outputs": [],
   "source": [
    "import numpy as np # note this allows us to refer to numpy as np instead "
   ]
  },
  {
   "cell_type": "markdown",
   "metadata": {},
   "source": [
    "Now we will write a function that will accept an SFrame, a list of feature names (e.g. ['sqft_living', 'bedrooms']) and an target feature e.g. ('price') and will return two things:\n",
    "* A numpy matrix whose columns are the desired features plus a constant column (this is how we create an 'intercept')\n",
    "* A numpy array containing the values of the output\n",
    "\n",
    "With this in mind, complete the following function (where there's an empty line you should write a line of code that does what the comment above indicates)\n",
    "\n",
    "**Please note you will need GraphLab Create version at least 1.7.1 in order for .to_numpy() to work!**"
   ]
  },
  {
   "cell_type": "code",
   "execution_count": 6,
   "metadata": {
    "collapsed": false
   },
   "outputs": [
    {
     "data": {
      "text/html": [
       "<div style=\"max-height:1000px;max-width:1500px;overflow:auto;\"><table frame=\"box\" rules=\"cols\">\n",
       "    <tr>\n",
       "        <th style=\"padding-left: 1em; padding-right: 1em; text-align: center\">bedrooms</th>\n",
       "        <th style=\"padding-left: 1em; padding-right: 1em; text-align: center\">constant</th>\n",
       "    </tr>\n",
       "    <tr>\n",
       "        <td style=\"padding-left: 1em; padding-right: 1em; text-align: center; vertical-align: top\">3.0</td>\n",
       "        <td style=\"padding-left: 1em; padding-right: 1em; text-align: center; vertical-align: top\">1</td>\n",
       "    </tr>\n",
       "    <tr>\n",
       "        <td style=\"padding-left: 1em; padding-right: 1em; text-align: center; vertical-align: top\">3.0</td>\n",
       "        <td style=\"padding-left: 1em; padding-right: 1em; text-align: center; vertical-align: top\">1</td>\n",
       "    </tr>\n",
       "    <tr>\n",
       "        <td style=\"padding-left: 1em; padding-right: 1em; text-align: center; vertical-align: top\">2.0</td>\n",
       "        <td style=\"padding-left: 1em; padding-right: 1em; text-align: center; vertical-align: top\">1</td>\n",
       "    </tr>\n",
       "    <tr>\n",
       "        <td style=\"padding-left: 1em; padding-right: 1em; text-align: center; vertical-align: top\">4.0</td>\n",
       "        <td style=\"padding-left: 1em; padding-right: 1em; text-align: center; vertical-align: top\">1</td>\n",
       "    </tr>\n",
       "    <tr>\n",
       "        <td style=\"padding-left: 1em; padding-right: 1em; text-align: center; vertical-align: top\">3.0</td>\n",
       "        <td style=\"padding-left: 1em; padding-right: 1em; text-align: center; vertical-align: top\">1</td>\n",
       "    </tr>\n",
       "    <tr>\n",
       "        <td style=\"padding-left: 1em; padding-right: 1em; text-align: center; vertical-align: top\">4.0</td>\n",
       "        <td style=\"padding-left: 1em; padding-right: 1em; text-align: center; vertical-align: top\">1</td>\n",
       "    </tr>\n",
       "    <tr>\n",
       "        <td style=\"padding-left: 1em; padding-right: 1em; text-align: center; vertical-align: top\">3.0</td>\n",
       "        <td style=\"padding-left: 1em; padding-right: 1em; text-align: center; vertical-align: top\">1</td>\n",
       "    </tr>\n",
       "    <tr>\n",
       "        <td style=\"padding-left: 1em; padding-right: 1em; text-align: center; vertical-align: top\">3.0</td>\n",
       "        <td style=\"padding-left: 1em; padding-right: 1em; text-align: center; vertical-align: top\">1</td>\n",
       "    </tr>\n",
       "    <tr>\n",
       "        <td style=\"padding-left: 1em; padding-right: 1em; text-align: center; vertical-align: top\">3.0</td>\n",
       "        <td style=\"padding-left: 1em; padding-right: 1em; text-align: center; vertical-align: top\">1</td>\n",
       "    </tr>\n",
       "    <tr>\n",
       "        <td style=\"padding-left: 1em; padding-right: 1em; text-align: center; vertical-align: top\">3.0</td>\n",
       "        <td style=\"padding-left: 1em; padding-right: 1em; text-align: center; vertical-align: top\">1</td>\n",
       "    </tr>\n",
       "</table>\n",
       "[21613 rows x 2 columns]<br/>Note: Only the head of the SFrame is printed.<br/>You can use print_rows(num_rows=m, num_columns=n) to print more rows and columns.\n",
       "</div>"
      ],
      "text/plain": [
       "Columns:\n",
       "\tbedrooms\tfloat\n",
       "\tconstant\tint\n",
       "\n",
       "Rows: 21613\n",
       "\n",
       "Data:\n",
       "+----------+----------+\n",
       "| bedrooms | constant |\n",
       "+----------+----------+\n",
       "|   3.0    |    1     |\n",
       "|   3.0    |    1     |\n",
       "|   2.0    |    1     |\n",
       "|   4.0    |    1     |\n",
       "|   3.0    |    1     |\n",
       "|   4.0    |    1     |\n",
       "|   3.0    |    1     |\n",
       "|   3.0    |    1     |\n",
       "|   3.0    |    1     |\n",
       "|   3.0    |    1     |\n",
       "+----------+----------+\n",
       "[21613 rows x 2 columns]\n",
       "Note: Only the head of the SFrame is printed.\n",
       "You can use print_rows(num_rows=m, num_columns=n) to print more rows and columns."
      ]
     },
     "execution_count": 6,
     "metadata": {},
     "output_type": "execute_result"
    }
   ],
   "source": [
    "test = sales\n",
    "test['constant'] = 1\n",
    "test\n",
    "features = ['bedrooms','constant']\n",
    "sf = test[features]\n",
    "sf"
   ]
  },
  {
   "cell_type": "code",
   "execution_count": 7,
   "metadata": {
    "collapsed": false
   },
   "outputs": [],
   "source": [
    "def get_numpy_data(data_sframe, features, output):\n",
    "    data_sframe['constant'] = 1 # this is how you add a constant column to an SFrame\n",
    "    # add the column 'constant' to the front of the features list so that we can extract it along with the others:\n",
    "    features = ['constant'] + features # this is how you combine two lists\n",
    "    # select the columns of data_SFrame given by the features list into the SFrame features_sframe (now including constant):\n",
    "    features_sframe = data_sframe[features]\n",
    "    # the following line will convert the features_SFrame into a numpy matrix:\n",
    "    feature_matrix = features_sframe.to_numpy()\n",
    "    # assign the column of data_sframe associated with the output to the SArray output_sarray\n",
    "    output_sarray = data_sframe[output]\n",
    "    # the following will convert the SArray into a numpy array by first converting it to a list\n",
    "    output_array = output_sarray.to_numpy()\n",
    "    return(feature_matrix, output_array)"
   ]
  },
  {
   "cell_type": "markdown",
   "metadata": {},
   "source": [
    "For testing let's use the 'sqft_living' feature and a constant as our features and price as our output:"
   ]
  },
  {
   "cell_type": "code",
   "execution_count": 8,
   "metadata": {
    "collapsed": false
   },
   "outputs": [
    {
     "name": "stdout",
     "output_type": "stream",
     "text": [
      "[  1.00000000e+00   1.18000000e+03]\n",
      "221900.0\n"
     ]
    }
   ],
   "source": [
    "(example_features, example_output) = get_numpy_data(sales, ['sqft_living'], 'price') # the [] around 'sqft_living' makes it a list\n",
    "print example_features[0,:] # this accesses the first row of the data the ':' indicates 'all columns'\n",
    "print example_output[0] # and the corresponding output"
   ]
  },
  {
   "cell_type": "markdown",
   "metadata": {},
   "source": [
    "# Predicting output given regression weights"
   ]
  },
  {
   "cell_type": "markdown",
   "metadata": {},
   "source": [
    "Suppose we had the weights [1.0, 1.0] and the features [1.0, 1180.0] and we wanted to compute the predicted output 1.0\\*1.0 + 1.0\\*1180.0 = 1181.0 this is the dot product between these two arrays. If they're numpy arrayws we can use np.dot() to compute this:"
   ]
  },
  {
   "cell_type": "code",
   "execution_count": 9,
   "metadata": {
    "collapsed": false
   },
   "outputs": [
    {
     "name": "stdout",
     "output_type": "stream",
     "text": [
      "1181.0\n"
     ]
    }
   ],
   "source": [
    "my_weights = np.array([1., 1.]) # the example weights\n",
    "my_features = example_features[0,] # we'll use the first data point\n",
    "predicted_value = np.dot(my_features, my_weights)\n",
    "print predicted_value"
   ]
  },
  {
   "cell_type": "markdown",
   "metadata": {},
   "source": [
    "np.dot() also works when dealing with a matrix and a vector. Recall that the predictions from all the observations is just the RIGHT (as in weights on the right) dot product between the features *matrix* and the weights *vector*. With this in mind finish the following predict_output function to compute the predictions for an entire matrix of features given the matrix and the weights:"
   ]
  },
  {
   "cell_type": "code",
   "execution_count": 10,
   "metadata": {
    "collapsed": true
   },
   "outputs": [],
   "source": [
    "def predict_output(feature_matrix, weights):\n",
    "    # assume feature_matrix is a numpy matrix containing the features as columns and weights is a corresponding numpy array\n",
    "    # create the predictions vector by using np.dot()\n",
    "    predictions = np.dot(feature_matrix, weights)\n",
    "    return(predictions)"
   ]
  },
  {
   "cell_type": "markdown",
   "metadata": {},
   "source": [
    "If you want to test your code run the following cell:"
   ]
  },
  {
   "cell_type": "code",
   "execution_count": 11,
   "metadata": {
    "collapsed": false
   },
   "outputs": [
    {
     "name": "stdout",
     "output_type": "stream",
     "text": [
      "1181.0\n",
      "2571.0\n"
     ]
    }
   ],
   "source": [
    "test_predictions = predict_output(example_features, my_weights)\n",
    "print test_predictions[0] # should be 1181.0\n",
    "print test_predictions[1] # should be 2571.0"
   ]
  },
  {
   "cell_type": "markdown",
   "metadata": {},
   "source": [
    "# Computing the Derivative"
   ]
  },
  {
   "cell_type": "markdown",
   "metadata": {},
   "source": [
    "We are now going to move to computing the derivative of the regression cost function. Recall that the cost function is the sum over the data points of the squared difference between an observed output and a predicted output.\n",
    "\n",
    "Since the derivative of a sum is the sum of the derivatives we can compute the derivative for a single data point and then sum over data points. We can write the squared difference between the observed output and predicted output for a single point as follows:\n",
    "\n",
    "(w[0]\\*[CONSTANT] + w[1]\\*[feature_1] + ... + w[i] \\*[feature_i] + ... +  w[k]\\*[feature_k] - output)^2\n",
    "\n",
    "Where we have k features and a constant. So the derivative with respect to weight w[i] by the chain rule is:\n",
    "\n",
    "2\\*(w[0]\\*[CONSTANT] + w[1]\\*[feature_1] + ... + w[i] \\*[feature_i] + ... +  w[k]\\*[feature_k] - output)\\* [feature_i]\n",
    "\n",
    "The term inside the paranethesis is just the error (difference between prediction and output). So we can re-write this as:\n",
    "\n",
    "2\\*error\\*[feature_i]\n",
    "\n",
    "That is, the derivative for the weight for feature i is the sum (over data points) of 2 times the product of the error and the feature itself. In the case of the constant then this is just twice the sum of the errors!\n",
    "\n",
    "Recall that twice the sum of the product of two vectors is just twice the dot product of the two vectors. Therefore the derivative for the weight for feature_i is just two times the dot product between the values of feature_i and the current errors. \n",
    "\n",
    "With this in mind complete the following derivative function which computes the derivative of the weight given the value of the feature (over all data points) and the errors (over all data points)."
   ]
  },
  {
   "cell_type": "code",
   "execution_count": 12,
   "metadata": {
    "collapsed": true
   },
   "outputs": [],
   "source": [
    "def feature_derivative(errors, feature):\n",
    "    # Assume that errors and feature are both numpy arrays of the same length (number of data points)\n",
    "    # compute twice the dot product of these vectors as 'derivative' and return the value\n",
    "    derivative = 2*np.dot(errors, feature)\n",
    "    return(derivative)"
   ]
  },
  {
   "cell_type": "markdown",
   "metadata": {},
   "source": [
    "To test your feature derivartive run the following:"
   ]
  },
  {
   "cell_type": "code",
   "execution_count": 13,
   "metadata": {
    "collapsed": false
   },
   "outputs": [
    {
     "name": "stdout",
     "output_type": "stream",
     "text": [
      "-23345850022.0\n",
      "-23345850022.0\n"
     ]
    }
   ],
   "source": [
    "(example_features, example_output) = get_numpy_data(sales, ['sqft_living'], 'price') \n",
    "my_weights = np.array([0., 0.]) # this makes all the predictions 0\n",
    "test_predictions = predict_output(example_features, my_weights) \n",
    "# just like SFrames 2 numpy arrays can be elementwise subtracted with '-': \n",
    "errors = test_predictions - example_output # prediction errors in this case is just the -example_output\n",
    "feature = example_features[:,0] # let's compute the derivative with respect to 'constant', the \":\" indicates \"all rows\"\n",
    "derivative = feature_derivative(errors, feature)\n",
    "print derivative\n",
    "print -np.sum(example_output)*2 # should be the same as derivative"
   ]
  },
  {
   "cell_type": "markdown",
   "metadata": {},
   "source": [
    "# Gradient Descent"
   ]
  },
  {
   "cell_type": "markdown",
   "metadata": {},
   "source": [
    "Now we will write a function that performs a gradient descent. The basic premise is simple. Given a starting point we update the current weights by moving in the negative gradient direction. Recall that the gradient is the direction of *increase* and therefore the negative gradient is the direction of *decrease* and we're trying to *minimize* a cost function. \n",
    "\n",
    "The amount by which we move in the negative gradient *direction*  is called the 'step size'. We stop when we are 'sufficiently close' to the optimum. We define this by requiring that the magnitude (length) of the gradient vector to be smaller than a fixed 'tolerance'.\n",
    "\n",
    "With this in mind, complete the following gradient descent function below using your derivative function above. For each step in the gradient descent we update the weight for each feature befofe computing our stopping criteria"
   ]
  },
  {
   "cell_type": "code",
   "execution_count": 14,
   "metadata": {
    "collapsed": true
   },
   "outputs": [],
   "source": [
    "from math import sqrt # recall that the magnitude/length of a vector [g[0], g[1], g[2]] is sqrt(g[0]^2 + g[1]^2 + g[2]^2)"
   ]
  },
  {
   "cell_type": "code",
   "execution_count": 15,
   "metadata": {
    "collapsed": false
   },
   "outputs": [],
   "source": [
    "def regression_gradient_descent(feature_matrix, output, initial_weights, step_size, tolerance):\n",
    "    converged = False \n",
    "    weights = np.array(initial_weights) # make sure it's a numpy array\n",
    "    while not converged:\n",
    "        # compute the predictions based on feature_matrix and weights using your predict_output() function\n",
    "        predictions = predict_output(feature_matrix, weights)\n",
    "        # compute the errors as predictions - output\n",
    "        errors = predictions - output\n",
    "        gradient_sum_squares = 0 # initialize the gradient sum of squares\n",
    "        # while we haven't reached the tolerance yet, update each feature's weight\n",
    "        for i in range(len(weights)): # loop over each weight\n",
    "            \n",
    "            # Recall that feature_matrix[:, i] is the feature column associated with weights[i]\n",
    "            # compute the derivative for weight[i]:\n",
    "            derivative = feature_derivative(errors, feature_matrix[:,i])\n",
    "            #print derivative\n",
    "            # add the squared value of the derivative to the gradient magnitude (for assessing convergence)\n",
    "            gradient_sum_squares += derivative*derivative\n",
    "            \n",
    "            # subtract the step size times the derivative from the current weight\n",
    "            weights[i] = weights[i] - (step_size * derivative)\n",
    "            #print weights[i]\n",
    "        # compute the square-root of the gradient sum of squares to get the gradient matnigude:\n",
    "        gradient_magnitude = sqrt(gradient_sum_squares)\n",
    "        print \"Weights: \", weights\n",
    "        print \"gradient_magnitude: \" , gradient_magnitude\n",
    "        if gradient_magnitude < tolerance:\n",
    "            converged = True\n",
    "    return(weights)"
   ]
  },
  {
   "cell_type": "markdown",
   "metadata": {},
   "source": [
    "A few things to note before we run the gradient descent. Since the gradient is a sum over all the data points and involves a product of an error and a feature the gradient itself will be very large since the features are large (squarefeet) and the output is large (prices). So while you might expect \"tolerance\" to be small, small is only relative to the size of the features. \n",
    "\n",
    "For similar reasons the step size will be much smaller than you might expect but this is because the gradient has such large values."
   ]
  },
  {
   "cell_type": "markdown",
   "metadata": {},
   "source": [
    "# Running the Gradient Descent as Simple Regression"
   ]
  },
  {
   "cell_type": "markdown",
   "metadata": {},
   "source": [
    "First let's split the data into training and test data."
   ]
  },
  {
   "cell_type": "code",
   "execution_count": 16,
   "metadata": {
    "collapsed": false
   },
   "outputs": [],
   "source": [
    "train_data,test_data = sales.random_split(.8,seed=0)"
   ]
  },
  {
   "cell_type": "markdown",
   "metadata": {},
   "source": [
    "Although the gradient descent is designed for multiple regression since the constant is now a feature we can use the gradient descent function to estimat the parameters in the simple regression on squarefeet. The folowing cell sets up the feature_matrix, output, initial weights and step size for the first model:"
   ]
  },
  {
   "cell_type": "code",
   "execution_count": 46,
   "metadata": {
    "collapsed": false
   },
   "outputs": [],
   "source": [
    "# let's test out the gradient descent\n",
    "simple_features = ['sqft_living']\n",
    "my_output = 'price'\n",
    "(simple_feature_matrix, output) = get_numpy_data(train_data, simple_features, my_output)\n",
    "initial_weights = np.array([-47000., 1.])\n",
    "step_size = 7e-12\n",
    "tolerance = 2.5e7"
   ]
  },
  {
   "cell_type": "markdown",
   "metadata": {},
   "source": [
    "Next run your gradient descent with the above parameters."
   ]
  },
  {
   "cell_type": "code",
   "execution_count": 47,
   "metadata": {
    "collapsed": false
   },
   "outputs": [
    {
     "name": "stdout",
     "output_type": "stream",
     "text": [
      "Weights:  [-46999.85779866    354.86068685]\n",
      "gradient_magnitude:  5.05515307744e+13\n",
      "Weights:  [-46999.894732      262.96853711]\n",
      "gradient_magnitude:  1.31274510235e+13\n",
      "Weights:  [-46999.88514683    286.83150776]\n",
      "gradient_magnitude:  3.40899608253e+12\n",
      "Weights:  [-46999.88764179    280.6346632 ]\n",
      "gradient_magnitude:  8.852635801e+11\n",
      "Weights:  [-46999.88699974    282.24388793]\n",
      "gradient_magnitude:  2.2988926572e+11\n",
      "Weights:  [-46999.88717231    281.82599715]\n",
      "gradient_magnitude:  59698688259.7\n",
      "Weights:  [-46999.88713334    281.93451693]\n",
      "gradient_magnitude:  15502826422.1\n",
      "Weights:  [-46999.88714931    281.90633602]\n",
      "gradient_magnitude:  4025844401.5\n",
      "Weights:  [-46999.88715101    281.91365417]\n",
      "gradient_magnitude:  1045449748.16\n",
      "Weights:  [-46999.88715641    281.91175376]\n",
      "gradient_magnitude:  271487891.861\n",
      "Weights:  [-46999.88716085    281.91224727]\n",
      "gradient_magnitude:  70504114.6957\n",
      "Weights:  [-46999.88716555    281.91211912]\n",
      "gradient_magnitude:  18320016.74\n",
      "[-46999.88716555    281.91211912]\n"
     ]
    }
   ],
   "source": [
    "weights = regression_gradient_descent(simple_feature_matrix, output, initial_weights, step_size, tolerance)\n",
    "print weights"
   ]
  },
  {
   "cell_type": "markdown",
   "metadata": {},
   "source": [
    "How do your weights compare to those achieved in week 1 (don't expect them to be exactly the same)? \n",
    "\n",
    "**Quiz Question: What is the value of the weight for sqft_living -- the second element of ‘simple_weights’ (rounded to 1 decimal place)?**"
   ]
  },
  {
   "cell_type": "markdown",
   "metadata": {},
   "source": [
    "Use your newly estimated weights and your predict_output() function to compute the predictions on all the TEST data (you will need to create a numpy array of the test feature_matrix and test output first:"
   ]
  },
  {
   "cell_type": "code",
   "execution_count": 48,
   "metadata": {
    "collapsed": false
   },
   "outputs": [],
   "source": [
    "(test_simple_feature_matrix, test_output) = get_numpy_data(test_data, simple_features, my_output)"
   ]
  },
  {
   "cell_type": "markdown",
   "metadata": {},
   "source": [
    "Now compute your predictions using test_simple_feature_matrix and your weights from above."
   ]
  },
  {
   "cell_type": "code",
   "execution_count": 49,
   "metadata": {
    "collapsed": false
   },
   "outputs": [
    {
     "name": "stdout",
     "output_type": "stream",
     "text": [
      "[ 356134.44317093  784640.86422788  435069.83652353 ...,  663418.65300782\n",
      "  604217.10799338  240550.4743332 ]\n"
     ]
    }
   ],
   "source": [
    "predictions = predict_output(test_simple_feature_matrix, weights)\n",
    "print predictions"
   ]
  },
  {
   "cell_type": "markdown",
   "metadata": {},
   "source": [
    "**Quiz Question: What is the predicted price for the 1st house in the TEST data set for model 1 (round to nearest dollar)?**"
   ]
  },
  {
   "cell_type": "code",
   "execution_count": 50,
   "metadata": {
    "collapsed": false
   },
   "outputs": [
    {
     "data": {
      "text/plain": [
       "356134.44317092968"
      ]
     },
     "execution_count": 50,
     "metadata": {},
     "output_type": "execute_result"
    }
   ],
   "source": [
    "predictions[0]"
   ]
  },
  {
   "cell_type": "markdown",
   "metadata": {},
   "source": [
    "Now that you have the predictions on test data, compute the RSS on the test data set. Save this value for comparison later. Recall that RSS is the sum of the squared errors (difference between prediction and output)."
   ]
  },
  {
   "cell_type": "code",
   "execution_count": 51,
   "metadata": {
    "collapsed": false
   },
   "outputs": [
    {
     "name": "stdout",
     "output_type": "stream",
     "text": [
      "2.75400047593e+14\n"
     ]
    }
   ],
   "source": [
    "error = predictions - test_output\n",
    "error = error * error\n",
    "RSS_1 = error.sum()\n",
    "print RSS_1"
   ]
  },
  {
   "cell_type": "markdown",
   "metadata": {},
   "source": [
    "# Running a multiple regression"
   ]
  },
  {
   "cell_type": "markdown",
   "metadata": {},
   "source": [
    "Now we will use more than one actual feature. Use the following code to produce the weights for a second model with the following parameters:"
   ]
  },
  {
   "cell_type": "code",
   "execution_count": 52,
   "metadata": {
    "collapsed": false
   },
   "outputs": [],
   "source": [
    "model_features = ['sqft_living', 'sqft_living15'] # sqft_living15 is the average squarefeet for the nearest 15 neighbors. \n",
    "my_output = 'price'\n",
    "(feature_matrix, output) = get_numpy_data(train_data, model_features, my_output)\n",
    "initial_weights = np.array([-100000., 1., 1.])\n",
    "step_size = 4e-12\n",
    "tolerance = 1e9"
   ]
  },
  {
   "cell_type": "markdown",
   "metadata": {},
   "source": [
    "Use the above parameters to estimate the model weights. Record these values for your quiz."
   ]
  },
  {
   "cell_type": "code",
   "execution_count": 53,
   "metadata": {
    "collapsed": false
   },
   "outputs": [
    {
     "name": "stdout",
     "output_type": "stream",
     "text": [
      "Weights:  [-99999.91164747    217.89658253    196.92903735]\n",
      "gradient_magnitude:  7.30720205489e+13\n",
      "Weights:  [-99999.94015235    153.06856217    133.50564933]\n",
      "gradient_magnitude:  2.26732209651e+13\n",
      "Weights:  [-99999.93238686    175.5618987     150.5856632 ]\n",
      "gradient_magnitude:  7.0607945821e+12\n",
      "Weights:  [-99999.93584555    170.91513236    142.75832416]\n",
      "gradient_magnitude:  2.27568239427e+12\n",
      "Weights:  [-99999.93579816    174.63083049    142.71624204]\n",
      "gradient_magnitude:  9.28984105638e+11\n",
      "Weights:  [-99999.93681401    175.69887247    140.31809353]\n",
      "gradient_magnitude:  6.56307425178e+11\n",
      "Weights:  [-99999.93747645    177.53542398    138.7079085 ]\n",
      "gradient_magnitude:  6.10615351821e+11\n",
      "Weights:  [-99999.93822543    179.08218133    136.90918121]\n",
      "gradient_magnitude:  5.93078765307e+11\n",
      "Weights:  [-99999.93892505    180.66860703    135.2234583 ]\n",
      "gradient_magnitude:  5.78705920128e+11\n",
      "Weights:  [-99999.93961798    182.19370677    133.55591875]\n",
      "gradient_magnitude:  5.64945676163e+11\n",
      "Weights:  [-99999.94029152    183.68996794    131.9347091 ]\n",
      "gradient_magnitude:  5.51538681425e+11\n",
      "Weights:  [-99999.94095012    185.14844983    130.34986642]\n",
      "gradient_magnitude:  5.38452422879e+11\n",
      "Weights:  [-99999.94159289    186.57303406    128.803277  ]\n",
      "gradient_magnitude:  5.25676912708e+11\n",
      "Weights:  [-99999.94222059    187.96359899    127.29318056]\n",
      "gradient_magnitude:  5.1320454369e+11\n",
      "Weights:  [-99999.94283347    189.32123894    125.81897573]\n",
      "gradient_magnitude:  5.01028100319e+11\n",
      "Weights:  [-99999.9434319     190.64664604    124.3797289 ]\n",
      "gradient_magnitude:  4.89140559101e+11\n",
      "Weights:  [-99999.94401623    191.94061268    122.97463609]\n",
      "gradient_magnitude:  4.77535065233e+11\n",
      "Weights:  [-99999.94458678    193.20387626    121.60287906]\n",
      "gradient_magnitude:  4.66204926754e+11\n",
      "Weights:  [-99999.94514389    194.4371679     120.26366932]\n",
      "gradient_magnitude:  4.55143610499e+11\n",
      "Weights:  [-99999.94568787    195.6411979     118.95623389]\n",
      "gradient_magnitude:  4.44344738312e+11\n",
      "Weights:  [-99999.94621904    196.81666079    117.67981911]\n",
      "gradient_magnitude:  4.33802083366e+11\n",
      "Weights:  [-99999.9467377     197.96423428    116.43368892]\n",
      "gradient_magnitude:  4.23509566576e+11\n",
      "Weights:  [-99999.94724414    199.08458011    115.21712478]\n",
      "gradient_magnitude:  4.1346125309e+11\n",
      "Weights:  [-99999.94773866    200.17834427    114.0294252 ]\n",
      "gradient_magnitude:  4.03651348867e+11\n",
      "Weights:  [-99999.94822154    201.24615747    112.86990534]\n",
      "gradient_magnitude:  3.9407419734e+11\n",
      "Weights:  [-99999.94869306    202.28863541    111.73789659]\n",
      "gradient_magnitude:  3.84724276147e+11\n",
      "Weights:  [-99999.94915348    203.30637921    110.63274621]\n",
      "gradient_magnitude:  3.75596193956e+11\n",
      "Weights:  [-99999.94960306    204.29997572    109.55381696]\n",
      "gradient_magnitude:  3.66684687348e+11\n",
      "Weights:  [-99999.95004208    205.26999787    108.5004867 ]\n",
      "gradient_magnitude:  3.57984617786e+11\n",
      "Weights:  [-99999.95047077    206.21700498    107.47214807]\n",
      "gradient_magnitude:  3.49490968654e+11\n",
      "Weights:  [-99999.95088938    207.14154312    106.46820811]\n",
      "gradient_magnitude:  3.41198842358e+11\n",
      "Weights:  [-99999.95129815    208.0441454     105.48808792]\n",
      "gradient_magnitude:  3.33103457507e+11\n",
      "Weights:  [-99999.95169731    208.92533227    104.53122236]\n",
      "gradient_magnitude:  3.25200146157e+11\n",
      "Weights:  [-99999.9520871     209.78561183    103.59705967]\n",
      "gradient_magnitude:  3.17484351114e+11\n",
      "Weights:  [-99999.95246773    210.62548015    102.6850612 ]\n",
      "gradient_magnitude:  3.09951623311e+11\n",
      "Weights:  [-99999.95283942    211.4454215     101.79470108]\n",
      "gradient_magnitude:  3.02597619241e+11\n",
      "Weights:  [-99999.95320238    212.24590869    100.92546591]\n",
      "gradient_magnitude:  2.9541809845e+11\n",
      "Weights:  [-99999.95355683    213.02740327    100.07685447]\n",
      "gradient_magnitude:  2.88408921097e+11\n",
      "Weights:  [ -9.99999539e+04   2.13790356e+02   9.92483774e+01]\n",
      "gradient_magnitude:  2.81566045563e+11\n",
      "Weights:  [ -9.99999542e+04   2.14535206e+02   9.84395571e+01]\n",
      "gradient_magnitude:  2.74885526122e+11\n",
      "Weights:  [ -9.99999546e+04   2.15262384e+02   9.76499271e+01]\n",
      "gradient_magnitude:  2.68363510666e+11\n",
      "Weights:  [ -9.99999549e+04   2.15972309e+02   9.68790320e+01]\n",
      "gradient_magnitude:  2.6199623848e+11\n",
      "Weights:  [ -9.99999552e+04   2.16665390e+02   9.61264275e+01]\n",
      "gradient_magnitude:  2.55780038082e+11\n",
      "Weights:  [ -9.99999555e+04   2.17342027e+02   9.53916794e+01]\n",
      "gradient_magnitude:  2.49711325096e+11\n",
      "Weights:  [ -9.99999558e+04   2.18002609e+02   9.46743643e+01]\n",
      "gradient_magnitude:  2.43786600194e+11\n",
      "Weights:  [ -9.99999561e+04   2.18647519e+02   9.39740683e+01]\n",
      "gradient_magnitude:  2.3800244707e+11\n",
      "Weights:  [ -9.99999564e+04   2.19277127e+02   9.32903878e+01]\n",
      "gradient_magnitude:  2.32355530477e+11\n",
      "Weights:  [ -9.99999567e+04   2.19891797e+02   9.26229285e+01]\n",
      "gradient_magnitude:  2.26842594301e+11\n",
      "Weights:  [ -9.99999569e+04   2.20491883e+02   9.19713055e+01]\n",
      "gradient_magnitude:  2.21460459683e+11\n",
      "Weights:  [ -9.99999572e+04   2.21077731e+02   9.13351431e+01]\n",
      "gradient_magnitude:  2.16206023185e+11\n",
      "Weights:  [ -9.99999575e+04   2.21649679e+02   9.07140745e+01]\n",
      "gradient_magnitude:  2.11076255005e+11\n",
      "Weights:  [ -9.99999577e+04   2.22208057e+02   9.01077416e+01]\n",
      "gradient_magnitude:  2.06068197225e+11\n",
      "Weights:  [ -9.99999580e+04   2.22753187e+02   8.95157947e+01]\n",
      "gradient_magnitude:  2.01178962108e+11\n",
      "Weights:  [ -9.99999582e+04   2.23285382e+02   8.89378925e+01]\n",
      "gradient_magnitude:  1.96405730433e+11\n",
      "Weights:  [ -9.99999585e+04   2.23804951e+02   8.83737017e+01]\n",
      "gradient_magnitude:  1.91745749866e+11\n",
      "Weights:  [ -9.99999587e+04   2.24312193e+02   8.78228972e+01]\n",
      "gradient_magnitude:  1.8719633338e+11\n",
      "Weights:  [ -9.99999589e+04   2.24807399e+02   8.72851612e+01]\n",
      "gradient_magnitude:  1.82754857697e+11\n",
      "Weights:  [ -9.99999591e+04   2.25290856e+02   8.67601836e+01]\n",
      "gradient_magnitude:  1.78418761783e+11\n",
      "Weights:  [ -9.99999594e+04   2.25762842e+02   8.62476619e+01]\n",
      "gradient_magnitude:  1.74185545366e+11\n",
      "Weights:  [ -9.99999596e+04   2.26223630e+02   8.57473004e+01]\n",
      "gradient_magnitude:  1.70052767496e+11\n",
      "Weights:  [ -9.99999598e+04   2.26673485e+02   8.52588106e+01]\n",
      "gradient_magnitude:  1.66018045138e+11\n",
      "Weights:  [ -9.99999600e+04   2.27112667e+02   8.47819108e+01]\n",
      "gradient_magnitude:  1.62079051799e+11\n",
      "Weights:  [ -9.99999602e+04   2.27541428e+02   8.43163262e+01]\n",
      "gradient_magnitude:  1.58233516183e+11\n",
      "Weights:  [ -9.99999604e+04   2.27960017e+02   8.38617881e+01]\n",
      "gradient_magnitude:  1.54479220884e+11\n",
      "Weights:  [ -9.99999605e+04   2.28368674e+02   8.34180345e+01]\n",
      "gradient_magnitude:  1.50814001109e+11\n",
      "Weights:  [ -9.99999607e+04   2.28767635e+02   8.29848096e+01]\n",
      "gradient_magnitude:  1.47235743424e+11\n",
      "Weights:  [ -9.99999609e+04   2.29157130e+02   8.25618635e+01]\n",
      "gradient_magnitude:  1.43742384541e+11\n",
      "Weights:  [ -9.99999611e+04   2.29537384e+02   8.21489523e+01]\n",
      "gradient_magnitude:  1.40331910127e+11\n",
      "Weights:  [ -9.99999612e+04   2.29908616e+02   8.17458380e+01]\n",
      "gradient_magnitude:  1.37002353639e+11\n",
      "Weights:  [ -9.99999614e+04   2.30271040e+02   8.13522881e+01]\n",
      "gradient_magnitude:  1.33751795195e+11\n",
      "Weights:  [ -9.99999616e+04   2.30624865e+02   8.09680757e+01]\n",
      "gradient_magnitude:  1.30578360464e+11\n",
      "Weights:  [ -9.99999617e+04   2.30970295e+02   8.05929792e+01]\n",
      "gradient_magnitude:  1.27480219586e+11\n",
      "Weights:  [ -9.99999619e+04   2.31307529e+02   8.02267824e+01]\n",
      "gradient_magnitude:  1.24455586117e+11\n",
      "Weights:  [ -9.99999620e+04   2.31636762e+02   7.98692740e+01]\n",
      "gradient_magnitude:  1.21502715998e+11\n",
      "Weights:  [ -9.99999622e+04   2.31958183e+02   7.95202480e+01]\n",
      "gradient_magnitude:  1.1861990655e+11\n",
      "Weights:  [ -9.99999623e+04   2.32271979e+02   7.91795031e+01]\n",
      "gradient_magnitude:  1.15805495494e+11\n",
      "Weights:  [ -9.99999625e+04   2.32578329e+02   7.88468429e+01]\n",
      "gradient_magnitude:  1.13057859988e+11\n",
      "Weights:  [ -9.99999626e+04   2.32877410e+02   7.85220754e+01]\n",
      "gradient_magnitude:  1.10375415697e+11\n",
      "Weights:  [ -9.99999628e+04   2.33169396e+02   7.82050134e+01]\n",
      "gradient_magnitude:  1.07756615874e+11\n",
      "Weights:  [ -9.99999629e+04   2.33454454e+02   7.78954742e+01]\n",
      "gradient_magnitude:  1.05199950471e+11\n",
      "Weights:  [ -9.99999630e+04   2.33732748e+02   7.75932791e+01]\n",
      "gradient_magnitude:  1.0270394527e+11\n",
      "Weights:  [ -9.99999631e+04   2.34004439e+02   7.72982541e+01]\n",
      "gradient_magnitude:  1.00267161028e+11\n",
      "Weights:  [ -9.99999633e+04   2.34269685e+02   7.70102289e+01]\n",
      "gradient_magnitude:  97888192650.6\n",
      "Weights:  [ -9.99999634e+04   2.34528637e+02   7.67290374e+01]\n",
      "gradient_magnitude:  95565668382.2\n",
      "Weights:  [ -9.99999635e+04   2.34781445e+02   7.64545176e+01]\n",
      "gradient_magnitude:  93298249012.9\n",
      "Weights:  [ -9.99999636e+04   2.35028254e+02   7.61865111e+01]\n",
      "gradient_magnitude:  91084627107.5\n",
      "Weights:  [ -9.99999637e+04   2.35269208e+02   7.59248635e+01]\n",
      "gradient_magnitude:  88923526251.5\n",
      "Weights:  [ -9.99999638e+04   2.35504445e+02   7.56694237e+01]\n",
      "gradient_magnitude:  86813700314.9\n",
      "Weights:  [ -9.99999639e+04   2.35734101e+02   7.54200446e+01]\n",
      "gradient_magnitude:  84753932733.7\n",
      "Weights:  [ -9.99999640e+04   2.35958308e+02   7.51765824e+01]\n",
      "gradient_magnitude:  82743035808.5\n",
      "Weights:  [ -9.99999641e+04   2.36177195e+02   7.49388966e+01]\n",
      "gradient_magnitude:  80779850019.8\n",
      "Weights:  [ -9.99999642e+04   2.36390889e+02   7.47068502e+01]\n",
      "gradient_magnitude:  78863243358.8\n",
      "Weights:  [ -9.99999643e+04   2.36599512e+02   7.44803094e+01]\n",
      "gradient_magnitude:  76992110675.6\n",
      "Weights:  [ -9.99999644e+04   2.36803186e+02   7.42591436e+01]\n",
      "gradient_magnitude:  75165373040.8\n",
      "Weights:  [ -9.99999645e+04   2.37002027e+02   7.40432252e+01]\n",
      "gradient_magnitude:  73381977124.6\n",
      "Weights:  [ -9.99999646e+04   2.37196151e+02   7.38324298e+01]\n",
      "gradient_magnitude:  71640894588.5\n",
      "Weights:  [ -9.99999647e+04   2.37385669e+02   7.36266357e+01]\n",
      "gradient_magnitude:  69941121492.5\n",
      "Weights:  [ -9.99999648e+04   2.37570690e+02   7.34257244e+01]\n",
      "gradient_magnitude:  68281677716.8\n",
      "Weights:  [ -9.99999649e+04   2.37751321e+02   7.32295800e+01]\n",
      "gradient_magnitude:  66661606395.9\n",
      "Weights:  [ -9.99999650e+04   2.37927667e+02   7.30380894e+01]\n",
      "gradient_magnitude:  65079973367.3\n",
      "Weights:  [ -9.99999650e+04   2.38099828e+02   7.28511421e+01]\n",
      "gradient_magnitude:  63535866632.7\n",
      "Weights:  [ -9.99999651e+04   2.38267905e+02   7.26686304e+01]\n",
      "gradient_magnitude:  62028395832.0\n",
      "Weights:  [ -9.99999652e+04   2.38431994e+02   7.24904490e+01]\n",
      "gradient_magnitude:  60556691730.4\n",
      "Weights:  [ -9.99999653e+04   2.38592190e+02   7.23164952e+01]\n",
      "gradient_magnitude:  59119905716.4\n",
      "Weights:  [ -9.99999654e+04   2.38748585e+02   7.21466687e+01]\n",
      "gradient_magnitude:  57717209313.2\n",
      "Weights:  [ -9.99999654e+04   2.38901269e+02   7.19808715e+01]\n",
      "gradient_magnitude:  56347793700.5\n",
      "Weights:  [ -9.99999655e+04   2.39050331e+02   7.18190081e+01]\n",
      "gradient_magnitude:  55010869248.6\n",
      "Weights:  [ -9.99999656e+04   2.39195856e+02   7.16609851e+01]\n",
      "gradient_magnitude:  53705665062.4\n",
      "Weights:  [ -9.99999656e+04   2.39337928e+02   7.15067114e+01]\n",
      "gradient_magnitude:  52431428537.5\n",
      "Weights:  [ -9.99999657e+04   2.39476629e+02   7.13560980e+01]\n",
      "gradient_magnitude:  51187424926.0\n",
      "Weights:  [ -9.99999658e+04   2.39612040e+02   7.12090582e+01]\n",
      "gradient_magnitude:  49972936913.0\n",
      "Weights:  [ -9.99999658e+04   2.39744237e+02   7.10655071e+01]\n",
      "gradient_magnitude:  48787264202.4\n",
      "Weights:  [ -9.99999659e+04   2.39873298e+02   7.09253618e+01]\n",
      "gradient_magnitude:  47629723114.0\n",
      "Weights:  [ -9.99999660e+04   2.39999297e+02   7.07885418e+01]\n",
      "gradient_magnitude:  46499646188.5\n",
      "Weights:  [ -9.99999660e+04   2.40122307e+02   7.06549679e+01]\n",
      "gradient_magnitude:  45396381803.0\n",
      "Weights:  [ -9.99999661e+04   2.40242398e+02   7.05245633e+01]\n",
      "gradient_magnitude:  44319293795.4\n",
      "Weights:  [ -9.99999661e+04   2.40359639e+02   7.03972527e+01]\n",
      "gradient_magnitude:  43267761097.0\n",
      "Weights:  [ -9.99999662e+04   2.40474099e+02   7.02729627e+01]\n",
      "gradient_magnitude:  42241177375.0\n",
      "Weights:  [ -9.99999662e+04   2.40585843e+02   7.01516216e+01]\n",
      "gradient_magnitude:  41238950682.7\n",
      "Weights:  [ -9.99999663e+04   2.40694936e+02   7.00331595e+01]\n",
      "gradient_magnitude:  40260503117.9\n",
      "Weights:  [ -9.99999663e+04   2.40801441e+02   6.99175081e+01]\n",
      "gradient_magnitude:  39305270490.1\n",
      "Weights:  [ -9.99999664e+04   2.40905418e+02   6.98046007e+01]\n",
      "gradient_magnitude:  38372701994.6\n",
      "Weights:  [ -9.99999664e+04   2.41006929e+02   6.96943721e+01]\n",
      "gradient_magnitude:  37462259895.7\n",
      "Weights:  [ -9.99999665e+04   2.41106031e+02   6.95867588e+01]\n",
      "gradient_magnitude:  36573419215.8\n",
      "Weights:  [ -9.99999665e+04   2.41202782e+02   6.94816989e+01]\n",
      "gradient_magnitude:  35705667433.4\n",
      "Weights:  [ -9.99999666e+04   2.41297237e+02   6.93791315e+01]\n",
      "gradient_magnitude:  34858504186.9\n",
      "Weights:  [ -9.99999666e+04   2.41389451e+02   6.92789978e+01]\n",
      "gradient_magnitude:  34031440986.6\n",
      "Weights:  [ -9.99999667e+04   2.41479477e+02   6.91812398e+01]\n",
      "gradient_magnitude:  33224000933.0\n",
      "Weights:  [ -9.99999667e+04   2.41567368e+02   6.90858013e+01]\n",
      "gradient_magnitude:  32435718441.4\n",
      "Weights:  [ -9.99999668e+04   2.41653173e+02   6.89926272e+01]\n",
      "gradient_magnitude:  31666138973.8\n",
      "Weights:  [ -9.99999668e+04   2.41736942e+02   6.89016637e+01]\n",
      "gradient_magnitude:  30914818776.8\n",
      "Weights:  [ -9.99999668e+04   2.41818723e+02   6.88128585e+01]\n",
      "gradient_magnitude:  30181324625.4\n",
      "Weights:  [ -9.99999669e+04   2.41898565e+02   6.87261603e+01]\n",
      "gradient_magnitude:  29465233573.7\n",
      "Weights:  [ -9.99999669e+04   2.41976511e+02   6.86415192e+01]\n",
      "gradient_magnitude:  28766132710.5\n",
      "Weights:  [ -9.99999670e+04   2.42052609e+02   6.85588862e+01]\n",
      "gradient_magnitude:  28083618921.5\n",
      "Weights:  [ -9.99999670e+04   2.42126901e+02   6.84782138e+01]\n",
      "gradient_magnitude:  27417298657.0\n",
      "Weights:  [ -9.99999670e+04   2.42199430e+02   6.83994555e+01]\n",
      "gradient_magnitude:  26766787704.6\n",
      "Weights:  [ -9.99999671e+04   2.42270239e+02   6.83225658e+01]\n",
      "gradient_magnitude:  26131710967.9\n",
      "Weights:  [ -9.99999671e+04   2.42339367e+02   6.82475005e+01]\n",
      "gradient_magnitude:  25511702250.0\n",
      "Weights:  [ -9.99999671e+04   2.42406855e+02   6.81742161e+01]\n",
      "gradient_magnitude:  24906404042.8\n",
      "Weights:  [ -9.99999672e+04   2.42472742e+02   6.81026705e+01]\n",
      "gradient_magnitude:  24315467320.2\n",
      "Weights:  [ -9.99999672e+04   2.42537066e+02   6.80328225e+01]\n",
      "gradient_magnitude:  23738551337.5\n",
      "Weights:  [ -9.99999672e+04   2.42599864e+02   6.79646316e+01]\n",
      "gradient_magnitude:  23175323434.3\n",
      "Weights:  [ -9.99999673e+04   2.42661171e+02   6.78980587e+01]\n",
      "gradient_magnitude:  22625458843.3\n",
      "Weights:  [ -9.99999673e+04   2.42721024e+02   6.78330653e+01]\n",
      "gradient_magnitude:  22088640502.6\n",
      "Weights:  [ -9.99999673e+04   2.42779457e+02   6.77696140e+01]\n",
      "gradient_magnitude:  21564558873.0\n",
      "Weights:  [ -9.99999674e+04   2.42836504e+02   6.77076681e+01]\n",
      "gradient_magnitude:  21052911759.4\n",
      "Weights:  [ -9.99999674e+04   2.42892197e+02   6.76471920e+01]\n",
      "gradient_magnitude:  20553404136.9\n",
      "Weights:  [ -9.99999674e+04   2.42946569e+02   6.75881508e+01]\n",
      "gradient_magnitude:  20065747980.3\n",
      "Weights:  [ -9.99999674e+04   2.42999650e+02   6.75305103e+01]\n",
      "gradient_magnitude:  19589662098.2\n",
      "Weights:  [ -9.99999675e+04   2.43051473e+02   6.74742375e+01]\n",
      "gradient_magnitude:  19124871970.9\n",
      "Weights:  [ -9.99999675e+04   2.43102065e+02   6.74192998e+01]\n",
      "gradient_magnitude:  18671109592.0\n",
      "Weights:  [ -9.99999675e+04   2.43151457e+02   6.73656656e+01]\n",
      "gradient_magnitude:  18228113313.7\n",
      "Weights:  [ -9.99999675e+04   2.43199678e+02   6.73133040e+01]\n",
      "gradient_magnitude:  17795627696.4\n",
      "Weights:  [ -9.99999676e+04   2.43246754e+02   6.72621846e+01]\n",
      "gradient_magnitude:  17373403361.1\n",
      "Weights:  [ -9.99999676e+04   2.43292713e+02   6.72122782e+01]\n",
      "gradient_magnitude:  16961196845.6\n",
      "Weights:  [ -9.99999676e+04   2.43337582e+02   6.71635558e+01]\n",
      "gradient_magnitude:  16558770464.0\n",
      "Weights:  [ -9.99999676e+04   2.43381387e+02   6.71159895e+01]\n",
      "gradient_magnitude:  16165892170.0\n",
      "Weights:  [ -9.99999677e+04   2.43424152e+02   6.70695517e+01]\n",
      "gradient_magnitude:  15782335422.9\n",
      "Weights:  [ -9.99999677e+04   2.43465902e+02   6.70242157e+01]\n",
      "gradient_magnitude:  15407879056.9\n",
      "Weights:  [ -9.99999677e+04   2.43506662e+02   6.69799554e+01]\n",
      "gradient_magnitude:  15042307153.7\n",
      "Weights:  [ -9.99999677e+04   2.43546455e+02   6.69367452e+01]\n",
      "gradient_magnitude:  14685408917.8\n",
      "Weights:  [ -9.99999678e+04   2.43585303e+02   6.68945602e+01]\n",
      "gradient_magnitude:  14336978555.2\n",
      "Weights:  [ -9.99999678e+04   2.43623230e+02   6.68533761e+01]\n",
      "gradient_magnitude:  13996815154.7\n",
      "Weights:  [ -9.99999678e+04   2.43660257e+02   6.68131692e+01]\n",
      "gradient_magnitude:  13664722572.0\n",
      "Weights:  [ -9.99999678e+04   2.43696405e+02   6.67739162e+01]\n",
      "gradient_magnitude:  13340509316.2\n",
      "Weights:  [ -9.99999678e+04   2.43731696e+02   6.67355946e+01]\n",
      "gradient_magnitude:  13023988440.4\n",
      "Weights:  [ -9.99999679e+04   2.43766150e+02   6.66981822e+01]\n",
      "gradient_magnitude:  12714977432.6\n",
      "Weights:  [ -9.99999679e+04   2.43799786e+02   6.66616574e+01]\n",
      "gradient_magnitude:  12413298111.7\n",
      "Weights:  [ -9.99999679e+04   2.43832624e+02   6.66259992e+01]\n",
      "gradient_magnitude:  12118776523.7\n",
      "Weights:  [ -9.99999679e+04   2.43864682e+02   6.65911871e+01]\n",
      "gradient_magnitude:  11831242842.3\n",
      "Weights:  [ -9.99999679e+04   2.43895981e+02   6.65572010e+01]\n",
      "gradient_magnitude:  11550531270.3\n",
      "Weights:  [ -9.99999679e+04   2.43926536e+02   6.65240212e+01]\n",
      "gradient_magnitude:  11276479944.3\n",
      "Weights:  [ -9.99999680e+04   2.43956367e+02   6.64916286e+01]\n",
      "gradient_magnitude:  11008930841.3\n",
      "Weights:  [ -9.99999680e+04   2.43985490e+02   6.64600046e+01]\n",
      "gradient_magnitude:  10747729687.6\n",
      "Weights:  [ -9.99999680e+04   2.44013922e+02   6.64291309e+01]\n",
      "gradient_magnitude:  10492725870.0\n",
      "Weights:  [ -9.99999680e+04   2.44041679e+02   6.63989897e+01]\n",
      "gradient_magnitude:  10243772348.6\n",
      "Weights:  [ -9.99999680e+04   2.44068778e+02   6.63695637e+01]\n",
      "gradient_magnitude:  10000725572.3\n",
      "Weights:  [ -9.99999680e+04   2.44095233e+02   6.63408358e+01]\n",
      "gradient_magnitude:  9763445395.81\n",
      "Weights:  [ -9.99999681e+04   2.44121061e+02   6.63127896e+01]\n",
      "gradient_magnitude:  9531794999.22\n",
      "Weights:  [ -9.99999681e+04   2.44146277e+02   6.62854088e+01]\n",
      "gradient_magnitude:  9305640808.63\n",
      "Weights:  [ -9.99999681e+04   2.44170894e+02   6.62586776e+01]\n",
      "gradient_magnitude:  9084852419.46\n",
      "Weights:  [ -9.99999681e+04   2.44194927e+02   6.62325806e+01]\n",
      "gradient_magnitude:  8869302521.1\n",
      "Weights:  [ -9.99999681e+04   2.44218389e+02   6.62071029e+01]\n",
      "gradient_magnitude:  8658866823.56\n",
      "Weights:  [ -9.99999681e+04   2.44241295e+02   6.61822296e+01]\n",
      "gradient_magnitude:  8453423985.82\n",
      "Weights:  [ -9.99999681e+04   2.44263658e+02   6.61579465e+01]\n",
      "gradient_magnitude:  8252855545.78\n",
      "Weights:  [ -9.99999682e+04   2.44285490e+02   6.61342395e+01]\n",
      "gradient_magnitude:  8057045852.07\n",
      "Weights:  [ -9.99999682e+04   2.44306804e+02   6.61110951e+01]\n",
      "gradient_magnitude:  7865881997.24\n",
      "Weights:  [ -9.99999682e+04   2.44327612e+02   6.60884997e+01]\n",
      "gradient_magnitude:  7679253752.75\n",
      "Weights:  [ -9.99999682e+04   2.44347927e+02   6.60664404e+01]\n",
      "gradient_magnitude:  7497053505.37\n",
      "Weights:  [ -9.99999682e+04   2.44367759e+02   6.60449046e+01]\n",
      "gradient_magnitude:  7319176195.12\n",
      "Weights:  [ -9.99999682e+04   2.44387121e+02   6.60238797e+01]\n",
      "gradient_magnitude:  7145519254.73\n",
      "Weights:  [ -9.99999682e+04   2.44406024e+02   6.60033536e+01]\n",
      "gradient_magnitude:  6975982550.45\n",
      "Weights:  [ -9.99999682e+04   2.44424478e+02   6.59833146e+01]\n",
      "gradient_magnitude:  6810468324.33\n",
      "Weights:  [ -9.99999683e+04   2.44442494e+02   6.59637510e+01]\n",
      "gradient_magnitude:  6648881137.87\n",
      "Weights:  [ -9.99999683e+04   2.44460083e+02   6.59446515e+01]\n",
      "gradient_magnitude:  6491127816.97\n",
      "Weights:  [ -9.99999683e+04   2.44477255e+02   6.59260053e+01]\n",
      "gradient_magnitude:  6337117398.19\n",
      "Weights:  [ -9.99999683e+04   2.44494019e+02   6.59078014e+01]\n",
      "gradient_magnitude:  6186761076.33\n",
      "Weights:  [ -9.99999683e+04   2.44510385e+02   6.58900295e+01]\n",
      "gradient_magnitude:  6039972153.21\n",
      "Weights:  [ -9.99999683e+04   2.44526363e+02   6.58726792e+01]\n",
      "gradient_magnitude:  5896665987.68\n",
      "Weights:  [ -9.99999683e+04   2.44541962e+02   6.58557406e+01]\n",
      "gradient_magnitude:  5756759946.78\n",
      "Weights:  [ -9.99999683e+04   2.44557191e+02   6.58392038e+01]\n",
      "gradient_magnitude:  5620173358.17\n",
      "Weights:  [ -9.99999683e+04   2.44572059e+02   6.58230594e+01]\n",
      "gradient_magnitude:  5486827463.54\n",
      "Weights:  [ -9.99999684e+04   2.44586573e+02   6.58072981e+01]\n",
      "gradient_magnitude:  5356645373.22\n",
      "Weights:  [ -9.99999684e+04   2.44600744e+02   6.57919107e+01]\n",
      "gradient_magnitude:  5229552021.85\n",
      "Weights:  [ -9.99999684e+04   2.44614578e+02   6.57768884e+01]\n",
      "gradient_magnitude:  5105474125.1\n",
      "Weights:  [ -9.99999684e+04   2.44628084e+02   6.57622226e+01]\n",
      "gradient_magnitude:  4984340137.41\n",
      "Weights:  [ -9.99999684e+04   2.44641269e+02   6.57479047e+01]\n",
      "gradient_magnitude:  4866080210.72\n",
      "Weights:  [ -9.99999684e+04   2.44654142e+02   6.57339265e+01]\n",
      "gradient_magnitude:  4750626154.21\n",
      "Weights:  [ -9.99999684e+04   2.44666709e+02   6.57202799e+01]\n",
      "gradient_magnitude:  4637911394.97\n",
      "Weights:  [ -9.99999684e+04   2.44678978e+02   6.57069572e+01]\n",
      "gradient_magnitude:  4527870939.63\n",
      "Weights:  [ -9.99999684e+04   2.44690956e+02   6.56939505e+01]\n",
      "gradient_magnitude:  4420441336.86\n",
      "Weights:  [ -9.99999684e+04   2.44702650e+02   6.56812524e+01]\n",
      "gradient_magnitude:  4315560640.81\n",
      "Weights:  [ -9.99999685e+04   2.44714066e+02   6.56688557e+01]\n",
      "gradient_magnitude:  4213168375.35\n",
      "Weights:  [ -9.99999685e+04   2.44725212e+02   6.56567530e+01]\n",
      "gradient_magnitude:  4113205499.26\n",
      "Weights:  [ -9.99999685e+04   2.44736093e+02   6.56449375e+01]\n",
      "gradient_magnitude:  4015614372.13\n",
      "Weights:  [ -9.99999685e+04   2.44746716e+02   6.56334023e+01]\n",
      "gradient_magnitude:  3920338721.13\n",
      "Weights:  [ -9.99999685e+04   2.44757087e+02   6.56221409e+01]\n",
      "gradient_magnitude:  3827323608.6\n",
      "Weights:  [ -9.99999685e+04   2.44767211e+02   6.56111466e+01]\n",
      "gradient_magnitude:  3736515400.34\n",
      "Weights:  [ -9.99999685e+04   2.44777096e+02   6.56004132e+01]\n",
      "gradient_magnitude:  3647861734.68\n",
      "Weights:  [ -9.99999685e+04   2.44786746e+02   6.55899344e+01]\n",
      "gradient_magnitude:  3561311492.31\n",
      "Weights:  [ -9.99999685e+04   2.44796167e+02   6.55797043e+01]\n",
      "gradient_magnitude:  3476814766.8\n",
      "Weights:  [ -9.99999685e+04   2.44805364e+02   6.55697168e+01]\n",
      "gradient_magnitude:  3394322835.79\n",
      "Weights:  [ -9.99999685e+04   2.44814344e+02   6.55599664e+01]\n",
      "gradient_magnitude:  3313788132.94\n",
      "Weights:  [ -9.99999685e+04   2.44823110e+02   6.55504473e+01]\n",
      "gradient_magnitude:  3235164220.48\n",
      "Weights:  [ -9.99999686e+04   2.44831668e+02   6.55411540e+01]\n",
      "gradient_magnitude:  3158405762.43\n",
      "Weights:  [ -9.99999686e+04   2.44840023e+02   6.55320812e+01]\n",
      "gradient_magnitude:  3083468498.48\n",
      "Weights:  [ -9.99999686e+04   2.44848180e+02   6.55232237e+01]\n",
      "gradient_magnitude:  3010309218.43\n",
      "Weights:  [ -9.99999686e+04   2.44856144e+02   6.55145764e+01]\n",
      "gradient_magnitude:  2938885737.33\n",
      "Weights:  [ -9.99999686e+04   2.44863918e+02   6.55061342e+01]\n",
      "gradient_magnitude:  2869156871.08\n",
      "Weights:  [ -9.99999686e+04   2.44871508e+02   6.54978924e+01]\n",
      "gradient_magnitude:  2801082412.77\n",
      "Weights:  [ -9.99999686e+04   2.44878918e+02   6.54898460e+01]\n",
      "gradient_magnitude:  2734623109.42\n",
      "Weights:  [ -9.99999686e+04   2.44886152e+02   6.54819906e+01]\n",
      "gradient_magnitude:  2669740639.4\n",
      "Weights:  [ -9.99999686e+04   2.44893215e+02   6.54743216e+01]\n",
      "gradient_magnitude:  2606397590.29\n",
      "Weights:  [ -9.99999686e+04   2.44900110e+02   6.54668345e+01]\n",
      "gradient_magnitude:  2544557437.34\n",
      "Weights:  [ -9.99999686e+04   2.44906841e+02   6.54595251e+01]\n",
      "gradient_magnitude:  2484184522.4\n",
      "Weights:  [ -9.99999686e+04   2.44913413e+02   6.54523891e+01]\n",
      "gradient_magnitude:  2425244033.35\n",
      "Weights:  [ -9.99999686e+04   2.44919828e+02   6.54454224e+01]\n",
      "gradient_magnitude:  2367701984.03\n",
      "Weights:  [ -9.99999686e+04   2.44926092e+02   6.54386209e+01]\n",
      "gradient_magnitude:  2311525194.65\n",
      "Weights:  [ -9.99999687e+04   2.44932207e+02   6.54319809e+01]\n",
      "gradient_magnitude:  2256681272.66\n",
      "Weights:  [ -9.99999687e+04   2.44938177e+02   6.54254984e+01]\n",
      "gradient_magnitude:  2203138594.06\n",
      "Weights:  [ -9.99999687e+04   2.44944005e+02   6.54191697e+01]\n",
      "gradient_magnitude:  2150866285.15\n",
      "Weights:  [ -9.99999687e+04   2.44949695e+02   6.54129912e+01]\n",
      "gradient_magnitude:  2099834204.79\n",
      "Weights:  [ -9.99999687e+04   2.44955249e+02   6.54069593e+01]\n",
      "gradient_magnitude:  2050012926.95\n",
      "Weights:  [ -9.99999687e+04   2.44960673e+02   6.54010705e+01]\n",
      "gradient_magnitude:  2001373723.78\n",
      "Weights:  [ -9.99999687e+04   2.44965967e+02   6.53953214e+01]\n",
      "gradient_magnitude:  1953888549.02\n",
      "Weights:  [ -9.99999687e+04   2.44971136e+02   6.53897087e+01]\n",
      "gradient_magnitude:  1907530021.87\n",
      "Weights:  [ -9.99999687e+04   2.44976182e+02   6.53842291e+01]\n",
      "gradient_magnitude:  1862271411.15\n",
      "Weights:  [ -9.99999687e+04   2.44981108e+02   6.53788796e+01]\n",
      "gradient_magnitude:  1818086619.93\n",
      "Weights:  [ -9.99999687e+04   2.44985918e+02   6.53736570e+01]\n",
      "gradient_magnitude:  1774950170.46\n",
      "Weights:  [ -9.99999687e+04   2.44990613e+02   6.53685583e+01]\n",
      "gradient_magnitude:  1732837189.48\n",
      "Weights:  [ -9.99999687e+04   2.44995197e+02   6.53635806e+01]\n",
      "gradient_magnitude:  1691723393.87\n",
      "Weights:  [ -9.99999687e+04   2.44999673e+02   6.53587210e+01]\n",
      "gradient_magnitude:  1651585076.68\n",
      "Weights:  [ -9.99999687e+04   2.45004042e+02   6.53539767e+01]\n",
      "gradient_magnitude:  1612399093.43\n",
      "Weights:  [ -9.99999687e+04   2.45008307e+02   6.53493450e+01]\n",
      "gradient_magnitude:  1574142848.76\n",
      "Weights:  [ -9.99999688e+04   2.45012471e+02   6.53448231e+01]\n",
      "gradient_magnitude:  1536794283.43\n",
      "Weights:  [ -9.99999688e+04   2.45016537e+02   6.53404086e+01]\n",
      "gradient_magnitude:  1500331861.58\n",
      "Weights:  [ -9.99999688e+04   2.45020506e+02   6.53360988e+01]\n",
      "gradient_magnitude:  1464734558.32\n",
      "Weights:  [ -9.99999688e+04   2.45024380e+02   6.53318912e+01]\n",
      "gradient_magnitude:  1429981847.59\n",
      "Weights:  [ -9.99999688e+04   2.45028163e+02   6.53277835e+01]\n",
      "gradient_magnitude:  1396053690.35\n",
      "Weights:  [ -9.99999688e+04   2.45031856e+02   6.53237732e+01]\n",
      "gradient_magnitude:  1362930523.01\n",
      "Weights:  [ -9.99999688e+04   2.45035462e+02   6.53198581e+01]\n",
      "gradient_magnitude:  1330593246.15\n",
      "Weights:  [ -9.99999688e+04   2.45038982e+02   6.53160359e+01]\n",
      "gradient_magnitude:  1299023213.51\n",
      "Weights:  [ -9.99999688e+04   2.45042418e+02   6.53123043e+01]\n",
      "gradient_magnitude:  1268202221.23\n",
      "Weights:  [ -9.99999688e+04   2.45045773e+02   6.53086613e+01]\n",
      "gradient_magnitude:  1238112497.38\n",
      "Weights:  [ -9.99999688e+04   2.45049048e+02   6.53051047e+01]\n",
      "gradient_magnitude:  1208736691.66\n",
      "Weights:  [ -9.99999688e+04   2.45052246e+02   6.53016326e+01]\n",
      "gradient_magnitude:  1180057865.46\n",
      "Weights:  [ -9.99999688e+04   2.45055368e+02   6.52982427e+01]\n",
      "gradient_magnitude:  1152059482.05\n",
      "Weights:  [ -9.99999688e+04   2.45058415e+02   6.52949334e+01]\n",
      "gradient_magnitude:  1124725397.05\n",
      "Weights:  [ -9.99999688e+04   2.45061391e+02   6.52917025e+01]\n",
      "gradient_magnitude:  1098039849.12\n",
      "Weights:  [ -9.99999688e+04   2.45064295e+02   6.52885483e+01]\n",
      "gradient_magnitude:  1071987450.91\n",
      "Weights:  [ -9.99999688e+04   2.45067131e+02   6.52854689e+01]\n",
      "gradient_magnitude:  1046553180.11\n",
      "Weights:  [ -9.99999688e+04   2.45069900e+02   6.52824626e+01]\n",
      "gradient_magnitude:  1021722370.88\n",
      "Weights:  [ -9.99999688e+04   2.45072603e+02   6.52795277e+01]\n",
      "gradient_magnitude:  997480705.318\n",
      "[ -9.99999688e+04   2.45072603e+02   6.52795277e+01]\n"
     ]
    }
   ],
   "source": [
    "weights = regression_gradient_descent(feature_matrix, output, initial_weights, step_size, tolerance)\n",
    "print weights"
   ]
  },
  {
   "cell_type": "markdown",
   "metadata": {},
   "source": [
    "Use your newly estimated weights and the predict_output function to compute the predictions on the TEST data. Don't forget to create a numpy array for these features from the test set first!"
   ]
  },
  {
   "cell_type": "code",
   "execution_count": 54,
   "metadata": {
    "collapsed": false
   },
   "outputs": [
    {
     "name": "stdout",
     "output_type": "stream",
     "text": [
      "[ 366651.41203656  762662.39786164  386312.09499712 ...,  682087.39928241\n",
      "  585579.27865729  216559.20396617]\n"
     ]
    }
   ],
   "source": [
    "(feature_matrix, output ) = get_numpy_data(test_data, model_features, my_output )\n",
    "predictions = predict_output(feature_matrix, weights)\n",
    "print predictions"
   ]
  },
  {
   "cell_type": "markdown",
   "metadata": {},
   "source": [
    "**Quiz Question: What is the predicted price for the 1st house in the TEST data set for model 2 (round to nearest dollar)?**"
   ]
  },
  {
   "cell_type": "code",
   "execution_count": 55,
   "metadata": {
    "collapsed": false
   },
   "outputs": [
    {
     "data": {
      "text/plain": [
       "366651.41203655908"
      ]
     },
     "execution_count": 55,
     "metadata": {},
     "output_type": "execute_result"
    }
   ],
   "source": [
    "predictions[0]"
   ]
  },
  {
   "cell_type": "markdown",
   "metadata": {},
   "source": [
    "What is the actual price for the 1st house in the test data set?"
   ]
  },
  {
   "cell_type": "code",
   "execution_count": 56,
   "metadata": {
    "collapsed": false
   },
   "outputs": [
    {
     "data": {
      "text/plain": [
       "310000.0"
      ]
     },
     "execution_count": 56,
     "metadata": {},
     "output_type": "execute_result"
    }
   ],
   "source": [
    "output[0]"
   ]
  },
  {
   "cell_type": "markdown",
   "metadata": {},
   "source": [
    "**Quiz Question: Which estimate was closer to the true price for the 1st house on the Test data set, model 1 or model 2?**"
   ]
  },
  {
   "cell_type": "markdown",
   "metadata": {},
   "source": [
    "Now use your predictions and the output to compute the RSS for model 2 on TEST data."
   ]
  },
  {
   "cell_type": "code",
   "execution_count": 57,
   "metadata": {
    "collapsed": false
   },
   "outputs": [
    {
     "name": "stdout",
     "output_type": "stream",
     "text": [
      "2.70263446465e+14\n"
     ]
    }
   ],
   "source": [
    "error = predictions - test_output\n",
    "error = error * error\n",
    "RSS_2 = error.sum()\n",
    "print RSS_2"
   ]
  },
  {
   "cell_type": "markdown",
   "metadata": {},
   "source": [
    "**Quiz Question: Which model (1 or 2) has lowest RSS on all of the TEST data? **"
   ]
  },
  {
   "cell_type": "code",
   "execution_count": 58,
   "metadata": {
    "collapsed": false
   },
   "outputs": [
    {
     "data": {
      "text/plain": [
       "True"
      ]
     },
     "execution_count": 58,
     "metadata": {},
     "output_type": "execute_result"
    }
   ],
   "source": [
    "RSS_1 > RSS_2"
   ]
  },
  {
   "cell_type": "code",
   "execution_count": null,
   "metadata": {
    "collapsed": true
   },
   "outputs": [],
   "source": []
  }
 ],
 "metadata": {
  "kernelspec": {
   "display_name": "Python 2",
   "language": "python",
   "name": "python2"
  },
  "language_info": {
   "codemirror_mode": {
    "name": "ipython",
    "version": 2
   },
   "file_extension": ".py",
   "mimetype": "text/x-python",
   "name": "python",
   "nbconvert_exporter": "python",
   "pygments_lexer": "ipython2",
   "version": "2.7.11"
  }
 },
 "nbformat": 4,
 "nbformat_minor": 0
}
