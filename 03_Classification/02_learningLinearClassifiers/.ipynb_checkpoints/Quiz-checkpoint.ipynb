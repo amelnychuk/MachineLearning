{
 "cells": [
  {
   "cell_type": "code",
   "execution_count": 7,
   "metadata": {
    "collapsed": true
   },
   "outputs": [],
   "source": [
    "import math"
   ]
  },
  {
   "cell_type": "code",
   "execution_count": 63,
   "metadata": {
    "collapsed": false
   },
   "outputs": [],
   "source": [
    "class likelihood:\n",
    "    \n",
    "    def init():\n",
    "        print \"init\"\n",
    "    def prob(self,x,y):\n",
    "        e = math.exp(x*-1.0)\n",
    "        if y > 0:\n",
    "\n",
    "            return 1 / (1 + e)\n",
    "        else:\n",
    "\n",
    "            return e / (1 + e)\n",
    "    def derv(self,x,y):\n",
    "        e = math.exp(x*-1.0)\n",
    "        return x * (1 / (1 + e))"
   ]
  },
  {
   "cell_type": "code",
   "execution_count": null,
   "metadata": {
    "collapsed": false
   },
   "outputs": [],
   "source": []
  },
  {
   "cell_type": "code",
   "execution_count": 64,
   "metadata": {
    "collapsed": true
   },
   "outputs": [],
   "source": [
    "x_val = [2.5,.3,2.8,0.5]\n",
    "y_val = [1.0,-1.0,1.0,1.0]"
   ]
  },
  {
   "cell_type": "code",
   "execution_count": 68,
   "metadata": {
    "collapsed": false
   },
   "outputs": [
    {
     "name": "stdout",
     "output_type": "stream",
     "text": [
      "0 2.5\n",
      "1 0.3\n",
      "2 2.8\n",
      "3 0.5\n",
      "0.230765141474\n"
     ]
    }
   ],
   "source": [
    "#correct\n",
    "l = likelihood()\n",
    "ll = 1\n",
    "for v in enumerate(zip(x_val,y_val)):\n",
    "    print v[0],v[1][0]\n",
    "    ll *= l.prob(v[1][0],v[1][1])\n",
    "print ll"
   ]
  },
  {
   "cell_type": "code",
   "execution_count": 69,
   "metadata": {
    "collapsed": false
   },
   "outputs": [
    {
     "name": "stdout",
     "output_type": "stream",
     "text": [
      "5.43340927807\n"
     ]
    }
   ],
   "source": [
    "#incorrect\n",
    "ll = 0\n",
    "for v in enumerate(zip(x_val,y_val)):\n",
    "    ll += l.derv(v[1][0],v[1][1])\n",
    "print ll"
   ]
  },
  {
   "cell_type": "code",
   "execution_count": null,
   "metadata": {
    "collapsed": true
   },
   "outputs": [],
   "source": []
  }
 ],
 "metadata": {
  "kernelspec": {
   "display_name": "Python 2",
   "language": "python",
   "name": "python2"
  },
  "language_info": {
   "codemirror_mode": {
    "name": "ipython",
    "version": 2
   },
   "file_extension": ".py",
   "mimetype": "text/x-python",
   "name": "python",
   "nbconvert_exporter": "python",
   "pygments_lexer": "ipython2",
   "version": "2.7.10"
  }
 },
 "nbformat": 4,
 "nbformat_minor": 0
}
