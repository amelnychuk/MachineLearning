{
 "cells": [
  {
   "cell_type": "code",
   "execution_count": 6,
   "metadata": {
    "collapsed": false
   },
   "outputs": [],
   "source": [
    "class pt:\n",
    "    \n",
    "    def __init__(self,x,y):\n",
    "        self.x = x\n",
    "        self.y = y\n",
    "    def getPos(self):\n",
    "        return (self.x,self.y)\n",
    "    def setCluster(self,c):\n",
    "        self.cluster = c"
   ]
  },
  {
   "cell_type": "code",
   "execution_count": 7,
   "metadata": {
    "collapsed": false
   },
   "outputs": [
    {
     "data": {
      "text/plain": [
       "(-1.88, 2.05)"
      ]
     },
     "execution_count": 7,
     "metadata": {},
     "output_type": "execute_result"
    }
   ],
   "source": [
    "p1 = pt(-1.88,2.05)\n",
    "p1.getPos()\n"
   ]
  },
  {
   "cell_type": "code",
   "execution_count": 10,
   "metadata": {
    "collapsed": false
   },
   "outputs": [],
   "source": [
    "import numpy as np\n",
    "\n",
    "def shouldStop(oldCentroids, centroids, iterations):\n",
    "    if iterations > 2: return True\n",
    "    return oldCentroids == centroids\n",
    "\n",
    "def getLabels(dataSet, centroids):\n",
    "    # For each element in the dataset, chose the closest centroid. \n",
    "    # Make that centroid the element's label.\n",
    "    pass\n",
    "    \n",
    "    \n",
    "def getCentroids(dataSet, labels, k):\n",
    "    # Each centroid is the geometric mean of the points that\n",
    "    # have that centroid's label. Important: If a centroid is empty (no points have\n",
    "    # that centroid's label) you should randomly re-initialize it.\n",
    "    pass\n",
    "\n",
    "def kmeans(dataSet, k):\n",
    "\t\n",
    "    # Initialize centroids randomly\n",
    "    numFeatures = 1\n",
    "    centroids = [pt(2,2),pt(-2,-2)]\n",
    "    \n",
    "    \n",
    "    \n",
    "    x = np.array([-1.88,-0.71,2.41, 1.85, -3.69])\n",
    "    y = np.array([2.05,0.42,-0.67,-3.8,-1.33])\n",
    "    \n",
    "    points = []\n",
    "    for i,v in enumerate(zip(x,y)):\n",
    "        points.extend(pt(i[0],i[1]))\n",
    "    \n",
    "    # Initialize book keeping vars.\n",
    "    iterations = 0\n",
    "    oldCentroids = None\n",
    "    \n",
    "    # Run the main k-means algorithm\n",
    "    while not shouldStop(oldCentroids, centroids, iterations):\n",
    "        # Save old centroids for convergence test. Book keeping.\n",
    "        oldCentroids = centroids\n",
    "        iterations += 1\n",
    "        \n",
    "        # Assign labels to each datapoint based on centroids\n",
    "        labels = getLabels(dataSet, centroids)\n",
    "        \n",
    "        # Assign centroids based on datapoint labels\n",
    "        centroids = getCentroids(dataSet, labels, k)\n",
    "        \n",
    "    # We can get the labels too by calling getLabels(dataSet, centroids)\n",
    "    return centroids"
   ]
  },
  {
   "cell_type": "code",
   "execution_count": null,
   "metadata": {
    "collapsed": true
   },
   "outputs": [],
   "source": [
    "1 T\n",
    "2 F x\n",
    "3 T\n",
    "4 F\n",
    "5 F\n",
    "6 T\n",
    "7 T x\n",
    "8 2\n",
    "9 A\n",
    "\n"
   ]
  }
 ],
 "metadata": {
  "kernelspec": {
   "display_name": "Python [dato]",
   "language": "python",
   "name": "Python [dato]"
  },
  "language_info": {
   "codemirror_mode": {
    "name": "ipython",
    "version": 2
   },
   "file_extension": ".py",
   "mimetype": "text/x-python",
   "name": "python",
   "nbconvert_exporter": "python",
   "pygments_lexer": "ipython2",
   "version": "2.7.12"
  }
 },
 "nbformat": 4,
 "nbformat_minor": 0
}
