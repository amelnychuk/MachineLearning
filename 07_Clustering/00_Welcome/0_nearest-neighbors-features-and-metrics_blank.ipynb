{
 "cells": [
  {
   "cell_type": "markdown",
   "metadata": {},
   "source": [
    "# Nearest Neighbors"
   ]
  },
  {
   "cell_type": "markdown",
   "metadata": {},
   "source": [
    "When exploring a large set of documents -- such as Wikipedia, news articles, StackOverflow, etc. -- it can be useful to get a list of related material. To find relevant documents you typically\n",
    "* Decide on a notion of similarity\n",
    "* Find the documents that are most similar \n",
    "\n",
    "In the assignment you will\n",
    "* Gain intuition for different notions of similarity and practice finding similar documents. \n",
    "* Explore the tradeoffs with representing documents using raw word counts and TF-IDF\n",
    "* Explore the behavior of different distance metrics by looking at the Wikipedia pages most similar to President Obama’s page."
   ]
  },
  {
   "cell_type": "markdown",
   "metadata": {},
   "source": [
    "**Note to Amazon EC2 users**: To conserve memory, make sure to stop all the other notebooks before running this notebook."
   ]
  },
  {
   "cell_type": "markdown",
   "metadata": {},
   "source": [
    "## Import necessary packages"
   ]
  },
  {
   "cell_type": "markdown",
   "metadata": {},
   "source": [
    "As usual we need to first import the Python packages that we will need."
   ]
  },
  {
   "cell_type": "code",
   "execution_count": 2,
   "metadata": {
    "collapsed": false
   },
   "outputs": [
    {
     "name": "stderr",
     "output_type": "stream",
     "text": [
      "[INFO] graphlab.cython.cy_server: GraphLab Create v2.0.1 started. Logging: /tmp/graphlab_server_1468773459.log\n"
     ]
    },
    {
     "name": "stdout",
     "output_type": "stream",
     "text": [
      "This non-commercial license of GraphLab Create is assigned to amelnychukoseen@gmail.com and will expire on September 25, 2016. For commercial licensing options, visit https://turi.com/buy/.\n"
     ]
    },
    {
     "name": "stderr",
     "output_type": "stream",
     "text": [
      "/home/andrew/anaconda2/envs/dato/lib/python2.7/site-packages/matplotlib/font_manager.py:273: UserWarning: Matplotlib is building the font cache using fc-list. This may take a moment.\n",
      "  warnings.warn('Matplotlib is building the font cache using fc-list. This may take a moment.')\n"
     ]
    }
   ],
   "source": [
    "import graphlab\n",
    "import matplotlib.pyplot as plt\n",
    "import numpy as np\n",
    "%matplotlib inline"
   ]
  },
  {
   "cell_type": "markdown",
   "metadata": {},
   "source": [
    "## Load Wikipedia dataset"
   ]
  },
  {
   "cell_type": "markdown",
   "metadata": {},
   "source": [
    "We will be using the same dataset of Wikipedia pages that we used in the Machine Learning Foundations course (Course 1). Each element of the dataset consists of a link to the wikipedia article, the name of the person, and the text of the article (in lowercase).  "
   ]
  },
  {
   "cell_type": "code",
   "execution_count": 4,
   "metadata": {
    "collapsed": false
   },
   "outputs": [],
   "source": [
    "wiki = graphlab.SFrame('~/Projects/00_Coursera/data/people_wiki.gl')"
   ]
  },
  {
   "cell_type": "code",
   "execution_count": 5,
   "metadata": {
    "collapsed": false
   },
   "outputs": [
    {
     "data": {
      "text/html": [
       "<div style=\"max-height:1000px;max-width:1500px;overflow:auto;\"><table frame=\"box\" rules=\"cols\">\n",
       "    <tr>\n",
       "        <th style=\"padding-left: 1em; padding-right: 1em; text-align: center\">URI</th>\n",
       "        <th style=\"padding-left: 1em; padding-right: 1em; text-align: center\">name</th>\n",
       "        <th style=\"padding-left: 1em; padding-right: 1em; text-align: center\">text</th>\n",
       "    </tr>\n",
       "    <tr>\n",
       "        <td style=\"padding-left: 1em; padding-right: 1em; text-align: center; vertical-align: top\">&lt;http://dbpedia.org/resou<br>rce/Digby_Morrell&gt; ...</td>\n",
       "        <td style=\"padding-left: 1em; padding-right: 1em; text-align: center; vertical-align: top\">Digby Morrell</td>\n",
       "        <td style=\"padding-left: 1em; padding-right: 1em; text-align: center; vertical-align: top\">digby morrell born 10<br>october 1979 is a former ...</td>\n",
       "    </tr>\n",
       "    <tr>\n",
       "        <td style=\"padding-left: 1em; padding-right: 1em; text-align: center; vertical-align: top\">&lt;http://dbpedia.org/resou<br>rce/Alfred_J._Lewy&gt; ...</td>\n",
       "        <td style=\"padding-left: 1em; padding-right: 1em; text-align: center; vertical-align: top\">Alfred J. Lewy</td>\n",
       "        <td style=\"padding-left: 1em; padding-right: 1em; text-align: center; vertical-align: top\">alfred j lewy aka sandy<br>lewy graduated from ...</td>\n",
       "    </tr>\n",
       "    <tr>\n",
       "        <td style=\"padding-left: 1em; padding-right: 1em; text-align: center; vertical-align: top\">&lt;http://dbpedia.org/resou<br>rce/Harpdog_Brown&gt; ...</td>\n",
       "        <td style=\"padding-left: 1em; padding-right: 1em; text-align: center; vertical-align: top\">Harpdog Brown</td>\n",
       "        <td style=\"padding-left: 1em; padding-right: 1em; text-align: center; vertical-align: top\">harpdog brown is a singer<br>and harmonica player who ...</td>\n",
       "    </tr>\n",
       "    <tr>\n",
       "        <td style=\"padding-left: 1em; padding-right: 1em; text-align: center; vertical-align: top\">&lt;http://dbpedia.org/resou<br>rce/Franz_Rottensteiner&gt; ...</td>\n",
       "        <td style=\"padding-left: 1em; padding-right: 1em; text-align: center; vertical-align: top\">Franz Rottensteiner</td>\n",
       "        <td style=\"padding-left: 1em; padding-right: 1em; text-align: center; vertical-align: top\">franz rottensteiner born<br>in waidmannsfeld lower ...</td>\n",
       "    </tr>\n",
       "    <tr>\n",
       "        <td style=\"padding-left: 1em; padding-right: 1em; text-align: center; vertical-align: top\">&lt;http://dbpedia.org/resou<br>rce/G-Enka&gt; ...</td>\n",
       "        <td style=\"padding-left: 1em; padding-right: 1em; text-align: center; vertical-align: top\">G-Enka</td>\n",
       "        <td style=\"padding-left: 1em; padding-right: 1em; text-align: center; vertical-align: top\">henry krvits born 30<br>december 1974 in tallinn ...</td>\n",
       "    </tr>\n",
       "    <tr>\n",
       "        <td style=\"padding-left: 1em; padding-right: 1em; text-align: center; vertical-align: top\">&lt;http://dbpedia.org/resou<br>rce/Sam_Henderson&gt; ...</td>\n",
       "        <td style=\"padding-left: 1em; padding-right: 1em; text-align: center; vertical-align: top\">Sam Henderson</td>\n",
       "        <td style=\"padding-left: 1em; padding-right: 1em; text-align: center; vertical-align: top\">sam henderson born<br>october 18 1969 is an ...</td>\n",
       "    </tr>\n",
       "    <tr>\n",
       "        <td style=\"padding-left: 1em; padding-right: 1em; text-align: center; vertical-align: top\">&lt;http://dbpedia.org/resou<br>rce/Aaron_LaCrate&gt; ...</td>\n",
       "        <td style=\"padding-left: 1em; padding-right: 1em; text-align: center; vertical-align: top\">Aaron LaCrate</td>\n",
       "        <td style=\"padding-left: 1em; padding-right: 1em; text-align: center; vertical-align: top\">aaron lacrate is an<br>american music producer ...</td>\n",
       "    </tr>\n",
       "    <tr>\n",
       "        <td style=\"padding-left: 1em; padding-right: 1em; text-align: center; vertical-align: top\">&lt;http://dbpedia.org/resou<br>rce/Trevor_Ferguson&gt; ...</td>\n",
       "        <td style=\"padding-left: 1em; padding-right: 1em; text-align: center; vertical-align: top\">Trevor Ferguson</td>\n",
       "        <td style=\"padding-left: 1em; padding-right: 1em; text-align: center; vertical-align: top\">trevor ferguson aka john<br>farrow born 11 november ...</td>\n",
       "    </tr>\n",
       "    <tr>\n",
       "        <td style=\"padding-left: 1em; padding-right: 1em; text-align: center; vertical-align: top\">&lt;http://dbpedia.org/resou<br>rce/Grant_Nelson&gt; ...</td>\n",
       "        <td style=\"padding-left: 1em; padding-right: 1em; text-align: center; vertical-align: top\">Grant Nelson</td>\n",
       "        <td style=\"padding-left: 1em; padding-right: 1em; text-align: center; vertical-align: top\">grant nelson born 27<br>april 1971 in london  ...</td>\n",
       "    </tr>\n",
       "    <tr>\n",
       "        <td style=\"padding-left: 1em; padding-right: 1em; text-align: center; vertical-align: top\">&lt;http://dbpedia.org/resou<br>rce/Cathy_Caruth&gt; ...</td>\n",
       "        <td style=\"padding-left: 1em; padding-right: 1em; text-align: center; vertical-align: top\">Cathy Caruth</td>\n",
       "        <td style=\"padding-left: 1em; padding-right: 1em; text-align: center; vertical-align: top\">cathy caruth born 1955 is<br>frank h t rhodes ...</td>\n",
       "    </tr>\n",
       "</table>\n",
       "[59071 rows x 3 columns]<br/>Note: Only the head of the SFrame is printed.<br/>You can use print_rows(num_rows=m, num_columns=n) to print more rows and columns.\n",
       "</div>"
      ],
      "text/plain": [
       "Columns:\n",
       "\tURI\tstr\n",
       "\tname\tstr\n",
       "\ttext\tstr\n",
       "\n",
       "Rows: 59071\n",
       "\n",
       "Data:\n",
       "+-------------------------------+---------------------+\n",
       "|              URI              |         name        |\n",
       "+-------------------------------+---------------------+\n",
       "| <http://dbpedia.org/resour... |    Digby Morrell    |\n",
       "| <http://dbpedia.org/resour... |    Alfred J. Lewy   |\n",
       "| <http://dbpedia.org/resour... |    Harpdog Brown    |\n",
       "| <http://dbpedia.org/resour... | Franz Rottensteiner |\n",
       "| <http://dbpedia.org/resour... |        G-Enka       |\n",
       "| <http://dbpedia.org/resour... |    Sam Henderson    |\n",
       "| <http://dbpedia.org/resour... |    Aaron LaCrate    |\n",
       "| <http://dbpedia.org/resour... |   Trevor Ferguson   |\n",
       "| <http://dbpedia.org/resour... |     Grant Nelson    |\n",
       "| <http://dbpedia.org/resour... |     Cathy Caruth    |\n",
       "+-------------------------------+---------------------+\n",
       "+-------------------------------+\n",
       "|              text             |\n",
       "+-------------------------------+\n",
       "| digby morrell born 10 octo... |\n",
       "| alfred j lewy aka sandy le... |\n",
       "| harpdog brown is a singer ... |\n",
       "| franz rottensteiner born i... |\n",
       "| henry krvits born 30 decem... |\n",
       "| sam henderson born october... |\n",
       "| aaron lacrate is an americ... |\n",
       "| trevor ferguson aka john f... |\n",
       "| grant nelson born 27 april... |\n",
       "| cathy caruth born 1955 is ... |\n",
       "+-------------------------------+\n",
       "[59071 rows x 3 columns]\n",
       "Note: Only the head of the SFrame is printed.\n",
       "You can use print_rows(num_rows=m, num_columns=n) to print more rows and columns."
      ]
     },
     "execution_count": 5,
     "metadata": {},
     "output_type": "execute_result"
    }
   ],
   "source": [
    "wiki"
   ]
  },
  {
   "cell_type": "markdown",
   "metadata": {},
   "source": [
    "## Extract word count vectors"
   ]
  },
  {
   "cell_type": "markdown",
   "metadata": {},
   "source": [
    "As we have seen in Course 1, we can extract word count vectors using a GraphLab utility function.  We add this as a column in `wiki`."
   ]
  },
  {
   "cell_type": "code",
   "execution_count": 6,
   "metadata": {
    "collapsed": false
   },
   "outputs": [],
   "source": [
    "wiki['word_count'] = graphlab.text_analytics.count_words(wiki['text'])"
   ]
  },
  {
   "cell_type": "code",
   "execution_count": 7,
   "metadata": {
    "collapsed": false
   },
   "outputs": [
    {
     "data": {
      "text/html": [
       "<div style=\"max-height:1000px;max-width:1500px;overflow:auto;\"><table frame=\"box\" rules=\"cols\">\n",
       "    <tr>\n",
       "        <th style=\"padding-left: 1em; padding-right: 1em; text-align: center\">URI</th>\n",
       "        <th style=\"padding-left: 1em; padding-right: 1em; text-align: center\">name</th>\n",
       "        <th style=\"padding-left: 1em; padding-right: 1em; text-align: center\">text</th>\n",
       "        <th style=\"padding-left: 1em; padding-right: 1em; text-align: center\">word_count</th>\n",
       "    </tr>\n",
       "    <tr>\n",
       "        <td style=\"padding-left: 1em; padding-right: 1em; text-align: center; vertical-align: top\">&lt;http://dbpedia.org/resou<br>rce/Digby_Morrell&gt; ...</td>\n",
       "        <td style=\"padding-left: 1em; padding-right: 1em; text-align: center; vertical-align: top\">Digby Morrell</td>\n",
       "        <td style=\"padding-left: 1em; padding-right: 1em; text-align: center; vertical-align: top\">digby morrell born 10<br>october 1979 is a former ...</td>\n",
       "        <td style=\"padding-left: 1em; padding-right: 1em; text-align: center; vertical-align: top\">{'since': 1, 'carltons':<br>1, 'being': 1, '2005' ...</td>\n",
       "    </tr>\n",
       "    <tr>\n",
       "        <td style=\"padding-left: 1em; padding-right: 1em; text-align: center; vertical-align: top\">&lt;http://dbpedia.org/resou<br>rce/Alfred_J._Lewy&gt; ...</td>\n",
       "        <td style=\"padding-left: 1em; padding-right: 1em; text-align: center; vertical-align: top\">Alfred J. Lewy</td>\n",
       "        <td style=\"padding-left: 1em; padding-right: 1em; text-align: center; vertical-align: top\">alfred j lewy aka sandy<br>lewy graduated from ...</td>\n",
       "        <td style=\"padding-left: 1em; padding-right: 1em; text-align: center; vertical-align: top\">{'precise': 1, 'thomas':<br>1, 'closely': 1, ...</td>\n",
       "    </tr>\n",
       "    <tr>\n",
       "        <td style=\"padding-left: 1em; padding-right: 1em; text-align: center; vertical-align: top\">&lt;http://dbpedia.org/resou<br>rce/Harpdog_Brown&gt; ...</td>\n",
       "        <td style=\"padding-left: 1em; padding-right: 1em; text-align: center; vertical-align: top\">Harpdog Brown</td>\n",
       "        <td style=\"padding-left: 1em; padding-right: 1em; text-align: center; vertical-align: top\">harpdog brown is a singer<br>and harmonica player who ...</td>\n",
       "        <td style=\"padding-left: 1em; padding-right: 1em; text-align: center; vertical-align: top\">{'just': 1, 'issued': 1,<br>'mainly': 1, 'nominat ...</td>\n",
       "    </tr>\n",
       "    <tr>\n",
       "        <td style=\"padding-left: 1em; padding-right: 1em; text-align: center; vertical-align: top\">&lt;http://dbpedia.org/resou<br>rce/Franz_Rottensteiner&gt; ...</td>\n",
       "        <td style=\"padding-left: 1em; padding-right: 1em; text-align: center; vertical-align: top\">Franz Rottensteiner</td>\n",
       "        <td style=\"padding-left: 1em; padding-right: 1em; text-align: center; vertical-align: top\">franz rottensteiner born<br>in waidmannsfeld lower ...</td>\n",
       "        <td style=\"padding-left: 1em; padding-right: 1em; text-align: center; vertical-align: top\">{'all': 1,<br>'bauforschung': 1, ...</td>\n",
       "    </tr>\n",
       "    <tr>\n",
       "        <td style=\"padding-left: 1em; padding-right: 1em; text-align: center; vertical-align: top\">&lt;http://dbpedia.org/resou<br>rce/G-Enka&gt; ...</td>\n",
       "        <td style=\"padding-left: 1em; padding-right: 1em; text-align: center; vertical-align: top\">G-Enka</td>\n",
       "        <td style=\"padding-left: 1em; padding-right: 1em; text-align: center; vertical-align: top\">henry krvits born 30<br>december 1974 in tallinn ...</td>\n",
       "        <td style=\"padding-left: 1em; padding-right: 1em; text-align: center; vertical-align: top\">{'legendary': 1,<br>'gangstergenka': 1, ...</td>\n",
       "    </tr>\n",
       "    <tr>\n",
       "        <td style=\"padding-left: 1em; padding-right: 1em; text-align: center; vertical-align: top\">&lt;http://dbpedia.org/resou<br>rce/Sam_Henderson&gt; ...</td>\n",
       "        <td style=\"padding-left: 1em; padding-right: 1em; text-align: center; vertical-align: top\">Sam Henderson</td>\n",
       "        <td style=\"padding-left: 1em; padding-right: 1em; text-align: center; vertical-align: top\">sam henderson born<br>october 18 1969 is an ...</td>\n",
       "        <td style=\"padding-left: 1em; padding-right: 1em; text-align: center; vertical-align: top\">{'now': 1, 'currently':<br>1, 'less': 1, 'being' ...</td>\n",
       "    </tr>\n",
       "    <tr>\n",
       "        <td style=\"padding-left: 1em; padding-right: 1em; text-align: center; vertical-align: top\">&lt;http://dbpedia.org/resou<br>rce/Aaron_LaCrate&gt; ...</td>\n",
       "        <td style=\"padding-left: 1em; padding-right: 1em; text-align: center; vertical-align: top\">Aaron LaCrate</td>\n",
       "        <td style=\"padding-left: 1em; padding-right: 1em; text-align: center; vertical-align: top\">aaron lacrate is an<br>american music producer ...</td>\n",
       "        <td style=\"padding-left: 1em; padding-right: 1em; text-align: center; vertical-align: top\">{'exclusive': 2,<br>'producer': 1, 'tribe': ...</td>\n",
       "    </tr>\n",
       "    <tr>\n",
       "        <td style=\"padding-left: 1em; padding-right: 1em; text-align: center; vertical-align: top\">&lt;http://dbpedia.org/resou<br>rce/Trevor_Ferguson&gt; ...</td>\n",
       "        <td style=\"padding-left: 1em; padding-right: 1em; text-align: center; vertical-align: top\">Trevor Ferguson</td>\n",
       "        <td style=\"padding-left: 1em; padding-right: 1em; text-align: center; vertical-align: top\">trevor ferguson aka john<br>farrow born 11 november ...</td>\n",
       "        <td style=\"padding-left: 1em; padding-right: 1em; text-align: center; vertical-align: top\">{'taxi': 1, 'salon': 1,<br>'gangs': 1, 'being': 1, ...</td>\n",
       "    </tr>\n",
       "    <tr>\n",
       "        <td style=\"padding-left: 1em; padding-right: 1em; text-align: center; vertical-align: top\">&lt;http://dbpedia.org/resou<br>rce/Grant_Nelson&gt; ...</td>\n",
       "        <td style=\"padding-left: 1em; padding-right: 1em; text-align: center; vertical-align: top\">Grant Nelson</td>\n",
       "        <td style=\"padding-left: 1em; padding-right: 1em; text-align: center; vertical-align: top\">grant nelson born 27<br>april 1971 in london  ...</td>\n",
       "        <td style=\"padding-left: 1em; padding-right: 1em; text-align: center; vertical-align: top\">{'houston': 1, 'frankie':<br>1, 'labels': 1, ...</td>\n",
       "    </tr>\n",
       "    <tr>\n",
       "        <td style=\"padding-left: 1em; padding-right: 1em; text-align: center; vertical-align: top\">&lt;http://dbpedia.org/resou<br>rce/Cathy_Caruth&gt; ...</td>\n",
       "        <td style=\"padding-left: 1em; padding-right: 1em; text-align: center; vertical-align: top\">Cathy Caruth</td>\n",
       "        <td style=\"padding-left: 1em; padding-right: 1em; text-align: center; vertical-align: top\">cathy caruth born 1955 is<br>frank h t rhodes ...</td>\n",
       "        <td style=\"padding-left: 1em; padding-right: 1em; text-align: center; vertical-align: top\">{'phenomenon': 1,<br>'deborash': 1, ...</td>\n",
       "    </tr>\n",
       "</table>\n",
       "[59071 rows x 4 columns]<br/>Note: Only the head of the SFrame is printed.<br/>You can use print_rows(num_rows=m, num_columns=n) to print more rows and columns.\n",
       "</div>"
      ],
      "text/plain": [
       "Columns:\n",
       "\tURI\tstr\n",
       "\tname\tstr\n",
       "\ttext\tstr\n",
       "\tword_count\tdict\n",
       "\n",
       "Rows: 59071\n",
       "\n",
       "Data:\n",
       "+-------------------------------+---------------------+\n",
       "|              URI              |         name        |\n",
       "+-------------------------------+---------------------+\n",
       "| <http://dbpedia.org/resour... |    Digby Morrell    |\n",
       "| <http://dbpedia.org/resour... |    Alfred J. Lewy   |\n",
       "| <http://dbpedia.org/resour... |    Harpdog Brown    |\n",
       "| <http://dbpedia.org/resour... | Franz Rottensteiner |\n",
       "| <http://dbpedia.org/resour... |        G-Enka       |\n",
       "| <http://dbpedia.org/resour... |    Sam Henderson    |\n",
       "| <http://dbpedia.org/resour... |    Aaron LaCrate    |\n",
       "| <http://dbpedia.org/resour... |   Trevor Ferguson   |\n",
       "| <http://dbpedia.org/resour... |     Grant Nelson    |\n",
       "| <http://dbpedia.org/resour... |     Cathy Caruth    |\n",
       "+-------------------------------+---------------------+\n",
       "+-------------------------------+-------------------------------+\n",
       "|              text             |           word_count          |\n",
       "+-------------------------------+-------------------------------+\n",
       "| digby morrell born 10 octo... | {'since': 1, 'carltons': 1... |\n",
       "| alfred j lewy aka sandy le... | {'precise': 1, 'thomas': 1... |\n",
       "| harpdog brown is a singer ... | {'just': 1, 'issued': 1, '... |\n",
       "| franz rottensteiner born i... | {'all': 1, 'bauforschung':... |\n",
       "| henry krvits born 30 decem... | {'legendary': 1, 'gangster... |\n",
       "| sam henderson born october... | {'now': 1, 'currently': 1,... |\n",
       "| aaron lacrate is an americ... | {'exclusive': 2, 'producer... |\n",
       "| trevor ferguson aka john f... | {'taxi': 1, 'salon': 1, 'g... |\n",
       "| grant nelson born 27 april... | {'houston': 1, 'frankie': ... |\n",
       "| cathy caruth born 1955 is ... | {'phenomenon': 1, 'deboras... |\n",
       "+-------------------------------+-------------------------------+\n",
       "[59071 rows x 4 columns]\n",
       "Note: Only the head of the SFrame is printed.\n",
       "You can use print_rows(num_rows=m, num_columns=n) to print more rows and columns."
      ]
     },
     "execution_count": 7,
     "metadata": {},
     "output_type": "execute_result"
    }
   ],
   "source": [
    "wiki"
   ]
  },
  {
   "cell_type": "markdown",
   "metadata": {},
   "source": [
    "## Find nearest neighbors"
   ]
  },
  {
   "cell_type": "markdown",
   "metadata": {},
   "source": [
    "Let's start by finding the nearest neighbors of the Barack Obama page using the word count vectors to represent the articles and Euclidean distance to measure distance.  For this, again will we use a GraphLab Create implementation of nearest neighbor search."
   ]
  },
  {
   "cell_type": "code",
   "execution_count": 8,
   "metadata": {
    "collapsed": false
   },
   "outputs": [
    {
     "data": {
      "text/html": [
       "<pre>Starting brute force nearest neighbors model training.</pre>"
      ],
      "text/plain": [
       "Starting brute force nearest neighbors model training."
      ]
     },
     "metadata": {},
     "output_type": "display_data"
    }
   ],
   "source": [
    "model = graphlab.nearest_neighbors.create(wiki, label='name', features=['word_count'],\n",
    "                                          method='brute_force', distance='euclidean')"
   ]
  },
  {
   "cell_type": "markdown",
   "metadata": {},
   "source": [
    "Let's look at the top 10 nearest neighbors by performing the following query:"
   ]
  },
  {
   "cell_type": "code",
   "execution_count": 9,
   "metadata": {
    "collapsed": false,
    "scrolled": false
   },
   "outputs": [
    {
     "data": {
      "text/html": [
       "<pre>Starting pairwise querying.</pre>"
      ],
      "text/plain": [
       "Starting pairwise querying."
      ]
     },
     "metadata": {},
     "output_type": "display_data"
    },
    {
     "data": {
      "text/html": [
       "<pre>+--------------+---------+-------------+--------------+</pre>"
      ],
      "text/plain": [
       "+--------------+---------+-------------+--------------+"
      ]
     },
     "metadata": {},
     "output_type": "display_data"
    },
    {
     "data": {
      "text/html": [
       "<pre>| Query points | # Pairs | % Complete. | Elapsed Time |</pre>"
      ],
      "text/plain": [
       "| Query points | # Pairs | % Complete. | Elapsed Time |"
      ]
     },
     "metadata": {},
     "output_type": "display_data"
    },
    {
     "data": {
      "text/html": [
       "<pre>+--------------+---------+-------------+--------------+</pre>"
      ],
      "text/plain": [
       "+--------------+---------+-------------+--------------+"
      ]
     },
     "metadata": {},
     "output_type": "display_data"
    },
    {
     "data": {
      "text/html": [
       "<pre>| 0            | 1       | 0.00169288  | 3.651ms      |</pre>"
      ],
      "text/plain": [
       "| 0            | 1       | 0.00169288  | 3.651ms      |"
      ]
     },
     "metadata": {},
     "output_type": "display_data"
    },
    {
     "data": {
      "text/html": [
       "<pre>| Done         |         | 100         | 105.108ms    |</pre>"
      ],
      "text/plain": [
       "| Done         |         | 100         | 105.108ms    |"
      ]
     },
     "metadata": {},
     "output_type": "display_data"
    },
    {
     "data": {
      "text/html": [
       "<pre>+--------------+---------+-------------+--------------+</pre>"
      ],
      "text/plain": [
       "+--------------+---------+-------------+--------------+"
      ]
     },
     "metadata": {},
     "output_type": "display_data"
    },
    {
     "data": {
      "text/html": [
       "<div style=\"max-height:1000px;max-width:1500px;overflow:auto;\"><table frame=\"box\" rules=\"cols\">\n",
       "    <tr>\n",
       "        <th style=\"padding-left: 1em; padding-right: 1em; text-align: center\">query_label</th>\n",
       "        <th style=\"padding-left: 1em; padding-right: 1em; text-align: center\">reference_label</th>\n",
       "        <th style=\"padding-left: 1em; padding-right: 1em; text-align: center\">distance</th>\n",
       "        <th style=\"padding-left: 1em; padding-right: 1em; text-align: center\">rank</th>\n",
       "    </tr>\n",
       "    <tr>\n",
       "        <td style=\"padding-left: 1em; padding-right: 1em; text-align: center; vertical-align: top\">Barack Obama</td>\n",
       "        <td style=\"padding-left: 1em; padding-right: 1em; text-align: center; vertical-align: top\">Barack Obama</td>\n",
       "        <td style=\"padding-left: 1em; padding-right: 1em; text-align: center; vertical-align: top\">0.0</td>\n",
       "        <td style=\"padding-left: 1em; padding-right: 1em; text-align: center; vertical-align: top\">1</td>\n",
       "    </tr>\n",
       "    <tr>\n",
       "        <td style=\"padding-left: 1em; padding-right: 1em; text-align: center; vertical-align: top\">Barack Obama</td>\n",
       "        <td style=\"padding-left: 1em; padding-right: 1em; text-align: center; vertical-align: top\">Joe Biden</td>\n",
       "        <td style=\"padding-left: 1em; padding-right: 1em; text-align: center; vertical-align: top\">33.0756708171</td>\n",
       "        <td style=\"padding-left: 1em; padding-right: 1em; text-align: center; vertical-align: top\">2</td>\n",
       "    </tr>\n",
       "    <tr>\n",
       "        <td style=\"padding-left: 1em; padding-right: 1em; text-align: center; vertical-align: top\">Barack Obama</td>\n",
       "        <td style=\"padding-left: 1em; padding-right: 1em; text-align: center; vertical-align: top\">George W. Bush</td>\n",
       "        <td style=\"padding-left: 1em; padding-right: 1em; text-align: center; vertical-align: top\">34.3947670438</td>\n",
       "        <td style=\"padding-left: 1em; padding-right: 1em; text-align: center; vertical-align: top\">3</td>\n",
       "    </tr>\n",
       "    <tr>\n",
       "        <td style=\"padding-left: 1em; padding-right: 1em; text-align: center; vertical-align: top\">Barack Obama</td>\n",
       "        <td style=\"padding-left: 1em; padding-right: 1em; text-align: center; vertical-align: top\">Lawrence Summers</td>\n",
       "        <td style=\"padding-left: 1em; padding-right: 1em; text-align: center; vertical-align: top\">36.1524549651</td>\n",
       "        <td style=\"padding-left: 1em; padding-right: 1em; text-align: center; vertical-align: top\">4</td>\n",
       "    </tr>\n",
       "    <tr>\n",
       "        <td style=\"padding-left: 1em; padding-right: 1em; text-align: center; vertical-align: top\">Barack Obama</td>\n",
       "        <td style=\"padding-left: 1em; padding-right: 1em; text-align: center; vertical-align: top\">Mitt Romney</td>\n",
       "        <td style=\"padding-left: 1em; padding-right: 1em; text-align: center; vertical-align: top\">36.1662826401</td>\n",
       "        <td style=\"padding-left: 1em; padding-right: 1em; text-align: center; vertical-align: top\">5</td>\n",
       "    </tr>\n",
       "    <tr>\n",
       "        <td style=\"padding-left: 1em; padding-right: 1em; text-align: center; vertical-align: top\">Barack Obama</td>\n",
       "        <td style=\"padding-left: 1em; padding-right: 1em; text-align: center; vertical-align: top\">Francisco Barrio</td>\n",
       "        <td style=\"padding-left: 1em; padding-right: 1em; text-align: center; vertical-align: top\">36.3318042492</td>\n",
       "        <td style=\"padding-left: 1em; padding-right: 1em; text-align: center; vertical-align: top\">6</td>\n",
       "    </tr>\n",
       "    <tr>\n",
       "        <td style=\"padding-left: 1em; padding-right: 1em; text-align: center; vertical-align: top\">Barack Obama</td>\n",
       "        <td style=\"padding-left: 1em; padding-right: 1em; text-align: center; vertical-align: top\">Walter Mondale</td>\n",
       "        <td style=\"padding-left: 1em; padding-right: 1em; text-align: center; vertical-align: top\">36.4005494464</td>\n",
       "        <td style=\"padding-left: 1em; padding-right: 1em; text-align: center; vertical-align: top\">7</td>\n",
       "    </tr>\n",
       "    <tr>\n",
       "        <td style=\"padding-left: 1em; padding-right: 1em; text-align: center; vertical-align: top\">Barack Obama</td>\n",
       "        <td style=\"padding-left: 1em; padding-right: 1em; text-align: center; vertical-align: top\">Wynn Normington Hugh-<br>Jones ...</td>\n",
       "        <td style=\"padding-left: 1em; padding-right: 1em; text-align: center; vertical-align: top\">36.4965751818</td>\n",
       "        <td style=\"padding-left: 1em; padding-right: 1em; text-align: center; vertical-align: top\">8</td>\n",
       "    </tr>\n",
       "    <tr>\n",
       "        <td style=\"padding-left: 1em; padding-right: 1em; text-align: center; vertical-align: top\">Barack Obama</td>\n",
       "        <td style=\"padding-left: 1em; padding-right: 1em; text-align: center; vertical-align: top\">Don Bonker</td>\n",
       "        <td style=\"padding-left: 1em; padding-right: 1em; text-align: center; vertical-align: top\">36.633318168</td>\n",
       "        <td style=\"padding-left: 1em; padding-right: 1em; text-align: center; vertical-align: top\">9</td>\n",
       "    </tr>\n",
       "    <tr>\n",
       "        <td style=\"padding-left: 1em; padding-right: 1em; text-align: center; vertical-align: top\">Barack Obama</td>\n",
       "        <td style=\"padding-left: 1em; padding-right: 1em; text-align: center; vertical-align: top\">Andy Anstett</td>\n",
       "        <td style=\"padding-left: 1em; padding-right: 1em; text-align: center; vertical-align: top\">36.9594372252</td>\n",
       "        <td style=\"padding-left: 1em; padding-right: 1em; text-align: center; vertical-align: top\">10</td>\n",
       "    </tr>\n",
       "</table>\n",
       "[10 rows x 4 columns]<br/>\n",
       "</div>"
      ],
      "text/plain": [
       "Columns:\n",
       "\tquery_label\tstr\n",
       "\treference_label\tstr\n",
       "\tdistance\tfloat\n",
       "\trank\tint\n",
       "\n",
       "Rows: 10\n",
       "\n",
       "Data:\n",
       "+--------------+----------------------------+---------------+------+\n",
       "| query_label  |      reference_label       |    distance   | rank |\n",
       "+--------------+----------------------------+---------------+------+\n",
       "| Barack Obama |        Barack Obama        |      0.0      |  1   |\n",
       "| Barack Obama |         Joe Biden          | 33.0756708171 |  2   |\n",
       "| Barack Obama |       George W. Bush       | 34.3947670438 |  3   |\n",
       "| Barack Obama |      Lawrence Summers      | 36.1524549651 |  4   |\n",
       "| Barack Obama |        Mitt Romney         | 36.1662826401 |  5   |\n",
       "| Barack Obama |      Francisco Barrio      | 36.3318042492 |  6   |\n",
       "| Barack Obama |       Walter Mondale       | 36.4005494464 |  7   |\n",
       "| Barack Obama | Wynn Normington Hugh-Jones | 36.4965751818 |  8   |\n",
       "| Barack Obama |         Don Bonker         |  36.633318168 |  9   |\n",
       "| Barack Obama |        Andy Anstett        | 36.9594372252 |  10  |\n",
       "+--------------+----------------------------+---------------+------+\n",
       "[10 rows x 4 columns]"
      ]
     },
     "execution_count": 9,
     "metadata": {},
     "output_type": "execute_result"
    }
   ],
   "source": [
    "model.query(wiki[wiki['name']=='Barack Obama'], label='name', k=10)"
   ]
  },
  {
   "cell_type": "markdown",
   "metadata": {},
   "source": [
    "All of the 10 people are politicians, but about half of them have rather tenuous connections with Obama, other than the fact that they are politicians.\n",
    "\n",
    "* Francisco Barrio is a Mexican politician, and a former governor of Chihuahua.\n",
    "* Walter Mondale and Don Bonker are Democrats who made their career in late 1970s.\n",
    "* Wynn Normington Hugh-Jones is a former British diplomat and Liberal Party official.\n",
    "* Andy Anstett is a former politician in Manitoba, Canada.\n",
    "\n",
    "Nearest neighbors with raw word counts got some things right, showing all politicians in the query result, but missed finer and important details.\n",
    "\n",
    "For instance, let's find out why Francisco Barrio was considered a close neighbor of Obama.  To do this, let's look at the most frequently used words in each of Barack Obama and Francisco Barrio's pages:"
   ]
  },
  {
   "cell_type": "code",
   "execution_count": 10,
   "metadata": {
    "collapsed": true
   },
   "outputs": [],
   "source": [
    "def top_words(name):\n",
    "    \"\"\"\n",
    "    Get a table of the most frequent words in the given person's wikipedia page.\n",
    "    \"\"\"\n",
    "    row = wiki[wiki['name'] == name]\n",
    "    word_count_table = row[['word_count']].stack('word_count', new_column_name=['word','count'])\n",
    "    return word_count_table.sort('count', ascending=False)"
   ]
  },
  {
   "cell_type": "code",
   "execution_count": 11,
   "metadata": {
    "collapsed": false
   },
   "outputs": [
    {
     "data": {
      "text/html": [
       "<div style=\"max-height:1000px;max-width:1500px;overflow:auto;\"><table frame=\"box\" rules=\"cols\">\n",
       "    <tr>\n",
       "        <th style=\"padding-left: 1em; padding-right: 1em; text-align: center\">word</th>\n",
       "        <th style=\"padding-left: 1em; padding-right: 1em; text-align: center\">count</th>\n",
       "    </tr>\n",
       "    <tr>\n",
       "        <td style=\"padding-left: 1em; padding-right: 1em; text-align: center; vertical-align: top\">the</td>\n",
       "        <td style=\"padding-left: 1em; padding-right: 1em; text-align: center; vertical-align: top\">40</td>\n",
       "    </tr>\n",
       "    <tr>\n",
       "        <td style=\"padding-left: 1em; padding-right: 1em; text-align: center; vertical-align: top\">in</td>\n",
       "        <td style=\"padding-left: 1em; padding-right: 1em; text-align: center; vertical-align: top\">30</td>\n",
       "    </tr>\n",
       "    <tr>\n",
       "        <td style=\"padding-left: 1em; padding-right: 1em; text-align: center; vertical-align: top\">and</td>\n",
       "        <td style=\"padding-left: 1em; padding-right: 1em; text-align: center; vertical-align: top\">21</td>\n",
       "    </tr>\n",
       "    <tr>\n",
       "        <td style=\"padding-left: 1em; padding-right: 1em; text-align: center; vertical-align: top\">of</td>\n",
       "        <td style=\"padding-left: 1em; padding-right: 1em; text-align: center; vertical-align: top\">18</td>\n",
       "    </tr>\n",
       "    <tr>\n",
       "        <td style=\"padding-left: 1em; padding-right: 1em; text-align: center; vertical-align: top\">to</td>\n",
       "        <td style=\"padding-left: 1em; padding-right: 1em; text-align: center; vertical-align: top\">14</td>\n",
       "    </tr>\n",
       "    <tr>\n",
       "        <td style=\"padding-left: 1em; padding-right: 1em; text-align: center; vertical-align: top\">his</td>\n",
       "        <td style=\"padding-left: 1em; padding-right: 1em; text-align: center; vertical-align: top\">11</td>\n",
       "    </tr>\n",
       "    <tr>\n",
       "        <td style=\"padding-left: 1em; padding-right: 1em; text-align: center; vertical-align: top\">obama</td>\n",
       "        <td style=\"padding-left: 1em; padding-right: 1em; text-align: center; vertical-align: top\">9</td>\n",
       "    </tr>\n",
       "    <tr>\n",
       "        <td style=\"padding-left: 1em; padding-right: 1em; text-align: center; vertical-align: top\">act</td>\n",
       "        <td style=\"padding-left: 1em; padding-right: 1em; text-align: center; vertical-align: top\">8</td>\n",
       "    </tr>\n",
       "    <tr>\n",
       "        <td style=\"padding-left: 1em; padding-right: 1em; text-align: center; vertical-align: top\">a</td>\n",
       "        <td style=\"padding-left: 1em; padding-right: 1em; text-align: center; vertical-align: top\">7</td>\n",
       "    </tr>\n",
       "    <tr>\n",
       "        <td style=\"padding-left: 1em; padding-right: 1em; text-align: center; vertical-align: top\">he</td>\n",
       "        <td style=\"padding-left: 1em; padding-right: 1em; text-align: center; vertical-align: top\">7</td>\n",
       "    </tr>\n",
       "</table>\n",
       "[273 rows x 2 columns]<br/>Note: Only the head of the SFrame is printed.<br/>You can use print_rows(num_rows=m, num_columns=n) to print more rows and columns.\n",
       "</div>"
      ],
      "text/plain": [
       "Columns:\n",
       "\tword\tstr\n",
       "\tcount\tint\n",
       "\n",
       "Rows: 273\n",
       "\n",
       "Data:\n",
       "+-------+-------+\n",
       "|  word | count |\n",
       "+-------+-------+\n",
       "|  the  |   40  |\n",
       "|   in  |   30  |\n",
       "|  and  |   21  |\n",
       "|   of  |   18  |\n",
       "|   to  |   14  |\n",
       "|  his  |   11  |\n",
       "| obama |   9   |\n",
       "|  act  |   8   |\n",
       "|   a   |   7   |\n",
       "|   he  |   7   |\n",
       "+-------+-------+\n",
       "[273 rows x 2 columns]\n",
       "Note: Only the head of the SFrame is printed.\n",
       "You can use print_rows(num_rows=m, num_columns=n) to print more rows and columns."
      ]
     },
     "execution_count": 11,
     "metadata": {},
     "output_type": "execute_result"
    }
   ],
   "source": [
    "obama_words = top_words('Barack Obama')\n",
    "obama_words"
   ]
  },
  {
   "cell_type": "code",
   "execution_count": 12,
   "metadata": {
    "collapsed": false
   },
   "outputs": [
    {
     "data": {
      "text/html": [
       "<div style=\"max-height:1000px;max-width:1500px;overflow:auto;\"><table frame=\"box\" rules=\"cols\">\n",
       "    <tr>\n",
       "        <th style=\"padding-left: 1em; padding-right: 1em; text-align: center\">word</th>\n",
       "        <th style=\"padding-left: 1em; padding-right: 1em; text-align: center\">count</th>\n",
       "    </tr>\n",
       "    <tr>\n",
       "        <td style=\"padding-left: 1em; padding-right: 1em; text-align: center; vertical-align: top\">the</td>\n",
       "        <td style=\"padding-left: 1em; padding-right: 1em; text-align: center; vertical-align: top\">36</td>\n",
       "    </tr>\n",
       "    <tr>\n",
       "        <td style=\"padding-left: 1em; padding-right: 1em; text-align: center; vertical-align: top\">of</td>\n",
       "        <td style=\"padding-left: 1em; padding-right: 1em; text-align: center; vertical-align: top\">24</td>\n",
       "    </tr>\n",
       "    <tr>\n",
       "        <td style=\"padding-left: 1em; padding-right: 1em; text-align: center; vertical-align: top\">and</td>\n",
       "        <td style=\"padding-left: 1em; padding-right: 1em; text-align: center; vertical-align: top\">18</td>\n",
       "    </tr>\n",
       "    <tr>\n",
       "        <td style=\"padding-left: 1em; padding-right: 1em; text-align: center; vertical-align: top\">in</td>\n",
       "        <td style=\"padding-left: 1em; padding-right: 1em; text-align: center; vertical-align: top\">17</td>\n",
       "    </tr>\n",
       "    <tr>\n",
       "        <td style=\"padding-left: 1em; padding-right: 1em; text-align: center; vertical-align: top\">he</td>\n",
       "        <td style=\"padding-left: 1em; padding-right: 1em; text-align: center; vertical-align: top\">10</td>\n",
       "    </tr>\n",
       "    <tr>\n",
       "        <td style=\"padding-left: 1em; padding-right: 1em; text-align: center; vertical-align: top\">to</td>\n",
       "        <td style=\"padding-left: 1em; padding-right: 1em; text-align: center; vertical-align: top\">9</td>\n",
       "    </tr>\n",
       "    <tr>\n",
       "        <td style=\"padding-left: 1em; padding-right: 1em; text-align: center; vertical-align: top\">chihuahua</td>\n",
       "        <td style=\"padding-left: 1em; padding-right: 1em; text-align: center; vertical-align: top\">7</td>\n",
       "    </tr>\n",
       "    <tr>\n",
       "        <td style=\"padding-left: 1em; padding-right: 1em; text-align: center; vertical-align: top\">a</td>\n",
       "        <td style=\"padding-left: 1em; padding-right: 1em; text-align: center; vertical-align: top\">6</td>\n",
       "    </tr>\n",
       "    <tr>\n",
       "        <td style=\"padding-left: 1em; padding-right: 1em; text-align: center; vertical-align: top\">governor</td>\n",
       "        <td style=\"padding-left: 1em; padding-right: 1em; text-align: center; vertical-align: top\">6</td>\n",
       "    </tr>\n",
       "    <tr>\n",
       "        <td style=\"padding-left: 1em; padding-right: 1em; text-align: center; vertical-align: top\">his</td>\n",
       "        <td style=\"padding-left: 1em; padding-right: 1em; text-align: center; vertical-align: top\">5</td>\n",
       "    </tr>\n",
       "</table>\n",
       "[225 rows x 2 columns]<br/>Note: Only the head of the SFrame is printed.<br/>You can use print_rows(num_rows=m, num_columns=n) to print more rows and columns.\n",
       "</div>"
      ],
      "text/plain": [
       "Columns:\n",
       "\tword\tstr\n",
       "\tcount\tint\n",
       "\n",
       "Rows: 225\n",
       "\n",
       "Data:\n",
       "+-----------+-------+\n",
       "|    word   | count |\n",
       "+-----------+-------+\n",
       "|    the    |   36  |\n",
       "|     of    |   24  |\n",
       "|    and    |   18  |\n",
       "|     in    |   17  |\n",
       "|     he    |   10  |\n",
       "|     to    |   9   |\n",
       "| chihuahua |   7   |\n",
       "|     a     |   6   |\n",
       "|  governor |   6   |\n",
       "|    his    |   5   |\n",
       "+-----------+-------+\n",
       "[225 rows x 2 columns]\n",
       "Note: Only the head of the SFrame is printed.\n",
       "You can use print_rows(num_rows=m, num_columns=n) to print more rows and columns."
      ]
     },
     "execution_count": 12,
     "metadata": {},
     "output_type": "execute_result"
    }
   ],
   "source": [
    "barrio_words = top_words('Francisco Barrio')\n",
    "barrio_words"
   ]
  },
  {
   "cell_type": "markdown",
   "metadata": {},
   "source": [
    "Let's extract the list of most frequent words that appear in both Obama's and Barrio's documents. We've so far sorted all words from Obama and Barrio's articles by their word frequencies. We will now use a dataframe operation known as **join**. The **join** operation is very useful when it comes to playing around with data: it lets you combine the content of two tables using a shared column (in this case, the word column). See [the documentation](https://dato.com/products/create/docs/generated/graphlab.SFrame.join.html) for more details.\n",
    "\n",
    "For instance, running\n",
    "```\n",
    "obama_words.join(barrio_words, on='word')\n",
    "```\n",
    "will extract the rows from both tables that correspond to the common words."
   ]
  },
  {
   "cell_type": "code",
   "execution_count": 13,
   "metadata": {
    "collapsed": false
   },
   "outputs": [
    {
     "data": {
      "text/html": [
       "<div style=\"max-height:1000px;max-width:1500px;overflow:auto;\"><table frame=\"box\" rules=\"cols\">\n",
       "    <tr>\n",
       "        <th style=\"padding-left: 1em; padding-right: 1em; text-align: center\">word</th>\n",
       "        <th style=\"padding-left: 1em; padding-right: 1em; text-align: center\">count</th>\n",
       "        <th style=\"padding-left: 1em; padding-right: 1em; text-align: center\">count.1</th>\n",
       "    </tr>\n",
       "    <tr>\n",
       "        <td style=\"padding-left: 1em; padding-right: 1em; text-align: center; vertical-align: top\">the</td>\n",
       "        <td style=\"padding-left: 1em; padding-right: 1em; text-align: center; vertical-align: top\">40</td>\n",
       "        <td style=\"padding-left: 1em; padding-right: 1em; text-align: center; vertical-align: top\">36</td>\n",
       "    </tr>\n",
       "    <tr>\n",
       "        <td style=\"padding-left: 1em; padding-right: 1em; text-align: center; vertical-align: top\">in</td>\n",
       "        <td style=\"padding-left: 1em; padding-right: 1em; text-align: center; vertical-align: top\">30</td>\n",
       "        <td style=\"padding-left: 1em; padding-right: 1em; text-align: center; vertical-align: top\">17</td>\n",
       "    </tr>\n",
       "    <tr>\n",
       "        <td style=\"padding-left: 1em; padding-right: 1em; text-align: center; vertical-align: top\">and</td>\n",
       "        <td style=\"padding-left: 1em; padding-right: 1em; text-align: center; vertical-align: top\">21</td>\n",
       "        <td style=\"padding-left: 1em; padding-right: 1em; text-align: center; vertical-align: top\">18</td>\n",
       "    </tr>\n",
       "    <tr>\n",
       "        <td style=\"padding-left: 1em; padding-right: 1em; text-align: center; vertical-align: top\">of</td>\n",
       "        <td style=\"padding-left: 1em; padding-right: 1em; text-align: center; vertical-align: top\">18</td>\n",
       "        <td style=\"padding-left: 1em; padding-right: 1em; text-align: center; vertical-align: top\">24</td>\n",
       "    </tr>\n",
       "    <tr>\n",
       "        <td style=\"padding-left: 1em; padding-right: 1em; text-align: center; vertical-align: top\">to</td>\n",
       "        <td style=\"padding-left: 1em; padding-right: 1em; text-align: center; vertical-align: top\">14</td>\n",
       "        <td style=\"padding-left: 1em; padding-right: 1em; text-align: center; vertical-align: top\">9</td>\n",
       "    </tr>\n",
       "    <tr>\n",
       "        <td style=\"padding-left: 1em; padding-right: 1em; text-align: center; vertical-align: top\">his</td>\n",
       "        <td style=\"padding-left: 1em; padding-right: 1em; text-align: center; vertical-align: top\">11</td>\n",
       "        <td style=\"padding-left: 1em; padding-right: 1em; text-align: center; vertical-align: top\">5</td>\n",
       "    </tr>\n",
       "    <tr>\n",
       "        <td style=\"padding-left: 1em; padding-right: 1em; text-align: center; vertical-align: top\">a</td>\n",
       "        <td style=\"padding-left: 1em; padding-right: 1em; text-align: center; vertical-align: top\">7</td>\n",
       "        <td style=\"padding-left: 1em; padding-right: 1em; text-align: center; vertical-align: top\">6</td>\n",
       "    </tr>\n",
       "    <tr>\n",
       "        <td style=\"padding-left: 1em; padding-right: 1em; text-align: center; vertical-align: top\">he</td>\n",
       "        <td style=\"padding-left: 1em; padding-right: 1em; text-align: center; vertical-align: top\">7</td>\n",
       "        <td style=\"padding-left: 1em; padding-right: 1em; text-align: center; vertical-align: top\">10</td>\n",
       "    </tr>\n",
       "    <tr>\n",
       "        <td style=\"padding-left: 1em; padding-right: 1em; text-align: center; vertical-align: top\">as</td>\n",
       "        <td style=\"padding-left: 1em; padding-right: 1em; text-align: center; vertical-align: top\">6</td>\n",
       "        <td style=\"padding-left: 1em; padding-right: 1em; text-align: center; vertical-align: top\">5</td>\n",
       "    </tr>\n",
       "    <tr>\n",
       "        <td style=\"padding-left: 1em; padding-right: 1em; text-align: center; vertical-align: top\">was</td>\n",
       "        <td style=\"padding-left: 1em; padding-right: 1em; text-align: center; vertical-align: top\">5</td>\n",
       "        <td style=\"padding-left: 1em; padding-right: 1em; text-align: center; vertical-align: top\">4</td>\n",
       "    </tr>\n",
       "</table>\n",
       "[56 rows x 3 columns]<br/>Note: Only the head of the SFrame is printed.<br/>You can use print_rows(num_rows=m, num_columns=n) to print more rows and columns.\n",
       "</div>"
      ],
      "text/plain": [
       "Columns:\n",
       "\tword\tstr\n",
       "\tcount\tint\n",
       "\tcount.1\tint\n",
       "\n",
       "Rows: 56\n",
       "\n",
       "Data:\n",
       "+------+-------+---------+\n",
       "| word | count | count.1 |\n",
       "+------+-------+---------+\n",
       "| the  |   40  |    36   |\n",
       "|  in  |   30  |    17   |\n",
       "| and  |   21  |    18   |\n",
       "|  of  |   18  |    24   |\n",
       "|  to  |   14  |    9    |\n",
       "| his  |   11  |    5    |\n",
       "|  a   |   7   |    6    |\n",
       "|  he  |   7   |    10   |\n",
       "|  as  |   6   |    5    |\n",
       "| was  |   5   |    4    |\n",
       "+------+-------+---------+\n",
       "[56 rows x 3 columns]\n",
       "Note: Only the head of the SFrame is printed.\n",
       "You can use print_rows(num_rows=m, num_columns=n) to print more rows and columns."
      ]
     },
     "execution_count": 13,
     "metadata": {},
     "output_type": "execute_result"
    }
   ],
   "source": [
    "combined_words = obama_words.join(barrio_words, on='word')\n",
    "combined_words"
   ]
  },
  {
   "cell_type": "markdown",
   "metadata": {},
   "source": [
    "Since both tables contained the column named `count`, SFrame automatically renamed one of them to prevent confusion. Let's rename the columns to tell which one is for which. By inspection, we see that the first column (`count`) is for Obama and the second (`count.1`) for Barrio."
   ]
  },
  {
   "cell_type": "code",
   "execution_count": 14,
   "metadata": {
    "collapsed": false
   },
   "outputs": [
    {
     "data": {
      "text/html": [
       "<div style=\"max-height:1000px;max-width:1500px;overflow:auto;\"><table frame=\"box\" rules=\"cols\">\n",
       "    <tr>\n",
       "        <th style=\"padding-left: 1em; padding-right: 1em; text-align: center\">word</th>\n",
       "        <th style=\"padding-left: 1em; padding-right: 1em; text-align: center\">Obama</th>\n",
       "        <th style=\"padding-left: 1em; padding-right: 1em; text-align: center\">Barrio</th>\n",
       "    </tr>\n",
       "    <tr>\n",
       "        <td style=\"padding-left: 1em; padding-right: 1em; text-align: center; vertical-align: top\">the</td>\n",
       "        <td style=\"padding-left: 1em; padding-right: 1em; text-align: center; vertical-align: top\">40</td>\n",
       "        <td style=\"padding-left: 1em; padding-right: 1em; text-align: center; vertical-align: top\">36</td>\n",
       "    </tr>\n",
       "    <tr>\n",
       "        <td style=\"padding-left: 1em; padding-right: 1em; text-align: center; vertical-align: top\">in</td>\n",
       "        <td style=\"padding-left: 1em; padding-right: 1em; text-align: center; vertical-align: top\">30</td>\n",
       "        <td style=\"padding-left: 1em; padding-right: 1em; text-align: center; vertical-align: top\">17</td>\n",
       "    </tr>\n",
       "    <tr>\n",
       "        <td style=\"padding-left: 1em; padding-right: 1em; text-align: center; vertical-align: top\">and</td>\n",
       "        <td style=\"padding-left: 1em; padding-right: 1em; text-align: center; vertical-align: top\">21</td>\n",
       "        <td style=\"padding-left: 1em; padding-right: 1em; text-align: center; vertical-align: top\">18</td>\n",
       "    </tr>\n",
       "    <tr>\n",
       "        <td style=\"padding-left: 1em; padding-right: 1em; text-align: center; vertical-align: top\">of</td>\n",
       "        <td style=\"padding-left: 1em; padding-right: 1em; text-align: center; vertical-align: top\">18</td>\n",
       "        <td style=\"padding-left: 1em; padding-right: 1em; text-align: center; vertical-align: top\">24</td>\n",
       "    </tr>\n",
       "    <tr>\n",
       "        <td style=\"padding-left: 1em; padding-right: 1em; text-align: center; vertical-align: top\">to</td>\n",
       "        <td style=\"padding-left: 1em; padding-right: 1em; text-align: center; vertical-align: top\">14</td>\n",
       "        <td style=\"padding-left: 1em; padding-right: 1em; text-align: center; vertical-align: top\">9</td>\n",
       "    </tr>\n",
       "    <tr>\n",
       "        <td style=\"padding-left: 1em; padding-right: 1em; text-align: center; vertical-align: top\">his</td>\n",
       "        <td style=\"padding-left: 1em; padding-right: 1em; text-align: center; vertical-align: top\">11</td>\n",
       "        <td style=\"padding-left: 1em; padding-right: 1em; text-align: center; vertical-align: top\">5</td>\n",
       "    </tr>\n",
       "    <tr>\n",
       "        <td style=\"padding-left: 1em; padding-right: 1em; text-align: center; vertical-align: top\">a</td>\n",
       "        <td style=\"padding-left: 1em; padding-right: 1em; text-align: center; vertical-align: top\">7</td>\n",
       "        <td style=\"padding-left: 1em; padding-right: 1em; text-align: center; vertical-align: top\">6</td>\n",
       "    </tr>\n",
       "    <tr>\n",
       "        <td style=\"padding-left: 1em; padding-right: 1em; text-align: center; vertical-align: top\">he</td>\n",
       "        <td style=\"padding-left: 1em; padding-right: 1em; text-align: center; vertical-align: top\">7</td>\n",
       "        <td style=\"padding-left: 1em; padding-right: 1em; text-align: center; vertical-align: top\">10</td>\n",
       "    </tr>\n",
       "    <tr>\n",
       "        <td style=\"padding-left: 1em; padding-right: 1em; text-align: center; vertical-align: top\">as</td>\n",
       "        <td style=\"padding-left: 1em; padding-right: 1em; text-align: center; vertical-align: top\">6</td>\n",
       "        <td style=\"padding-left: 1em; padding-right: 1em; text-align: center; vertical-align: top\">5</td>\n",
       "    </tr>\n",
       "    <tr>\n",
       "        <td style=\"padding-left: 1em; padding-right: 1em; text-align: center; vertical-align: top\">was</td>\n",
       "        <td style=\"padding-left: 1em; padding-right: 1em; text-align: center; vertical-align: top\">5</td>\n",
       "        <td style=\"padding-left: 1em; padding-right: 1em; text-align: center; vertical-align: top\">4</td>\n",
       "    </tr>\n",
       "</table>\n",
       "[56 rows x 3 columns]<br/>Note: Only the head of the SFrame is printed.<br/>You can use print_rows(num_rows=m, num_columns=n) to print more rows and columns.\n",
       "</div>"
      ],
      "text/plain": [
       "Columns:\n",
       "\tword\tstr\n",
       "\tObama\tint\n",
       "\tBarrio\tint\n",
       "\n",
       "Rows: 56\n",
       "\n",
       "Data:\n",
       "+------+-------+--------+\n",
       "| word | Obama | Barrio |\n",
       "+------+-------+--------+\n",
       "| the  |   40  |   36   |\n",
       "|  in  |   30  |   17   |\n",
       "| and  |   21  |   18   |\n",
       "|  of  |   18  |   24   |\n",
       "|  to  |   14  |   9    |\n",
       "| his  |   11  |   5    |\n",
       "|  a   |   7   |   6    |\n",
       "|  he  |   7   |   10   |\n",
       "|  as  |   6   |   5    |\n",
       "| was  |   5   |   4    |\n",
       "+------+-------+--------+\n",
       "[56 rows x 3 columns]\n",
       "Note: Only the head of the SFrame is printed.\n",
       "You can use print_rows(num_rows=m, num_columns=n) to print more rows and columns."
      ]
     },
     "execution_count": 14,
     "metadata": {},
     "output_type": "execute_result"
    }
   ],
   "source": [
    "combined_words = obama_words.join(barrio_words, on='word')\n",
    "combined_words = combined_words.rename({'count':'Obama', 'count.1':'Barrio'})\n",
    "combined_words"
   ]
  },
  {
   "cell_type": "markdown",
   "metadata": {},
   "source": [
    "**Note**. The **join** operation does not enforce any particular ordering on the shared column. So to obtain, say, the five common words that appear most often in Obama's article, sort the combined table by the Obama column. Don't forget `ascending=False` to display largest counts first."
   ]
  },
  {
   "cell_type": "code",
   "execution_count": 15,
   "metadata": {
    "collapsed": false
   },
   "outputs": [
    {
     "data": {
      "text/html": [
       "<div style=\"max-height:1000px;max-width:1500px;overflow:auto;\"><table frame=\"box\" rules=\"cols\">\n",
       "    <tr>\n",
       "        <th style=\"padding-left: 1em; padding-right: 1em; text-align: center\">word</th>\n",
       "        <th style=\"padding-left: 1em; padding-right: 1em; text-align: center\">Obama</th>\n",
       "        <th style=\"padding-left: 1em; padding-right: 1em; text-align: center\">Barrio</th>\n",
       "    </tr>\n",
       "    <tr>\n",
       "        <td style=\"padding-left: 1em; padding-right: 1em; text-align: center; vertical-align: top\">the</td>\n",
       "        <td style=\"padding-left: 1em; padding-right: 1em; text-align: center; vertical-align: top\">40</td>\n",
       "        <td style=\"padding-left: 1em; padding-right: 1em; text-align: center; vertical-align: top\">36</td>\n",
       "    </tr>\n",
       "    <tr>\n",
       "        <td style=\"padding-left: 1em; padding-right: 1em; text-align: center; vertical-align: top\">in</td>\n",
       "        <td style=\"padding-left: 1em; padding-right: 1em; text-align: center; vertical-align: top\">30</td>\n",
       "        <td style=\"padding-left: 1em; padding-right: 1em; text-align: center; vertical-align: top\">17</td>\n",
       "    </tr>\n",
       "    <tr>\n",
       "        <td style=\"padding-left: 1em; padding-right: 1em; text-align: center; vertical-align: top\">and</td>\n",
       "        <td style=\"padding-left: 1em; padding-right: 1em; text-align: center; vertical-align: top\">21</td>\n",
       "        <td style=\"padding-left: 1em; padding-right: 1em; text-align: center; vertical-align: top\">18</td>\n",
       "    </tr>\n",
       "    <tr>\n",
       "        <td style=\"padding-left: 1em; padding-right: 1em; text-align: center; vertical-align: top\">of</td>\n",
       "        <td style=\"padding-left: 1em; padding-right: 1em; text-align: center; vertical-align: top\">18</td>\n",
       "        <td style=\"padding-left: 1em; padding-right: 1em; text-align: center; vertical-align: top\">24</td>\n",
       "    </tr>\n",
       "    <tr>\n",
       "        <td style=\"padding-left: 1em; padding-right: 1em; text-align: center; vertical-align: top\">to</td>\n",
       "        <td style=\"padding-left: 1em; padding-right: 1em; text-align: center; vertical-align: top\">14</td>\n",
       "        <td style=\"padding-left: 1em; padding-right: 1em; text-align: center; vertical-align: top\">9</td>\n",
       "    </tr>\n",
       "    <tr>\n",
       "        <td style=\"padding-left: 1em; padding-right: 1em; text-align: center; vertical-align: top\">his</td>\n",
       "        <td style=\"padding-left: 1em; padding-right: 1em; text-align: center; vertical-align: top\">11</td>\n",
       "        <td style=\"padding-left: 1em; padding-right: 1em; text-align: center; vertical-align: top\">5</td>\n",
       "    </tr>\n",
       "    <tr>\n",
       "        <td style=\"padding-left: 1em; padding-right: 1em; text-align: center; vertical-align: top\">a</td>\n",
       "        <td style=\"padding-left: 1em; padding-right: 1em; text-align: center; vertical-align: top\">7</td>\n",
       "        <td style=\"padding-left: 1em; padding-right: 1em; text-align: center; vertical-align: top\">6</td>\n",
       "    </tr>\n",
       "    <tr>\n",
       "        <td style=\"padding-left: 1em; padding-right: 1em; text-align: center; vertical-align: top\">he</td>\n",
       "        <td style=\"padding-left: 1em; padding-right: 1em; text-align: center; vertical-align: top\">7</td>\n",
       "        <td style=\"padding-left: 1em; padding-right: 1em; text-align: center; vertical-align: top\">10</td>\n",
       "    </tr>\n",
       "    <tr>\n",
       "        <td style=\"padding-left: 1em; padding-right: 1em; text-align: center; vertical-align: top\">as</td>\n",
       "        <td style=\"padding-left: 1em; padding-right: 1em; text-align: center; vertical-align: top\">6</td>\n",
       "        <td style=\"padding-left: 1em; padding-right: 1em; text-align: center; vertical-align: top\">5</td>\n",
       "    </tr>\n",
       "    <tr>\n",
       "        <td style=\"padding-left: 1em; padding-right: 1em; text-align: center; vertical-align: top\">was</td>\n",
       "        <td style=\"padding-left: 1em; padding-right: 1em; text-align: center; vertical-align: top\">5</td>\n",
       "        <td style=\"padding-left: 1em; padding-right: 1em; text-align: center; vertical-align: top\">4</td>\n",
       "    </tr>\n",
       "</table>\n",
       "[56 rows x 3 columns]<br/>Note: Only the head of the SFrame is printed.<br/>You can use print_rows(num_rows=m, num_columns=n) to print more rows and columns.\n",
       "</div>"
      ],
      "text/plain": [
       "Columns:\n",
       "\tword\tstr\n",
       "\tObama\tint\n",
       "\tBarrio\tint\n",
       "\n",
       "Rows: 56\n",
       "\n",
       "Data:\n",
       "+------+-------+--------+\n",
       "| word | Obama | Barrio |\n",
       "+------+-------+--------+\n",
       "| the  |   40  |   36   |\n",
       "|  in  |   30  |   17   |\n",
       "| and  |   21  |   18   |\n",
       "|  of  |   18  |   24   |\n",
       "|  to  |   14  |   9    |\n",
       "| his  |   11  |   5    |\n",
       "|  a   |   7   |   6    |\n",
       "|  he  |   7   |   10   |\n",
       "|  as  |   6   |   5    |\n",
       "| was  |   5   |   4    |\n",
       "+------+-------+--------+\n",
       "[56 rows x 3 columns]\n",
       "Note: Only the head of the SFrame is printed.\n",
       "You can use print_rows(num_rows=m, num_columns=n) to print more rows and columns."
      ]
     },
     "execution_count": 15,
     "metadata": {},
     "output_type": "execute_result"
    }
   ],
   "source": [
    "combined_words.sort('Obama', ascending=False)"
   ]
  },
  {
   "cell_type": "markdown",
   "metadata": {},
   "source": [
    "**Quiz Question**. Among the words that appear in both Barack Obama and Francisco Barrio, take the 5 that appear most frequently in Obama. How many of the articles in the Wikipedia dataset contain all of those 5 words?\n",
    "\n",
    "Hint:\n",
    "* Refer to the previous paragraph for finding the words that appear in both articles. Sort the common words by their frequencies in Obama's article and take the largest five.\n",
    "* Each word count vector is a Python dictionary. For each word count vector in SFrame, you'd have to check if the set of the 5 common words is a subset of the keys of the word count vector. Complete the function `has_top_words` to accomplish the task.\n",
    "  - Convert the list of top 5 words into set using the syntax\n",
    "```\n",
    "set(common_words)\n",
    "```\n",
    "    where `common_words` is a Python list. See [this link](https://docs.python.org/2/library/stdtypes.html#set) if you're curious about Python sets.\n",
    "  - Extract the list of keys of the word count dictionary by calling the [`keys()` method](https://docs.python.org/2/library/stdtypes.html#dict.keys).\n",
    "  - Convert the list of keys into a set as well.\n",
    "  - Use [`issubset()` method](https://docs.python.org/2/library/stdtypes.html#set) to check if all 5 words are among the keys.\n",
    "* Now apply the `has_top_words` function on every row of the SFrame.\n",
    "* Compute the sum of the result column to obtain the number of articles containing all the 5 top words."
   ]
  },
  {
   "cell_type": "code",
   "execution_count": 34,
   "metadata": {
    "collapsed": false
   },
   "outputs": [
    {
     "data": {
      "text/plain": [
       "dtype: list\n",
       "Rows: 59071\n",
       "[['since', 'carltons', 'being', '2005', '2008', 'coach', 'its', 'before', 'australia', '21', 'northern', 'bullants', 'to', 'perth', 'sydney', 'selection', '2014', 'has', '2011', '2013', 'division', 'his', 'was', 'rules', 'assistant', 'spanned', 'early', 'game', 'five', 'during', 'continued', '44game', 'cause', 'twice', 'round', 'parade', 'born', 'clubs', 'college', 'blues', 'for', 'falcons', 'currently', 'hill', 'drawn', 'kangaroos', 'kicked', 'exchange', 'mckernan', '19982000', 'losing', 'essendon', 'along', 'teaches', 'by', 'box', 'league', 'career', 'of', 'against', 'david', 'melbourne', 'digby', 'games', 'leading', 'traded', 'first', 'goalkicker', 'morrell', 'corey', 'acted', 'football', 'carlton', 'from', 'district', 'west', 'hawks', 'draft', 'coburg', 'forward', 'australian', 'recruited', 'until', 'shifted', 'club', 'season', 'vflaffiliate', 'western', 'with', 'former', 'he', '10', 'october', 'third', 'footballer', 'victorian', 'played', '32', 'following', 'teague', 'and', 'strathmore', 'is', 'premier', 'delisted', 'as', 'brisbaneafter', 'at', 'in', 'education', 'physical', 'afl', 'end', 'premiership', 'retiring', 'edflhe', 'also', 'other', 'rookie', 'play', 'coached', 'who', 'senior', 'a', 'vfl', '1979', 'age', '2002', '2003', '2000', '2001', '2006', '2007', 'time', 'the', '2009', 'aflfrom', 'playing', 'goals'], ['precise', 'thomas', 'closely', 'disturbances', 'wehr', 'bright', 'sleep', 'nimh', 'monitored', 'disorders', 'had', 'to', 'chronobiologic', 'treatment', 'rhythm', 'maryland', 'include', 'plasma', 'scheduled', 'hormone', 'assay', 'pharmacology', 'very', 'ophthalmology', 'every', 'they', 'day', 'follows', 'university', 'l', 'morning', 'winter', 'individuals', 'each', 'biological', 'depression', 'work', 'mental', 'national', 'circadian', 'certain', 'laboratory', '24hour', 'sandy', 'mood', 'for', 'chicago', 'pattern', 'robert', 'research', 'current', 'health', 'cause', 'publications', 'available', 'be', 'full', 'drifting', 'focused', 'graduated', 'relying', 'lag', 'on', 'rhythms', 'jet', 'institute', 'of', 'prior', 'aka', 'studies', 'blind', 'lewy', 'modalities', 'phasedelay', 'sack', 'precisely', 'he', 'from', 'working', '1981', 'their', 'describes', 'alfred', 'secretion', 'was', 'phaseadvance', 'that', 'oregon', 'worked', 'with', '94', 'must', 'md', 'has', 'hour', 'developing', 'these', 'science', 'j', 'evening', 'can', 'shift', 'my', '25hour', 'and', 'colleague', 'his', 'defined', 'december', 'is', 'an', 'as', 'pubmed', 'at', 'have', 'in', 'melatonin', 'vicechair', 'clearly', 'ohsu', 'studying', 'holds', 'administration', 'shifts', 'take', 'bethesda', '2005', 'department', 'unless', 'maladaptation', 'after', 'phd', 'moving', 'assessed', 'totally', 'senior', 'types', 'exposure', 'a', 'light', 'professor', 'later', '1973', 'capsule', 'time', 'psychiatry', 'the'], ['just', 'issued', 'mainly', 'nominated', 'years', 'leads', 'tours', 'teamed', 'cds', 'broadcaster', 'harmonica', 'to', 'voted', '2014', 'piano', 'has', 'thousands', '2010', 'brown', 'his', 'big', 'band', 'hamilton', 'they', 'association', 'northwestern', 'performing', 'comprising', 'arthur', 'miles', 'either', 'release', 'where', 'j', 'honored', 'their', 'society', 'year', 'home', 'portland', 'best', 'harp', 'canada', 'what', 'for', 'chicago', 'since', 'extensively', 'won', 'tens', 'hailing', 'full', 'small', 'active', 'from', 'by', 'on', 'dates', 'holger', 'influential', 'of', 'duo', 'or', 'blind', 'canadas', 'scene', 'venues', 'cd', 'germanyover', 'festivals', 'maple', '1982', 'guest', 'working', 'gutsy', 'muddy', 'been', 'awarded', 'harpdog', 'few', 'time', 'was', 'naturally', 'juggles', 'life', 'that', 'club', 'award', 'released', 'with', 'he', 'toronto', 'combos', '1995', 'canadian', 'up', 'promoter', 'edmonds', 'recording', 'while', 'crossed', 'many', 'petersen', 'called', 'and', 'seven', 'classic', 'is', 'it', 'covers', 'states', 'player', 'as', 'in', 'graham', 'blues', 'mid1950s', 'united', 'lemon', 'guitarist', '1', 'also', 'vancouver', 'which', 'browns', 'nw', 'album', 'electric', 'juno', 'who', 'membership', 'oregon', 'a', 'singer', 'bluesgospel', 'well', 'surveybrown', 'original', 'traditional', 'cascade', 'albumhe', 'the', 'playing', 'songs'], ['all', 'bauforschung', 'just', 'kurdlawitzpreis', 'german', 'ending', 'produced', 'including', 'austrian', 'yet', 'hundredth', 'merkur', '1942', 'producing', 'dick', '28', 'start', 'lower', 'praised', 'listing', 'stanisaw', 'has', 'silverberg', 'trnaslations', 'jeanpierre', 'klein', 'was', 'translations', 'matters', 'ones', 'wellss', 'negative', 'heinlein', 'years', 'him', 'association', 'brought', 'olaf', 'january', 'university', 'journalism', 'herbert', 'book', '1998', 'served', 'european', 'zelazny', 'view', 'reference', 'describedroger', 'series', 'some', 'rottensteiner', 'born', 'books', 'fifty', 'are', 'die', 'phantastische', 'close', 'special', 'phantastischen', 'what', 'total', 'abe', 'cordwainer', 'strugatski', 'robert', 'since', 'nonwriter', '18', 'critical', 'stapledon', 'new', 'receiving', 'numerous', 'public', 'achievements', 'edited', 'comparable', 'romane', 'banal', 'journal', 'republished', 'however', 'lem', 'betterknown', 'york', 'advisor', 'franz', 'from', 'philip', 'fifteen', 'publisher', 'about', 'works', 'working', 'language', 'asimov', 'of', 'k', 'sterreichisches', 'through', 'controversy', 'his', 'und', 'w', 'barry', 'promotion', 'introduced', 'or', 'fields', 'franke', 'smith', 'into', 'number', 'one', 'karel', 'fantasy', 'austria', 'kobo', 'another', 'bibliothek', 'aldiss', 'awarded', 'institut', 'illustrated', '1980', 'to', 'addition', 'leading', 'there', 'three', 'been', 'fiction', 'continental', 'quarber', 'andersonare', 'editor', 'h', 'hundred', 'assessment', 'until', 'vienna', 'seriesrottensteiner', 'both', 'factor', 'andrevonthe', 'authors', 'fantasticrottensteiner', 'highest', 'with', 'hg', 'he', 'apek', '1995', 'g', 'this', 'science', 'work', 'as', 'us', 'n', 'lesser', 'suhrkamp', 'travesties', 'doctorate', 'history', 'and', 'nesvadba', 'seven', 'studied', 'figure', 'stated', '1973', 'is', 'year', 'it', 'brothersin', 'an', 'critic', 'eighteen', 'at', 'in', '19791985', 'saw', 'united', '1969', 'anthology', 'latter', 'american', 'waidmannsfeld', '1963', 'anthologies', 'brian', 'writers', 'recognition', 'which', 'provoked', 'out', 'stanislaw', 'malzberg', 'statesrottensteiner', 'fr', '2004', 'verlags', 'gerard', 'josef', 'wells', 'produce', 'two', 'librarian', 'on', 'a', 'englishreading', 'for', '1978', '1975', 'well', 'shore', 'greatest', 'volumes', 'english', 'occasion', 'the', 'sf', 'typical'], ['legendary', 'gangstergenka', 'legendaarne', 'oja', 'paul', 'group', '23', 'had', 'better', 'real', 'his', 'dj', 'big', 'leegion', 'famous', 'were', 'they', 'during', 'went', '1996', 'rapper', '50', '18', 'rapped', 'back', 'joined', 'born', 'second', 'palm', 'year', 'schoolmate', 'album', 'genkas', 'estonian', 'for', 'tallinn', 'new', 'droopy', 'europe', 'solo', 'rapping', 'homophobes', 'henry', 'studio', 'along', 'by', 'on', 'island', '30', 'tour', 'arhm', 'first', 'own', 'armchair', 'tugitooli', 'producergenka', 'another', 'bankruptcy', 'from', 'vacation', 'cent', 'next', 'their', 'of', 'was', 'toe', 'started', 'company', 'released', 'kuhnja', 'known', 'with', 'pankrot', 'warmup', 'performers', 'this', '1998', 'gangster', 'record', 'genka', 'making', 'called', 'and', 'december', 'is', 'an', 'curtis', 'tag', 'palmisaar', 'rap', 'in', 'hit', 'revo', 'same', 'also', 'which', 'promo', 'who', 'most', 'records', 'a', 'stagename', 'band', '1974', 'together', '2001', '2006', '2007', '2004', 'the', 'songs', 'krvits', 'came', 'consisted'], ['now', 'currently', 'less', 'being', 'nominated', 'known', 'xeroxed', 'niblit', 'alternative', 'captain', 'weekly', 'toilets', 'awardshis', 'but', 'earned', 'writer', 'character', 'woodstock', 'writing', 'expert', 'program', '4', 'has', '2010', 'henderson', 'his', 'march', 'penises', 'scratchings', 'scene', 'whistle', 'simmons', 'every', 'not', 'hendersons', 'him', 'bigger', 'school', 'storyboard', 'magic', 'bobby', 'wordless', '2010in', 'nickelodeon', 'red', 'squarepants', 'where', 'wrote', 'spongebob', 'series', 'directing', 'born', 'college', 'are', 'year', 'weiss', 'best', 'out', 'graduating', 'humor', 'for', 'harvey', 'review', 'since', 'historyhenderson', 'ended', 'contained', 'crude', 'new', '5009', 'bestknown', 'attended', 'yorks', 'city', 'journal', 'arts', 'drew', 'busy', 'awards', 'york', 'starring', 'graduated', 'earliest', 'by', 'on', 'of', 'larger', 'programming', 'blobby', 'american', 'published', 'yorksince', 'hometown', 'number', 'one', 'magazines', '1988', 'strip', 'comic', '1987', 'little', 'from', '1980', 'expressnews', 'boiceville', 'due', 'been', 'spaz', 'their', 'asses', 'longestrunning', 'featuring', 'was', 'friend', 'that', 'some', 'award', 'visual', 'lives', 'midtolate', 'with', 'than', 'he', '1980s', '1993', 'october', 'hour', 'comics', '18', 'work', 'cartoonist', 'onteora', '1991henderson', 'animated', 'called', 'and', 'emmy', 'san', 'sam', 'is', 'turned', 'it', 'an', 'high', 'heard', 'as', 'minicomics', 'in', 'monroe', 'pink', '1969', 'began', 'magazine', 'sic', 'also', '55th', '19992004in', 'which', 'comedy', 'junk', 'collection', 'bear', 'nomination', 'man', 'a', 'special', 'antonio', '2003', 'funniest', 'title', 'the', 'selfpublishing', 'reprinted'], ['exclusive', 'producer', 'tribe', 'being', 'developed', 'rascals', 'designer', 'produced', 'including', 'crack', 'classic', 'kanye', 'specialedition', 'york', 'jacobs', 'based', 'jay', 'paris', 'mcs', 'observe', 'show', 'credited', 'young', 'created', 'to', 'aaron', 'vital', 'black', 'fade', 'prison', 'experimenting', 'maryland', 'has', 'local', 'over', 'first', 'started', 'his', 'dj', 'popularizing', 'wide', 'nightclubs', 'soulja', 'successful', 'early', 'records', 'verb', 'spank', 'basement', 'report', 'world', 'cool', 'clan', 'knock', 'cable', 'success', 'artist', 'university', 'mndr', 'jayz', 'this', 'quest', 'diy', 'reasonable', 'rock', 'cashmere', 'x', 'athletics', 'amanda', 'em', 'entourage', 'lucien', 'series', 'artists', 'colette', 'born', 'doolittleat', 'productions', 'doubt', 'recently', 'cocacola', 'album', 'wire', 'ricks', 'for', 'eliza', 'boy', 'rascal', 'slick', 'label', 'collaborated', 'performanceslacrate', 'jayzs', 'lacrate', 'milkcrate', 'new', 'ever', 'sold', 'shows', 'videogame', 'hero', 'outkast', 'syracuse', 'tour', 'interning', 'dazed', 'ferrariwhich', 'highlandtown', 'youngest', 'attending', 'tracks', 'studio', 'vinyl', 'starring', 'tshirtin', 'baltimores', 'by', 'rocafella', 'on', 'hbo', 'kids', 'launch', 'of', 'rogenrecently', 'lacrates', 'nightclub', 'prior', 'american', 'doolittle', 'soundtrack', 'recordings', 'where', 'djing', 'streamz', 'road', 'king', 'and', 'major', 'via', 'features', 'scene', 'pop', 'highly', 'gorillaz', 'featured', 'called', 'delicious', 'blank', 'custom', 'platinum', 'city', 'from', 'working', 'marc', 'bmore', 'west', 'create', 'support', 'been', 'mark', 'parties', 'live', 'jam', 'music', 'house', 'ronson', 'featuring', 'grew', 'was', 'tell', '1999', 'vans', 'hard', 'that', 'club', 'ragehbo', 'took', 'released', 'remixed', 'commissioned', 'level', 'with', 'he', '10', 'television', 'east', 'mixtapes', 'mc', 'culture', 'collaborations', 'ultramagnetic', 'official', 'up', 'recording', 'record', 'historical', 'mr', 'making', 'z', 'dizzee', 'def', 'mz', 'showlacrate', 'fashion', 'pellatfinet', 'played', 'is', 'in', 'confused', 'an', 'graffiti', 'at', 'allen', 'madonna', 'wutang', 'eminems', 'clothing', 'campus', 'film', 'summers', 'payday', 'began', 'song', 'brandaaron', 'range', 'epmd', 'also', 'other', 'role', 'which', 'toured', 'nyc', 'many', 'lily', 'life', 'even', 'used', 'star', 'tshirts', 'collaboration', 'time', 'upon', 'helping', 'most', 'director', 'throughout', 'sponsored', 'streetwear', 'a', 'rakim', 'gutter', 'tramps', 'age', 'later', 'seth', 'spent', 'baltimoreaaron', 'vegas', 'ferrari', 'baltimore', 'writing', '2005', 'the', '2009', 'original'], ['taxi', 'salon', 'gangs', 'being', 'text', 'agreed', 'authors', 'thomas', 'nominated', 'years', 'four', 'chair', 'enjoyed', 'before', 'one', '1', 'du', 'also', 'chosen', 'regarded', 'april', 'fergusons', 'writing', 'to', 'critical', 'kinkajou', 'developed', 'alberta', 'vancouver', 'equally', 'has', '2011', 'lake', '2013', '2012', '11', 'twentieth', 'his', 'march', 'returned', 'returning', 'very', 'pages', 'wood', 'commemorate', 'timekeeper', 'five', 'ferguson', 'canadian', 'fall', 'press', 'penname', 'burns', 'burnt', 'day', 'worlds', 'awaited', 'indeed', 'prize', 'countries', '54', 'university', 'book', 'history', 'die', 'served', 'raised', 'river', 'where', 'dir', 'county', 'declared', 'work', 'often', 'fair', 'people', 'house', 'some', 'play', 'literature', 'past', 'born', 'second', 'been', 'quebec', 'miniseries', 'novelist', 'tenth', 'rooke', 'special', 'canada', 'fiction', 'said', 'plays', 'appear', 'banff', 'livres', 'arguably', 'novels', 'martins', 'anniversary', 'ice', 'creative', 'written', 'won', 'produced', '1947', 'new', 'ever', 'sold', '2015in', 'europe', 'be', 'sixteen', 'who', 'run', 'lee', 'journal', 'night', 'sprung', 'french', 'water', 'york', 'ontario', 'studio', 'no', 'become', 'genre', 'november', 'teaches', 'by', 'starborn', 'stage', 'received', 'dunne', 'would', 'language', 'invit', 'of', 'invited', 'infinitheatre', 'americas', 'paris', 'farrow', 'place', 'published', 'aka', 'qubcoise', 'settled', 'seaforth', 'montreal', 'first', 'among', 'major', 'hudson', 'bunkhousesin', 'canadas', 'claim', 'into', 'paperback', 'leon', 'highly', 'sienna', 'guests', 'village', 'union', 'ninth', 'crime', 'bestseller', 'city', 'arts', '1985', 'from', 'publication', 'working', 'hes', 'festival', 'west', 'trilogy', 'three', 'long', 'next', 'few', 'barnacle', 'twenties', 'storm', 'which', 'travelled', 'john', 'was', 'until', 'opens', 'more', 'ziet', 'option', 'both', 'successful', 'masque', 'under', 'onyx', 'award', '2014city', 'guy', 'zarathustra', 'library', 'booklist', '20000', 'maclennan', 'sun', 'worked', 'highest', 'with', 'than', 'today', 'he', 'toronto', 'high', 'novel', '17', '1999', 'lacadmie', 'des', 'will', 'books', 'nine', 'time', 'praise', 'midteens', 'newspaper', 'murders', 'called', 'dennis', 'and', 'bridge', 'acclaim', 'preeminent', 'century', 'best', 'is', 'it', 'an', 'states', 'as', 'concordia', 'caused', 'at', 'in', 'seen', 'huron', 'cited', 'film', 'booksst', 'dhonneur', 'united', 'author', 'things', 'began', 'that', 'hugh', 'for', 'write', 'chants', 'writers', 'writersextraordinary', 'northwest', 'fourth', 'beach', 'company', 'all', 'towards', 'simon', 'writerinresidence', 'theatre', 'centre', 'may', 'english', 'upon', 'schuster', 'coproduced', 'france', 'germany', 'faculty', 'throughout', 'frequently', 'on', 'railway', 'a', 'early', 'short', 'driving', 'third', 'gravitated', '1977', 'age', 'later', 'well', 'cultural', 'trevor', '2002', '2006', 'series', '2004', '2005', 'lives', 'the', '1000'], ['houston', 'frankie', 'labels', 'hardcores', 'produced', 'roy', 'london', 'teamed', 'asylum', 'godfathers', '27', 'lutricia', 'also', 'producing', 'mcneal', 'including', 'to', 'present', 'under', 'heavies', 'has', 'gave', 'do', 'his', 'dj', 'producernelson', 'continues', 'early', 'records', 'birth', 'breakbeat', 'using', 'name', 'level', 'james', 'roll', 'garage', 'vibes', 'bebel', 'always', 'x', 'guy', 'dodger', 'tei', 'bump', 'house', '19901993', 'some', 'thelma', 'gilberto', 'born', 'n', 'juliet', 'delivered', 'jodeci', 'knight', 'since', 'liberty', 'label', 'consistently', 'bass', 'wishdokta', 'then', 'new', 'champagne', 'numerous', 'red', 'rosie', 'evolved', 'kelis', 'aaliyah', 'others', 'along', 'by', 'on', 'hits', 'brown', 'of', 'legendary', 'days', 'goldie', 'april', 'negrocan', 'gaines', 'into', 'scene', 'one', 'misteeq', 'simply', 'another', 'artists', '1990s', 'flex', 'city', 'knuckles', 'from', 'alterego', '2step', 'top', 'they', 'due', 'ayers', 'few', 'music', 'evelyn', 'biggest', 'heralded', 'was', 'hardcoredrum', 'happy', 'head', 'remixer', 'that', 'club', 'brand', 'remixed', 'known', 'worked', 'with', 'funk', 'he', 'sound', 'king', '1993', 'include', '1997', 'musicsome', 'scenes', 'towa', 'roberts', 'record', 'uk', 'artful', 'and', 'ripe', 'remained', 'nng', 'ah', 'is', 'delivers', 'it', 'an', 'drawer', 'as', '1971', 'in', 'beverley', 'inc', 'grant', 'began', 'when', 'traxin', 'started', 'sunday', 'other', 'which', 'anthems', 'garagehe', 'nice', 'swing', 'produce', 'a', 'for', 'together', 'up', 'faithless', 'so', 'nelson', 'jamiroquai', 'english', 'the', 'kickin', 'agnes'], ['phenomenon', 'deborash', 'innovative', 'still', 'jay', 'cornell', 'writing', 'to', 'treatment', '2014', '2013', 'explorations', 'good', 'conversations', '1955', 'listening', 'press', 'h', 'university', 'truths', 'shoshana', 'ashes', 'roger', 't', 'yale', 'where', 'felman', 'leaders', 'reference', 'catastrophic', 'empirical', 'born', 'see', 'taught', 'our', 'humane', 'forthcoming', 'what', 'for', 'ways', 'coeditor', 'robert', 'critical', 'trauma', 'encounters', 'she', 'we', 'theory', 'unconscious', 'frank', 'harvard', 'twentieth', 'both', 'traumas', 'hopkins', 'of', 'experience', 'cathy', '173182', 'fictions', 'letters', 'previously', 'johns', 'one', 'lifton', 'pp', 'from', 'her', 'emory', 'century', 'question', '1988', 'scholars', 'describes', 'call', 'editor', 'memory', 'mysterious', 'that', 'caruth', 'with', 'appointed', '1991', 'md', '1995', '1996', 'also', 'work', 'up', 'freud', 'rutgers', 'rhodes', 'history', 'and', 'locke', 'esch', 'is', 'received', 'helped', 'deconstructive', 'as', 'at', 'in', 'comparative', 'kant', 'author', 'trials', 'discussion', 'wordsworth', 'caruths', 'build', 'department', 'luckhurst', 'literature', 'narrative', 'phd', 'most', 'unclaimed', 'on', 'juridical', 'a', 'conceptualizing', 'professor', 'departments', '2002', 'perceiving', 'responsibility', 'english', 'the', 'n3'], ['zwigoff', 'september', 'years', 'fundamentalists', 'drawings', '27', 'languageshe', 'herself', 'girlit', 'father', 'kominskycrumbcrumb', 'parents', 'teaching', 'acrobatics', '2010', 'relocated', '1991', 'his', 'to', 'underground', 'they', 'world', 'secondary', 'school', 'artist', 'remove', 'this', 'mid2000s', 'she', 'earned', 'husband', 'critically', 'old', 'village', 'some', 'born', 'street', 'violet', 'living', 'for', 'robert', 'daniel', 'inquirer', 'americanfrench', 'told', 'after', 'christian', 'aline', 'sold', 'french', 'reported', 'eli', 'california', 'conservatives', 'wanted', 'by', 'stage', 'on', 'about', 'daughter', 'prepare', 'english', 'of', 'completing', 'studied', 'comedydrama', 'foreign', 'nameafter', 'turn', 'documentary', 'nearby', 'sophies', 'comix', 'sauve', 'family', 'inclusion', 'relocation', 'into', 'son', 'adaptation', 'another', 'artists', 'from', 'her', '1981', 'political', 'philadelphia', 'france', 'their', 'farming', 'was', 'until', 'ghost', 'lived', 'that', 'worker', 'apprenticed', 'released', 'construction', 'lives', 'clowes', 'with', 'town', 'valley', 'crumb', '1994', 'comics', 'while', 'nine', 'sophie', 'sophia', 'and', 'would', 'is', 'circus', 'an', 'states', 'as', 'at', 'acclaimed', 'in', 'serial', 'education', 'film', 'tattoo', 'afraid', 'woodland', 'same', 'interview', 'who', 'southern', 'brooklyn', 'united', 'terry', 'winters', 'a', 'later', 'clowning', '2001', 'mother', 'commissioned', 'the', '2009', 'original'], ['gospels', '2010two', 'twoyear', 'imagines', 'mission', 'lds', 'cambridge', 'manchester', 'cold', 'its', 'one', 'death', 'with', 'winner', 'saints', 'mens', 'to', 'won', 'circumstances', '2011', '2010', '2013', 'universityashworths', 'eventually', 'them', 'lonely', 'march', 'novels', 'account', 'dark', 'trask', 'novel', 'february', 'theft', 'own', 'jesus', 'is', 'latterday', 'founded', 'runs', 'prize', 'lost', 'january', 'university', 'renamed', 'bbc', 'she', 'found', 'works', 'set', 'ashworth', 'there', 'unpublished', 'jenn', 'quillercouch', 'literature', 'born', 'computer', 'result', 'lancashireshe', 'home', 'tenth', 'best', 'christ', 'for', 'currently', 'anniversary', 'creative', 'written', 'unable', 'closed', 'hymas', 'new', 'teens', 'betty', 'body', 'be', 'full', 'smithy', 'friday', 'however', '2009', 'others', 'graduated', '1982', 'strong', 'come', 'tragedy', 'both', 'central', 'of', 'violence', 'according', 'prisonshe', 'mentor', 'published', 'first', 'teenage', 'writer', 'family', 'previously', 'relate', 'son', 'brought', 'featured', 'lancasterin', 'another', 'church', 'writing', 'sarah', 'story', 'from', 'her', 'whom', 'contains', 'girls', 'three', 'consultancy', 'their', 'editor', 'poet', 'was', 'novelistsshe', 'hub', 'on', 'but', 'worked', 'herself', 'boyfriend', 'kind', 'has', 'welcoming', 'culture', 'this', 'up', 'aims', 'until', 'taught', 'stories', 'called', 'are', 'and', 'failing', 'preston', 'suspicious', 'it', 'an', 'coordinator', 'as', 'woman', 'at', 'in', 'tells', 'funny', 'memorial', 'built', 'extract', 'when', 'reality', 'member', 'also', 'writers', 'department', 'grips', 'comedy', 'shows', 'lecturer', 'odd', 'elements', 'centre', 'dies', 'earlier', 'lancastrian', 'selfdeception', 'award', 'lancs', 'librarian', 'intimacy', 'network', 'a', 'summerhouse', 'short', 'third', 'light', 'later', '2003', '2004', 'english', 'the', '12', 'lancashire', 'left'], ['wordmark', 'is', 'text', 'charles', 'illustrated', 'prix', 'radio', 'alternative', 'contributions', 'its', 'now', '22', 'to', 'permanent', 'under', 'has', 'might', 'giants', 'his', 'band', 'they', 'designers', 'him', 'association', 'founded', 'appearing', 'name', 'presented', 'latterday', 'including', 'work', 'be', 'national', 'born', 'computer', 'design', 'operated', 'profiled', 'pronounced', 'for', 'forty', 'current', 'typographique', 'new', 'public', 'bestknown', 'heffler', 'august', 'tobias', 'splithoefler', 'operating', 'york', 'peignot', 'bazaar', 'by', 'on', 'stone', 'influential', 'of', 'typeface', 'times', 'museums', 'frerejones', 'magazine', 'harpers', 'macintosh', 'named', 'apple', 'family', 'one', 'typefaces', 'church', '1989', 'from', 'working', 'museum', 'system', 'been', 'sports', 'their', 'jonathan', 'was', 'until', 'atypi', 'company', 'award', 'part', 'with', 'he', 'cooperhewitt', '1995', 'cbs', '1999', 'type', 'clients', 'hoefler', 'solomon', 'r', 'internationale', 'morninghoeflers', 'and', 'outstanding', 'guggenheim', 'an', 'prestigious', 'as', 'have', 'in', 'id', 'perhaps', 'began', 'american', 'also', 'sunday', 'esquire', 'several', 'designer', 'institutional', 'appearances', 'collection', 'most', 'designed', 'rolling', '20052014', 'america', 'a', 'saintsin', 'foundry', '1970', '2002', 'time', 'the', 'original'], ['sector', 'all', 'september', 'both', 'fitzhardinge', 'eton', 'bring', 'including', 'questions', 'seats', 'worked', 'succeeding', 'police', 'baron', 'title', 'removal', 'to', 'bicycles', 'labour', 'board', 'tabled', 'inherited', 'lord', 'has', 'frsa', '199697', 'his', 'sitting', 'conduct', 'maritime', 'matters', 'ma', 'years', 'mary', 'association', '17th', 'held', 'spokesperson', 'positions', 'gueterbock', '8595gueterbock', 'london', 'went', 'entitled', 'automatic', 'fcit', 'secretary', 'right', 'freight', 'ten', 'house', 'eurotunnel', 'group', 'born', 'college', 'laboratory', 'port', 'whip', 'for', 'remain', 'hereditary', 'foleyberkeley', 'dsc', 'body', 'upon', 'lordshe', 'baroness', 'peerafter', 'plc', 'opposition', 'berkeley', 'peer', '20', '1939', 'marine', 'polruan', 'on', 'about', 'cranford', 'created', 'career', 'many', 'industry', 'obe', 'so', 'british', 'where', 'ancient', 'pilots', 'asked', 'first', 'cambridge', 'civil', 'into', 'harbour', 'graduated', 'wimpey', 'guests', 'tony', 'george', 'engineer', '1985', 'cycling', 'fimeche', 'next', 'too', 'entered', 'was', 'ceng', 'trinity', 'questioned', 'life', 'educated', 'restrictions', 'cornwalllord', 'anthony', 'regards', 'lives', 'representative', 'known', 'mice', 'with', 'he', '1992', 'politician', 'being', 'embarked', 'up', 'until', 'plymouth', 'uk', 'of', 'following', 'transport', 'and', 'lords', 'then', 'is', 'commissioner', 'an', 'as', 'at', 'in', 'borough', 'trustee', 'parliamentary', 'ancestors', 'hon', 'member', 'also', 'fowey', 'chairman', 'party', 'european', 'english', 'rail', 'liberties', '199697lord', 'president', 'engineering', 'a', 'peers', 'hillingdon', '2000', '18th', 'aunt', 'parliamentsince', 'trains', 'the', 'joining'], ['advisory', 'titled', 'agency', 'partial', 'gold', 'devote', 'electionon', 'trade', 'produced', 'facilities', 'including', 'unep', 'threshold', 'earth', 'paul', '1963', 'july', 'votes', 'highest', 'campaign', 'candidate', 'eligible', 'with', 'certification', 'responsible', 'councillor', 'former', 'environment', 'to', 'program', 'citizen', 'stephen', 'contestant', 'centurion', 'has', 'local', '2010', 'awareness', 'advises', 'then', 'his', 'municipal', 'than', 'organizations', 'powerful', 'socially', 'dfait', 'documentaries', '2006', 'partya', 'champions', 'advised', 'schools', 'air', 'practicesfrom', '1994', 'prime', '4730', 'committees', 'elected', 'university', '4134', 'leader', 'excellence', 'consultant', 'sustainable', 'served', 'works', 'endorsed', 'round', 'programme', 'reelection', 'olympic', 'everyone', 'cost', 'cofounded', 'energy', 'society', 'economic', 'design', 'election', 'chernushenko', 'resigned', 'ward', 'bodieschernushenko', 'canada', 'living', 'born', 'for', 'campuses', 'federal', 'nonprofit', 'since', 'foreign', 'public', 'written', 'won', 'health', 'capital', 'international', 'receiving', 'integrated', 'be', '8', 'business', 'activity', 'leadership', 'pursuit', 'groups', 'dewar', 'ontario', 'november', 'by', 'change', 'panel', 'on', 'great', 'benefits', 'boards', 'canadian', 'of', 'david', 'nrtee', 'games', 'social', 'ndp', 'adopting', 'documentary', 'other', 'south', 'pollution', 'thus', 'consulting', 'cambridge', 'canadas', 'deputy', 'civil', 'vote', '20082009chernushenko', 'private', '102', 'accredited', 'alumnus', 'alberta', 'owner', 'table', 'electronic', 'city', 'he', 'management', 'from', 'publication', 'their', '6766', 'housing', 'political', 'three', 'relations', 'sports', 'commission', 'bike', 'centre', 'films', 'was', 'national', 'more', 'firm', 'a', 'passed', 'both', 'cida', 'government', 'iisdacccunep', 'about', 'new', 'filmmaker', 'policy', 'finished', 'minister', '2014', 'worked', 'promote', 'nonpartisan', 'appointed', 'raising', '1998', 'count', '10', 'politician', 'that', '1996', 'science', 'elections', 'nations', 'project', 'books', 'newspaper', 'launched', 'and', 'lightly', 'ran', 'is', 'received', 'losing', 'general', 'as', 'sport', 'calgary', 'council', 'in', 'events', 'vicechair', 'any', 'physical', 'affairs', 'expenditures', 'engages', 'inc', 'harper', 'climate', 'make', '2013chernushenko', 'graduate', 'member', 'also', 'leed', '2001', 'speaker', 'fourth', 'department', 'party', 'several', 'becoming', 'economy', 'development', 'multimedia', '2004', 'again', 'our', 'june', 'wont', 'director', 'sustainability', 'running', 'united', 'cooperativehe', 'senior', 'queens', 'building', 'reimbursement', 'democratic', 'sectors', 'environmental', 'communities', 'the', 'ottawa', '2003', 'charity', 'practices', 'green', '2007', 'clean', 'time', 'professional', '2008', '2009', 'athletes', 'order', 'came', 'greening'], ['stoner', 'shot', 'german', 'produced', 'including', 'based', 'lo', 'josh', 'to', 'main', 'truckfighters', '2012', 'sound', 'his', 'bands', 'documentaries', 'band', '84minute', 'during', 'unique', 'atmospheres', 'artist', 'fuzzomentary', 'common', 'rock', 'release', 'works', 'set', 'often', 'people', 'design', 'thirteen', 'homme', 'for', 'fu', 'since', 'creative', 'content', 'attracted', 'fans', 'internet', 'contributes', 'seeks', 'berlinduring', 'available', 'audiovisual', 'attention', 'combines', 'extraordinary', 'genre', 'generate', 'on', 'about', 'of', 'study', 'musicians', 'documentary', 'childhood', 'first', 'subcultures', 'electronic', 'story', 'or', 'from', 'guest', 'due', 'desert', 'few', 'joerg', 'camera', 'music', 'editor', 'way', 'films', 'tell', 'started', 'but', 'gap', 'known', 'with', 'he', 'designerartist', 'graphic', 'illustrator', 'this', 'societyhe', 'vhs', 'photographing', 'project', 'stories', 'are', 'and', 'is', 'influence', 'topic', 'as', 'exist', 'have', 'in', 'film', 'swedish', 'genres', 'media', 'feature', 'also', 'which', 'underground', 'development', 'elements', 'explores', 'unconventional', 'appearances', 'who', 'trailers', 'most', 'manchu', 'steineck', 'such', 'filmmaker', 'friends', 'parallel', 'a', 'short', 'nevertheless', 'age', 'well', 'fictional', 'musical', 'edge', '2006', 'time', 'the', 'painting', 'drawing'], ['focus', 'course', 'manchester', 'research', 'issues', 'previous', 'also', 'character', 'young', 'including', 'to', 'degrees', 'has', '2012', 'kingdom', 'his', 'merton', 'pocket', 'oxford', 'him', 'ewtn', 'prominent', 'cognition', 'university', 'identified', 'herald', 'insights', 'priest', 'louis', 'accounts', 'apologia', 'england', 'diocese', 'energy', 'birmingham', 'born', 'books', 'college', 'perspective', 'further', 'scientific', 'for', 'delphi', 'contributed', 'coauthor', 'religion', 'written', 'experiment', 'various', 'credo', 'perception', 'august', 'degree', 'virtues', 'ramsey', 'formation', 'gregorian', 'besides', 'pinsent', 'brighton', 'faith', 'institute', 'of', 'social', 'first', 'secondperson', 'moral', 'ian', 'from', 'bbc', 'three', 'been', 'tutor', 'lumen', 'saint', 'on', 'andrew', 'evangelium', 'arundel', 'present', 'he', 'pontifical', 'collaborationfr', '19', 'science', 'cern', 'publications', 'and', 'is', 'fellow', 'high', 'as', 'at', 'in', 'autism', 'routledge', 'catholic', 'united', 'interviewed', 'media', '1966', 'maryvale', 'who', 'member', 'application', 'book', 'fr', 'centre', 'philosophy', 'aquinass', 'phd', 'gifts', 'most', 'harris', 'director', 'faculty', 'ethics', 'class', 'recent', 'a', 'thirtyone', 'theology', 'academic', 'rome', 'catechetical', 'the', 'physics', 'dphil'], ['all', '1953called', 'managed', '1953', 'when', 'half', 'rest', 'years', '1950swith', 'selection', 'still', '1949', 'also', 'regarded', 'winning', 'to', 'only', 'suffered', 'has', 'his', 'which', 'dunnes', '1954', '1951', 'they', '1952', 'one', '1959', 'hall', '59', 'gaelic', 'colm', 'team', 'lasting', 'the', 'back', 'titles', 'blue', 'captain', 'for', 'featdunne', 'selected', 'won', 'millennium', 'consecutive', 'tribute', 'be', 'football', 'by', 'on', 'dunne', 'of', 'cup', 'players', 'defeat', 'railway', 'jersey', 'there', 'retired', 'into', 'meath', 'due', 'county', 'beaten', 'another', 'xv', 'agonising', 'finalhe', 'from', 'would', 'played', 'two', 'few', 'ireland', '6', 'white', 'was', 'final', 'club', 'greatness', 'park', 'gaa', 'he', 'inducted', 'this', 'recurring', 'up', 'three', 'were', 'following', 'and', 'outstanding', 'player', 'as', 'at', 'in', 'fame', 'narrowly', 'no', 'leinster', 'browne', 'field', 'other', 'widely', 'many', 'medals', 'paddy', 'province', 'play', 'championship', 'centre', 'emulate', 'who', 'laois', 'senior', 'problema', 'a', 'famous', 'performances', 'laoishe', 'position', '2008', 'backin'], ['dance', 'commissions', 'ensemblehe', 'sofia', 'manager', 'ergon', 'unionnaxos', 'group', 'ensembles', 'production', 'companyhis', 'under', 'has', 'activities', 'them', 'his', 'founding', 'documentaries', 'cultural', 'mouzas', 'schools', 'channelshe', 'advanced', 'athenssince', 'runs', 'anax', 'haris', 'michos', 'works', 'dimitris', 'programme', 'olympic', 'alexandros', 'titled', 'committee', 'choreographer', 'series', 'born', 'productions', 'trisha', 'home', 'dawn', 'vironas', 'organizing', 'composers', 'for', 'imagerelated', 'section', 'orchestra', 'label', 'collaborated', 'written', 'various', 'new', 'papageno', 'xanthoudakis', 'theory', 'philharmonic', 'never', 'kamarotos', 'imaginary', 'teaches', 'by', 'received', 'of', 'konstantinos', 'days', 'games', 'lathos', 'composed', 'among', 'own', 'cd', 'composer', 'electronic', 'orchestrashe', 'management', 'from', 'top', 'athens', 'been', 'commission', 'music', 'films', 'was', '2003in', 'board', 'kinissi', 'releases', 'orchestral', 'company', 'released', 'with', 'he', 'organizations', 'television', 'include', '1998', 'project', 'calamity', 'many', 'at', 'and', 'studied', 'videos', 'is', 'an', 'performed', 'in', 'technology', 'film', 'media', 'commercials', '1962', 'member', 'till', 'projects', 'composition', 'european', 'antoniou', 'theodore', 'director', 'most', 'important', 'recent', 'a', 'short', 'greek', 'directors', 'edge', 'artistic', '2004', 'professional', 'the', 'left', 'corporate', 'original', 'airesis'], ['saying', 'quoted', 'restore', '19681995', 'results', 'unofficial', 'held', 'campbell', 'mason', '2996', 'votes', 'retirement', 'thinking', 'with', 'edited', 'schoolboard', 'to', 'board', 'stephen', 'darwin', 'debating', 'scheduled', 'his', 'march', 'incumbent', 'fellow', 'assistant', 'school', 'kitzmiller', 'closely', 'not', '1995', 'day', 'articles', 'rhetoric', 'showed', 'skills', 'angus', 'university', 'serves', 'public', 'did', 'served', 'depositionin', 'people', 'dealing', 'seat', 'culture', 'defense', 'design', 'are', 'portland', 'witness', 'appear', 'for', 'communications', 'ways', 'currently', 'conservative', 'critical', 'international', '1406', 'discovery', 'disclose', 'be', 'christian', 'transparency', 'darwinist', 'associate', 'journal', 'slated', 'demonizing', 'november', 'by', 'improve', 'on', 'c', 'engage', 'usa', 'institute', 'of', 'study', 'darwinism', '1942', 'american', 'promotion', 'think', 'retired', 'glenn', 'designcampbell', 'county', 'trust', 'establish', 'considers', 'society', 'use', 'from', 'would', 'area', 'there', 'their', '2', 'interest', '6', 'meyer', 'was', 'until', 'more', 'north', 'that', '6806', 'offered', 'oregon', 'defeating', 'believe', 'memphis', 'than', 'he', '10', 'john', 'tank', 'withdrew', 'washington', 'born', 'science', 'can', 'landram', 'v', 'curricula', 'could', 'election', 'and', 'dedicated', 'links', 'stated', 'ran', 'is', 'telephone', 'an', 'as', 'at', 'in', 'education', 'id', 'information', 'trial', 'rather', 'ideas', 'also', 'branch', 'interview', 'intelligent', 'students', 'who', 'june', 'collection', 'district', 'but', 'affairscampbell', 'services', 'a', 'center', 'i', 'professor', 'together', 'complexity', '3194', '2007', '2005', 'professional', 'the', 'dover'], ['all', 'increasingly', 'suburban', 'produced', 'cowriting', 'also', 'rose', 'had', 'to', 'only', 'ska', 'orange', 'thirdwave', 'has', 'then', 'song', 'rerecorded', 'early', 'band', 'cook', 'world', '20002002', 'joined', 'bertram', 'benefit', 'albumchris', 'found', 'replacement', 'because', 'be', 'careerhe', 'edition', 'decided', 'video', 'desperate', 'rejoined', 'ep', 'lead', 'recorded', 'acting', 'various', 'tribute', 'supporting', 'we', 'who', 'maurer', 'batstone', 'compilation', 'credits', 'tracks', 'directions', 'along', 'by', 'care', 'on', 'of', 'taking', 'became', 'compilations', 'create', 'unreleased', 'first', 'origin', 'childrens', 'scene', 'county', 'singing', 'tint', 'legends', 'bears', 'hospital', 'aaron', 'their', 'dissatisfied', 'was', 'more', 'direction', 'vince', 'released', 'gummi', 'with', 'remixchris', 'he', 'selftitled', 'pursue', 'official', 'vocal', 'recording', 'replaced', 'can', 'my', 'ephe', 'and', 'an', 'as', 'performed', 'want', 'in', 'seen', 'nights', 'dallas', 'tim', 'other', 'reportedly', 'after', 'chris', 'a', 'singer', 'for', 'i', 'cover', '2002', '2000', '2001', 'walker', 'the', 'songs', 'musical', 'left'], ['thomas', 'managed', '200506', 'including', 'converting', 'before', 'scoring', '25', 'cup', 'bench', 'penalty', 'to', 'only', 'stephen', 'wales', 'stoddart', 'footballer', 'friendly', '2012', 'cornish', 'them', 'his', 'return', 'regional', 'game', 'made', 'five', 'not', 'world', 'bringing', '200809', 'lost', 'did', 'positions', 'debut', 'rfc', 'team', 'fullbackthomas', 'side', 'rhys', '200405', 'signing', 'pirates', 'national', 'born', 'clubs', '110', 'ceiron', 'out', 'llanellibased', 'for', 'currently', 'favour', 'rival', 'won', 'falling', 'previous', 'of', 'llanelli', 'leeds', 'from', 'league', 'last', 'career', 'priestland', 'region', 'months', 'against', 'april', 'resulting', 'transfer', '200304', 'duty', 'leaguehowever', 'pointsthomas', 'number', 'one', 'down', 'another', '200708', 'total', 'often', '23', 'magners', '1983', 'union', 'barry', 'three', 'france', 'eleven', 'much', 'was', 'until', 'duties', 'more', 'a', 'sharing', 'on', 'season', 'but', 'scarlets', 'rugby', 'hold', 'with', 'he', '10', 'berth', 'october', '14', '18', 'also', 'appearance', 'as', 'ives', 'while', 'morgan', 'starts', 'making', 'are', 'and', 'played', 'almost', 'december', 'is', '200607', 'secondfiddle', 'at', 'in', 'again', 'place', '950', 'began', 'six', 'when', 'fullback', 'majority', 'that', 'other', '2005', '2006', 'wing', 'scored', 'play', 'though', 'welsh', 'appearances', 'after', 'june', 'carnegie', 'slovenia', 'tries', 'regular', 'two', 'the', 'jones', 'celtic', 'spent', 'st', '2003', 'points', 'davies', '2007', 'time', 'position', '2008', '2009', 'starting', 'playing', 'flyhalf'], ['coach', 'just', 'september', 'move', 'mistaken', 'years', 'nations', 'breaka', 'bright', 'pitch', 'november', 'japan', 'enjoyed', 'frenchmans', 'scoring', 'baya', 'some', 'french', 'earned', 'true', 'had', 'fans', 'jan', 'to', 'finally', 'other', 'under', 'struck', 'team', 'spark', 'match', 'real', 'division', 'his', 'hit', 'returned', 'mehdi', 'distance', 'matches', 'could', 'showing', 'stop', 'possible', 'nation', 'jendouba', 'kind', 'fallout', 'new', 'not', 'during', 'now', 'him', 'impressive', 'partnered', 'promising', 'name', 'success', 'level', '16', 'list', 'joined', 'teams', 'singularly', 'twice', 'history', 'bab', 'recall', 'quick', 'found', 'where', 'side', 'semifinal', 'jedid', 'olympic', 'england', 'who', 'national', 'tunisian', 'tournament', 'eleven', 'born', 'second', 'titles', 'considered', 'sellimis', 'year', 'callup', 'sport', 'sellimi', 'out', 'even', 'for', 'zoubeir', 'life', 'clocked', 'best', 'competitions', 'outside', 'discretion', 'international', 'movement', 'be', 'korea', 'recently', 'missing', 'got', 'mali', 'however', 'drew', 'here', 'although', 'put', 'along', 'after', 'firstclass', 'on', 'about', 'goalscoring', 'carried', 'world', 'wayhis', 'dubbed', 'of', '31', 'cup', 'wrong', 'against', 'distinguished', 'players', 'became', 'place', 'freiburg', 'promotion', 'replacement', 'settled', 'that', 'south', 'first', 'retired', 'afterwards', 'headed', 'tunisia', 'win', 'into', 'limelight', 'number', 'marked', 'one', 'brought', 'barren', 'long', 'yearstunisians', 'spanish', 'proved', 'throughout', 'picking', 'belt', '1996', 'from', 'district', 'countrys', 'transfer', 'there', 'creativity', 'two', 'africain', 'next', 'start', 'going', 'too', 'way', 'time', 'nantes', 'was', 'household', 'back', 'romaniabundesliga', 'head', 'himself', 'form', 'league', 'club', 'season', 'adel', 'but', 'striker', 'goals', 'lung', 'child', 'swansong', 'atlanta', 'with', 'former', 'he', 'football', 'internationals', '1993', 'grew', '14', 'henri', 'this', '1998', 'cap', 'up', 'final', 'pace', 'atlantique', 'determined', 'tunis', 'achieve', 'many', 'following', 'tournamentthis', 'country', '19992000', 'at', 'and', '30', 'benslimane', 'coupled', 'period', 'steady', 'is', 'premier', 'turned', 'it', 'fellow', 'disappointing', 'player', 'as', 'carved', 'in', 'bundesligas', 'arabic', 'surge', 'their', 'failed', 'really', 'strength', 'winter', 'friendlies', 'skillful', 'ammar', 'stayed', '1', 'another', 'squad', 'virtually', 'widely', 'finding', 'performance', 'goal', 'ligue', 'zambia', 'gamble', '10', 'gaining', 'ball', 'games', 'appearances', 'detractors', 'took', 'permanent', 'modest', 'fc', 'germany', 'never', 'account', 'drought', '199798', 'finals', 'inspiration', 'a', 'purchase', 'france', 'shortly', 'lead', '1978', 'home', 'performances', 'age', 'appreciate', '1972', '2002', '2001', 'souayah', 'africa', 'african', 'anchorman', 'professional', 'the', 'talented', 'michel', 'left'], ['essay', 'summer', 'all', 'show', 'operas', 'charles', 'domestic', 'years', 'produced', 'cambridge', 'musicals', 'controversial', 'queer', 'faith', 'somerville', 'soloways', 'causes', 'bunch', 'comedic', 'hamletta', 'womans', 'producing', 'writer', '28', 'rosenthal', 'betsy', 'to', 'interested', 'parodied', 'has', 'dad', 'book', 'songwriting', 'march', 'university', 'song', 'very', 'couple', 'continues', 'aizley', 'earnest', 'were', 'not', 'falcon', 'one', 'curtis', 'minimalist', 'school', 'comedy', 'mothers', 'conceive', 'performing', 'venue', 'this', 'benefit', 'she', 'man', 'rock', 'works', 'expartner', 'wrote', 'respond', 'on', 'stereotype', 'solo', 'principal', 'series', 'creation', 'jennifer', 'born', 'second', 'decided', 'musicians', 'based', 'forthcoming', 'folk', 'album', 'appear', 'what', 'homefront', 'soloway', 'for', 'catie', 'miss', 'tales', 'wheels', 'artificial', 'creative', 'written', 'does', 'features', 'new', 'three', 'across', 'shows', 'edited', 'led', 'compilation', 'careerafter', 'notable', 'jill', 'started', 'active', 'training', 'along', 'refers', 'lesbo', 'by', 'both', 'sister', 'river', 'daughter', 'norbert', 'of', 'studied', 'harlyn', 'leaving', 'tour', 'journey', 'signature', 'real', 'improv', 'efforts', 'womens', 'or', 'beany', 'first', 'via', 'followed', 'childrens', 'evans', 'potter', 'scene', 'jesus', 'crisissoloways', 'featured', 'open', 'carol', 'city', 'arts', 'from', 'her', 'area', 'creator', 'lone', 'two', 'their', 'program', 'music', 'debbie', 'statement', 'which', 'indiana', 'hollywood', 'humorless', 'was', 'tell', 'separated', 'became', 'life', 'that', 'club', 'musician', 'about', 'but', 'bobbies', 'larger', 'child', 'with', 'buying', 'boyfriend', '1990', 'television', '1994', 'violence', 'pursue', 'work', 'will', 'passim', 'sexuality', 'tweaking', 'folkrock', 'loves', 'country', 'at', 'and', 'regularly', 'performer', 'boston', 'is', 'moved', 'it', 'an', 'couples', 'tom', 'as', 'nonbiological', 'performed', 'in', 'partner', 'nights', 'heather', 'anthology', 'once', '1964', 'departments', 'self', 'mike', 'american', 'also', 'kimballsoloway', 'other', 'insemination', 'toured', 'several', 'entitled', 'revere', 'briefly', 'harrie', 'ridge', 'collaboration', 'after', 'mommies', 'director', 'action', 'produce', 'massachusetts', 'sisters', 'such', 'america', 'lesbian', 'began', 'a', 'theater', 'brady', 'band', 'camp', 'spent', 'premiered', 'musical', '2002', 'perform', '2000', 'mother', 'title', 'the', 'dover', 'original', 'songs'], ['thomas', 'particularly', 'nihilson', 'steve', 'including', 'gb', 'computation', 'queer', 'protocol', 'cold', 'its', 'issues', 'system', 'internationally', 'nicoletta', 'josh', 'editors', 'writing', 'to', 'technologywhile', 'program', 'yoyo', 'activities', 'his', 'garden', 'angelesbased', 'beat', 'bands', 'rise', 'coast', '1955', 'band', 'they', 'hands', 'using', 'stehlik', 'zine', 'name', 'artist', 'university', 'irvines', 'donna', 'science', 'found', 'shows', 'where', 'bios', 'wrote', 'gang', 'calarts', 'creator', 'homocore', 'born', 'computer', 'implemented', 'organizing', 'ultimately', 'throughout', 'network', 'for', 'coeditor', 'currently', 'daniel', 'dresch', 'provider', 'issue', 'across', 'tlgnet', 'movement', 'abbott', 'led', 'creating', 'maintains', 'jennings', 'little', 'regional', 'california', 'from', 'along', 'earliest', 'by', 'partner', 'publisher', 'comrade', 'kids', 'boards', 'resides', 'influential', 'of', 'punk', 'fidonet', 'angeles', 'informal', 'fugazi', 'musicians', 'europejennings', 'incorporated', 'eight', '512', 'other', 'south', 'software', 'named', 'own', 'presence', 'appeared', 'had', 'into', 'platformsaside', 'one', 'featured', 'magazines', 'message', 'rarely', 'portable', 'arts', 'networking', 'service', 'deke', 'west', 'create', 'arms', '1988', 'their', 'until', 'way', 'tom', 'films', 'was', 'los', 'authored', 'a', 'lived', 'north', 'on', 'zines', 'but', 'instrumental', 'larry', 'authors', 'technician', 'technologies', 'with', 'protocols', 'he', '1991', 'works', 'multiplicity', 'originally', 'as', 'war', 'apostles', 'bbses', 'publications', 'were', 'jds', 'at', 'and', 'san', 'ran', 'boston', 'is', 'an', 'engineering', 'performed', 'file', 'in', 'seen', 'archive', 'inc', 'livermore', 'built', 'that', 'graduate', 'also', 'writers', 'fido', 'popularizing', 'francisco', 'phoenix', 'internet', 'most', 'wired', 'massachusetts', 'faculty', 'arttechnology', 'such', 'america', 'pages', 'jones', 'early', 'happening', 'queercore', 'later', 'the', 'first', 'bulletin', 'came'], ['leagues', 'all', 'coach', 'minors', '1960', 'edmonton', 'league', 'defensiveoriented', 'seals', 'behind', 'playoffs', 'hornets', 'line', 'winger', 'before', 'one', 'now', '20', '23', 'point', '3', 'junior', 'to', 'coaching', 'black', 'hockey', 'alberta', 'team', 'over', 'then', 'his', 'early', '1954', '1951', '1953', '1952', 'lethbridge', 'bronco', 'wings', 'name', 'capitals', 'detroit', 'flyers', 'found', 'finishing', 'round', 'grouping', 'signing', 'because', 'often', 'back', 'him', 'born', '196970', 'quebec', 'year', '1929', 'odd', 'out', 'crown1in', 'for', 'chicago', 'sparingly', 'recorded', 'ice', 'participants', 'won', 'captured', 'red', 'bucyk', 'led', 'toiling', 'however', 'backtoback', 'job', 'assists', 'california', 'although', 'by', 'settling', 'on', 'instant', 'bench', 'canadian', 'career', 'of', 'losses', 'fired', 'players', 'american', 'ancestry', 'games', 'traded', 'first', 'golden', 'cup', 'retired', 'presence', 'nhl', 'into', 'due', 'coaching4', 'formidable', '68', 'mark', 'bruins', '254', 'postseason', 'horvath', 'games2', 'hawks', 'management', 'three', 'offensiverich', 'next', '183', 'much', 'forward', 'uke', 'john', 'was', 'until', 'canucks', 'head', 'stylistic', 'pittsburgh', 'season', 'offered', 'earned', 'but', 'finished', 'goals', 'calder', 'stanley', 'eliminated', 'with', 'former', 'he', 'this', 'victor', 'single', 'dubbed', 'were', 'twoway', 'history', 'and', '745', 'johnny', 'played', 'boston', 'is', 'moved', 'high', 'as', '197071', 'have', 'in', 'aces', 'viewed', 'native', 'goal', 'retiring', '42', '1961', 'same', '1963', 'club', 'became', 'vancouver', 'physical', 'conflict', 'difficult', 'scored', 'indianapolis', 'philadelphia', 'ukrainian', 'may', 'after', 'reach', 'stasiuk', 'took', 'regular', 'two', 'significant', 'position', 'seasons', '195758', 'finals', 'man', 'a', '1955', 'scouting', 'off', 'later', 'spent', 'portion', 'points', 'time', 'professional', 'the', 'chemistry', 'playing', 'left'], ['yearshe', 'being', 'radio', 'decisions', 'before', 'flynnin', 'based', 'also', 'freelance', 'writing', 'to', 'program', 'under', 'has', '2011', '2012', 'regularly', 'his', 'founding', 'early', 'made', 'every', 'blogging', 'articles', 'speaks', 'january', 'wednesday', 'journalist', 'team', 'where', 'wrote', 'born', 'titles', 'apc', 'wire', 'for', 'section', 'current', 'new', 'commentator', 'shows', 'focuses', 'run', 'business', 'members', 'news', 'on', 'about', 'many', 'caruana', 'david', 'melbourne', 'april', 'magazine', 'writes', 'executives', 'and', 'appeared', 'one', 'anthony', 'contributor', 'corporations', 'macworld', 'given', 'from', 'spoke', 'commission', 'addition', 'opportunity', 'been', 'next', 'start', '2', 'editor', 'convention', 'techtarget', 'australian', 'was', 'journo', 'influencershe', 'that', 'successful', 'broadcast', 'part', 'review', 'he', 'october', 'this', 'local', 'pc', 'air', 'reviews', 'publications', 'of', 'launched', 'raf', 'pocket', 'is', 'it', 'an', 'topic', 'as', 'australia', 'au', 'at', 'in', 'march', 'technology', 'anz', 'affairs', 'needs', '1968', 'media', 'epsteins', 'write', 'how', 'other', 'several', 'events', 'club', '774', 'product', 'advice', 'who', 'nationally', 'regular', 'segment', 'senior', 'thoughts', 'a', 'geek', 'age', 'well', 'drive', 'original', 'chief', 'broadcasting', '330pmsince', 'the', 'searchcio'], ['office', 'issued', 'islay', 'mainly', 'centralized', 'years', 'themes', 'london', 'controversial', 'children', 'aldingtontolstoy', 'staff', 'heritage', 'founder', 'with', 'concerned', 'april', 'had', '1945', 'to', 'ngos', 'lord', 'has', 'thousands', 'do', 'aspects', 'norse', 'brigadier', 'hebridean', 'exdeputy', 'lecture', 'communities', 'now', 'him', 'founded', 'like', 'russia', 'critic', 'journalist', 'works', 'where', 'apparentlyvirtuous', 'view', 'refugees', 'people', 'back', 'society', 'books', 'are', 'operation', 'delivered', 'both', 'for', 'assisted', 'conservative', 'written', 'tens', 'ele', 'birds', 'public', 'imposts', 'historical', 'defend', 'dictators', 'protection', 'described', 'fifteen', 'by', 'on', 'about', 'forum', 'ministry', 'island', 'british', 'foreign', 'trial', 'place', 'west', 'organisation', 'south', 'seeing', 'point', 'royal', 'africa', 'scottish', 'actually', 'cossack', 'isles', 'ian', 'from', 'army', 'illegal', 'three', '1989', 'their', 'too', '6', 'was', 'defensemitchell', 'himself', 'north', 'that', 'moscow', 'aldington', 'took', 'but', 'broadcast', 'environmental', 'part', 'lives', 'realms', 'libel', 'yugoslav', 'he', 'grew', 'places', 'this', 'up', 'stalin', 'cost', 'behavior', 'of', 'voice', 'mitchell', 'called', 'and', 'bureaucracymitchell', 'is', 'it', 'an', 'as', 'lived', 'at', 'in', 'orders', 'compared', 'author', 'nazismitchell', 'scotland', 'damage', 'handed', 'also', 'book', 'chairman', 'which', 'party', 'illegally', 'voyage', 'may', 'who', 'director', 'most', 'claims', 'a', 'natural', 'reputation', '2007', 'perjured', 'rural', 'the', 'operate', 'tito', 'bodies'], ['albion', 'coach', 'managed', 'on', 'athletic', 'argyle', 'month', 'steve', 'manager', 'nephew', 'still', 'scoring', 'subsequently', '21', 'threemonth', 'wes', 'september', 'coaching', 'rejoined', 'has', 'footballer', 'loan', '11', 'over', 'his', 'march', 'returning', 'hodges', 'musker', 'break', 'torquay', 'immediately', 'minute', 'liskeard', 'february', 'clevedon', 'january', 'debut', 'joined', 'serves', 'mccall', 'where', 'side', 'soccer', 'plainmoor', '2004on', 'england', 'villa', 'peripheral', 'back', 'born', 'eddie', 'joyces', 'sean', 'tauntons', 'terms', 'substitute', 'for', 'plymouth', '7', 'noncontract', 'august', 'initially', 'however', 'merthyr', 'duane', '1979is', 'november', 'by', 'bideford', 'resumed', 'league', 'great', 'career', 'of', '30', 'against', 'trial', 'american', 'calgary', 'first', '20072008', 'saunders', 'taunton', 'win', 'into', 'arsenal', 'leon', 'represented', 'contract', 'hapgood', 'conference', 'he', 'from', 'russell', 'second', 'to', 'initial', 'only', 'pilgrims', 'schoolboyshapgood', '6', 'teamin', 'injury', 'was', 'hapgoodleon', 'recovered', 'amateur', 'that', 'club', 'academy', 'offered', 'but', 'released', 'teaming', 'with', 'former', 'apprentice', 'town', '10', 'october', 'join', '1997', '1999', '1998', 'work', 'yeovil', 'up', 'signed', 'final', 'while', 'parkhe', 'uk', 'following', 'and', 'later', 'played', 'almost', 'december', 'is', 'allowed', 'turned', 'an', 'states', 'player', 'as', 'at', 'in', 'north', 'tydfil', 'bidefordhe', 'united', 'berkhamsted', 'began', 'when', 'foothills', 'role', 'kevin', 'which', 'season', 'hove', 'injured', 'play', 'extended', 'onemonth', 'may', 'after', 'june', 'william', 'fa', 'coming', 'vase', 'expired', '2008', 'a', '38th', 'moved', 'failing', '2002', '2003', '2000', '2001', '2007', 'brighton', 'english', 'professional', 'the', 'starting', 'playing', 'left'], ['giggles', 'over', 'emmy', 'actress', 'produced', 'dont', 'also', 'tv', 'character', 'young', 'to', 'lets', '8', 'costarring', 'has', '2011', '2010', '2013', 'march', 'starred', 'songwriter', 'records', 'game', 'october', 'mitchel', 'dreams', 'cyberbully', 'like', 'lost', 'cleaners', 'dreamosments', 'debut', 'l', 'morris', 'she', 'rock', 'gerti', 'where', 'series', 'crackle', 'born', 'second', 'service', 'recently', 'alternativeindie', 'album', 'abc', 'lead', 'diamondosment', 'movie', 'nightmare', 'currently', 'recorded', 'stines', 'melissa', 'channel', 'emily', 'disney', '3d', 'be', 'truscott', 'june', 'california', 'costar', 'went', 'gained', 'on', 'hits', 'kids', 'working', 'of', 'sitcom', 'angeles', 'american', 'awardnominated', 'think', 'via', 'features', 'family', 'into', 'pop', 'one', 'osment', 'or', 'her', 'fight', 'los', '2', 'music', 'stars', 'films', 'lovesick', 'was', 'more', 'teen', 'flight', 'about', 'volume', 'repertoire', 'jordan', '2014', '10', 'television', '1992', 'hour', 'windup', '19', 'expanded', 'as', 'r', 'island', 'didnt', 'musso', 'and', 'spy', 'is', 'alongside', 'it', 'an', 'single', 'have', 'in', 'lifetime', 'fame', 'cassie', 'if', 'dadnapped', 'lilly', '5', 'which', 'online', 'hannah', 'you', 'several', 'daughters', 'entitled', 'after', 'upon', 'most', 'montana', 'haunting', 'friends', 'a', 'singer', 'off', 'for', 'released', 'i', 'well', 'hungry', 'childhood', 'gabi', 'the', 'original', 'once'], ['all', 'selection', 'shot', 'fifthhighest', 'switched', 'being', 'able', 'accurate', 'years', 'four', 'ended', 'aggressive', 'still', 'gasping', 'roanoke', 'whose', 'style', '696', '21', 'earned', 'admission', 'writer', 'fans', 'to', 'dickinson', 'worth', '201112', 'division', 'his', 'big', 'schoola', 'virginia', 'game', '12', 'despite', 'world', 'bit', 'him', 'school', 'crisp', 'university', 'l', '2310', 'team', 'alltime', 'wrote', 'right', 'back', 'lexington', 'brill', 'born', 'second', 'wlbill', 'are', 'year', 'explosive', 'ability', 'for', 'jumped', 'jump', 'defenses', '195455', 'per', 'behind', 'score', 'new', 'tripleteamed', 'shooters', 'foundation', 'led', 'lee', '25', 'june', 'wl', 'razzledazzle', 'sports', '109', 'baseball', 'free', '1935', 'become', 'news', 'throw', 'on', 'about', 'generals', 'standout', 'career', 'of', 'ncaa', 'times', 'american', 'games', 'throws', 'jersey', 'first', 'named', 'point', 'into', 'washington', 'one', 'guard', 'total', 'conference', 'city', 'helms', 'basketball', 'from', 'top', 'by', '730', 'was', 'flora', 'season', 'dribbled', 'finished', 'opposing', 'allsouthern', '696for954', 'with', 'former', 'he', 'helped', 'made', 'double', 'straight', 'air', 'ballhandling', 'while', 'college', 'history', 'and', 'located', 'played', 'is', 'it', 'an', 'high', 'player', 'as', 'at', 'in', 'native', 'allamerica', 'floraflora', 'six', 'when', 'also', 'which', 'conclusion', 'play', 'ball', 'floras', 'price', 'southern', 'hand', 'william', 'most', 'dominick', 'scorer', '195758', 'the', 'a', 'prolific', 'dom', 'i', 'average', 'points', 'time', 'senior', 'once', 'left'], ['operations', 'serving', 'mexican', 'lester', 'divisionborn', 'postdoctoral', 'captain', 'surviving', 'sciences', '1943', '28', 'aviv', 'to', 'under', 'natonsf', 'rica', 'division', 'his', 'returned', 'polytechnic', 'school', 'scholar', 'mathematician', 'university', 'hawaii', 'secretary', 'mathematical', 'tel', 'fair', 'born', 'computer', 'for', 'currently', 'fulbright', 'obispo', 'research', 'state', 'hill', 'new', 'dubins', 'theory', 'free', 'ranger', 'appointments', 'california', 'york', 'advisor', 'luis', 'phd', 'on', 'institute', 'residence', 'study', 'benfords', 'american', 'military', 'probability', 'point', 'berkeley', 'washington', 'amsterdam', 'army', 'west', 'mathematics', '25th', 'is', 'cimat', 'academy', 'gttingen', 'gauss', 'particular', 'known', 'fellow', 'with', 'he', 'emeritus', 'georgia', 'ma', 'stanford', 'work', 'as', 'us', 'theories', 'career', 'ms', 'of', 'stopping', 'distinguished', 'engineers', 'and', 'studied', 'san', 'mexico', 'december', 'preston', 'infantry', 'an', 'states', 'engineering', 'at', 'in', 'technology', 'united', '1966', 'graduate', 'adjunct', 'universityhe', 'electrical', 'leiden', 'optimal', 'temporary', 'combat', 'centre', 'theodore', 'after', 'problems', 'flatbush', 'most', 'law', 'class', 'a', 'costa', 'professor', 'spent', 'vietnam', 'the'], ['unified', 'neopagan', 'being', 'russian', 'antisemitism', 'its', 'police', 'personal', 'workers', 'lithuania', 'zionism', 'to', 'citizen', 'poles', 'he', '2011', 'pending', '2012', 'eventually', 'his', 'seized', 'municipal', 'moribund', 'government', 'nation', '12', 'they', 'not', 'using', 'gyvenimo', 'him', 'paramilitary', 'name', 'did', 'married', 'leave', '19', 'rituals', 'iauliai', 'population', 'gervaldas', 'jews', 'national', 'creation', 'elections', 'born', 'computer', 'preaching', 'year', 'gervaldass', 'out', 'defence', 'for', 'partija', 'legal', 'globalism', '3', 'investigation', 'refusedin', 'new', 'conditions', 'leader', 'movement', 'be', 'lithuanian', 'led', 'carried', 'members', 'november', 'win', 'by', 'change', 'on', 'prosecutors', 'antisemitic', 'of', 'computers', 'demanded', 'minorities', 'april', 'conducted', 'logic', 'hatred', 'alliance', 'reasons', 'radical', 'municipality', 'one', 'registration', 'establish', 'city', 'from', 'murza', 'basis', 'political', 'revive', 'next', 'their', 'passed', 'which', 'was', 'until', 'life', 'hard', 'attacked', 'attempted', 'logikos', 'known', 'former', 'volunteer', 'colleagues', 'made', 'politician', '16', 'these', '1998', 'socialist', 'statementsin', 'up', 'aims', 'marriage', 'publications', 'voice', 'called', 'and', 'would', 'nationalist', 'december', 'is', 'against', 'an', 'at', 'council', 'in', 'encompass', 'unbearable', 'compared', 'court', 'russians', 'zlata', 'that', 'when', 'member', 'unity', 'other', 'rapova', 'forces', 'party', 'nationalistsocialist', 'plans', '2005', 'prosecution', 'drives', 'sponsored', 'lithuanias', 'neonazi', 'a', '1973', '2001', 'so', 'allow', 'time', 'mindaugas', 'organization', 'the', 'democratic', 'gervaldason'], ['leagues', 'all', 'tomlin', 'cincinnati', 'september', 'years', 'four', 'held', 'scott', 'graduate', 'member', 'system', 'expos', 'memphis', 'denver', 'bases', '11', 'batted', 'his', 'hit', 'big', 'end', '672', 'early', 'game', '1951', 'international', 'during', 'hall', 'association', 'catcher', 'appearing', 'level', 'pinch', 'university', 'braves', 'doubled', 'affiliate', 'january', '296', 'development', 'pirates', 'gamesin', '195', 'righthanded', '190', 'born', 'second', 'kgreece', 'blues', '86', 'out', 'rarely', 'stood', 'for', 'robert', 'nondrafted', 'farm', '7', 'between', 'got', 'run', 'free', 'baseball', 'no', 'triplea', 'beginning', 'by', 'on', 'hits', 'career', 'of', 'days', 'contract', 'times', 'trial', 'american', 'games', 'or', 'montreal', 'first', 'reds', 'then', 'major', 'striking', 'into', 'three', 'feet', 'bats', 'another', 'gary', 'reached', 'total', 'appearancereece', 'carter', 'would', '1981', 'bears', 'top', 'two', '6', 'collected', 'was', 'final', 'minor', 'threw', 'league', 'started', 'season', '185', 'pitcher', 'dave', 'ended', 'riverfront', 'don', 'atlanta', 'with', 'former', 'those', 'he', 'mlb', 'balls', '16', 'signed', 'future', 'nine', 'following', 'famer', 'at', 'and', 'seven', 'phil', 'played', 'm', 'is', 'pounds', 'agent', 'an', 'weighed', 'player', 'as', 'stanford', 'against', 'in', 'robinson', 'stadiumhe', 'bigleague', 'reece', 'april', '47', 'rout', 'six', 'when', 'atbats', 'stint', '1', 'pittsburgh', 'parts', '5', 'which', 'inch', 'niekro', 'scored', 'may', 'after', 'june', 'regular', 'professional', 'seasons', 'singled', 'a', 'bearsin', 'off', 'third', '1978', '1975', 'later', '1973', 'spent', 'playing', 'lateseason', 'doubleheader', 'relief', 'tall', 'the', 'careerhigh', 'spend', 'hitless'], ['anglican', 'writings', 'contemporary', 'report', 'including', 'before', 'death', 'group', 'title', '1947', 'clergy', 'to', 'degrees', 'board', 'cowrote', 'born', 'wales', 'include', 'mortality', 'then', 'his', 'around', 'read', 'leadershipborn', 'christianityprofessor', 'symbolism', 'projects', 'articles', 'masters', 'prize', 'nottingham', 'innerspeech', 'university', '20002003', 'large', 'rituals', 'common', 'james', 'popular', 'old', 'achieved', 'doing', 'globe', 'authority', 'society', 'taught', 'college', 'sociology', 'for', 'uppsala', 'brief', 'douglas', 'research', 'current', 'religion', 'sociological', 'won', 'attitudes', 'international', 'yearhis', 'various', 'recently', 'belief', 'degree', 'anthropology', 'bachelor', 'graves', 'teaches', 'both', 'boards', 'oxford', 'involved', 'study', 'ritual', 'british', 'published', 'theologyhe', 'letters', 'fields', 'johns', 'number', 'one', 'durham', 'undergraduate', 'purityhe', 'conference', 'arts', 'from', 'guest', 'three', 'been', 'awarded', 'master', 'was', 'interests', 'on', 'funerary', 'honorary', 'booksellerdiagram', 'with', 'those', 'he', 'has', '1995', 'room', 'surrounding', 'scandinavian', 'chads', 'sweden', 'editorial', 'of', 'doctorate', 'beliefs', 'reusing', 'history', 'and', 'conferences', 'modules', 'is', 'in', 'an', 'expertise', 'at', 'prayer', 'theology', 'association', 'federation', 'cremation', 'shaw', 'doctor', 'studying', 'alastair', 'member', 'also', 'book', 'speaker', 'chairman', 'which', 'department', 'encyclopedia', 'rites', 'phd', '19402000', 'two', 'mormonism', 'the', 'identity', 'a', 'oddest', 'professor', 'cover', 'barcelona', 'st', 'davies', '2004', 'senior', '2003within'], ['gdr', 'german', 'asteroids', 'resistance', 'merit', 'discovered', 'sources', 'fighters', 'human', 'managers', 'religious', 'had', 'wellsubstantiated', 'to', 'schmidt', '3859', 'lowell', 'his', 'geographical', 'continues', 'ahnert', 'choice', 'famous', 'cultural', 'observatory', 'not', 'during', 'him', 'bande', 'thuringia', 'name', 'systematically', '3245', 'byproduct', 'small', 'done', 'telescope', 'achieved', '3941', 'related', 'born', 'astronomer', 'examples', 'year', 'ribbon', 'chose', 'namings', 'for', 'federal', 'restricted', 'research', 'include', 'enough', 'honoured', 'scientists', 'international', 'numerous', 'haydn', 'be', 'scientific', 'arizonain', 'asteroid', 'galaxies', '1930', 'spare', 'khler', 'tautenburg', 'by', 'on', 'search', 'of', 'studied', 'against', 'times', '519', 'objects', 'jensch', 'or', 'first', 'retired', 'community', 'references', 'names', 'such', 'has', 'freimuthhe', 'awarded', 'few', 'anderson', 'horst', 'iau', 'was', 'topics', 'himself', 'amateur', 'schwarzschild', '2424', 'great', 'but', 'interestfreimut', 'neutral', 'july', 'reunification', 'with', 'he', 'october', '1995', '17', 'brngen', 'work', 'historical', 'politically', 'and', 'give', 'is', 'am', 'prestigious', 'as', 'at', 'in', 'station', 'nazi', 'karl', 'regime', 'cross', 'astronomers', 'also', 'other', '3181', 'which', 'bundesverdienstkreuz', 'document', 'composers', 'wrongly', 'bowell', 'after', 'germany', 'suppression', 'president', 'mesa', 'a', 'e', 'freelancer', 'considered', 'freimut', 'reputation', '2006', 'qualities', 'time', 'the'], ['brahms', 'german', 'berkeleyfrom', 'rector', 'paul', 'conservatoire', 'music', 'basel', '1944', 'to', 'board', '8', 'piano', 'include', 'heidelberg', 'gave', 'then', 'cagehe', 'founding', 'gdanskbrm', '1990', 'de', 'famous', 'regio', 'du', 'association', 'conservatory', 'school', 'university', 'argentinahe', 'choir', 'chamber', 'lacroix', 'musique', 'works', 'luci', 'philharmonie', 'czech', '1987', 'national', 'pierre', 'competition', 'born', 'college', 'lucerne', 'fribourg', 'musicales', 'composers', 'by', 'for', 'anton', 'requiem', 'research', 'classes', 'international', 'schatt', 'angelus', 'jury', 'philharmonic', 'klee', 'jeunesses', '1984', 'litteri', 'california', 'graduated', '100', 'rptiteur', 'sortisatio', 'on', 'conducting', 'institute', 'of', 'studied', 'april', 'hokuto', 'thring', 'boulez', 'honor', 'composed', 'among', 'zentralschweiz', 'cd', 'suissebrm', 'silesius', 'brm', 'composer', 'president', 'cs', 'webern', '2000', 'city', 'arts', 'from', 'guest', 'festival', 'composition', 'variously', 'johannes', 'cantata', 'master', 'slovakia', 'john', 'was', 'more', 'concours', 'musicology', 'conductor', 'academy', 'worked', 'with', 'than', 'painter', 'he', '10', '1999', 'science', 'des', 'un', 'ombre', 'called', 'and', 'is', 'head', 'pieces', 'high', 'as', 'his', 'at', 'council', 'in', 'curtis', 'influenced', 'holds', 'foundationfrom', 'member', 'republic', 'sacred', 'conductorbrm', 'ensemble', 'junge', 'compositions', 'binningenbasel', 'aspen', 'groupe', 'director', 'most', 'regular', 'such', 'a', 'europenne', 'e', 'pardubice', '1973', 'chief', '2001', '2006', 'swiss', 'the'], ['aharon', 'corps', 'september', 'settlements', 'years', 'quotes', 'london', '1962', 'agricultural', '25', '27', 'rosh', '22', '1965the', 'raffray', '1941', '1946', 'young', 'micronesia', 'harrow', 'to', 'only', 'edward', 'east', '2010', 'kingdom', 'then', 'his', 'returned', 'cuba', 'sussex', 'early', 'wallis', '1992', 'they', 'traveled', '1958', 'association', 'chapel', 'institut', 'school', 'rosey', 'name', 'married', 'joined', 'officer', 'team', 'barracks', 'where', 'husband', 'england', 'who', 'ten', 'intelligence', 'national', 'aida', 'him', 'aldrich', 'born', 'second', 'defense', 'mexicomarcus', 'year', 'best', 'israeli', 'jackson', 'turks', 'record', 'currently', 'trainers', 'freediving', 'disciplines', 'foundation', 'attended', 'joy', 'were', 'corisande', 'greatwood', 'le', 'taught', 'members', 'served', 'brokerage', '1939', 'mariateresa', 'both', 'nadav', 'limits', '1932', 'of', 'changed', 'shipping', 'ideology', 'april', '1957', 'zeev', 'action', 'had', 'settled', 'childhood', 'egypt', 'father', 'into', 'son', 'regiment', 'trained', 'huntemuller', 'teach', 'finally', 'from', 'weight', 'met', 'system', 'heights', 'baptised', 'switzerlandin', 'died', 'house', 'aharons', 'was', 'mary', 'separated', 'eilat', 'israel', 'lived', 'an', 'pinna', 'moved', 'but', 'train', 'westbourne', 'child', 'known', 'hc', 'instructor', 'with', 'former', 'he', 'b', '196768', '1997', '1998', 'work', 'fathers', 'us', 'sinai', 'guards', 'mt', 'freedivingsolomons', 'viii', 'uk', 'henry', 'ernest', 'freedivers', 'scuba', 'ferreras', 'are', 'and', 'firm', 'pipin', 'constant', 'mexico', 'caicos', 'is', 'greece', 'india', 'spent', 'middle', 'as', 'at', 'in', 'partner', 'saw', 'communal', 'united', 'no', '1964', 'uri', '1960', 'ne', 'same', 'kirk', 'another', 'forces', 'many', 'holderborn', 'golan', 'francisco', 'sons', 'inducted', 'time', 'two', 'student', 'on', 'friends', 'the', 'spence', 'freediver', 'a', 'solomons', 'for', 'third', 'wife', 'pennsylvania', '1975', 'later', '1973', 'wellington', 'together', 'ibiza', '2001', 'mother', 'commissioned', '2008', 'coldstream', 'simpson'], ['bush', 'rabbi', 'over', 'torah', 'four', 'committee', 'yael', 'endowment', 'medrash', 'hills', 'internationally', 'earned', 'dick', 'cheney', 'young', 'to', 'school', 'isaac', 'has', 'mayors', 'ordained', 'then', 'his', 'schwarzenegger', 'lakewood', 'michigan', 'term', 'govoha', 'congregation', 'closely', 'jacob', 'township', 'masters', 'scholar', 'h', 'university', 'across', 'beverly', 'served', 'webb', 'expanded', 'leaders', 'stern', 'invocations', 'cattle', 'substantially', 'businessweil', 'delivered', 'for', 'visiting', 'currently', 'new', 'public', 'theological', 'attended', 'business', 'weil', 'california', 'york', 'vice', 'by', 'on', 'congregations', 'resides', 'of', 'programming', 'american', 'became', 'w', 'jersey', 'strongly', 'jimmy', 'synagogues', 'fundraiser', 'steven', '250', 'george', 'from', 'oak', 'girls', 'three', 'their', 'yeshivat', 'was', 'israel', '750', 'families', 'both', 'jewish', 'park', 'boys', 'kerem', 'teaneck', 'worked', 'with', 'he', 'grew', 'advocating', 'wife', 'up', 'arnold', 'while', 'country', 'byavneh', 'seminary', 'and', 'yeshiva', 'is', 'an', 'high', 'as', 'at', 'in', 'education', 'ohr', 'increased', 'stephen', 'affairs', 'jerseyin', 'administration', 'successful', 'elchanan', 'residence', 'delshad', 'farm', 'who', 'southern', 'californiaweil', 'most', 'membership', 'president', 'beth', 'upstate', 'a', 'fund', 'considered', 'governor', 'the'], ['all', 'serving', 'office', 'both', 'including', 'committee', 'dakota', 'emineth', '24', 'retirement', 'candidate', 'chosen', 'thingit', 'to', 'finally', 'candidates', 'board', '2010', 'executive', 'partys', 'his', 'increased', 'foremost', 'every', 'know', 'not', 'during', 'republican', '1958', '2007s', 'victory', 'become', 'wrote', 'significantly', 'be', 'senate', 'house', 'national', 'born', 'election', 'terms', 'for', 'since', 'state', 'won', 'currently', 'fargo', 'learned', 'ken', 'led', 'houses', 'job', 'members', 'come', 'by', 'legislature', 'on', 'about', 'getting', 'of', 'motion', 'place', 'senator', 'wheels', 'first', 'statewide', 'into', 'one', 'gary', '6925', 'your', 'figure', 'would', '3512', 'distracted', 'political', 'their', 'marginin', 'karls', 'meeting', 'north', 'that', 'successful', 'republicans', 'train', 'representative', 'july', 'with', 'former', 'he', 'me', 'october', 'was', 'inside', 'single', 'us', 'margin', 'and', '2007in', 'wasnt', 'is', 'it', 'pieces', 'heard', 'as', 'at', 'in', 'station', 'finance', 'siren', 'beltway', '1', 'setting', 'chairman', 'party', 'exactly', 'description', 'director', 'letter', 'rolling', 'a', 'majorities', 'lead', 'i', 'so', 'time', 'the', 'songs'], ['currently', 'kosovo', 'unrest', 'including', 'world', 'soldiers', 'worked', 'issues', 'based', 'francegrucza', 'la', 'paris', 'had', 'young', 'haven', 'to', 'has', 'veterans', 'then', 'his', 'enclave', 'safe', 'baghdad', 'during', 'documented', 'unique', 'pbs', 'covering', 'granted', 'emmy', 'cynical', 'pacific', 'zones', 'born', 'individual', 'entering', 'year', 'frontline', 'afghanistan', 'network', 'banff', 'section', 'idealistic', 'extensively', 'won', 'international', 'cameraman', 'briefinghe', 'men', 'french', 'yuri', 'news', 'along', 'iraq', 'on', 'working', 'canadian', 'career', 'refugees', 'leaving', 'papua', 'length', 'aka', 'entered', 'documentary', 'maker', 'south', 'first', 'pakistan', 'named', 'own', 'civil', 'one', 'selected', 'invasion', 'canal', 'timothy', 'platoon', 'palestinian', 'festival', 'west', 'awarded', 'territories', 'of', 'films', 'white', 'bitter', 'war', 'grucza', 'festivalin', 'israel', 'north', 'released', 'craft', 'known', 'july', 'maldavsky', 'with', 'australian', 'he', 'television', 'look', '1999', 'was', 'work', 'were', 'country', 'and', 'kosovan', 'outstanding', 'is', 'pieces', 'escaped', 'as', 'australia', 'at', 'in', 'film', 'melbourne', 'since', 'began', 'when', 'feature', '1', 'cinematography', 'hot', 'best', 'docs', 'conflict', 'continues', 'frontlinein', 'who', 'produce', 'such', 'the', 'achievement', 'a', 'kurdish', 'correspondent', 'for', '1976', 'sometimes', '2002', '2003', '2006', 'repatriated', '2009', 'spend'], ['coach', 'being', 'scientologist', 'executive', 'years', 'four', 'facilities', 'including', 'world', 'captain', 'its', 'happiness', 'religion', '1946', 'methodology', 'better', 'to', 'association', 'attended', 'under', '2010', 'offense', 'australia', 'secular', 'utah', 'camino', 'spokespersons', 'supervise', 'not', 'during', 'one', 'continued', 'narconon', 'founded', 'school', 'adams', 'religions', 'companies', 'chuck', 'teams', 'scholastics', 'consultant', 'served', 'where', 'el', 'procareer', 'national', '1960s', 'born', 'officials', 'college', 'professional', 'doug', 'encouraged', 'living', 'said', 'for', 'falcons', 'robert', 'reverend', 'international', 'worked', 'public', 'steelers', 'newswriters', 'drafted', 'football', 'august', 'scovil', 'fitness', 'free', 'california', 'members', 'become', 'represented', 'by', 'received', 'of', 'professions', 'scientology', 'melbourne', 'american', 'became', 'nonprofit', 'stockton', 'had', 'within', 'traveled', 'church', 'owning', 'conference', 'city', 'basketball', 'working', 'there', 'single', '1988', 'sports', 'listed', 'way', 'applying', 'hollywood', 'participating', 'recruited', 'league', 'pittsburgh', 'season', 'serve', 'took', 'finished', 'pacific', 'atlanta', 'an', 'with', 'former', 'he', 'applied', 'organizations', '15', 'full', 'was', 'official', 'up', 'signed', 'while', 'programs', 'and', 'seven', 'san', 'played', 'december', 'is', 'in', 'agent', 'mateo', 'helped', 'as', 'his', 'held', 'at', 'criminon', 'bob', 'education', '1968', 'affairs', 'end', 'media', '1966', 'able', 'member', 'tight', 'high', 'other', '2006', 'out', 'play', 'redwood', 'schoolhe', 'bruce', 'after', 'organization', 'president', 'the', 'teacherin', 'a', 'noll', 'center', 'vice', 'performance', '1973', 'trackandfield', 'senior', 'tech', '2004', 'position', 'subsequently', '2009', 'playing', 'scholarship'], ['years', 'roy', 'interim', 'including', 'voteon', 'mayor', '26', '27', '22', 'adq', 'merger', '29', 'to', 'permanent', '4', 'riding', 'sylvie', '2012', 'partys', 'his', 'march', 'easily', 'regional', 'bcancour', 'quebecroy', 'politician', 'du', 'barreau', 'february', '59', 'admitted', 'she', 'served', 'universit', 'reelected', 'official', 'mental', 'house', 'national', 'elected', 'second', 'quebec', 'lawyer', 'year', 'declined', 'even', 'tuque', 'for', 'electoral', 'won', 'health', 'leader', 'announced', 'assembly', 'degree', 'initially', 'mauricie', 'gilles', 'pq', 'opposition', 'represented', 'dumont', 'arthabaska', 'on', 'candidate', 'of', 'la', '37', 'became', 'first', 'named', 'deputy', 'previously', 'into', 'municipality', 'county', 'laval', 'vote', 'qubec', 'awarded', 'november', '1987', 'taillon', 'from', 'her', '2012she', 'support', '1988', 'avenir', 'was', 'until', 'qubcois', 'that', 'finished', 'sharply', 'jeanguy', 'worked', 'with', 'appointed', 'organizations', 'saintsophiedelvrard', '12', '15', 'born', '1998', 'caq', 'lotbinire', 'coalition', 'merged', 'election', 'and', 'voteparti', 'liberal', 'is', 'nowdefunct', 'as', 'in', 'votein', 'par', '1964', '44', 'leaderin', 'member', 'also', 'incumbent', 'party', 'resignation', 'reelection', 'canada', 'though', 'mario', 'district', 'law', '2008', 'a', 'laurent', 'third', 'later', 'boissonneault', '2003', '2007', 'the', '2009'], ['gq', 'rob', 'random', 'bright', 'radio', 'thanks', 'weekly', 'crists', 'eyes', 'before', 'death', 'mix', 'true', 'childrensheffield', 'folded', 'young', 'writing', 'late', 'to', 'tape', 'charlottesville', '2010', '2013', 'woman', 'dj', 'around', 'song', 'couple', 'continues', 'virginia', 'quest', 'crist', 'loss', 'february', 'cooler', 'january', 'university', 'married', 'rituals', 'journalist', 'yale', 'become', 'starred', 'where', 'house', 'excerpt', 'library', 'yorksheffields', 'born', 'second', 'for', 'currently', 'virginiahis', 'contributing', 'version', 'print', 'new', 'wtju', 'blender', 'issue', 'duran', 'publishers', 'attended', 'august', 'sheffield', 'prior', 'remarried', 'met', 'york', 'by', 'after', 'on', 'stone', 'mans', 'of', 'turn', 'magazine', 'place', 'spin', 'discusses', 'first', 'love', 'had', 'pop', 'one', 'featured', 'journalmost', 'city', 'takes', 'would', 'girls', 'their', '2', 'music', 'editor', 'essays', 'was', 'life', 'that', 'about', 'released', 'lives', 'july', 'fellow', 'with', 'karaoke', 'he', '1997', 'culture', 'reviews', 'ally', 'called', 'and', 'rene', 'boston', 'is', 'received', 'it', 'an', 'talking', 'his', 'at', 'in', 'station', 'native', 'mutual', 'no', '1966', 'american', 'how', 'book', 'which', 'who', 'brooklyn', 'fell', 'rolling', 'a', 'third', 'wife', 'author', '2006', '2007', 'time', 'the', '2009', 'haircutsheffields'], ['particularly', 'being', '196971', 'joannides', 'japan', 'coordination', 'devoted', 'based', '1995his', 'paris', 'organisation', 'royal', 'chemistrys', 'to', 'gaylussac', 'preparationmichel', '400', '2014', 'has', 'his', 'junction', 'around', 'very', '2004his', 'de', 'famous', 'solidstate', 'cracow', 'emergence', 'now', 'geo', 'him', 'association', 'societies', 'processes', 'several', 'prize', 'curie', 'h', 'assemblies', 'princeton', 'culminating', 'specific', 'p', 'leopoldinain', 'activity', 'postdoctoral', 'university', 'bucharest', 'j', 'ches', 'supramolecular', 'eg', 'creation', 'pierre', 'society', 'lisbon', 'et', 'techniques', 'universities', 'provided', 'lyon', 'colloidal', 'for', 'lectureship', 'contributed', 'research', 'iacs', 'highranking', 'netherlands', 'dioxide', 'causa', 'international', 'gassolid', 'universitaire', 'europaea', 'led', 'interfacial', 'opening', 'interfaces', 'understanding', 'pioneered', 'awards', 'naturforscher', 'active', 'improve', 'isotopes', 'on', 'involved', 'study', 'studied', 'professor', 'promotion', 'studies', 'romania', 'humboldt', 'sklodowskacurie', 'congresses', 'europacat', 'elementary', 'faraday', 'awarded', 'institut', 'che', 'been', 'france', 'approach', 'taken', 'molecular', 'was', 'is', 'vant', 'liquidsolid', 'completed', 'solidsolid', 'catalyst', 'cycle', 'fellow', 'with', 'appointed', 'federation', 'he', 'presidentfounder', '1993', 'include', 'born', 'science', 'der', 'work', 'efcats', 'publications', 'of', 'heterogeneous', 'doctorate', 'poland', 'and', 'transition', 'portugal', 'vi', 'von', 'an', '13th', 'titanium', 'as', 'at', 'have', 'in', '200004', 'laboratoryindustrial', 'physical', '1968', 'doctor', 'member', 'field', 'which', 'honoris', 'catalysis', 'electro', 'european', 'elements', 'biennial', 'congress', 'academies', 'hoff', 'sue', 'akademie', 'm', 'involving', 'germany', 'president', 'marie', 'journals', 'the', 'probes', 'a', 'largely', '1975', 'epr', 'deutsche', 'chemistries', 'academia', 'watermediated', 'position', 'senior', 'chemistry', 'original', 'michel'], ['interpretation', 'including', 'on', 'islam', 'industries', 'lateral', 'literary', 'neoliberal', 'cultuur', 'has', '2011', '2010', 'his', 'founding', 'landscapes', 'doukkali', 'arab', 'cultural', 'african', 'association', 'societies', 'fields', 'university', 'serves', 'academic', 'azemmour', 'vision', 'en', 'series', 'ofand', 'mediterranean', 'society', 'taught', 'college', 'lateralhis', 'columbia', 'special', 'ba', 'network', 'for', 'chicago', 'culture', 'currently', 'legal', 'mason', 'critical', 'sirah', 'international', 'issue', 'edited', 'modernities2009', 'theory', 'associate', 'journal', 'muslim', 'awards', 'andrews', 'migratie', 'received', 'boards', 'language', 'of', 'industry', 'membership', 'times', 'jaafar', 'american', 'colloquium', 'published', 'history', 'studies', 'scholarshe', 'appeared', 'middle', 'george', 'forms', 'law', 'from', 'editor', 'cultures', 'antar', 'north', 'eastern', 'award', 'includecultural', 'delta', 'an', 'with', 'he', 'ma', 'marquis', 'born', 'consultant', 'work', 'critic', 'reviews', 'morocco', 'books', 'publications', 'editorial', '2014arab', 'aksikas', 'sean', 'and', 'chouaib', '2002his', 'interventions', 'is', 'engaged', 'al', 'general', 'states', 'coordinator', 'as', 'at', 'in', 'comparative', 'politics', 'united', 'humanities', 'media', 'holds', 'inaugural', 'scholarly', 'illinois', 'member', 'also', 'other', 'widely', 'several', 'akhawayn', 'phi', 'literature', 'lawyers', 'who', 'phd', 'islamic', 'beta', 'president', 'america', 'journals', 'numerous', 'a', 'purchase', 'communitybased', 'johnson', 'professor', '1974', 'includeculture', 'honor', '2003', 'volumes', 'english', 'the', 'mediaculture', 'scholarship'], ['zen', 'steve', 'through', 'maine', 'outer', 'zone', 'waterville', 'writer', 'emphasis', 'specializing', 'theme', 'colby', '1115', 'circle', 'has', 'local', '2010', '2012', 'his', 'compassion', 'online', 'vegan', 'amazon', '1953', 'international', 'world', 'societies', 'carman', 'masters', 'progressive', 'university', 'debut', 'science', 'cofounder', 'where', 'spiritual', 'classical', 'born', 'literature', 'college', 'philosophy', 'for', 'since', 'centers', 'state', 'new', 'diethe', 'korea', 'august', 'degree', '1995', 'california', 'berkeley', 'veganism', 'spoke', 'obtained', 'on', 'about', 'of', 'vegetarian', 'studied', 'monk', 'bestseller', 'american', 'context', 'frequent', 'first', 'church', 'throughout', 'conference', 'from', 'guest', '1980', 'festival', 'been', 'music', 'inner', 'was', 'north', 'musician', 'tuttle', 'with', 'former', 'he', '1990', 'made', 'animals', 'rights', 'administrative', 'will', 'judy', 'bachelors', 'performed', 'and', 'san', 'conferences', 'is', 'in', 'organized', 'an', 'at', 'prayer', 'education', 'diego', 'humanities', 'peace', '1', 'unity', 'other', 'speaker', 'harmony', 'animal', 'veganpalooza', 'events', 'worldwide', 'francisco', 'who', 'june', 'diet', 'phd', 'prussack', 'lectured', 'america', 'a', 'calls', '1975', 'author', 'm', 'thought', 'inspirational', 'the', 'audio', '8th'], ['currently', 'letterman', 'text', 'actress', 'schools', 'including', 'chair', 'concerned', 'state', 'late', 'to', 'only', 'explicitly', 'edmund', '2014', 'has', 'lacey', 'songwriting', 'his', 'mainstream', 'stokers', 'king', 'vanessa', 'jazz', 'predator', '1955', 'b', 'every', 'depaul', 'despite', 'press', 'world', 'dr', 'school', 'success', 'artist', 'january', 'university', 'goofy', 'she', 'die', 'glendale', 'virginia', 'gaining', 'art', 'achieved', 'prizzis', 'hard', 'born', 'taught', 'college', 'musician', 'best', 'universities', 'for', 'chicago', 'movie', 'since', 'behind', 'won', 'net', 'ever', 'shows', 'foley', 'working', 'dracula', 'night', 'california', 'exhusband', 'by', 'guest', 'on', 'stone', 'her', 'ministry', 'career', 'of', 'industry', 'cagney', 'experience', 'foreign', 'american', 'grail', 'published', 'studies', 'honor', 'bram', 'first', 'knots', 'major', 'author', 'image', 'primary', 'cd', 'featured', 'dancer', '1990s', 'telecommunications', 'awardwinning', 'from', 'personalities', 'platoon', 'theme', '1989', 'returns', 'program', 'editor', 'correspondents', 'films', 'started', 'batman', 'starr', 'landing', 'released', '8', 'known', 'with', 'sound', '1990', '1993', 'georgia', 'f', '1999', 'work', 'appearance', 'other', 'ament', 'voice', 'invited', 'history', 'and', 'endowed', 'is', 'updated', 'an', '1980s', 'as', 'at', 'in', 'elsevier', 'david', 'television', 'film', 'noises', 'edwin', 'song', 'also', 'book', 'which', 'academy', 'entitled', 'development', 'ball', 'columbia', 'beauty', 'though', 'after', 'phd', 'beast', 'moving', 'lent', 'such', 'cuesta', 'focal', 'a', 'singer', 'off', '1978', 'postproduction', 'professor', 'dallas', 'well', 'without', 'academic', 'mdiv', '2001', '2004', 'the', '2009', 'having'], ['cincinnati', 'just', 'kickoff', 'years', 'four', 'logan', 'still', 'enjoyed', 'fifth', 'before', '25', '1830', 'had', 'winning', 'to', 'xxix', 'td', 'kick', 'wearing', 'then', 'his', 'return', 'very', 'records', '123', 'five', 'longest', 'hall', 'sophomore', 'miami', 'university', 'nfl', 'team', 'went', 'round', 'added', 'weighs', 'xxiii', 'back', 'born', '89', 'college', '85', 'plays', 'stands', 'junior', 'selected', 'per', '3', '1391', 'attended', '1135', 'redskins', 'yards', 'tds', 'super', 'by', 'mvp', 'league', 'career', 'of', 'marc', '49ers', 'touchdowns', 'washington', 'number', '60', '63', 'carry', 'throughout', '1987', '1985', 'from', 'rushed', 'leading', 'two', 'eleven', 'returns', 'draft', 'was', 'national', 'today', 'that', 'successful', 'bengals', 'anthony', 'part', '228', '92', 'with', 'former', 'he', '15', '1997', 'scrimmage', 'kentucky', 'record', 'and', 'lbs', 'ncaa', 'san', 'played', 'averaging', 'is', 'as', 'at', 'in', 'fame', '1965', '44', 'bowl', 'carries', '1', 'also', 'setting', '325', '9', 'performance', 'scored', 'play', 'francisco', 'receptions', '206', 'may', 'football', 'running', 'seasons', 'on', 'nflmarc', 'senior', 'dolphins', 'a', 'for', 'well', 'd1a', 'reception', 'american', 'the', 'playing'], ['all', 'serving', 'rhinos', 'four', 'aleague', 'coach', 'before', 'scoring', 'riverhounds', '26', 'minnesota', 'mens', 'to', 'only', 'puerto', 'suffered', 'soccer', 'earthquakes', 'then', 'his', 'preseason', 'assistant', 'michigan', 'overall', 'school', 'game', 'foot', 'him', 'february', 'lost', 'university', '1996', 'joined', 'teams', 'donovan', 'planning', 'team', 'where', 'round', 'born', 'second', 'islanders', 'silverbacks', 'thunder', 'dayton', 'forwardwoolfolk', 'pioneer', 'state', 'drafted', 'attended', 'degree', 'woolfolk', 'june', 'free', 'nscaa', 'bachelor', 'graduated', 'on', 'superdraft', 'of', '30', 'american', 'games', 'first', 'one', 'jose', 'from', '1983', 'rico', 'leading', '5th', 'usl', 'three', '6', 'was', 'is', 'urban', 'league', 'pittsburgh', 'season', 'released', 'part', 'goals', 'broke', 'atlanta', 'with', 'former', 'he', '1997', 'stanford', '18', 'up', 'signed', 'mls', 'nine', 'and', 'seven', 'san', 'played', 'december', 'ann', 'premier', 'moved', 'an', 'high', 'as', 'gemini', 'in', 'arbor', 'rochester', 'landon', '1', '2001', 'vancouver', 'fracture', 'whitecaps', '49th', 'development', 'roster', 'may', 'time', 'spot', 'most', 'scorer', 'a', 'stress', 'for', 'waived', '2002', '2003', '2000', 'corey', '2006', '2007', '2004', '2005', 'the', 'playing'], ['all', 'show', 'colleges', 'years', 'course', 'radio', 'committee', 'battle', 'follow', 'doctoral', 'candidate', 'tv', 'segments', 'to', 'only', 'other', 'east', 'regularly', 'lowell', 'his', 'hop', 'zulu', 'coast', 'early', 'they', 'lasell', 'schools', 'world', 'areas', 'worlds', 'speaks', 'artist', 'university', 'rapper', 'morning', 'courses', 'math', 'including', 'went', 'umasslowell', 'em', 'england', 'albook', 'universities', 'college', 'year', 'bay', 'even', 'unavailable', 'for', 'entertainment', 'state', 'won', 'performs', 'new', 'filled', 'shows', 'who', 'arts', 'awards', 'bs', 'put', 'news', 'teaches', 'lyrical', 'on', 'created', 'institute', 'of', 'industry', 'akrobatik', 'fulltime', 'competed', 'invitation', 'jamn', 'first', 'appeared', 'win', 'northeastern', 'venues', 'highly', 'primarily', '82013', '1990s', 'bostonhe', 'rated', 'from', 'together', 'been', 'sports', 'mathematics', 'universal', 'more', 'both', 'freestyle', 'curriculum', 'but', 'part', 'an', 'he', 'television', 'has', 'up', 'movies', 'ms', 'many', 'and', 'hip', 'boston', 'is', 'received', 'fellow', 'supremacy', 'shame', 'as', 'at', 'rap', 'in', 'different', 'perform', 'mic', 'when', 'mid', 'battles', 'adjunct', 'also', 'book', 'which', 'nyc', 'several', 'entitled', 'lecturer', 'album', '617live', 'infiniti', 'massachusetts', 'such', 'nation', 'finals', 'appear', 'a', 'parttime', 'programs', 'professor', '945', 'daily', 'mass', '2005', 'occasion', 'the', 'latest'], ['sector', 'limited', '2006apart', 'chinese', 'xuan', 'actress', 'month', 'july', 'happiness', 'before', 'group', 'producer', 'had', 'winning', 'to', 'production', 'rich', 'has', 'skies', 'then', 'evening', 'get', 'ye', 'school', 'famous', 'pageant', 'cctvshe', 'accepted', 'association', '14', 'february', 'roles', 'lost', 'hengdian', 'dramas', '1999', 'she', '1998', 'starred', 'where', 'triumph', 'olympic', 'titled', 'fair', 'series', 'competition', 'born', 'productions', 'college', 'special', 'tvb', 'graduating', 'tvbs', 'for', 'chamber', 'movie', 'currently', 'acting', 'won', 'lue', 'icableye', 'mandarin', 'international', 'attended', 'cantonese', 'ruo', 'reporter', 'loveye', 'eternal', 'host', 'china', 'immigrated', 'shui', 'onsite', 'on', 'talent', '1980', 'english', 'career', 'of', 'industry', 'contract', 'atv', 'games', 'ltd', 'or', 'first', 'botany', 'student', 'number', 'one', 'such', 'owner', 'miss', 'management', 'from', 'her', 'leading', 'athens', 'by', 'few', 'careerye', 'exposure', 'was', 'more', 'offered', 'shang', 'but', 'broadcast', 'worked', 'with', '10', 'television', 'john', 'mcin', 'mc', 'pursue', 'science', 'restaurant', 'engineering', 'signed', 'midautumn', 'published', 'and', 'gong', 'bohai', 'is', 'sushi', 'moved', 'an', 'states', 'as', 'at', 'in', 'film', 'autobiography', 'united', 'also', 'high', 'chairman', 'place', 'wellesley', 'shan', 'company', 'industryin', 'after', 'june', 'additionally', 'president', 'dewey', 'a', 'michelle', 'vice', 'age', 'entertainment', 'studioszhejiang', 'fluent', '2004', '2005', 'the', 'scholarship', 'left'], ['since', 'issued', 'defendant', 'woody', 'certainly', 'young', 'to', 'under', 'circumstances', 'brown', 'very', 'childpornography', 'minded', 'advised', 'school', 'compassionate', 'michael', 'try', 'yale', 'prevent', 'second', 'lawyer', 'even', 'rate', 'section', 'version', 'himchatigny', 'new', 'appeal', 'full', 'dismissal', 'clerk', 'never', 'cocounsel', 'understanding', 'alone', 'strong', 'prosecutors', 'study', 'conti', 'action', 'opinion', 'dutyrequired', 'makes', 'punishment', 'appropriately', 'taunton', 'sadism', 'standing', 'from', 'proceed', 'chatigny', 'call', 'prosecutor', 'more', 'abusing', 'award', 'connecticut', 'cases', 'behalf', 'women', 'ma', '1994', 'rights', 'this', '1998', 'ohara', 'advocacy', 'minimum', 'stated', 'december', '440some', 'states', 'unbiased', 'his', 'council', 'allens', 'united', 'court', 'dismissed', 'sic', 'fourth', 'de', 'plans', 'may', 'confirmed', '2008he', 'sentencing', 'president', 'appealed', 'law', 'nomination', 'eighth', 'a', 'light', 'departure', 'chief', 'agenda', 'subsequently', 'order', 'executed', 'september', 'indeed', 'over', 'years', 'course', 'attitude', 'committee', '20052006', 'cold', 'its', 'warren', '1', '26', '28', '29', 'criminal', '2010', 'then', 'motivated', 'practice', 'newman', 'qualified', 'they', '1952', 'inception', 'republican', 'association', 'attorneys', 'name', 'james', 'university', 'reasonable', 'fitness', 'found', 'upward', 'neil', 'mental', 'house', 'crimes', 'challenges', 'our', 'suzanne', 'sexual', 'tried', '20059', 'robert', 'waive', 'impartial', 'investigation', 'cause', 'shows', 'perception', 'dealt', 'threatened', 'delegates', 'california', 'thrust', 'longrange', 'language', 'times', 'american', '19801981judge', 'place', 'circuit', 'ruination', 'appeals', 'velde', 'one', 'date', 'stonewalledof', 'vote', 'city', 'district', 'girls', '2', 'georgetown', '2006judge', 'appointees', 'that', 'centered', 'reversed', 'serve', 'jovin', 'july', 'believe', 'than', 'obama', '10', '12', '15', '16', 'eighttime', 'veldes', 'were', 'toward', 'and', 'outstanding', '1973', 'half', 'chatignys', 'have', 'sentences', 'allen', 'any', 'megans', 'thorough', 'note', 'recommended', 'appellate', 'take', 'bruce', 'who', 'most', 'involving', 'letter', 'prisoner', 'approved', 'professor', 'rating', 'violation', 'nominated', 'considerationopposition', 'judges', 'northern', 'justice', 'less', '3', 'haven', 'penalty', 'failed', 'only', 'sued', 'assistant', 'samuel', 'prohibition', 'killers', 'him', 'bar', 'where', 'wrote', 'view', 'seventeen', 'set', 'aspect', 'fair', 'national', 'committed', 'seat', 'elected', 'are', 'close', 'said', 'probable', 'federal', 'away', 'favor', 'state', 'enumerated', 'before', 'we', 'august', 'attention', 'competent', 'cabranes', 'jon', 'received', 'license', 'career', 'against', 'called', 'april', 's', 'whole', 'grounds', 'duty', 'partyline', '2nd', 'jd', 'unusual', 'three', 'been', 'commission', 'temperatein', 'temperament', 'worked', 'former', 'present', 'case', 'publicly', 'developing', 'judicial', 'bill', 'w', 'while', 'editorial', 'elaborate', 'is', 'it', 'sentencings', 'bias', 'in', 'claimed', 'march', 'if', 'different', 'sensitive', 'potentially', 'lenient', 'used', 'restraint', 'upon', 'director', 'misconductin', 'student', 'complained', 'center', '1978', 'charges', 'forceful', 'well', 'analysis', 'person', 'without', 'solve', 'claims', 'the', 'stating', 'left', 'opinions', 'sentence', '24page', 'executive', 'actions', 'victimsupport', 'judge', 'questions', 'facts', 'yet', 'jose', 'death', 'candidate', 'had', 'bench', 'barack', '4', 'has', 'ross', 'associations', 'complaint', 'victims', 'government', 'judiciary', 'matters', 'supervisory', 'execution', 'imposed', 'steps', 'either', 'offenders', 'served', 'downward', 'disorder', 'amendment', 'shed', 'senate', 'tempered', 'born', '117', 'provided', 'proceeding', 'for', 'decision', '12page', 'unsuccessfully', 'be', 'murderer', 'june', 'journal', 'each', 'pressure', 'departures', 'relating', 'by', 'gained', 'on', 'of', 'o', 'ensure', 'efforts', 'or', 'allowing', 'own', 'clinton', 'childrens', 'rosss', 'civil', 'into', 'washington', 'attorney', 'appropriate', 'determine', 'discharge', 'defendants', 'van', '1980', 'support', 'there', 'long', 'awarded', 'editor', 'vacated', 'was', 'himself', 'delayed', 'but', 'tasked', 'courts', 'filed', 'line', 'with', 'he', 'made', 'us', 'record', 'cruel', 'unanimous', 'minor', 'average', 'supreme', 'ab', 'leaked', 'proven', 'an', 'as', 'at', '19791980', 'amendments', 'no', 'not', 'when', 'stepchild', '5', '2006', 'reportedly', 'prosecution', 'includes', 'important', 'registry', 'authorities', 'reservation', 'eginton', 'fiscal', 'e', 'examination', 'sexoffender', 'rule', '2003', '2001', 'u', '2004', '2005', '2009', 'resolution', 'having'], ['chinese', 'contemporary', 'nominated', 'kong', 'produced', 'taiwan', 'fusing', 'find', 'issues', 'runin', 'limelight', '26', 'rapidly', 'just', 'jay', 'had', 'writing', 'to', 'samples', 'su', 'has', 'sent', 'then', 'songwriting', 'his', 'rhyme', 'fusion', 'grew', 'using', 'covering', 'entrepreneurvincent', 'companies', 'rock', 'popular', 'become', 'vincent', 'noted', 'titled', 'taiwanese', 'born', 'are', 'beyond', 'melody', 'best', 'album', 'what', 'fang', 'esp', 'since', 'please', 'asia', 'sung', '19th', 'won', 'passion', 'decade', 'rb', 'new', 'contributes', 'across', 'refer', 'porcelain', 'style', 'wu', 'awards', 'genre', 'lyrics', 'lyrical', 'on', 'career', 'of', 'discussed', 'fng', 'chou', 'frequent', 'first', 'golden', 'love', 'family', 'into', 'lyricist', 'entrepreneur', 'references', 'owner', 'impressed', 'from', 'by', 'yan', 'music', 'white', '2000s', 'was', 'war', 'form', 'that', 'started', 'pinyin', 'company', 'award', 'jacky', 'released', 'folklore', 'known', 'albums', 'with', 'he', 'wide', 'made', 'chous', '1997', 'work', 'wnshn', 'record', 'making', 'similar', 'history', 'and', 'hoping', 'is', 'modern', 'as', 'pulling', 'at', 'in', 'fame', 'hong', '1969', 'january', 'poetry', 'majority', 'which', 'blue', 'literature', 'singersongwriter', 'complemented', 'collaboration', 'who', 'hired', 'wellfangs', 'ballads', 'a', 'for', 'calls', 'multigolden', 'together', 'musical', 'traditional', '2000', 'the', 'normally', 'hualien'], ['exclusive', 'holds', 'help', 'german', 'money', 'years', 'held', 'lemalu', 'human', 'paul', 'before', '21', '22', 'auckland', 'with', 'had', 'young', 'appointed', 'labourhe', 'going', 'inherited', 'hermann', 'telefoni', 'has', '2011', '1991', 'his', 'march', 'to', 'government', 'alesana', 'practice', 'february', 'introduce', 'early', 'misa', '1952', 'not', 'electionretzlaff', 'postal', 'tribute', 'prime', 'articles', 'school', 'name', 'falelatai', 'servant', 'university', '1996', 'joined', 'public', 'samoa', 'observer', 'seat', 'born', 'see', 'books', 'college', 'election', 'grandfather', 'agriculture', 'for', 'currently', 'paternal', 'health', 'new', 'falling', 'leader', 'be', 'run', 'initially', 'richest', 'bachelor', 'ancestry', 'partyretzlaff', 'opposition', 'became', 'by', 'kitchen', 'on', 'speeches', 'of', 'industry', 'studied', 'shipping', 'protection', 'marrying', 'retain', 'eti', 'twentieth', 'own', 'love', 'deputy', 'colony', 'community', 'son', 'kings', 'germanswedishsamoan', 'standing', 'given', 'from', '1986in', 'addition', 'century', 'two', '1988', 'winning', 'was', 'a', 'educated', 'that', 'about', 'fisheries', 'part', 'minister', 'true', 'former', 'poemsin', 'he', 'boarding', 'commerce', 'samatau', 'rights', 'will', 'country', 'and', 'tofilau', 'stated', 'httpwwwsamoaobserverwsindexphpoptioncomcontentviewarticleid31878tributetocatid1latestnewsitemid50', 'is', 'telephone', 'general', 'as', 'at', 'in', 'politics', 'story', 'confirmed', 'resigned', 'descent', 'retiring', 'self', 'samoan', 'when', 'forests', 'thine', 'role', 'portfolios', '9', 'may', 'published', 'retzlaff', 'attorneygeneral', 'collection', 'arrived', 'services', 'law', 'zealand', 'short', 'theodor', '2001', 'position', 'the', 'having'], ['all', 'particularly', 'developed', 'over', 'paper', 'radio', 'sustained', 'economist', 'its', 'staff', 'solitary', 'anglofrench', 'smith', 'late', 'to', '4', 'main', 'dispute', 'then', 'views', 'trenchant', '1993', 'documentaries', 'five', 'oxford', 'lady', 'hall', 'university', 'journalism', 'she', 'meantime', 'analytical', 'become', '1940s', 'noted', 'wrote', 'programme', 'editorship', 'edited', 'spring', '1960s', 'critique', 'expressgoldring', 'what', 'wellfounded', 'for', 'burnet', 'journalist', 'above', 'surprise', 'weekly', 'goldring', 'predicted', 'be', 'noise', 'business', '4s', 'commercial', 'mcrae', 'aircraft', 'disastrous', 'graduated', 'by', 'on', 'would', 'column', 'of', 'obe', 'british', 'where', 'became', 'pollution', 'economists', 'deputy', 'suddenly', 'into', 'concorde', 'rank', 'one', 'presenters', 'rising', '1987', '1998in', 'andreas', 'from', 'her', 'basis', 'bbc', 'long', 'screened', 'currentaffairs', 'editor', 'series', 'broadcasteran', 'was', 'until', 'authored', 'audit', 'alastair', 'turned', 'wake', 'aviation', 'with', 'television', 'made', 'whittam', 'mary', 'flagship', 'following', 'voice', 'and', 'economics', 'investors', 'almost', 'dissent', 'is', 'alongside', 'moved', 'it', 'an', 'as', 'at', 'in', 'analysis', 'member', 'also', 'out', 'channel', 'development', 'staying', 'norman', 'who', 'margaret', 'regular', 'a', 'supersonic', 'correspondent', 'chronicle', '1976', '1974', 'departure', 'daily', 'time', 'the', 'left'], ['thomas', 'currently', 'from', 'september', 'executive', 'years', 'through', 'southwestern', 'alphin', 'before', '1942', 'outside', 'including', 'to', 'dartmouth', '2013', 'carolina', 'woman', 'legislators', 'returning', 'ceo', 'reviewshe', 'school', 'historic', 'community', 'schools', 'during', 'association', 'masters', 'scholar', 'university', 'stanford', 'she', 'small', 'served', 'where', 'dean', 'senate', 'house', 'up', 'born', 'second', 'college', 'sloughhouse', 'for', 'giving', 'since', 'representatives', 'legal', 'state', 'porter', 'assembly', 'degree', 'sixth', 'focused', 'term', 'become', '1982', 'november', 'on', 'of', 'american', 'became', 'senator', 'first', 'editorinchief', 'family', 'number', 'preservation', 'one', 'durham', 'female', 'undergraduate', 'kuchel', 'her', 'ucla', 'california', 'was', 'westerberg', 'north', 'received', 'serve', 'worked', 'town', 'grew', '14', '1996', 'prager', 'us', 'schoolsprager', 'property', 'history', 'and', 'alumnusalumna', 'is', 'an', 'states', 'provost', 'at', 'in', 'any', 'as', 'trustee', 'united', '1964', 'schoolpreviously', '1', 'also', 'administrator', 'sacramento', 'director', 'faculty', 'president', 'law', 'the', 'a', 'practiced', 'susan', 'later', 'occidental', 'deans', 'tenure', '2008', 'powe', 'starting', 'longest'], ['mayom', 'garang', 'kong', 'ended', 'janaigatliek', 'including', 'joining', 'soldiers', 'whose', 'now', 'group', 'had', 'yoal', 'liberation', 'commander', 'splmanasir', 'under', '8', 'has', 'gave', 'then', 'his', 'to', 'than', 'made', 'yohannes', 'during', 'accepted', 'killed', 'bank', 'militiathe', 'january', 'sobat', 'become', 'river', 'upper', 'declared', 'matip', 'people', 'paulino', 'retaliation', 'second', 'defense', 'are', 'soldiersthe', 'said', 'for', 'riek', 'sudan', 'section', 'george', 'state', 'hill', 'waat', 'leader', 'announced', 'be', 'breakaway', 'august', 'matiep', 'men', '1993the', 'revenge', 'akol', 'difficulty', 'civilians', 'based', 'along', 'by', 'spla', 'on', 'machar', 'involved', '30', 'splm', 'nile', 'called', 'etc', 'militia', 'gordon', 'or', 'south', 'major', 'alliance', 'deputy', 'civil', 'bath', 'primarily', 'jonglei', 'east', 'from', 'army', 'alleged', 'been', 'johannes', 'attack', '2', 'combined', 'raids', 'lou', 'john', 'was', 'until', 'more', 'doleib', 'both', 'anyanya', 'athor', 'part', 'bul', 'declaration', 'an', 'with', 'considerable', 'he', '1991', 'divisions', '12', '1995', '1994', 'these', 'war', 'jikany', 'of', '19832005in', 'launched', 'and', 'statea', 'division', 'duar', 'juba', 'is', 'cattle', 'general', 'sudanese', 'at', 'in', 'united', 'rieklater', 'april', 'ejected', 'dengjohannes', 'that', 'other', 'forces', 'peoples', '2006', 'nuer', 'lam', 'ayod', 'faction', 'may', 'nasir', 'governmentsponsored', '4th', 'yual', 'a', 'nyayin', 'mobile', 'ssdf', 'ulang', 'command', '2005', 'the', 'democratic', '8th'], ['subtly', 'reviewers', 'moments', 'text', 'fall', 'focus', 'poetry', 'playful', 'ended', 'session', 'saga', 'behind', 'carefully', 'children', 'one', 'simon', '20', 'booksin', 'postmodernist', 'writer', 'father', 'international', '2009', 'literary', 'to', 'book', 'treatment', 'dickinson', 'bookworld', 'puerto', 'has', '2010', 'eugene', 'them', 'his', 'proctor', 'format', 'fugitives', 'fairleigh', 'minna', 'lethem', 'christopher', 'hyperliterary', '20102011', 'press', 'mcsweeneys', 'innovations', 'secondary', 'school', 'scamssorrentinos', 'name', 'artist', 'university', 'longlisted', 'ivan', 'bookforum', 'soft', 'essential', 'wrote', 'mets', 'conklin', 'house', 'national', 'conjunctions', 'born', 'second', 'street', 'college', 'descriptions', 'year', 'novelist', 'best', 'techniques', 'poke', 'draws', 'for', 'visiting', 'riveting', 'section', 'currently', 'publish', 'its', 'may', 'otherssorrentino', 'new', 'epic', 'announced', 'season', 'we', 'attention', 'tempura', 'were', 'commercial', 'story', 'reads', 'york', 'death', 'unterberg', 'moviemaking', 'victoria', 'by', 'on', 'about', 'of', 'dublin', 'according', 'times', 'angeles', 'monograph', 'magazine', 'incorporated', 'published', 'writers', 'other', 'experimental', 'patty', 'granta', 'named', 'structured', 'lists', 'appeared', 'into', 'period', 'son', '61', 'rican', 'fiction', 'open', 'city', 'arts', 'would', 'percussion', 'ortiz', 'contains', 'satire', 'next', 'their', 'praised', 'editor', 'modernist', 'series', 'gilbert', 'jonathan', 'was', 'los', 'sorrentino', 'lang', 'dialogue', 'playboy', 'corresponding', 'that', 'detail', 'award', 'it', 'echoes', 'taught', 'hearst', 'authors', 'with', 'postmodern', 'he', 'sound', 'account', 'novel', '1995', 'skull', 'characterizations', 'wish', 'work', 'up', 'recording', 'titles', 'vocals', 'publications', 'many', 'pioneered', 'entries', 'boshier', 'novella', 'and', 'imaginative', 'liberal', '2014', 'lives', 'pseudonymous', 'is', 'lush', 'believeniks', 'deep', 'an', 'as', 'impac', 'at', 'in', 'partner', 'forthhis', 'schustersorrentinos', 'film', 'descent', 'april', 'trance', 'finalist', 'inaugural', 'same', '1963', 'member', 'also', 'tin', 'playback', 'derek', 'widely', 'esquire', '2006', 'several', '2007', 'departures', 'used', 'columbia', 'intended', 'timesin', 'collaboration', 'felt', 'upon', '92nd', 'harris', 'but', 'faculty', 'nothing', 'such', 'revealed', 'a', 'short', 'center', '1974', 'fictional', 'more', 'so', 'harpers', '2005', 'y', 'american', 'the', 'first', 'multitrack'], ['summer', 'all', 'words', 'emerging', 'produced', 'industrial', 'through', 'world', 'collegehe', 'multichannel', '1', 'tapecollages', 'death', 'producing', 'writer', 'should', 'to', 'broadcasts', 'lower', 'tape', 'has', 'match', 'his', 'around', 'material', 'early', 'listening', 'lecture', 'practicing', 'bullshit', 'bank', '1994', 'whitman', 'artist', 'transmission', 'curator', 'alexis', 'radio', 'repaired', 'side', 'lobbies', 'art', 'generation', 'unpublished', 'authority', 'born', 'catalyze', 'college', 'mirror', 'discussions', 'organizing', 'goddard', 'chinas', 'for', 'sun', 'recorded', 'version', 'new', 'be', 'says', 'installations', 'possibility', 'notably', 'york', 'lounges', 'active', 'panel', 'on', 'about', '19992009', 'of', 'atm', 'concerts', 'threechannel', 'first', 'and', 'raised', 'lands', 'spoken', 'scene', 'one', 'utilized', 'collages', 'artists', '1990s', 'speak', 'everybody', 'city', 'arts', 'from', 'publication', 'working', '20012004', 'their', '2', 'was', 'opens', 'ghost', 'life', 'airwaves', 'that', 'ages', 'interviewed', 'neutral', 'train', 'crosssection', 'with', 'he', 'sound', 'east', 'word', 'abandoned', 'convocations', 'project', 'design', 'voice', 'sculpture', 'radioplays', 'studied', 'look', 'is', 'organized', 'deep', 'an', 'as', 'at', 'in', 'strength', 'democracy', 'no', 'began', 'poetry', 'same', 'member', 'book', 'paj', 'lectures', 'free103point9', 'ecological', 'moving', 'blood', 'included', 'senior', 'manifested', 'a', 'stereo', 'bandshell', 'performances', 'bhagat', 'or', '2003', 'without', 'the', 'songs'], ['anglican', 'responsible', 'chapters', 'issues', 'occupation', 'forestry', 'doctoral', 'auckland', 'deputy', 'professorhe', 'former', 'to', 'book', 'degrees', 'voted', 'aucklands', 'employed', 'include', 'adviser', 'them', 'his', 'contracts', 'capacities', 'indigenous', '1992', 'schoolhis', 'dar', 'oxford', 'during', 'rental', 'formal', 'articles', 'scholar', 'university', 'whanui', 'bay', 'balliol', 'where', 'wrote', 'whenua', 'england', 'manual', 'national', 'crown', 'related', 'college', '18641909', 'es', 'universities', 'for', 'colonial', 'contracted', 'legal', 'research', 'new', 'numerous', 'publishers', 'full', 'phopatanga', 'degree', 'associate', 'never', 'vernon', 'victoria', 'by', 'on', 'wanganui', '1999he', 'rhodes', 'region', 'puni', 'david', 'waitangirelated', 'qualification', 'published', 'barrister', 'churchs', 'acted', 'primary', 'huia', 'church', 'respect', 'trust', 'undergraduate', 'tertiary', 'moriowned', 'from', 'certificate', 'legislation', 'two', 'tango', 'commission', 'arbitrator', 'mori', 'time', 'was', 'synodte', 'williams', 'zealand', 'educated', 'that', 'honorary', 'but', 'solicitor', 'an', 'with', 'appointed', 'he', '1991', 'has', '1995', '1994', 'consultant', 'kooti', 'te', 'ballb', 'waitangifrom', 'of', 'promoted', 'practising', 'tanzania', 'history', 'and', 'kkiri', 'is', 'diptheolhe', 'general', 'high', 'as', 'campaigned', 'o', 'in', 'analysis', 'treaty', 'native', 'education', 'court', 'variety', '1966', 'holds', 'graduate', 'member', 'also', 'dean', 'hinota', 'which', 'theology', 'party', 'act', 'qualifications', 'diploma', 'phd', 'a', 'faculty', 'included', 'salaam', 'law', 'hawkes', 'bcl', 'land', 'database', 'professor', 'author', 'aotearoa', 'wellington', '1971', 'collegiate', 'academic', '2000', '2001', 'volumes', '2005', 'at', 'the', 'came'], ['bottega', 'is', '1960', 'four', 'london', 'still', 'fine', '1948', 'konex', 'earned', 'paris', 'father', 'to', 'citizen', 'teaching', 'argentina', 'include', 'wellknown', 'argentine', 'his', 'returned', 'cupola', 'assistant', 'reopened', 'dc', 'munich', 'cultural', '1956', 'they', 'new', 'traveled', 'continued', 'projects', 'themes', 'school', 'exhibiting', 'prize', 'galeras', 'shapes', 'this', 'where', 'italian', 'uruguayan', 'often', 'born', 'taught', 'are', '1929', 'honors', 'for', 'contributed', 'extensively', 'international', 'geometric', '1991roux', 'york', '1982', 'by', 'surrealistic', 'created', 'of', 'studied', 'biennial', 'first', 'jujuy', 'among', 'named', 'own', 'followed', 'sicily', 'washington', 'one', 'rouxs', 'collages', 'art', 'city', 'arts', 'from', 'arcade', 'there', 'illustrious', '1988', 'workshop', 'harlequins', 'travelled', 'was', 'ral', 'nonnis', 'life', 'lived', 'shopping', 'that', 'award', 'berlin', 'known', 'worked', 'highest', 'painter', 'he', 'illustrator', '1997', 'guillermo', 'work', 'until', 'relocated', 'were', 'at', 'and', 'frescoes', 'it', 'an', 'decoration', 'prestigious', 'as', 'xiii', 'umberto', 'in', 'realm', 'roux', '1966', '1967', 'when', 'paulo', 'phillips', 'other', 'actors', 'buenos', 'painthe', 'province', 'added', 'collection', 'restoration', 'aires', 'a', '1975', 'pacfico', 'frescoesroux', 'rome', 'so', '2007', 'watercolors', 'the'], ['golf', 'corps', 'merit', 'course', 'during', 'japan', 'oldest', 'children', '25', 'avid', 'retirement', '20', 'wed', '1940', 'deputy', 'had', '29', 'to', '1930s', '2015', '2014', 'include', '2011', 'ross', 'eventually', 'his', 'march', 'mountford', 'world', 'silver', 'february', 'd', 'married', 'she', 'logistic', 'served', 'legions', 'sycamore', 'born', 'delray', 'operated', 'home', 'living', 'golfer', 'guinea', 'near', '3', 'new', 'turned', 'jr', '1933', 'lieutenant', '1937', 'awards', '100', 'bronze', 'on', 'resides', 'of', 'florida', 'islands', 'midway', 'retired', 'formerly', 'point', 'commanding', 'rank', 'son', 'gave', 'from', 'service', 'army', 'west', 'two', 'whom', 'ely', 'jane', 'was', 'war', 'general', 'stationed', 'materiel', 'pittsburgh', 'academy', 'helen', '1911', 'commander', 'with', 'former', 'he', '10', 'jonas', 'j', 'up', 'us', 'pennsylvania', 'states', 'three', 'meyers', 'distinguished', 'engineers', 'and', 'nursing', 'december', 'is', 'philippine', 'an', 'ii', 'as', 'australia', 'at', 'in', 'united', 'when', 'graduate', 'also', 'beach', 'development', 'star', 'may', 'after', 'frances', 'william', 'designed', 'military', 'medal', 'died', 'a', 'i', 'age', 'command', 'the'], ['played', 'september', 'lesley', 'over', 'years', '1962', 'still', 'children', 'seasonafter', '27', 'cup', 'to', '400', '2014', 'has', 'division', 'his', 'march', 'express', 'break', 'nearly', 'they', 'not', '1995', 'now', 'debut', 'twice', 'landlord', 'team', 'the', 'married', 'england', 'walsall', 'there', 'related', 'born', 'second', 'year', 'for', 'house', 'since', 'dudley', 'fellows', 'seriously', 'unable', 'between', 'public', 'scoring', 'who', 'were', '1982', '1939', 'beginning', 'league', 'career', 'of', 'staffordshire', 'diseasehe', 'wanderers', 'games', 'fullback', 'first', 'teenage', 'wolverhampton', 'retired', 'win', 'into', 'one', '60', 'middlesbrough', 'steven', 'girlshe', 'ian', 'from', '196465', 'union', 'top', 'roper', 'two', 'been', 'remained', 'footballerhe', 'was', 'until', 'today', '1950s', 'mostly', 'that', 'club', 'park', 'but', 'lives', 'with', 'he', '10', '2008references', 'made', 'tipton', '16', 'car', 'signed', 'youth', 'three', '32', 'making', 'and', 'tiptonhe', 'is', 'as', 'at', 'have', 'in', 'claimed', 'crash', 'end', '1964', '1966', 'when', 'mid', 'alzheimers', '1', 'other', 'which', 'injured', 'star', 'may', 'appearances', 'football', 'hometown', 'alan', 'midlands', 'sides', 'a', 'suffers', 'valerie', 'age', 'spent', '1970', 'retiring', 'professional', 'wolves', 'began'], ['serving', 'show', 'dance', 'orchestra', 'move', 'years', 'pops', 'held', 'world', 'campbell', 'chair', 'illinois', '1982following', 'line', 'weekly', 'orleans', 'group', '23', 'tv', 'continued', 'freelance', 'trumpetin', 'to', 'vocalspiano', 'southland', 'peanuts', 'featured', 'local', 'carolina', 'his', 'victims', 'very', 'big', 'michigan', 'jazz', 'coast', '1955', 'band', '1957', '1956', 'jack', 'consisted', 'front', 'during', 'pier', 'illinoisafter', 'school', 'ended', 'schools', 'university', 'joined', 'soloist', 'benefit', 'saxophone', 'clarinetist', 'popular', 'havens', 'girard', 'concert', 'series', 'national', 'pacific', 'join', 'born', 'street', 'trombone', '250', 'interlochen', 'pete', 'appear', 'lead', 'labels', 'hurricane', 'label', '3', 'fountain', 'new', 'girards', 'trombonist', 'led', 'lawrence', 'bandsman', 'tromboneborn', 'met', 'job', '1930', 'groups', '1982', 'along', 'by', 'on', 'about', 'talent', 'many', 'recognized', 'concerts', 'tour', 'dixieland', 'katrinabob', 'bob', 'teagardenin', 'persuaded', 'first', 'vic', 'family', 'appeared', 'instruments', 'guard', 'ralph', 'crosby', 'festivals', 'throughout', 'george', 'often', 'fidelity', '1985', 'from', 'working', 'instrument', 'west', 'there', 'their', 'symphony', 'music', 'ringwald', 'time', 'formed', 'hucko', 'was', 'war', 'idol', 'door', 'both', 'zarchy', 'musician', 'great', 'landed', 'lives', 'albums', 'an', 'with', 'bourbon', 'raising', 'he', '12', '1995', '16', 'this', 'when', 'dans', 'until', 'record', 'while', 'hirt', 'of', 'cats', 'piece', 'performed', 'and', 'seven', 'later', 'money', '600', 'played', 'is', 'al', 'fellow', 'as', 'good', 'at', 'in', 'violin', 'times', 'ava', 'dozen', 'recorded', 'studying', 'began', 'that', '1960', 'american', 'stayed', 'camp', 'also', 'goodman', 'other', '2005', 'korean', 'zeke', 'continues', 'star', 'may', 'who', 'musiciansbob', 'benny', 'barber', 'quincy', 'a', 'audio', 'don', 'for', 'famous', 'verve', 'age', 'welk', 'lasted', 'flanagan', 'musical', 'nelson', 'tenure', 'north', 'professional', 'the', 'left', 'playing', 'scholarship'], ['weavers', 'singersongwriter', 'recorded', 'queen', 'london', 'renewed', 'backup', 'tv', 'breathy', 'had', 'christie', 'philadelphia', 'to', 'only', '1930s', 'late', 'votel', 'peaked', 'his', 'dj', 'song', 'food', 'watch', 'languished', 'dark', 'records', 'lady', 'hall', 'appearing', 'lost', 'artist', 'performing', 'cochrane', 'chorus', 'she', 'release', 'went', 'fared', 'concert', 'national', 'donald', 'billboard', 'folk', 'album', 'project', 'for', 'novelty', 'label', 'reminiscent', 'singles', 'written', 'songbirdchristie', 'hill', 'three', 'ever', 'bird', 'filled', 'be', 'august', 'reaching', 'compilation', 'attention', 'commercial', 'however', 'free', 'funyuns', 'snack', 'vinyl', 'backed', 'described', '100', 'by', 'guest', 'received', 'canadian', 'of', 'players', 'funky', 'weaver', 'adapted', 'unreleased', 'ladies', 'love', 'obscurity', 'appeared', 'kazoo', 'cd', 'brought', 'onionflavored', '63', 'rpm', 'brilliantly', 'better', 'from', 'i', '1980signed', 'copies', 'paint', 'much', 'andy', 'tune', 'was', 'jane', 'music', 'john', 'manchesterbased', 'until', 'minor', 'on', 'with', 'spearheaded', 'copy', 'spin', 'sound', 'television', 'turtles', '19', 'participated', 'single', 'vocal', '2010', 'recording', 'pennsylvania', 'pressed', 'were', 'male', 'at', 'and', 'is', 'it', 'an', 'as', 'dropped', 'in', 'hit', '1970', 'onions', '1966', 'when', 'magazine', '1', 'hot', 'strange', 'which', 'canada', 'bearded', 'columbia', 'elizabeth', '60s', 'track', 'chart', 'christies', 'noncommercial', 'spouse', 'the', 'psychedelic', 'a', 'susan', 'considered', 'fallen', 'later', 'having', '2006', 'american', '2008', 'singersin', 'original', 'songs'], ['precisiontooled', 'developed', 'results', 'quarters', 'helena', 'including', 'before', 'apartment', 'police', 'deserts', 'earned', 'writer', 'sky', 'minnesota', 'to', 'include', 'desire', 'jake', 'around', 'regional', 'dell', 'made', 'private', 'they', 'stasio', 'years', 'mystery', 'articles', 'this', 'she', 'small', 'where', 'husband', 'set', 'series', 'second', 'result', 'diver', 'techniques', 'gunn', 'living', 'motel', 'extensively', 'research', 'above', 'new', 'burke', 'europe', 'publishers', 'arizona', 'were', 'southeast', 'york', 'path', 'beginning', 'marilyn', 'her', 'license', 'career', 'of', 'according', 'times', 'american', 'became', 'fulltime', 'published', 'pilots', 'raised', 'family', 'into', 'while', 'owned', 'one', 'sailor', 'directly', 'sarah', 'city', 'harlequin', 'two', 'their', 'liveaboard', 'travelled', 'was', 'mountains', 'lived', 'becoming', 'novelsgunn', 'innkeeper', 'lives', 'careful', 'with', 'those', 'hines', 'grew', 'sailing', '1999', 'phillip', 'rutherford', 'up', 'us', 'tucson', 'many', 'scuba', 'and', 'mexico', 'is', 'moved', 'an', 'as', 'together', 'in', 'author', 'retiring', 'travel', 'write', 'setting', 'which', 'papers', 'forge', 'several', 'daughters', 'canada', 'elizabeth', 'novels', 'houseprior', 'montana', 'lobby', 'a', 'hiked', 'procedurals', 'later', 'fictional', 'cramped', 'walker', 'severn', 'the', 'began'], ['all', 'savannah', 'over', 'sleepy', 'hampton', 'years', 'including', 'fletcher', 'atlanta', 'before', 'tv', 'highlights', 'to', 'program', 'include', 'viking', 'his', 'means', 'horror', 'dc', '1954', 'storyboard', 'ghostbusters', 'sony', 'one', 'smash', 'school', 'motorola', 'always', 'arts', 'popular', 'noted', 'realism', 'warner', 'clients', 'england', 'some', 'born', 'full', 'video', 'nbm', 'year', 'mashhe', 'cocacola', 'page', 'bellsouth', 'network', 'for', 'has', 'behind', 'sequential', 'new', 'fricksfirestone', 'shows', 'pearson', 'papa', 'bo', 'commercial', 'story', 'drew', 'agencies', 'york', 'graduated', 'legend', 'extreme', 'on', 'design', 'toward', 'many', 'times', 'length', 'wrote', 'incarnation', 'book', 'into', 'johns', 'washington', 'period', 'hollow', 'done', 'art', 'comic', 'ad', 'city', 'use', 'from', 'publishing', 'their', 'live', 'was', 'more', 'medium', 'that', 'painted', 'batman', 'uncommon', 'visual', 'realms', 'worked', 'with', 'he', 'graphic', '15', 'glory', 'comics', 'work', 'us', 'uk', 'of', 'college', 'animated', 'and', 'regularly', 'bent', 'is', 'novel', 'artisthe', 'bros', 'states', 'as', 'at', 'in', 'superman', 'united', 'develop', 'commercials', 'feature', '40', 'animation', 'pizza', 'fairly', 'indianapolis', 'advets', 'novels', 'spot', 'helping', 'most', 'mccannerickson', 'moving', 'tundra', 'cowritten', '96', 'cartoon', 'a', 'storyboarding', 'mcmahon', 'professor', 'well', 'spent', 'verdilak', 'the', 'original'], ['particularly', 'german', 'over', 'ordre', 'contemporary', 'actress', 'nicknamed', 'honours', 'japan', 'albums', 'highest', 'lettres', 'la', 'paris', 'recognised', 'to', 'only', 'has', 'personality', 'republics', 'merit', 'birth', 'press', 'world', 'one', 'day', 'places', 'success', 'artist', 'fields', 'having', 'this', 'she', 'each', 'popular', 'officier', 'where', 'italian', 'americahaving', 'often', 'september', 'triumphed', 'animals', 'national', '1960s', 'hair', 'born', 'greece', 'et', 'omri', 'theatrical', 'televised', 'for', 'federal', 'officially', 'red', 'officer', 'korea', 'simultaneously', 'honour', 'french', 'singers', '1939', 'by', 'stage', 'both', 'enormous', 'internationally', 'of', 'panther', 'times', 'legion', 'south', 'three', 'rossa', 'female', 'france', 'arts', 'biolcati', 'from', 'personalities', 'her', 'remains', 'chevalier', 'due', 'been', 'abroad', 'pronunciation', '2', 'music', 'participated', 'names', 'received', 'successful', 'released', 'berlin', 'stems', 'known', 'july', 'an', 'with', 'spain', 'goro', '11', 'television', '1995', '17', 'milva', 'des', 'stature', 'stages', 'and', 'acclaim', 'is', 'combining', 'commander', 'as', 'have', 'in', 'film', 'native', 'programmes', 'italy', 'also', 'numerous', 'republic', 'which', 'events', '2007', 'theatre', 'who', 'june', 'bjolkati', 'most', 'germany', 'additionally', 'on', 'maria', 'singer', 'bestowed', 'colour', 'order', 'rome', '2006', 'artistic', 'the', '2009', 'ilva', 'musical', 'fact'], ['untold', 'producer', 'fox', 'major', 'produced', 'asian', 'yes', 'economist', 'before', 'based', 'tv', 'winner', 'to', 'bush', 'presidential', 'under', 'cum', 'include', 'formosa', 'his', 'michigan', 'dark', 'starbucks', 'association', 'university', 'manhattan', 'leave', 'become', 'went', 'where', 'series', 'activists', 'taiwanese', 'surrounding', 'decided', 'entering', 'dear', 'extremities', 'er', 'for', 'fulbright', 'research', 'waiting', 'internet', 'international', 'independence', 'ba', 'writertranslator', 'lefty', 'however', 'credits', 'magna', 'betrayed', 'philippinestiao', 'starred', 'stage', 'marty', 'received', 'central', 'tiao', 'career', 'of', 'tlc', 'american', 'w', 'raised', 'writer', 'clinton', 'scene', 'george', 'awardwinning', 'story', 'management', 'from', 'relations', 'mencia', 'entertainmenttiao', 'hollywood', 'was', 'madtv', 'on', 'transferring', 'worked', 'fellow', 'true', 'he', 'has', 'ma', 'room', 'born', 'pursue', 'nations', 'will', 'stories', 'cello', 'proof', 'and', 'is', 'mind', 'an', '1980s', 'cbs', 'as', 'at', 'in', 'politics', 'film', 'affairs', 'democracy', 'southeast', 'administration', 'feature', 'actor', 'field', 'boom', 'manila', 'performance', 'comedy', 'events', 'independent', 'columbia', 'theatre', 'kansas', 'stan', 'laude', 'tufts', 'a', 'quarterlife', 'short', 'well', '2002', 'the', 'scholarship'], ['limited', 'yearprimos', 'founder', 'institutional', 'money', 'move', 'domestic', 'llc', 'oldest', 'baldwin', 'its', 'partners', 'hills', 'also', 'iii', 'to', 'forbes', 'black', 'board', 'under', 'has', '2013', '2012', 'advises', 'global', 'march', 'africanamerican', 'moms', 'regional', '1955', 'matters', 'african', 'not', 'world', 'one', 'investor', 'newly', 'listprimo', '14', 'industrys', 'primo', 'become', 'cofounder', 'side', 'quintin', 'signing', 'financial', 'ceo', 'september', 'minorityowned', 'born', 'investment', '1947in', 'developed', 'opened', 'for', 'chicago', 'children', 'innovation', 'international', 'firms', 'fundsas', 'visionary', 'business', 'whose', 'mr', 'commercial', 'richest', 'ranked', 'early', 'on', 'kids', 'of', 'industry', 'transition', 'americas', 'angeles', 'magazine', 'leadership', 'west', 'south', 'first', 'alliance', 'companyin', 'strategic', 'included', 'americans', 'homeless', 'contributor', 'acumen', 'management', 'estate', 'los', 'addition', 'twenty', 'top', 'capri', 'center', 'their', 'philanthropy', '404', 'listed', 'markets', 'capital', 'firm', 'urban', 'that', 'funds', 'company', 'formed', 'serve', 'known', 'with', 'appointed', 'women', 'crenshaw', 'largest', 'publicly', 'this', 'was', 'limiteds', 'primos', 'renaming', 'launched', 'and', 'real', 'cnbc', 'plaza', 'investors', 'is', 'india', 'an', 'states', 'as', 'his', 'malls', 'purchased', 'in', 'if', 'united', 'nonexecutive', 'who', 'located', 'other', 'chairman', 'which', 'becomes', 'saluted', 'shelter', 'after', 'director', 'regular', 'a', 'services', 'such', 'overseas', 'billion', 'directors', 'e', 'assets', 'invest', 'mezzanine', 'indianregistered', '2000', '2006', 'pension', 'underserved', 'enterprise', 'position', 'the', 'latest'], ['portraying', 'catweazle', 'show', 'sheltering', 'displayed', 'pops', 'episodes', 'including', 'bayldon', 'paul', 'worzel', 'envy', 'based', 'title', 'wizard', 'had', 'such', 'yorkshire', 'to', 'theme', 'other', 'riding', 'has', 'mortality', 'his', 'blott', 'big', 'watch', 'television', 'finish', 'game', 'made', 'five', 'schools', 'magic', 'bayldons', 'january', 'auld', 'newtons', 'organon', 'where', 'university', 'unexpected', 'series', 'magnificent', 'tvs', 'born', 'second', 'productions', 'video', 'turning', 'programmes', 'fort', 'alternative', 'provided', 'rex', 'plays', 'grandad', 'for', 'hardcastles', 'tales', 'boogie', 'version', 'shakespeare', '7', 'new', 'porridge', 'after', 'recently', 'sins', 'simplicio', 'longrunning', 'royale', 'by', 'guest', 'both', 'of', 'casino', 'british', 'became', '1995bayldon', 'west', 'leeds', 'otherwise', 'among', 'love', 'childrens', 'appeared', 'number', '1970s', 'down', 'revolution', 'singing', 'boyard', 'open', 'landscape', '1986', '1987', '1985', 'from', '1983', 'marc', 'opportunity', 'top', 'bbc', 'two', 'fiction', 'geoffrey', 'dramatisation', 'storm', 'was', 'more', 'on', 'leonard', 'cops', 'talents', 'crowman', '1960s', 'doctors', 'known', 'with', 'he', 'king', '1993', 'include', 'roles', 'science', 'appearance', 'rat', 'vocal', 'governoramong', 'vocals', 'many', '1924', 'angelsother', 'and', 'seven', 'played', 'is', 'an', 'as', 'bolant', '1998he', '197072', 'in', 'pit', 'film', 'sir', 'doctor', 'deadly', '1967', '1961', 'actor', 'also', 'unexploited', 'parts', 'role', 'which', 'several', 'creature', 'play', 'used', 'star', 'palms', 'gummidge', 'appearances', 'who', 'dramas', 'unbound', 'segment', 'avengers', 'recent', 'a', 'audio', 'episode', '1979', 'tricks', 'caseyin', '197981', '1971', 'q', 'without', '2007', '1965', 'the', 'first', 'playing'], ['serving', 'german', 'both', 'years', 'founded', 'experiments', 'computers', 'chair', 'its', 'ikerbasque', 'sonoma', 'web', 'based', 'iscience', 'sciences', 'privatdozent', 'had', 'young', 'leibniz', 'habilitation', 'prof', 'founders', '2013', '2012', 'real', 'tests', 'his', 'founding', 'big', 'scientists', 'honorable', 'world', 'dr', 'him', 'uwe', 'articles', 'rhetoric', 'cognition', 'university', 'standards', 'tenured', 'scientist', 'science', 'switzerland', 'where', 'wrote', 'methods', 'zurich', 'dgof', 'elected', 'konstanz', 'attended', 'measurement', '7th', 'laboratory', 'universities', 'psychology', 'for', 'kolleg', 'currently', 'research', 'state', 'won', 'between', 'international', 'method', 'full', 'superior', 'ma', 'journal', 'jointly', 'experimenting', 'ranked', 'california', 'cientificas', 'affiliated', 'article', 'by', 'chapter', 'on', 'conducting', 'of', 'title', 'bilbao', 'american', 'became', 'fulltime', 'assistant', 'social', 'internetbased', 'or', 'experimental', 'first', 'via', 'colorado', 'consejo', 'venia', 'jens', 'scipulfdietrich', 'private', 'one', 'ulfdietrich', 'spanish', 'undergraduate', 'nonnorth', 'tbingen', 'from', 'working', 'basis', 'remains', 'journals', 'top', 'political', 'causality', 'editor', 'was', 'is', 'minor', 'legendi', 'that', 'award', 'reips', 'particular', 'general', 'with', 'spain', 'he', 'wide', '1992', '1995', '1994', '1997', 'affiliation', 'assessment', 'until', 'deusto', 'matzat', 'walter', 'and', 'boulder', 'seven', '2014ulfdietrich', 'defined', 'cited', 'received', 'an', 'as', 'at', 'in', 'investigaciones', 'majored', 'since', 'media', 'holds', 'graduate', 'field', 'methodology', 'book', 'online', 'department', 'lecturer', 'used', 'internet', 'lab', 'phd', 'most', 'germany', 'student', 'faculty', 'society', 'neuroscience', 'president', 'data', 'oberassistent', 'a', 'methodologies', 'professor', 'later', 'spent', 'psychological', '2002', 'de', '2004', '2005', 'the', '2009'], ['chercheurs', 'pense', 'scientist', 'committee', 'biologist', 'issues', 'ncehr', 'group', 'la', 'representing', 'codirector', 'to', 'program', 'screening', 'has', 'division', 'his', 'founding', 'lambertprofessor', 'interdisciplinary', 'camus', 'de', 'collge', 'masters', 'du', 'articles', 'sant', 'committees', 'd', 'served', 'universit', 'works', 'where', 'programme', 'ethical', 'en', 'reference', 'testing', 'some', 'society', 'books', 'quebec', 'canada', 'sociology', 'genetics', 'network', 'richard', 'currently', 'philosopher', 'religion', 'various', 'sshrc', 'medicine', 'evaluation', 'philosophy', 'fribourg', 'degree', 'associate', 'french', 'teaches', 'by', 'on', 'recherche', 'canadian', 'of', 'vicepresident', 'interinstitutional', 'experimental', 'researcher', 'laval', 'qubec', 'des', '1986', 'from', 'mlanon', 'two', '1988', 'genetic', 'clinical', 'authored', 'more', 'gnthiq', 'mostly', 'received', 'bioethicshe', 'analyse', 'specialty', 'frsqprofessor', 'particular', 'known', 'worked', 'with', 'than', 'he', 'j', 'switzerlandprofessor', 'doctorate', 'at', 'and', 'soutien', 'funded', 'is', 'marcel', 'an', 'as', 'together', 'in', 'fonds', 'qubecfrsq', 'bioethics', 'graduate', 'member', 'also', 'book', 'department', 'albert', 'who', 'director', 'ethics', 'law', 'sa', 'a', 'chicoutimi', 'for', 'professor', 'analysis', 'thought', 'pscche', 'the', 'researchers'], ['operations', 'surrey', 'tomorrows', 'gold', 'being', 'over', 'companieswhile', 'four', 'radio', 'its', 'departed', '24', 'based', 'platform', 'program', 'listing', 'computerised', 'merged', 'then', 'his', 'format', 'ceo', 'transitioning', 'joint', 'kiss', 'new', 'world', 'day', 'joined', 'pirate', 'journalist', 'served', 'where', 'programme', 'set', 'group', 'hosted', 'star', 'londonafter', 'investment', 'network', 'for', 'radioin', 'fox', 'research', 'current', 'berkshires', 'eventually', 'capital', 'international', 'before', 'consisting', 'shows', 'pioneering', 'eagle', 'after', 'uk', 'use', 'jointly', '20', 'hours', 'growing', 'control', 'concentrate', 'studio', 'york', 'key', '102', 'news', 'software', 'on', 'working', 'division', 'launch', 'of', 'taking', 'compliance', 'programming', 'british', 'officer', 'became', 'exeter', 'promoted', 'uks', 'innovations', 'county', 'services', 'featured', 'market', '1986', 'awardwinning', '1984', 'management', 'from', '1983', '1980', 'to', 'computing', 'bbc', 'system', 'rcs', 'plains', 'station', 'master', 'editor', 'music', 'white', 'was', 'launching', 'separated', 'building', 'head', 'form', 'technologiesin', 'company', 'cornwall', 'selector', 'devonair', 'delta', 'with', 'former', 'he', 'customer', 'october', '1995', 'ukrd', 'stations', 'up', 'venture', 'newspaper', 'fm', 'newspapers', 'launched', 'and', 'associated', '2014', 'played', 'is', 'moved', 'mike', 'as', 'at', 'in', 'breakfast', 'technology', '1991', 'musicscheduling', 'provincial', 'manchesters', 'westcountry', 'torbay', 'media', 'sound', 'role', 'chairman', 'which', 'digital', 'several', 'powell', 'stock', 'infinity', 'affairs', 'who', 'automation', 'director', 'running', 'playoutshortly', 'designed', 'showpowell', 'included', 'president', 'guildford', 'senior', 'a', 'vice', 'later', 'headquarters', 'introducing', '2002', '964', 'chief', '2001', 'the', 'first'], ['all', 'help', 'september', 'belarusian', 'including', 'footballers', 'scoring', 'subsequently', '26', 'cut', 'group', '21', '22', 'earned', 'toulon', 'to', '4', 'footballer', '2010', 'match', '2012', 'his', 'qualifier', 'matches', 'october', 'not', 'under21', 'did', 'january', 'debut', 'twice', 'latvia', 'denmark', 'london', 'side', 'callup', 'national', 'competition', 'born', 'home', '2011', 'plays', 'missed', 'for', 'selected', '18', 'senior', 'olympics', 'nominees', 'football', 'august', 'opening', 'team', 'yurchenko', 'uladzimir', 'november', 'by', 'stage', 'on', 'championshipon', 'of', '30', 'friendly', 'against', 'players', 'games', 'u21', 'qualification', 'first', 'and', 'win', 'netted', 'austria', 'yurchanka', 'withdrawn', 'from', 'three', '1989', '2', 'injury', 'was', 'salihorskyurchenko', 'aliaksandr', 'secured', 'that', 'but', 'omanon', 'part', 'perepechka', 'russian', 'he', '12', 'participated', 'vasilyevich', 'final', 'reserves', 'replaced', 'country', 'following', 'pretournament', 'shakhtyor', 'is', 'tournament', 'as', 'belarus', 'in', 'made', 'italy', 'recovery', 'make', '43', 'mogilev', '1', 'also', 'belarussian', 'squad', 'take', 'which', '9', 'european', 'injured', 'championship', 'appearances', 'who', 'june', 'preliminary', '2008', 'goal', 'a', 'the', '2009', 'uefa'], ['fukui', 'developed', 'years', 'including', 'albums', 'scoring', '21', 'earthbound', 'to', 'black', 'smile', 'piano', 'has', '2010', 'his', 'march', 'band', 'game', 'influenceuematsu', 'they', '1959', 'organ', 'keyboards', 'joined', 'roth', 'rock', 'found', 'works', 'where', 'concerts', 'twelve', 'square', 'creator', 'series', 'japanese', 'born', 'titles', 'video', 'best', 'composers', 'elton', 'for', 'electronic', 'since', 'please', 'label', 'freelancer', 'notably', 'met', 'studio', 'compositions', 'on', 'selftaught', 'of', 'games', 'tsuyoshi', 'or', 'composed', 'enix', 'own', 'grammy', 'sakaguchi', 'community', 'one', 'fantasy', 'papas', 'composer', 'nobuo', '1986', 'awardwinning', 'from', 'been', 'by', 'eleven', 'music', 'biggest', 'john', 'was', 'final', 'conductor', 'company', 'musician', 'released', 'known', 'worked', 'ear', 'with', 'he', 'colleagues', 'mistwalkersoundtracks', 'arranged', 'versions', 'these', '18', 'uematsus', 'many', 'mages', 'kenichiro', 'called', 'at', 'and', 'played', 'is', 'hironobu', 'pieces', 'respected', 'sekito', 'as', 'performed', 'have', 'in', 'arnie', 'began', 'majority', 'other', 'which', 'uematsu', 'several', 'development', 'after', 'most', 'records', 'scores', 'a', 'famous', 'considered', 'age', 'later', 'dog', 'together', '2002', 'ones', '2004', 'the', 'sakaguchis', 'playing', 'left'], ['john', 'focus', 'yellow', 'reviewed', 'imprint', 'course', 'lsu', 'shoe', 'griffith', 'tendency', 'weekly', 'with', 'writer', 'distributed', 'writing', 'to', 'has', 'his', 'press', 'mcsweeneys', 'day', 'four', 'university', 'debut', 'michael', 'morning', 'man', 'contain', 'warner', 'publishers', 'seagerhe', 'series', 'kirkus', 'allan', 'born', 'taught', 'college', 'what', 'humor', 'for', 'collaborates', 'creative', 'students', 'future', 'anthologized', 'internet', 'czar', 'edited', 'dictionary', 'warners', 'news', 'teach', 'teaches', 'by', 'publishing', 'great', 'of', 'inspired', 'american', 'published', 'charleston', 'frequent', 'tough', 'previously', 'three', 'northbrook', '2008currently', 'contributor', 'story', 'publication', 'working', 'army', 'create', 'tow', 'been', 'fiction', 'humorous', 'editor', 'resulted', 'guilfoile', 'was', 'more', 'uncle', 'fictionhe', 'he', 'novel', 'this', 'stumbling', 'work', 'reviews', 'books', 'publications', 'clemson', 'politically', 'and', 'dedicated', 'raging', 'is', 'it', 'an', 'at', 'in', 'kevin', 'funny', 'author', 'nuts', 'illinois', 'how', 'book', 'inquiry', 'incwarner', 'fw', 'may', 'collection', 'director', 'most', 'student', 'frequently', 'america', 'recent', 'a', 'short', '1970', 'chief', 'sc', 'the'], ['coach', 'years', 'illustrated', 'through', 'title', 'him', '543', 'coaching', 'surprised', 'his', 'to', 'game', 'they', 'not', 'lilburn', 'rebounds', 'hall', 'school', 'sophomore', 'wooden', 'university', 'cofounded', 'mcinstosh', 'theological', 'went', 'bruin', 'national', 'hard', 'college', 'gameyears', 'doug', 'nba', 'for', 'currently', 'per', 'won', 'woodens', 'drafted', 'attended', 'mcintosh', 'california', 'key', 'anchoring', 'cornerstone', 'on', 'bible', 'career', 'of', '30', 'against', 'angeles', 'players', 'magazine', 'became', 'workfollowing', 'first', 'duke', 'retired', 'appeared', 'champions', 'one', 'seasons', '64', 'church', 'contributor', 'pivot', 'next', 'bruins', 'basketball', 'from', 'would', 'their', 'west', 'ucla', 'sports', 'los', 'much', 'draft', 'john', 'was', 'that', 'grabbing', 'pastor', 'but', 'championships', 'believe', 'junior', 'starter', 'he', '11', 'georgia', 'fulfilling', 'as', 'kentucky', 'future', 'seminary', 'didnt', 'and', 'stated', 'minutes', 'is', 'high', 'player', 'say', 'at', 'in', 'fame', '57', 'dallas', '1964', '1965', '1966', 'american', 'potential', 'lily', 'scored', 'play', 'championship', 'closest', 'who', 'two', 'significant', '486', 'senior', 'a', '1965mcintosh', 'later', 'cover', 'center', 'points', 'tenure', 'the', 'playing', 'came', 'reserve'], ['ito', 'powering', 'founder', 'september', 'over', 'executive', 'named', 'entrepreneurin', 'its', 'partners', '22', 'jeff', 'exclusively', 'derdik', 'citing', 'other', 'under', 'suite', 'worth1000', '2011', '2010', '2013', '2012', 'march', 'around', 'ceo', 'focus', 'amazon', 'brought', 'school', 'galpert', 'artist', 'michael', 'mit', 'reid', 'officer', 'popular', 'served', 'stalling', 'adobe', 'acquired', 'cofounded', 'born', 'growth', 'year', 'programmer', 'network', 'review', 'multimedia', 'aviary', 'creative', '3', 'closed', 'capital', 'new', 'across', 'announced', 'benjamin', 'edited', 'chose', 'business', 'web', 'million', 'notable', 'mits', 'tobias', 'attending', 'active', 'joi', 'spark', 'peggs', 'by', 'on', 'enormous', 'cardozo', '3500', 'of', '35', 'magazine', 'passing', 'seeing', 'raised', 'point', 'into', 'one', 'down', 'awardwinning', 'from', 'to', 'monthly', 'top', 'apps', 'strategy', 'photoediting', 'phones', 'innovators', 'was', 'until', 'shifted', 'a', 'direction', 'that', 'hoffman', 'immediate', 'site', 'photos', '2014', 'with', 'former', 'he', '15', '17', 'this', 'n', 'while', 'smart', 'venture', 'at', 'and', 'firm', 'later', 'investors', 'december', 'is', 'aviarys', 'israel', 'linkedin', 'an', 'as', 'bezos', 'avi', 'in', 'partner', 'technology', 'built', 'contest', 'media', 'when', 'application', 'systemsmuchnick', 'role', 'take', 'which', 'stepped', 'company', 'product', 'thirdparty', 'users', 'lab', 'director', 'muchnick', 'walmart', 'law', 'consumerfacing', 'billion', '1979', 'mobile', 'author', 'together', '2002', 'chief', '2007', 'the', 'derdikin'], ['producer', 'executive', 'nominated', 'years', 'including', 'asylum', 'industries', 'whose', 'to', 'production', 'board', 'include', '2011', '2010', 'government', 'napiereducated', '1959', 'secondary', 'school', 'finnish', 'university', 'stirling', 'joined', 'where', 'butterfly', 'art', 'edinburgh', 'national', 'born', 'college', 'year', 'eu', 'halfhour', 'established', 'estonian', 'for', 'has', 'pictures', 'since', 'creative', 'current', 'glasgow', 'led', 'screen', 'by', 'engage', 'institute', 'of', 'industry', 'drama', 'april', 'became', 'documentary', 'first', 'scottishbafta', 'garthamlock', 'scottish', 'trust', 'awardwinning', 'two', '1989', 'workshop', 'films', 'entered', 'was', 'academy', 'company', 'fellini', 'with', 'appointed', 'he', 'television', 'made', '1997', 'tree', 'mediafunded', 'following', 'schoolsin', 'robin', 'and', 'irish', 'is', 'partnership', 'an', 'as', 'im', 'at', 'in', 'film', 'affairs', 'media', 'liarafter', 'scotland', 'skillset', 'development', 'independent', 'fellers', 'coproducer', 'collaboration', 'director', 'napier', 'baftanominated', '2008', 'man', 'a', 'macpherson', 'professor', '2002', '2005', 'the'], ['krog', 'indigo', 'just', 'similarity', 'dance', 'style', 'lyrics', 'also', 'writes', 'had', 'to', 'lori', 'piano', 'has', '2011', 'his', 'jazz', 'watercolor', 'records', '1951', 'moods', 'silvano', 'silverman', 'jeanne', 'school', 'name', 'university', 'performing', 'temple', 'chamber', 'vibes', 'she', 'river', 'husband', 'sketches', 'bill', 'art', 'some', 'born', 'taught', 'college', 'waldron', 'standards', 'composers', 'pastel', 'paintings', 'since', 'collaborated', '3', 'performs', 'bachelors', 'leader', 'shows', 'europe', 'solo', 'recently', 'lee', 'degree', 'upon', 'attending', 'joe', 'underrepresented', 'beginning', 'by', 'on', 'great', 'voice', 'many', 'changed', 'american', 'wrote', 'karin', 'frisell', 'womens', 'or', 'york', 'sheila', 'wallkill', 'formerly', 'researches', 'cd', 'featured', 'werner', 'composer', 'singing', 'empathetic', 'city', 'from', 'her', 'bears', 'stages', 'philadelphia', 'been', 'compositions', 'percussion', 'music', 'scholar', 'narrator', 'part', 'jordan', 'pieces', 'with', 'jazzed', 'women', 'judi', 'collegesshe', 'work', 'vocal', 'recording', 'rutgers', 'marriage', 'of', '10th', 'and', 'trio', 'studied', 'kenny', 'played', 'is', 'tenor', 'an', 'states', 'as', 'at', 'in', 'trumpet', 'native', 'united', 'end', 'no', 'studying', 'aside', 'montgomery', 'ny', 'other', 'which', 'toured', 'new', 'pianist', 'ensemble', 'dobbins', 'scored', 'jsl', 'flute', 'songbook', 'collection', 'lovano', 'norwegian', 'mal', 'saxophonist', 'a', 'singer', 'for', 'silvanobefore', 'well', 'without', 'media', 'the', 'painting', 'original', 'wind', 'songs'], ['peace', 'traditions', 'chinese', 'german', 'bernt', 'global', 'chapters', 'years', 'stability', 'likeverd', 'philosopher', 'human', 'world', 'japan', 'hamburg', 'worked', 'impact', 'sciences', 'doctoral', 'unique', 'candidate', 'title', 'chosen', 'dr', 'concerned', 'ngo', 'had', 'ideal', 'black', 'languages', 'to', 'rwanda', 'parents', '4', 'under', 'marriage', 'has', 'norway', '2010', '1991', 'indonesian', 'australia', 'founding', 'greater', 'humandhs', 'means', 'very', 'familiar', 'practice', '1993', 'choice', 'academics', 'cultural', 'grew', 'background', 'new', 'belgium', 'equality', 'one', 'tutu', 'advanced', 'articles', 'displaced', 'speaks', 'usa', 'scholar', 'founded', 'level', 'did', 'gender', 'university', 'rights', 'book', 'inequality', 'she', 'switzerland', 'evelin', 'security', 'where', 'wrote', 'programme', 'accessible', 'the', 'because', 'honored', 'often', 'humiliation', 'med', 'councils', 'cairo', 'japanese', 'culture', 'second', 'hameln', 'election', 'philosophy', 'enemies', 'was', 'dissertation', 'both', 'for', 'deeply', 'furthermore', 'since', 'asia', 'research', '2009lindner', 'fellowship', 'written', 'health', 'somalia', 'cooperation', 'ac4', 'medicine', 'international', 'enjoys', 'numerous', 'decent', 'egypt', 'europe', 'core', 'focuses', 'foreword', 'importance', 'journal', 'points', 'french', 'understanding', 'sustainable', 'base', 'awards', 'york', '1954', 'others', 'graduated', 'affiliated', 'fluently', 'by', 'kenya', 'obtained', 'on', 'counselor', 'china', 'her', 'of', 'studied', 'lhomme', 'paris', 'american', 'stand', 'published', 'testament', 'experiences', 'studies', 'other', 'comes', 'first', 'emotion', 'among', 'being', 'own', 'rooted', 'portuguese', 'goetheuniversitt', '1946', 'zealand', 'africa', 'number', 'community', 'highly', 'psychological', 'thailand', 'message', 'ethics', 'received', '1984', 'from', 'practitioners', 'festival', 'west', 'locally', 'two', 'been', 'france', 'clinical', 'therefore', 'way', 'heritage', 'desmond', 'participated', 'more', 'danish', 'parliament', 'transdisciplinary', 'that', 'organized', 'in', 'formed', 'award', 'it', 'part', 'dagfinn', 'cultures', 'universitys', 'be', 'promote', 'with', 'silesia', 'egyptian', 'doctorates', 'high', '13', 'east', 'humiliationher', '1994', '1997', 'born', 'wish', '1994she', 'des', 'up', 'believes', 'hagtvets', 'while', 'future', 'familys', 'time', 'historical', 'were', 'following', 'making', 'doctorate', 'psychol', 'example', 'russian', 'social', 'and', 'transcend', 'gerda', 'obstacles', 'lindner', 'is', 'modern', 'am', 'them', 'genocides', 'an', 'globally', 'middle', 'as', 'lived', 'at', 'have', 'dignity', 'burundi', 'workin', 'arabic', 'spends', 'sinology', 'reputation', 'swedish', 'confirmed', '1977', 'mostly', 'anthology', 'academic', 'oslo', 'make', 'holds', 'when', 'consortium', 'same', 'fllesdalsince', 'also', 'recommended', 'maison', 'which', 'better', 'main', 'hebrewsince', 'several', 'prisoners', 'outstanding', 'conflict', 'european', 'de', 'columbia', 'traumatic', 'may', 'who', 'dutch', '3', 'norwegian', 'important', 'germany', 'strongest', 'president', 'advocates', 'law', 'heidelberg', 'psychology', 'a', 'individual', 'third', '1978', 'hierarchical', 'humanities', 'psychologist', 'honor', '2003', 'complexity', '2001', 'responsibility', '2007', 'english', 'position', '2008', '2009', 'frankfurt'], ['houston', 'suny', 'help', 'gold', 'heavily', 'years', 'partnered', 'course', 'through', 'human', 'world', 'chair', 'july', 'before', 'knowledge', 'dividing', 'duncan', 'personal', 'to', 'absence', 'systems', 'orange', 'maryland', 'include', 'texas', 'division', 'his', 'returned', 'klein', '1990', 'siuc', 'assistant', 'practice', 'emphasizes', 'international', 'during', 'advanced', 'articles', 'school', 'reestablish', 'multimediabased', 'textbooks', 'university', 'f', 'joined', 'leave', 'brockports', 'including', 'works', 'where', 'wrote', '1989', 'dean', 'mental', 'cologne', 'society', 'second', 'taught', 'college', '19701974', 'computer', 'for', 'served', 'robert', 'since', 'research', 'collaborated', 'umd', 'state', 'educationhealth', 'health', 'between', 'new', 'evaluation', 'public', 'biology', 'after', 'degree', 'associate', 'journal', 'prior', '1984', 'commercially', 'york', 'bs', 'informatics', 'became', 'beginning', 'seventy', 'on', 'training', 'defense', 'working', 'column', 'of', 'completing', 'earned', 'david', 'abledata', 's', 'regular', 'fulltime', 'published', 'promotion', 'first', 'there', 'followed', 'cancer', 'researcher', 'carbondale', 'community', 'county', 'initiative', 'been', 'such', 'umds', 'next', 'earning', '1986', 'has', 'use', 'management', 'from', '1983', '1980', 'support', 'healthquest', 'two', '1988', 'by', 'whos', 'time', 'dozens', 'was', 'ranging', 'more', '1999', 'offering', 'that', 'serve', 'oregon', 'brockport', 'drph', 'technologies', 'instructor', 'with', 'than', 'he', 'organizations', 'klaus', '1994', 'developing', 'these', 'science', 'also', 'vice', 'us', 'while', 'parkhe', 'publications', 'ms', 'macro', 'video', 'doctorate', 'invited', 'interactive', 'and', 'computers', 'computing', 'is', 'received', 'an', 'as', 'pieces', 'at', 'in', 'education', 'technology', 'summers', 'educational', 'specialization', 'pcbased', 'began', '1967', 'american', 'same', 'illinois', 'application', 'potential', 'papers', 'department', 'performance', 'several', 'entitled', 'park', 'tenure', 'southern', 'lab', 'phd', 'director', 'applications', 'explored', 'faculty', 'services', 'president', 'evaluator', '1969', 'a', 'organization', 'expert', '1978', '1976', 'professor', 'later', 'spent', '2002', '2005', 'retardation', 'position', 'the', 'software', 'decision'], ['soon', 'cenerentola', 'austrian', 'rusticana', 'before', 'la', 'guidance', '1944', 'to', 'going', 'campanello', 'under', 'piano', 'has', 'donizetti', 'then', 'di', 'munich', 'trovatore', 'rosenkavalier', 'fan', 'performance', '1958', 'georges', 'litaliana', 'callas', 'algeri', 'opera', 'lefkada', 'salzburg', 'continue', 'she', 'starred', 'works', 'carlos', 'national', 'aida', '1980her', 'born', 'et', 'herbert', 'rossini', 'appear', 'mascagni', 'sung', 'state', 'destino', 'del', 'jos', 'capuleti', 'stuardashe', 'notably', 'concentrate', 'graduated', 'november', 'conservatoire', 'by', 'mezzosopranobaltsa', 'on', 'cos', 'saintsans', 'of', 'kammersngerin', 'times', 'became', 'dalila', 'first', 'number', 'figaro', 'singing', 'from', 'her', 'festival', 'leading', 'tutte', 'athens', 'travelled', 'semiramide', 'von', 'vienna', 'siviglia', 'bellini', 'that', 'known', 'e', 'forza', 'with', 'cherubino', 'barbiere', 'verdi', '1992', 'bizet', '19', 'was', 'der', 'appearance', 'baltsa', 'marriage', 'octavian', 'carmen', 'at', 'and', 'well', 'is', 'duett', 'an', 'prestigious', 'as', 'il', 'in', 'made', 'film', '1968', '1965', 'began', 'six', 'karajan', 'also', 'cavalleria', 'which', 'samson', 'most', 'regular', 'moving', 'maria', 'a', 'montecchi', 'singer', 'don', 'mozart', 'i', 'age', 'm', 'carreras', '1970', 'greek', 'studying', 'the', 'agnes', 'frankfurt', 'playing', 'scholarship'], ['produced', '10part', 'tv', 'with', 'failed', '4', 'hometown', 'his', 'to', 'zagreb', 'zvonimir', '199192', 'screenwriterborn', 'school', 'primary', 'during', 'secondary', 'down', 'croatias', 'submission', 'university', 'debut', 'deals', 'croatia', 'popular', 'went', 'grad', 'croatian', 'titled', 'smogovci', 'national', 'directing', 'born', 'best', 'graduating', 'blacks', 'partisan', 'selected', 'codirected', 'won', 'independence', 'be', 'loyola', 'awards', 'from', 'by', 'arena', 'on', 'language', '1982after', 'of', 'foreign', 'angeles', 'juri', 'los', 'lay', 'golden', 'childrens', 'appeared', '83rd', 'number', 'psychological', 'semester', 'art', 'unit', '1982', 'army', 'festival', 'arms', 'their', 'series', 'films', 'osijek', 'was', 'war', 'minor', 'teenager', 'shortlist', 'academy', 'but', 'ceasefire', 'finished', 'dramatic', 'goran', 'directorial', 'he', 'directed', 'high', '1992', 'critically', 'roles', 'pula', 'final', 'while', 'documentarieshis', 'at', 'and', 'marymount', 'tesla', 'is', 'it', '1980s', 'as', 'fictional', 'acclaimed', 'in', 'education', 'film', 'returned', 'drama', 'nikola', 'studying', 'make', 'feature', 'which', 'department', 'several', 'nepokoreni', 'who', 'june', 'director', 'award', 'student', 'such', 'cowritten', 'a', 'refuse', 'short', 'for', '1977', 'biographical', 'devi', 'spent', '1971', 'enrolled', 'the', '2009'], ['interpretation', 'edmonton', 'both', 'holodomor', '1970s80s', 'polish', '1949', 'title', 'late', 'to', '2014in', 'alberta', '2012', 'his', 'contention', 'views', 'viktor', 'michigan', 'nationalists', 'background', 'not', 'during', 'mothers', 'did', 'university', 'detroit', 'influenced', 'priest', 'become', 'byzantineslavonic', 'side', 'view', 'on', 'challenged', 'fathers', 'church', '1960s', 'culture', 'bandera', 'taught', 'stamford', 'subject', 'dissertation', 'what', 'since', 'increasing', 'full', 'ba', 'habsburg', 'initially', 'respectively', 'however', 'focused', 'yushchenko', 'by', 'glorification', 'ukraine', 'received', 'canadian', 'of', 'studied', 'diaspora', 'roman', 'became', 'genocide', 'mixed', 'italian', 'studies', 'or', 'and', 'retired', 'shukhevych', 'political', 'johnpaul', 'austria', 'heated', '1990s', 'wanted', 'from', 'vocationhimka', 'historian', 'due', 'myths', 'defined', 'opposed', 'basil', 'was', 'interests', 'north', 'postmodernism', 'that', 'but', 'connecticut', 'galicia', 'particular', 'with', 'he', 'none', '1992', 'debates', 'presidency', 'born', 'pursue', '18', 'official', 'holocaust', 'socialism', 'historical', 'himka', 'seminary', 'history', 'iconography', 'stepan', 'nationalist', 'played', 'almost', 'is', 'as', 'at', 'in', 'nationalism', 'catholic', 'marxist', 'end', 'academic', 'radicalization', 'eastern', 'also', 'methodology', 'role', 'sacred', 'department', '18671890', 'ukrainian', 'may', 'phd', 'slavs', 'eclecticsince', 'ethnic', 'such', 'heroes', 'america', 'a', 'classics', 'especially', 'calls', 'nationalistic', '1977', 'professor', 'sometimes', '1971', 'st', 'greek', 'the', 'left'], ['aharon', 'text', 'years', 'verdict', 'judge', 'attitude', 'breaching', 'still', 'its', 'copyright', 'front', 'had', 'should', 'late', 'longoverdue', '4', 'has', 'decades', 'photographs', 'eventually', 'them', 'his', 'which', 'permission', 'material', 'negev', 'early', '1992', 'reconstructions', 'they', 'not', 'unique', '1959', 'colleagues', 'scholar', 'document', 'bas', 'qimrons', 'university', 'aggravation', 'facsimile', 'team', 'translated', 'found', 'teamduring', 'some', 'dead', 'edition', 'decided', 'sea', 'even', 'dissertation', 'sue', 'qumranin', 'for', 'currently', 'twovolume', 'research', 'access', 'favor', 'reconstruction', 'international', 'fragments', 'appeal', 'frustrated', 'available', 'be', 'felt', 'scrolls', 'barak', 'others', 'alone', 'dorner', 'by', 'publication', 'on', 'about', 'property', 'hebrew', 'working', 'language', 'of', 'study', 'against', 'strugnell', '1970s', 'shanks', 'grounds', 'editorinchief', 'intellectual', 'one', 'texts', 'bengurion', 'strugnells', 'impossible', 'writing', 'given', 'ancient', 'publishing', 'would', 'to', 'been', 'awarded', 'eleven', 'upheld', 'titleqimron', 'hundred', 'dalia', 'complained', 'israel', 'biblical', 'that', '4qmmt', 'completed', 'took', 'but', 'particular', 'known', 'highest', 'he', '1980s', '1993', 'made', '1994', 'society', 'was', 'work', 'coopted', 'compensation', 'were', 'toward', 'completing', 'published', 'and', 'supreme', 'proprietary', 'is', 'sense', 'it', 'an', 'reconstructed', 'as', 'elisha', 'at', 'allowed', 'hershel', 'if', 'different', 'court', 'since', 'jerusalem', 'cave', 'generally', '40', 'delay', 'also', 'qimron', 'caseshershel', 'department', 'several', 'difficult', 'john', 'halakhic', 'assist', 'israeli', 'phd', 'most', 'letter', 'included', 'such', 'law', 'scholars', 'a', 'in', '1979', '1976', 'professor', 'many', 'original', 'academic', '2000', 'without', 'so', 'the', 'first', 'archaeology', 'researchers'], ['summer', 'all', 'six', 'creation', 'from', 'four', 'press', 'including', 'endowment', 'principal', 'highest', 'had', 'acres', 'late', 'to', 'indian', 'degrees', 'weather', 'has', '196869', 'airport', 'his', 'return', 'entire', 'photography', 'delhi', 'virginia', 'historic', 'humanities', 'not', 'world', 'dr', 'day', 'societies', 'discovered', 'prize', 'lost', 'kennedy', 'undertaking', 'university', 'f', 'alice', 'herbert', 'grants', 'architecture', 'yale', 'become', 'balliol', 'trunks', 'art', 'be', 'woodrow', 'fellowships', 'national', '15000', 'born', 'second', 'taught', 'college', 'empire', 'oppenheimer', 'universities', 'dissertation', 'material', 'for', 'placed', 'robert', 'fulbright', 'recoup', 'research', 'fellowship', 'won', 'surfaced', 'new', 'learned', 'order', 'locate', 'foundation', 'airways', 'mr', 'story', '1931', 'simon', 'irvings', 'architectural', 'berkeley', 'activist', 'article', 'lawsuit', 'permitted', 'scottishcanadian', 'on', 'conducting', 'luggage', 'oxford', 'of', '1981', 'british', 'museums', 'shipped', 'became', 'airline', 'davis', 'studies', 'honor', 'cambridge', 'historians', 'search', 'wesleyan', 'trunk', 'africa', 'one', '60', 'because', 'news', 'kings', 'trust', 'redo', 'specializing', 'awardwinning', 'use', '1982', 'practitioners', 'basis', 'leading', 'visit', 'two', 'been', 'memorial', 'too', 'parents', 'john', 'was', 'guggenheim', 'trinity', 'more', 'grandest', 'educated', 'through', 'continents', 'that', 'successful', 'completed', 'irving', 'but', 'connecticut', 'hartford', 'filed', '1911', 'an', 'than', 'he', 'hitchcock', '16', 'britain', 'preparation', 'foundationdr', 'were', 'accrued', 'ernest', 'institute', 'history', 'and', 'imperial', 'stated', 'boston', 'is', 'india', 'fellow', 'states', 'as', 'held', 'at', 'council', 'in', 'lifetime', 'contents', 'sir', 'damaged', 'united', '1969', 'grant', 'edwin', 'holds', 'able', 'american', 'book', 'useless', 'warehouse', 'pan', 'lecturer', 'advocate', 'after', 'upon', 'wilson', 'architects', 'phd', 'unclaimed', 'lectured', 'preservationduring', 'society', 'the', 'exposure', 'a', 'baker', 'author', 'well', 'yearsthe', '35000', 'expenses', 'awarddr', 'lutyens', 'scholarship'], ['emerging', 'office', 'noteworthy', 'contemporary', 'years', '2008', 'including', 'macquarie', 'still', 'fine', 'completion', 'gold', 'tim', 'similarities', 'to', 'only', 'whiteley', 'collections', 'has', '2010', 'australia', 'horror', 'between', 'seventeenthcentury', 'newcastle', 'wynne', 'hawkesbury', 'prize', 'artist', 'university', 'landscaped', 'art', 'doing', 'some', 'born', 'year', 'portrait', 'minchin', 'neo', 'darkness', 'for', 'held', 'currently', 'won', 'dutch', 'public', 'shows', 'goth', 'degree', 'bachelor', 'pynacker', 'come', 'by', 'resides', 'many', 'museum', 'controversy', 'melbourne', 'became', 'exhibited', 'south', 'win', 'potter', 'harbour', 'one', 'coffs', 'landscape', 'ian', 'geelong', 'australias', 'dobell', 'due', 'been', 'gallery', 'master', 'australian', 'was', 'leach', 'completed', 'award', 'prizes', 'worked', 'proposal', 'he', 'work', 'shilo', 'optimism', 'project', 'of', 'comedian', 'cosmos', 'and', 'economics', 'sam', '1973', 'is', 'galleries', 'tax', 'an', 'his', 'melbourneleachs', 'at', 'in', 'adelaide', 'same', 'also', 'archibald', 'rmit', 'several', 'regional', 'after', 'brett', 'diploma', 'victoria', 'william', 'most', 'generated', 'queensland', 'coast', 'gippsland', 'a', 'third', 'acknowledged', 'latrobe', 'so', 'adam', 'the', '2009', 'musical'], ['passages', 'wiccanpatricia', 'september', 'laura', 'programmercrowther', 'underlying', 'earned', '1943', 'had', 'patricia', 'to', 'critical', 'surveyed', 'wellknown', 'pursue', 'junction', 'around', 'couple', 'early', '9', 'historic', 'flint', 'expeditionscrowther', 'wiccan', 'pounds', 'married', 'p', 'she', 'where', 'frame', '1960s', '115', 'born', 'see', 'computer', 'connect', 'sandy', 'for', 'unable', 'connecting', 'thenhusband', 'caves', 'be', 'led', 'degree', 'slight', 'promising', 'met', 'bs', 'active', 'article', 'extreme', 'both', 'about', 'of', 'american', '1970s', 'connectioncrowther', 'narrow', 'or', 'among', 'system', 'juncture', 'dedication', 'canyon', 'leads', 'ridge', 'her', 'leading', 'two', 'john', 'was', 'final', 'authored', 'systems', 'tight', 'discovered', 'that', 'attempted', 'traversal', 'part', 'particular', 'known', 'wilcox', 'worked', 'account', 'valley', 'divorced', 'traits', 'this', 'participated', 'kentucky', 'will', 'were', 'houchins', 'and', 'proved', 'expedition', 'cavers', 'is', 'an', 'weighed', 'surveyor', 'as', 'at', 'in', 'expeditions', 'these', 'pat', 'cave', 'connection', 'note', 'also', 'other', 'grand', 'crowther', 'unwilling', 'many', 'mit', 'daughters', 'explorer', 'who', 'spot', 'william', 'a', 'attempt', '1977', '1976', 'later', '1972', 'portion', 'mammoth', 'undertaken', 'the', 'physics'], ['ignatius', 'currently', 'german', 'actress', 'alamos', 'had', 'young', 'to', 'only', 'moor', '2014', 'local', '2013', 'then', 'fate', 'de', 'school', 'munich', 'vera', 'during', 'learned', 'oboist', 'february', 'netherlands', 'herbers', '20002001', 'university', 'manhattan', '19', 'hague', 'stopped', 'she', 'went', 'nationale', 'composer', 'series', 'gymnasium', 'born', 'year', 'peter', 'kammerspiele', 'psychology', 'for', 'wgn', 'violinist', 'wunderschnen', 'won', 'dutch', 'new', 'theaterschool', 'announced', 'trap', 'attended', 'leeuw', 'physicist', 'studio', 'york', '20012005during', 'on', 'daughter', 'her', 'canadian', 'of', '19992000', 'studied', 'graduation', 'americas', 'drama', 'became', 'studies', 'toneel', 'bell', 'pair', 'werner', 'brush', 'female', 'ghent', 'monat', 'amsterdam', 'speak', 'het', 'city', 'from', '1980', 'beths', 'los', 'pronunciation', 'films', 'was', 'conductor', 'that', 'mira', 'but', 'lives', 'hb', 'with', 'upherbers', '1993', 'october', '1999', 'will', 'while', 'guido', 'growing', 'au', 'piece', 'performed', 'and', 'played', 'is', 'it', 'im', 'at', 'in', 'ntgent', 'film', 'reinbert', 'televisionherbers', 'katja', 'talentshe', 'member', 'role', 'pianist', 'rbrs', 'play', 'theatre', 'after', 'award', 'mai', 'the', 'a', '2002', '2003', 'english', 'ktja', '2013in'], ['coach', 'mexican', 'despite', 'years', 'shaka', 'world', 'playoffs', 'before', 'slot', 'ham', '22', 'eligible', 'had', 'bench', 'countrys', 'under', 'dispute', 'regularly', 'division', 'his', 'returned', 'matches', 'overall', 'february', 'newcastle', 'during', 'now', 'him', 'ruled', 'term', 'reading', 'occasions', 'university', 'team', 'starred', 'where', 'side', 'england', 'liga', 'espn', 'keegans', 'national', 'play', 'born', 'second', 'eredivisie', 'goalkeeper', 'out', 'runnerup', 'for', 'tobago', 'both', 'won', 'provides', 'international', 'receiving', 'ever', 'full', 'initially', '200203he', 'automatic', 'losing', 'news', 'finishing', 'league', 'working', 'career', 'of', 'cup', 'against', 'goalkeeping', 'became', 'u21', 'promotion', 'first', 'cm', '1st', 'neil', 'trinidad', 'service', 'to', 'west', 'top', 'two', 'sports', 'was', 'on', 'season', '2006he', 'but', 'serie', 'finished', 'part', 'chile', 'worked', 'with', 'former', 'he', 'also', 'quinnipiac', 'this', 'appearance', 'hislop', 'following', 'mx', 'and', 'portsmouth', 'played', 'is', 'premier', 'an', 'as', 'at', 'in', 'kevin', 'contention', 'united', 'end', '1969', 'majority', 'which', 'commentary', 'several', 'briefly', 'separate', 'football', 'fa', 'successive', 'seasons', 'medal', 'opted', 'a', 'later', 'spent', 'broadcasting', '2006', 'tenure', 'the'], ['miso', 'zed', 'jazzanova', 'sinclar', 'charles', 'named', 'years', 'imprint', 'including', 'teamed', 'pitch', 'japan', 'still', 'contributions', 'shostakovich', 'scoring', 'video', 'trying', 'producer', 'panther', 'writes', 'heavily', 'had', 'better', 'to', 'production', 'helps', 'under', 'influencers', 'circle', 'has', 'do', 'his', 'dj', 'which', 'later', 'very', 'synonymous', 'practice', 'soon', 'early', 'famous', 'artwork', 'aspirations', 'world', 'now', 'class', 'projects', 'worlds', 'runs', 'name', 'success', 'artist', 'occasions', 'debut', 'emi', 'worldclass', 'collaborations', 'filling', 'cartoons', 'martin', 'further', 'perfect', 'works', 'continuation', 'labresults', 'few', 'development', 'eastern', 'akatsuka', 'england', 'nineties', 'core', 'house', 'some', 'licensed', 'british', 'illustrations', 'companyfrom', 'productions', 'design', 'are', 'skateboarding', 'close', 'soulhe', 'ep', 'out', 'album', 'established', 'by', 'croft', 'for', 'ashes', 'diluted', 'label', 'content', 'lara', 'version', 'hill', 'print', 'new', 'across', 'deborah', 'be', 'records2009', 'full', 'replife', 'vocalists', 'atjazz', 'nitin', 'here', 'misspent', 'ranges', 'job', 'concentrate', 'studio', 'along', 'raider', 'legend', 'after', 'chapter', 'on', 'great', 'voice', 'working', 'launch', 'career', 'many', 'industry', 'allows', 'recordings', 'mantis', 'prolific', 'sonykioon', 'musicians', 'games', 'omar', 'ltd', 'tomb', 'changes', 'or', 'first', 'samethe', 'appropriately', 'fantastic', 'own', 'heart', 'uks', 'into', 'within', 'clara', 'scene', 'one', 'featured', 'pink', 'been', 'another', 'artists', 'throughout', 'sawhney', 'your', 'environment', 'story', '1996', 'from', 'midland', 'songs', 'distinct', 'top', 'trademark', 'due', 'long', 'heights', 'their', 'returns', 'of', 'music', 'way', 'series', 'forward', 'soundmartin', 'was', 'is', 'williams', 'gives', 'remixing', 'shoulders', 'himself', 'north', 'invite', 'releases', 'that', 'labfunk', 'company', 'but', 'requested', 'towns', 'jordan', 'demand', 'known', 'albums', 'hold', 'with', 'he', 'sound', 'states', '13', 'john', 'producers', 'henri', 'whether', '1998', 'work', 'this', 'up', 'youth', 'record', 'computer', 'mainstream', 'owns', 'following', 'webster', 'rework', 'animated', 'something', 'and', 'composer', 'underground', 'angel', 'cover', 'rubbing', 'it', 'deep', 'helped', 'player', 'as', 'bias', 'at', 'fujio', 'in', 'sought', 'seen', 'saw', 'cites', 'reworking', 'hone', 'these', 'renowned', 'realm', 'harsh', 'remixer', 'floor', 'breaking', 'ideas', 'also', 'amazing', 'other', 'take', 'spacemartins', 'digital', 'iveson', 'techniques', 'nu', 'channel', 'mould', 'even', 'such', 'jazz', 'led', 'inspirational', 'stravinsky', 'concentrates', 'wellreceived', 'soundtrack', 'most', 'hiphop', 'flown', 'arrived', 'two', 'records', 'moniker', 'bob', 'mancinis', 'darkness', 'a', '3rd', 'martins', 'frontier', 'well', 'scenemartin', 'more', 'gamesnot', 'frizzell', 'time', 'the', 'audio', 'its', 'musical', 'came', 'left'], ['erol', 'rymanher', 'pilcher', 'show', 'german', 'when', 'twoyear', 'soon', 'actress', 'clinic', 'zev', 'fear', 'children', 'lessons', 'write', 'tv', 'sexiest', 'enough', 'crime', 'to', 'only', 'other', 'black', 'differently', 'has', 'bellringer', 'express', 'properlyin', 'olivia', 'accepted', 'rebecca', 'advanced', 'school', 'heaven', 'appearing', '17', 'eva', 'episodes', 'twentyyearold', 'courses', 'she', 'january', 'zdf', 'investigators', 'greenlit', 'old', 'deal', 'series', 'born', 'fhmgermanys', 'ard', 'clown', 'best', 'ultimately', 'appear', 'for', 'roth', 'movie', 'leah', 'sanderin', 'ice', 'senior', 'payday', 'unable', 'moderated', 'seebergwhile', 'between', 'new', 'habermann', 'numerous', 'rosa', 'who', 'schedule', 'equivalent', 'however', 'free', 'ranked', 'conflicts', '100', 'by', 'after', 'obtained', 'received', 'of', 'hiatus', 'graduation', 'drama', 'angelsin', 'due', 'commit', 'orourke', 'first', 'love', '1997', 'appeared', 'character', 'scene', 'two', 'sisters', 'seasons', 'beach', 'singing', 'second', 'sander', 'monkey', 'her', 'lexx', 'beer', '2', '2002in', 'films', 'felicitas', 'was', 'commissioner', 'on', 'fire', 'season', 'took', 'gap', 'broadcast', 'known', 'placement', 'with', 'women', 'television', '19951996while', 'roles', '16', '1999', 'up', 'xenia', 'loves', 'wild', 'and', 'promises', 'angel', 'played', 'is', 'alongside', 'thus', 'high', 'as', 'cans', 'in', 'scheduling', 'seen', 'film', 'again', 'no', 'studying', 'club', 'able', '1', 'also', 'writers', 'role', 'forest', 'you', 'comedy', 'projects', 'diehlin', '2005', 'diploma', 'allowing', 'included', 'such', 'the', 'unavailable', 'a', 'rosamunde', 'pumuckl', 'succeeded', '1976', 'dancing', 'well', '2003', '2001', '2006', 'time', '2008', 'playing'], ['dunstable', 'shilton', 'leyton', 'playoffs', 'barking', '200001', 'marvel', 'september', 'indeed', 'argyle', 'league', 'recordbreaking', 'ending', 'steve', 'moved', 'manager', 'jimmy', 'birmingham', 'thanks', 'october', 'fine', 'before', '322', 'style', '20', '22', 'attracted', 'personal', 'highlights', 'angilley', 'had', 'fans', 'winning', 'late', 'athletic', 'charge', 'coaching', 'voted', 'developed', 'halftime', '2014', '2011', 'worth', '2013', 'division', 'them', 'his', 'preseason', 'seeking', 'matches', 'similar', '122', 'scout', 'foot', 'continued', 'net', 'well', 'brisbane', 'bobby', 'debut', 'joined', 'christmas', 'mccall', 'royston', '225000', 'barnstorming', 'team', 'alltime', 'scored', 'castles', 'twitter', 'fixture', 'back', 'up', 'born', 'clubs', 'wigan', 'year', 'incidentally', 'home', 'peter', 'hattrick', 'orient', 'out', 'gillingham', 'total', 'unitedon', 'feat', 'midfield', 'senior', 'enough', 'between', 'new', 'wembley', 'undisputed', 'ever', 'appearances', 'victory', 'be', 'website', 'who', 'combative', 'intimate', 'attention', 'free', 'boss', 'day', 'allaction', 'licence', 'captainhe', 'promptly', 'super', 'by', 'wait', 'gained', 'on', 'orients', 'stevie', 'of', 'friendly', 'against', 'became', 'place', 'action', 'castle', 'road', 'first', 'golden', 'named', 'cambridge', 'retired', 'campaign', 'headed', 'win', 'one', 'county', 'playoff', 'denis', 'quinn', 'seasons', 'table', 'poll', 'city', '1984', 'fee', 'from', 'would', 'to', 'transfer', 'top', 'played', 'due', 'next', 'start', 'until', 'taken', 'amassing', 'was', 'instructing', 'dalglish', 'more', 'pfa', 'liverpool', 'relationship', 'boy', 'duly', 'season', 'transferring', 'park', 'took', 'but', 'expected', '199394', 'game', 'goals', 'own', 'an', 'with', 'former', 'he', 'playercoach', '13th', '1993', '1992', 'were', 'target', '17', '16', 'injuryin', 'seen', 'second', 'final', 'career', 'plymouth', 'three', 'gould', '32', 'following', 'highlight', 'stockport', 'minutes', 'notched', 'at', 'and', 'firm', 'kenny', 'eventually', 'december', 'is', 'alongside', 'turned', 'it', 'general', 'newlook', 'as', 'vs', 'unitedplymouth', 'have', 'in', 'spells', 'partner', 'saw', 'their', 'negotiations', 'confirmed', '199798', 'end', 'peterborough', 'town', '1966', 'boxing', 'parks', 'rally', 'also', 'that', 'squad', '199091', 'assistant', 'xi', 'wimbledon', 'injured', 'bagging', 'over', 'may', 'see', 'separate', 'favourite', 'advice', 'football', 'paid', 'director', 'marched', 'six', '1995castle', 'tier', 'knee', 'meaningful', 'secondhalf', 'vein', 'a', 'for', 'third', 'relegation', 'midfielder', 'persistent', 'astonishing', '2001', '2006', 'greatest', 'english', 'the', '12', 'uefa', 'left'], ['ikebana', 'cameo', 'show', 'tehran', 'wiener', 'including', 'laments', 'dietch', 'la', 'with', 'glamourhe', 'iranianarmenian', 'to', 'arrangementra', '2014', 'halloween', 'arias', '2010', 'boulder', 'his', 'combination', 'song', 'very', 'bands', 'records', 'musicarmen', 'judge', 'projects', 'lincoln', 'gershwin', 'konzerthaus', 'opera', 'debut', 'standards', 'joes', 'release', 'californiain', 'concerts', 'vogue', 'art', 'concert', 'classical', 'mtv', 'almond', 'mozartsaal', 'born', 'taught', 'are', 'logo', 'folk', 'album', 'plays', 'network', 'for', 'currently', 'recorded', 'factory', 'various', 'ra', 'cnn', 'new', 'solo', 'iran', 'bb', 'sharon', 'pg13', 'pub', 'armenian', 'along', 'by', 'both', 'hbo', 'resides', 'many', 'british', 'times', 'etc', 'american', 'york', 'raised', 'madness', 'appeared', 'cd', 'featured', 'bats', 'armen', 'village', 'post', 'has', 'arts', 'from', 'guest', 'cbgbs', 'marc', 'museum', 'vh1', 'been', 'their', 'fuses', 'master', 'heritage', 'mama', 'music', 'hollywood', 'was', 'vienna', 'melodic', 'himself', 'on', 'influence', 'hotel', 'stone', 'released', 'visual', 'needles', 'known', 'representing', 'he', 'king', 'october', 'appearance', 'nations', 'recording', 'of', 'voice', 'my', 'at', 'and', 'fork', 'performer', 'played', 'is', 'modern', 'armens', 'an', 'as', 'performed', 'voltaires', 'in', 'everyday', 'film', 'instrumentation', 'united', 'descent', 'bowl', 'lounge', 'theremin', 'variet', 'showcases', 'party', 'pianist', 'play', 'knitting', 'track', 'collaboration', 'artist', 'rolling', 'a', 'singer', 'center', 'monsterhe', 'i', 'cover', 'musical', 'aunt', 'mother', 'the', 'first', 'playing', 'songs'], ['godspell', 'mackintosh', 'producer', 'show', 'charles', 'all', 'eton', 'held', 'london', 'directs', 'cameron', 'principal', 'downstairs', 'freelance', 'writer', 'father', 'young', 'including', 'to', 'repertory', 'speech', 'into', 'then', 'schoettle', 'executive', 'around', 'amy', 'producing', 'world', 'now', 'katie', 'school', 'james', 'brother', 'shaughnessy', 'gameshis', 'cartoons', 'become', 'went', 'work', 'old', 'restless', 'scriptwriter', 'series', 'national', 'directing', 'college', 'our', 'best', 'ultimately', 'for', 'daytime', 'provides', 'anne', 'barony', 'basis', 'bold', 'sheffield', 'nanny', 'by', 'tours', 'on', 'central', 'of', 'months', 'days', 'david', 'drama', 'presumptive', 'beautiful', 'vic', 'maxwell', 'acted', 'touring', 'wade', 'shaughnessey', 'upstairs', 'voiceovers', 'service', 'los', 'three', 'geoffrey', 'live', 'alfred', 'films', 'was', 'head', 'educated', 'both', 'started', 'moved', 'becoming', 'heir', 'lives', 'known', 'with', 'former', 'he', 'television', 'developing', '18', 'older', 'movies', 'while', 'uk', 'video', 'and', 'is', 'turned', 'spelled', 'as', 'his', 'at', 'have', 'in', 'seen', 'angeles', 'perform', 'commercials', 'actor', 'also', 'josiehe', 'which', 'company', 'daughters', 'theatre', 'director', 'actors', 'a', 'wife', 'theatres', 'the', 'britishborn', 'uslater'], ['serving', 'suburban', 'coastsea', 'interim', 'fifth', '24', 'retirement', 'candidate', '1942', 'had', 'better', 'to', 'stephen', 'role', 'tory', 'eventually', 'someone', 'policiesbeginning', 'government', 'very', 'bid', 'credit', 'criticized', 'they', 'stockwell', 'accepted', 'continued', 'day', 'progressive', 'january', 'chuck', 'this', 'red', 'crossing', 'served', 'stronachs', 'people', 'house', 'commons', 'born', 'election', 'resigned', 'whip', 'said', 'for', 'reform', 'federal', 'new', 'douglas', 'conservative', 'got', 'approach', 'leader', 'caucus', 'told', '1986', 'after', 'assembly', 'however', 'leadership', 'joe', 'belinda', 'conservatives', 'active', 'faced', 'on', 'about', 'canadian', 'of', 'british', 'david', 'chosen', 'place', '1970s', 'asked', 'harpers', 'first', 'criticism', 'and', 'named', 'alliance', 'opposition', 'campaign', 'folded', 'into', 'speaker', '1990s', 'sky', 'legislative', 'from', '1983', 'west', 'been', 'pc', 'liberals', 'convention', 'resulted', 'john', 'was', 'until', 'happy', 'parliament', 'triggered', 'offer', 'but', 'cabinet', 'leaderreynolds', 'reelectionreynolds', 'minister', 'riding', 'with', 'he', '1991', 'politician', '1997', 'elected', '19', 'reelected', 'bargain', 'emerson', 'mp', 'country', 'newspaper', 'social', 'strongly', 'liberal', 'remained', 'well', 'is', 'defeated', 'an', '1980s', 'coordinator', 'as', 'his', 'at', 'have', 'in', 'claimed', 'politics', 'reynolds', 'returned', 'provincial', 'end', 'floor', 'harper', 'that', 'when', 'chief', 'member', 'also', 'vancouver', 'party', 'which', 'instead', 'clarks', 'columbia', 'minority', 'who', 'leftleaning', 'coming', 'strahl', 'a', 'emersons', '1977', '1974', 'revolt', '1972', 'disagreeing', 'switch', '2001', '2006', 'firestorm', '2005', 'the', 'having', 'vancouversunshine'], ['coach', 'managed', 'vfagrieg', 'suburban', 'years', 'whilst', 'carltona', 'fine', 'its', 'onset', 'votes', 'but', '21', '23', 'kilda', 'winning', 'to', 'only', 'association', 'under', 'suffered', 'footballer', 'polled', 'hawthorn', 'preseason', 'rules', 'compiled', 'handballs', 'nearly', 'despite', 'not', 'during', 'listin', 'him', 'is', 'name', 'captaining', 'did', 'debut', 'team', 'noted', 'dean', 'ten', 'griegs', 'some', 'mishap', 'born', 'clubs', 'best', 'shining', 'for', 'creative', 'progress', 'subsequently', 'be', 'football', 'leg', 'greig', 'sole', '19s', 'broken', 'disposals', 'by', 'trophy', 'on', '39', 'last', 'of', '31', 'changed', 'against', 'round', 'games', 'collingwood', 'retain', 'strongly', 'recruited', 'had', 'gary', 'ailing', 'midfielder', '1985', 'described', 'due', 'handballin', 'brice', 'expected', 'australian', 'was', 'fairest', 'league', 'club', 'season', 'infection', 'released', 'kicks', 'with', 'former', 'he', '1991', '1990', 'october', '16', 'this', 'wish', 'j', 'record', 'victorian', 'nine', 'light', 'following', 'didnt', 'and', 'played', 'winless', 'turned', 'it', 'an', '1980s', 'as', 'his', 'at', 'in', 'leaguegreig', 'end', 'built', 'liston', 'amputated', 'also', 'trialled', 'which', 'gangrene', 'out', 'scoresby', 'after', 'award', 'camberwell', '1968', 'senior', 'a', 'lower', 'vfl', 'onfield', 'grieg', 'nevertheless', 'performances', 'age', 'st', '2001', 'the', 'playing'], ... ]"
      ]
     },
     "execution_count": 34,
     "metadata": {},
     "output_type": "execute_result"
    }
   ],
   "source": [
    "obama_words[:5]\n",
    "common_words = obama_words[:5][\"word\"]\n",
    "common_words\n",
    "wiki['word_count'].apply(lambda x: x.keys())"
   ]
  },
  {
   "cell_type": "code",
   "execution_count": 44,
   "metadata": {
    "collapsed": false
   },
   "outputs": [
    {
     "data": {
      "text/plain": [
       "56066"
      ]
     },
     "execution_count": 44,
     "metadata": {},
     "output_type": "execute_result"
    }
   ],
   "source": [
    "common_words = set(obama_words[:5][\"word\"])\n",
    "\n",
    "def has_top_words(word_count_vector):\n",
    "    # extract the keys of word_count_vector and convert it to a set\n",
    "    unique_words = set(word_count_vector.keys())\n",
    "    #print len(unique_words)\n",
    "\n",
    "    # return True if common_words is a subset of unique_words\n",
    "    # return False otherwise\n",
    "    if common_words.issubset(unique_words):\n",
    "        return True\n",
    "    else:\n",
    "        return False\n",
    "\n",
    "wiki['has_top_words'] = wiki['word_count'].apply(has_top_words)\n",
    "\n",
    "# use has_top_words column to answer the quiz question\n",
    "wiki['has_top_words'].sum()\n"
   ]
  },
  {
   "cell_type": "markdown",
   "metadata": {},
   "source": [
    "**Checkpoint**. Check your `has_top_words` function on two random articles:"
   ]
  },
  {
   "cell_type": "code",
   "execution_count": 41,
   "metadata": {
    "collapsed": false
   },
   "outputs": [
    {
     "name": "stdout",
     "output_type": "stream",
     "text": [
      "Output from your function: 167\n",
      "True\n",
      "Correct output: True\n",
      "Also check the length of unique_words. It should be 167\n"
     ]
    }
   ],
   "source": [
    "print 'Output from your function:', has_top_words(wiki[32]['word_count'])\n",
    "print 'Correct output: True'\n",
    "print 'Also check the length of unique_words. It should be 167'"
   ]
  },
  {
   "cell_type": "code",
   "execution_count": 42,
   "metadata": {
    "collapsed": false
   },
   "outputs": [
    {
     "name": "stdout",
     "output_type": "stream",
     "text": [
      "Output from your function: 188\n",
      "False\n",
      "Correct output: False\n",
      "Also check the length of unique_words. It should be 188\n"
     ]
    }
   ],
   "source": [
    "print 'Output from your function:', has_top_words(wiki[33]['word_count'])\n",
    "print 'Correct output: False'\n",
    "print 'Also check the length of unique_words. It should be 188'"
   ]
  },
  {
   "cell_type": "markdown",
   "metadata": {},
   "source": [
    "**Quiz Question**. Measure the pairwise distance between the Wikipedia pages of Barack Obama, George W. Bush, and Joe Biden. Which of the three pairs has the smallest distance?\n",
    "\n",
    "Hint: To compute the Euclidean distance between two dictionaries, use `graphlab.toolkits.distances.euclidean`. Refer to [this link](https://dato.com/products/create/docs/generated/graphlab.toolkits.distances.euclidean.html) for usage."
   ]
  },
  {
   "cell_type": "code",
   "execution_count": 57,
   "metadata": {
    "collapsed": false
   },
   "outputs": [
    {
     "name": "stdout",
     "output_type": "stream",
     "text": [
      "34.3947670438\n",
      "33.0756708171\n",
      "32.7566787083\n"
     ]
    }
   ],
   "source": [
    "def wc(name):\n",
    "    return wiki[wiki['name']==name][\"word_count\"][0]\n",
    "\n",
    "obama_bush = graphlab.toolkits.distances.euclidean(wc(\"Barack Obama\"), wc(\"George W. Bush\"))\n",
    "obama_biden = graphlab.toolkits.distances.euclidean(wc(\"Barack Obama\"), wc(\"Joe Biden\"))\n",
    "bush_biden = graphlab.toolkits.distances.euclidean(wc(\"George W. Bush\"), wc(\"Joe Biden\"))\n",
    "\n",
    "print obama_bush\n",
    "print obama_biden\n",
    "print bush_biden"
   ]
  },
  {
   "cell_type": "markdown",
   "metadata": {},
   "source": [
    "**Quiz Question**. Collect all words that appear both in Barack Obama and George W. Bush pages.  Out of those words, find the 10 words that show up most often in Obama's page. "
   ]
  },
  {
   "cell_type": "code",
   "execution_count": 71,
   "metadata": {
    "collapsed": false
   },
   "outputs": [
    {
     "name": "stdout",
     "output_type": "stream",
     "text": [
      "+-------+-------+\n",
      "|  word | count |\n",
      "+-------+-------+\n",
      "|  the  |   40  |\n",
      "|   in  |   30  |\n",
      "|  and  |   21  |\n",
      "|   of  |   18  |\n",
      "|   to  |   14  |\n",
      "|  his  |   11  |\n",
      "| obama |   9   |\n",
      "|  act  |   8   |\n",
      "|   a   |   7   |\n",
      "|   he  |   7   |\n",
      "+-------+-------+\n",
      "[273 rows x 2 columns]\n",
      "Note: Only the head of the SFrame is printed.\n",
      "You can use print_rows(num_rows=m, num_columns=n) to print more rows and columns.\n"
     ]
    },
    {
     "data": {
      "text/plain": [
       "dtype: str\n",
       "Rows: 10\n",
       "['the', 'in', 'and', 'of', 'to', 'his', 'a', 'he', 'as', 'was']"
      ]
     },
     "execution_count": 71,
     "metadata": {},
     "output_type": "execute_result"
    }
   ],
   "source": [
    "obama_words = top_words(\"Barack Obama\")\n",
    "print obama_words\n",
    "bush_words = top_words(\"George W. Bush\")\n",
    "combined_words = obama_words.join(barrio_words, on='word')\n",
    "combined_words = combined_words.rename({'count':'Obama', 'count.1':'Bush'})\n",
    "combined_words.sort('Obama', ascending=False)\n",
    "combined_words['word'][:10]"
   ]
  },
  {
   "cell_type": "markdown",
   "metadata": {},
   "source": [
    "**Note.** Even though common words are swamping out important subtle differences, commonalities in rarer political words still matter on the margin. This is why politicians are being listed in the query result instead of musicians, for example. In the next subsection, we will introduce a different metric that will place greater emphasis on those rarer words."
   ]
  },
  {
   "cell_type": "markdown",
   "metadata": {},
   "source": [
    "## TF-IDF to the rescue"
   ]
  },
  {
   "cell_type": "markdown",
   "metadata": {},
   "source": [
    "Much of the perceived commonalities between Obama and Barrio were due to occurrences of extremely frequent words, such as \"the\", \"and\", and \"his\". So nearest neighbors is recommending plausible results sometimes for the wrong reasons. \n",
    "\n",
    "To retrieve articles that are more relevant, we should focus more on rare words that don't happen in every article. **TF-IDF** (term frequency–inverse document frequency) is a feature representation that penalizes words that are too common.  Let's use GraphLab Create's implementation of TF-IDF and repeat the search for the 10 nearest neighbors of Barack Obama:"
   ]
  },
  {
   "cell_type": "code",
   "execution_count": 72,
   "metadata": {
    "collapsed": false
   },
   "outputs": [],
   "source": [
    "wiki['tf_idf'] = graphlab.text_analytics.tf_idf(wiki['word_count'])"
   ]
  },
  {
   "cell_type": "code",
   "execution_count": 73,
   "metadata": {
    "collapsed": false
   },
   "outputs": [
    {
     "data": {
      "text/html": [
       "<pre>Starting brute force nearest neighbors model training.</pre>"
      ],
      "text/plain": [
       "Starting brute force nearest neighbors model training."
      ]
     },
     "metadata": {},
     "output_type": "display_data"
    }
   ],
   "source": [
    "model_tf_idf = graphlab.nearest_neighbors.create(wiki, label='name', features=['tf_idf'],\n",
    "                                                 method='brute_force', distance='euclidean')"
   ]
  },
  {
   "cell_type": "code",
   "execution_count": 74,
   "metadata": {
    "collapsed": false
   },
   "outputs": [
    {
     "data": {
      "text/html": [
       "<pre>Starting pairwise querying.</pre>"
      ],
      "text/plain": [
       "Starting pairwise querying."
      ]
     },
     "metadata": {},
     "output_type": "display_data"
    },
    {
     "data": {
      "text/html": [
       "<pre>+--------------+---------+-------------+--------------+</pre>"
      ],
      "text/plain": [
       "+--------------+---------+-------------+--------------+"
      ]
     },
     "metadata": {},
     "output_type": "display_data"
    },
    {
     "data": {
      "text/html": [
       "<pre>| Query points | # Pairs | % Complete. | Elapsed Time |</pre>"
      ],
      "text/plain": [
       "| Query points | # Pairs | % Complete. | Elapsed Time |"
      ]
     },
     "metadata": {},
     "output_type": "display_data"
    },
    {
     "data": {
      "text/html": [
       "<pre>+--------------+---------+-------------+--------------+</pre>"
      ],
      "text/plain": [
       "+--------------+---------+-------------+--------------+"
      ]
     },
     "metadata": {},
     "output_type": "display_data"
    },
    {
     "data": {
      "text/html": [
       "<pre>| 0            | 1       | 0.00169288  | 5.38ms       |</pre>"
      ],
      "text/plain": [
       "| 0            | 1       | 0.00169288  | 5.38ms       |"
      ]
     },
     "metadata": {},
     "output_type": "display_data"
    },
    {
     "data": {
      "text/html": [
       "<pre>| Done         |         | 100         | 106.17ms     |</pre>"
      ],
      "text/plain": [
       "| Done         |         | 100         | 106.17ms     |"
      ]
     },
     "metadata": {},
     "output_type": "display_data"
    },
    {
     "data": {
      "text/html": [
       "<pre>+--------------+---------+-------------+--------------+</pre>"
      ],
      "text/plain": [
       "+--------------+---------+-------------+--------------+"
      ]
     },
     "metadata": {},
     "output_type": "display_data"
    },
    {
     "data": {
      "text/html": [
       "<div style=\"max-height:1000px;max-width:1500px;overflow:auto;\"><table frame=\"box\" rules=\"cols\">\n",
       "    <tr>\n",
       "        <th style=\"padding-left: 1em; padding-right: 1em; text-align: center\">query_label</th>\n",
       "        <th style=\"padding-left: 1em; padding-right: 1em; text-align: center\">reference_label</th>\n",
       "        <th style=\"padding-left: 1em; padding-right: 1em; text-align: center\">distance</th>\n",
       "        <th style=\"padding-left: 1em; padding-right: 1em; text-align: center\">rank</th>\n",
       "    </tr>\n",
       "    <tr>\n",
       "        <td style=\"padding-left: 1em; padding-right: 1em; text-align: center; vertical-align: top\">Barack Obama</td>\n",
       "        <td style=\"padding-left: 1em; padding-right: 1em; text-align: center; vertical-align: top\">Barack Obama</td>\n",
       "        <td style=\"padding-left: 1em; padding-right: 1em; text-align: center; vertical-align: top\">0.0</td>\n",
       "        <td style=\"padding-left: 1em; padding-right: 1em; text-align: center; vertical-align: top\">1</td>\n",
       "    </tr>\n",
       "    <tr>\n",
       "        <td style=\"padding-left: 1em; padding-right: 1em; text-align: center; vertical-align: top\">Barack Obama</td>\n",
       "        <td style=\"padding-left: 1em; padding-right: 1em; text-align: center; vertical-align: top\">Phil Schiliro</td>\n",
       "        <td style=\"padding-left: 1em; padding-right: 1em; text-align: center; vertical-align: top\">106.861013691</td>\n",
       "        <td style=\"padding-left: 1em; padding-right: 1em; text-align: center; vertical-align: top\">2</td>\n",
       "    </tr>\n",
       "    <tr>\n",
       "        <td style=\"padding-left: 1em; padding-right: 1em; text-align: center; vertical-align: top\">Barack Obama</td>\n",
       "        <td style=\"padding-left: 1em; padding-right: 1em; text-align: center; vertical-align: top\">Jeff Sessions</td>\n",
       "        <td style=\"padding-left: 1em; padding-right: 1em; text-align: center; vertical-align: top\">108.871674216</td>\n",
       "        <td style=\"padding-left: 1em; padding-right: 1em; text-align: center; vertical-align: top\">3</td>\n",
       "    </tr>\n",
       "    <tr>\n",
       "        <td style=\"padding-left: 1em; padding-right: 1em; text-align: center; vertical-align: top\">Barack Obama</td>\n",
       "        <td style=\"padding-left: 1em; padding-right: 1em; text-align: center; vertical-align: top\">Jesse Lee (politician)</td>\n",
       "        <td style=\"padding-left: 1em; padding-right: 1em; text-align: center; vertical-align: top\">109.045697909</td>\n",
       "        <td style=\"padding-left: 1em; padding-right: 1em; text-align: center; vertical-align: top\">4</td>\n",
       "    </tr>\n",
       "    <tr>\n",
       "        <td style=\"padding-left: 1em; padding-right: 1em; text-align: center; vertical-align: top\">Barack Obama</td>\n",
       "        <td style=\"padding-left: 1em; padding-right: 1em; text-align: center; vertical-align: top\">Samantha Power</td>\n",
       "        <td style=\"padding-left: 1em; padding-right: 1em; text-align: center; vertical-align: top\">109.108106165</td>\n",
       "        <td style=\"padding-left: 1em; padding-right: 1em; text-align: center; vertical-align: top\">5</td>\n",
       "    </tr>\n",
       "    <tr>\n",
       "        <td style=\"padding-left: 1em; padding-right: 1em; text-align: center; vertical-align: top\">Barack Obama</td>\n",
       "        <td style=\"padding-left: 1em; padding-right: 1em; text-align: center; vertical-align: top\">Bob Menendez</td>\n",
       "        <td style=\"padding-left: 1em; padding-right: 1em; text-align: center; vertical-align: top\">109.781867105</td>\n",
       "        <td style=\"padding-left: 1em; padding-right: 1em; text-align: center; vertical-align: top\">6</td>\n",
       "    </tr>\n",
       "    <tr>\n",
       "        <td style=\"padding-left: 1em; padding-right: 1em; text-align: center; vertical-align: top\">Barack Obama</td>\n",
       "        <td style=\"padding-left: 1em; padding-right: 1em; text-align: center; vertical-align: top\">Eric Stern (politician)</td>\n",
       "        <td style=\"padding-left: 1em; padding-right: 1em; text-align: center; vertical-align: top\">109.95778808</td>\n",
       "        <td style=\"padding-left: 1em; padding-right: 1em; text-align: center; vertical-align: top\">7</td>\n",
       "    </tr>\n",
       "    <tr>\n",
       "        <td style=\"padding-left: 1em; padding-right: 1em; text-align: center; vertical-align: top\">Barack Obama</td>\n",
       "        <td style=\"padding-left: 1em; padding-right: 1em; text-align: center; vertical-align: top\">James A. Guest</td>\n",
       "        <td style=\"padding-left: 1em; padding-right: 1em; text-align: center; vertical-align: top\">110.413888718</td>\n",
       "        <td style=\"padding-left: 1em; padding-right: 1em; text-align: center; vertical-align: top\">8</td>\n",
       "    </tr>\n",
       "    <tr>\n",
       "        <td style=\"padding-left: 1em; padding-right: 1em; text-align: center; vertical-align: top\">Barack Obama</td>\n",
       "        <td style=\"padding-left: 1em; padding-right: 1em; text-align: center; vertical-align: top\">Roland Grossenbacher</td>\n",
       "        <td style=\"padding-left: 1em; padding-right: 1em; text-align: center; vertical-align: top\">110.4706087</td>\n",
       "        <td style=\"padding-left: 1em; padding-right: 1em; text-align: center; vertical-align: top\">9</td>\n",
       "    </tr>\n",
       "    <tr>\n",
       "        <td style=\"padding-left: 1em; padding-right: 1em; text-align: center; vertical-align: top\">Barack Obama</td>\n",
       "        <td style=\"padding-left: 1em; padding-right: 1em; text-align: center; vertical-align: top\">Tulsi Gabbard</td>\n",
       "        <td style=\"padding-left: 1em; padding-right: 1em; text-align: center; vertical-align: top\">110.696997999</td>\n",
       "        <td style=\"padding-left: 1em; padding-right: 1em; text-align: center; vertical-align: top\">10</td>\n",
       "    </tr>\n",
       "</table>\n",
       "[10 rows x 4 columns]<br/>\n",
       "</div>"
      ],
      "text/plain": [
       "Columns:\n",
       "\tquery_label\tstr\n",
       "\treference_label\tstr\n",
       "\tdistance\tfloat\n",
       "\trank\tint\n",
       "\n",
       "Rows: 10\n",
       "\n",
       "Data:\n",
       "+--------------+-------------------------+---------------+------+\n",
       "| query_label  |     reference_label     |    distance   | rank |\n",
       "+--------------+-------------------------+---------------+------+\n",
       "| Barack Obama |       Barack Obama      |      0.0      |  1   |\n",
       "| Barack Obama |      Phil Schiliro      | 106.861013691 |  2   |\n",
       "| Barack Obama |      Jeff Sessions      | 108.871674216 |  3   |\n",
       "| Barack Obama |  Jesse Lee (politician) | 109.045697909 |  4   |\n",
       "| Barack Obama |      Samantha Power     | 109.108106165 |  5   |\n",
       "| Barack Obama |       Bob Menendez      | 109.781867105 |  6   |\n",
       "| Barack Obama | Eric Stern (politician) |  109.95778808 |  7   |\n",
       "| Barack Obama |      James A. Guest     | 110.413888718 |  8   |\n",
       "| Barack Obama |   Roland Grossenbacher  |  110.4706087  |  9   |\n",
       "| Barack Obama |      Tulsi Gabbard      | 110.696997999 |  10  |\n",
       "+--------------+-------------------------+---------------+------+\n",
       "[10 rows x 4 columns]"
      ]
     },
     "execution_count": 74,
     "metadata": {},
     "output_type": "execute_result"
    }
   ],
   "source": [
    "model_tf_idf.query(wiki[wiki['name'] == 'Barack Obama'], label='name', k=10)"
   ]
  },
  {
   "cell_type": "markdown",
   "metadata": {},
   "source": [
    "Let's determine whether this list makes sense.\n",
    "* With a notable exception of Roland Grossenbacher, the other 8 are all American politicians who are contemporaries of Barack Obama.\n",
    "* Phil Schiliro, Jesse Lee, Samantha Power, and Eric Stern worked for Obama.\n",
    "\n",
    "Clearly, the results are more plausible with the use of TF-IDF. Let's take a look at the word vector for Obama and Schilirio's pages. Notice that TF-IDF representation assigns a weight to each word. This weight captures relative importance of that word in the document. Let us sort the words in Obama's article by their TF-IDF weights; we do the same for Schiliro's article as well."
   ]
  },
  {
   "cell_type": "code",
   "execution_count": 75,
   "metadata": {
    "collapsed": false
   },
   "outputs": [],
   "source": [
    "def top_words_tf_idf(name):\n",
    "    row = wiki[wiki['name'] == name]\n",
    "    word_count_table = row[['tf_idf']].stack('tf_idf', new_column_name=['word','weight'])\n",
    "    return word_count_table.sort('weight', ascending=False)"
   ]
  },
  {
   "cell_type": "code",
   "execution_count": 76,
   "metadata": {
    "collapsed": false
   },
   "outputs": [
    {
     "data": {
      "text/html": [
       "<div style=\"max-height:1000px;max-width:1500px;overflow:auto;\"><table frame=\"box\" rules=\"cols\">\n",
       "    <tr>\n",
       "        <th style=\"padding-left: 1em; padding-right: 1em; text-align: center\">word</th>\n",
       "        <th style=\"padding-left: 1em; padding-right: 1em; text-align: center\">weight</th>\n",
       "    </tr>\n",
       "    <tr>\n",
       "        <td style=\"padding-left: 1em; padding-right: 1em; text-align: center; vertical-align: top\">obama</td>\n",
       "        <td style=\"padding-left: 1em; padding-right: 1em; text-align: center; vertical-align: top\">43.2956530721</td>\n",
       "    </tr>\n",
       "    <tr>\n",
       "        <td style=\"padding-left: 1em; padding-right: 1em; text-align: center; vertical-align: top\">act</td>\n",
       "        <td style=\"padding-left: 1em; padding-right: 1em; text-align: center; vertical-align: top\">27.678222623</td>\n",
       "    </tr>\n",
       "    <tr>\n",
       "        <td style=\"padding-left: 1em; padding-right: 1em; text-align: center; vertical-align: top\">iraq</td>\n",
       "        <td style=\"padding-left: 1em; padding-right: 1em; text-align: center; vertical-align: top\">17.747378588</td>\n",
       "    </tr>\n",
       "    <tr>\n",
       "        <td style=\"padding-left: 1em; padding-right: 1em; text-align: center; vertical-align: top\">control</td>\n",
       "        <td style=\"padding-left: 1em; padding-right: 1em; text-align: center; vertical-align: top\">14.8870608452</td>\n",
       "    </tr>\n",
       "    <tr>\n",
       "        <td style=\"padding-left: 1em; padding-right: 1em; text-align: center; vertical-align: top\">law</td>\n",
       "        <td style=\"padding-left: 1em; padding-right: 1em; text-align: center; vertical-align: top\">14.7229357618</td>\n",
       "    </tr>\n",
       "    <tr>\n",
       "        <td style=\"padding-left: 1em; padding-right: 1em; text-align: center; vertical-align: top\">ordered</td>\n",
       "        <td style=\"padding-left: 1em; padding-right: 1em; text-align: center; vertical-align: top\">14.5333739509</td>\n",
       "    </tr>\n",
       "    <tr>\n",
       "        <td style=\"padding-left: 1em; padding-right: 1em; text-align: center; vertical-align: top\">military</td>\n",
       "        <td style=\"padding-left: 1em; padding-right: 1em; text-align: center; vertical-align: top\">13.1159327785</td>\n",
       "    </tr>\n",
       "    <tr>\n",
       "        <td style=\"padding-left: 1em; padding-right: 1em; text-align: center; vertical-align: top\">involvement</td>\n",
       "        <td style=\"padding-left: 1em; padding-right: 1em; text-align: center; vertical-align: top\">12.7843852412</td>\n",
       "    </tr>\n",
       "    <tr>\n",
       "        <td style=\"padding-left: 1em; padding-right: 1em; text-align: center; vertical-align: top\">response</td>\n",
       "        <td style=\"padding-left: 1em; padding-right: 1em; text-align: center; vertical-align: top\">12.7843852412</td>\n",
       "    </tr>\n",
       "    <tr>\n",
       "        <td style=\"padding-left: 1em; padding-right: 1em; text-align: center; vertical-align: top\">democratic</td>\n",
       "        <td style=\"padding-left: 1em; padding-right: 1em; text-align: center; vertical-align: top\">12.4106886973</td>\n",
       "    </tr>\n",
       "</table>\n",
       "[273 rows x 2 columns]<br/>Note: Only the head of the SFrame is printed.<br/>You can use print_rows(num_rows=m, num_columns=n) to print more rows and columns.\n",
       "</div>"
      ],
      "text/plain": [
       "Columns:\n",
       "\tword\tstr\n",
       "\tweight\tfloat\n",
       "\n",
       "Rows: 273\n",
       "\n",
       "Data:\n",
       "+-------------+---------------+\n",
       "|     word    |     weight    |\n",
       "+-------------+---------------+\n",
       "|    obama    | 43.2956530721 |\n",
       "|     act     |  27.678222623 |\n",
       "|     iraq    |  17.747378588 |\n",
       "|   control   | 14.8870608452 |\n",
       "|     law     | 14.7229357618 |\n",
       "|   ordered   | 14.5333739509 |\n",
       "|   military  | 13.1159327785 |\n",
       "| involvement | 12.7843852412 |\n",
       "|   response  | 12.7843852412 |\n",
       "|  democratic | 12.4106886973 |\n",
       "+-------------+---------------+\n",
       "[273 rows x 2 columns]\n",
       "Note: Only the head of the SFrame is printed.\n",
       "You can use print_rows(num_rows=m, num_columns=n) to print more rows and columns."
      ]
     },
     "execution_count": 76,
     "metadata": {},
     "output_type": "execute_result"
    }
   ],
   "source": [
    "obama_tf_idf = top_words_tf_idf('Barack Obama')\n",
    "obama_tf_idf"
   ]
  },
  {
   "cell_type": "code",
   "execution_count": 77,
   "metadata": {
    "collapsed": false
   },
   "outputs": [
    {
     "data": {
      "text/html": [
       "<div style=\"max-height:1000px;max-width:1500px;overflow:auto;\"><table frame=\"box\" rules=\"cols\">\n",
       "    <tr>\n",
       "        <th style=\"padding-left: 1em; padding-right: 1em; text-align: center\">word</th>\n",
       "        <th style=\"padding-left: 1em; padding-right: 1em; text-align: center\">weight</th>\n",
       "    </tr>\n",
       "    <tr>\n",
       "        <td style=\"padding-left: 1em; padding-right: 1em; text-align: center; vertical-align: top\">schiliro</td>\n",
       "        <td style=\"padding-left: 1em; padding-right: 1em; text-align: center; vertical-align: top\">21.9729907785</td>\n",
       "    </tr>\n",
       "    <tr>\n",
       "        <td style=\"padding-left: 1em; padding-right: 1em; text-align: center; vertical-align: top\">staff</td>\n",
       "        <td style=\"padding-left: 1em; padding-right: 1em; text-align: center; vertical-align: top\">15.8564416352</td>\n",
       "    </tr>\n",
       "    <tr>\n",
       "        <td style=\"padding-left: 1em; padding-right: 1em; text-align: center; vertical-align: top\">congressional</td>\n",
       "        <td style=\"padding-left: 1em; padding-right: 1em; text-align: center; vertical-align: top\">13.5470876563</td>\n",
       "    </tr>\n",
       "    <tr>\n",
       "        <td style=\"padding-left: 1em; padding-right: 1em; text-align: center; vertical-align: top\">daschleschiliro</td>\n",
       "        <td style=\"padding-left: 1em; padding-right: 1em; text-align: center; vertical-align: top\">10.9864953892</td>\n",
       "    </tr>\n",
       "    <tr>\n",
       "        <td style=\"padding-left: 1em; padding-right: 1em; text-align: center; vertical-align: top\">obama</td>\n",
       "        <td style=\"padding-left: 1em; padding-right: 1em; text-align: center; vertical-align: top\">9.62125623824</td>\n",
       "    </tr>\n",
       "    <tr>\n",
       "        <td style=\"padding-left: 1em; padding-right: 1em; text-align: center; vertical-align: top\">waxman</td>\n",
       "        <td style=\"padding-left: 1em; padding-right: 1em; text-align: center; vertical-align: top\">9.04058524017</td>\n",
       "    </tr>\n",
       "    <tr>\n",
       "        <td style=\"padding-left: 1em; padding-right: 1em; text-align: center; vertical-align: top\">president</td>\n",
       "        <td style=\"padding-left: 1em; padding-right: 1em; text-align: center; vertical-align: top\">9.03358661416</td>\n",
       "    </tr>\n",
       "    <tr>\n",
       "        <td style=\"padding-left: 1em; padding-right: 1em; text-align: center; vertical-align: top\">2014from</td>\n",
       "        <td style=\"padding-left: 1em; padding-right: 1em; text-align: center; vertical-align: top\">8.68391029623</td>\n",
       "    </tr>\n",
       "    <tr>\n",
       "        <td style=\"padding-left: 1em; padding-right: 1em; text-align: center; vertical-align: top\">law</td>\n",
       "        <td style=\"padding-left: 1em; padding-right: 1em; text-align: center; vertical-align: top\">7.36146788088</td>\n",
       "    </tr>\n",
       "    <tr>\n",
       "        <td style=\"padding-left: 1em; padding-right: 1em; text-align: center; vertical-align: top\">consultant</td>\n",
       "        <td style=\"padding-left: 1em; padding-right: 1em; text-align: center; vertical-align: top\">6.91310403725</td>\n",
       "    </tr>\n",
       "</table>\n",
       "[119 rows x 2 columns]<br/>Note: Only the head of the SFrame is printed.<br/>You can use print_rows(num_rows=m, num_columns=n) to print more rows and columns.\n",
       "</div>"
      ],
      "text/plain": [
       "Columns:\n",
       "\tword\tstr\n",
       "\tweight\tfloat\n",
       "\n",
       "Rows: 119\n",
       "\n",
       "Data:\n",
       "+-----------------+---------------+\n",
       "|       word      |     weight    |\n",
       "+-----------------+---------------+\n",
       "|     schiliro    | 21.9729907785 |\n",
       "|      staff      | 15.8564416352 |\n",
       "|  congressional  | 13.5470876563 |\n",
       "| daschleschiliro | 10.9864953892 |\n",
       "|      obama      | 9.62125623824 |\n",
       "|      waxman     | 9.04058524017 |\n",
       "|    president    | 9.03358661416 |\n",
       "|     2014from    | 8.68391029623 |\n",
       "|       law       | 7.36146788088 |\n",
       "|    consultant   | 6.91310403725 |\n",
       "+-----------------+---------------+\n",
       "[119 rows x 2 columns]\n",
       "Note: Only the head of the SFrame is printed.\n",
       "You can use print_rows(num_rows=m, num_columns=n) to print more rows and columns."
      ]
     },
     "execution_count": 77,
     "metadata": {},
     "output_type": "execute_result"
    }
   ],
   "source": [
    "schiliro_tf_idf = top_words_tf_idf('Phil Schiliro')\n",
    "schiliro_tf_idf"
   ]
  },
  {
   "cell_type": "markdown",
   "metadata": {},
   "source": [
    "Using the **join** operation we learned earlier, try your hands at computing the common words shared by Obama's and Schiliro's articles. Sort the common words by their TF-IDF weights in Obama's document."
   ]
  },
  {
   "cell_type": "code",
   "execution_count": 79,
   "metadata": {
    "collapsed": false
   },
   "outputs": [
    {
     "data": {
      "text/html": [
       "<div style=\"max-height:1000px;max-width:1500px;overflow:auto;\"><table frame=\"box\" rules=\"cols\">\n",
       "    <tr>\n",
       "        <th style=\"padding-left: 1em; padding-right: 1em; text-align: center\">word</th>\n",
       "        <th style=\"padding-left: 1em; padding-right: 1em; text-align: center\">Obama</th>\n",
       "        <th style=\"padding-left: 1em; padding-right: 1em; text-align: center\">Schiliro</th>\n",
       "    </tr>\n",
       "    <tr>\n",
       "        <td style=\"padding-left: 1em; padding-right: 1em; text-align: center; vertical-align: top\">obama</td>\n",
       "        <td style=\"padding-left: 1em; padding-right: 1em; text-align: center; vertical-align: top\">43.2956530721</td>\n",
       "        <td style=\"padding-left: 1em; padding-right: 1em; text-align: center; vertical-align: top\">9.62125623824</td>\n",
       "    </tr>\n",
       "    <tr>\n",
       "        <td style=\"padding-left: 1em; padding-right: 1em; text-align: center; vertical-align: top\">law</td>\n",
       "        <td style=\"padding-left: 1em; padding-right: 1em; text-align: center; vertical-align: top\">14.7229357618</td>\n",
       "        <td style=\"padding-left: 1em; padding-right: 1em; text-align: center; vertical-align: top\">7.36146788088</td>\n",
       "    </tr>\n",
       "    <tr>\n",
       "        <td style=\"padding-left: 1em; padding-right: 1em; text-align: center; vertical-align: top\">democratic</td>\n",
       "        <td style=\"padding-left: 1em; padding-right: 1em; text-align: center; vertical-align: top\">12.4106886973</td>\n",
       "        <td style=\"padding-left: 1em; padding-right: 1em; text-align: center; vertical-align: top\">6.20534434867</td>\n",
       "    </tr>\n",
       "    <tr>\n",
       "        <td style=\"padding-left: 1em; padding-right: 1em; text-align: center; vertical-align: top\">senate</td>\n",
       "        <td style=\"padding-left: 1em; padding-right: 1em; text-align: center; vertical-align: top\">10.1642881797</td>\n",
       "        <td style=\"padding-left: 1em; padding-right: 1em; text-align: center; vertical-align: top\">3.3880960599</td>\n",
       "    </tr>\n",
       "    <tr>\n",
       "        <td style=\"padding-left: 1em; padding-right: 1em; text-align: center; vertical-align: top\">presidential</td>\n",
       "        <td style=\"padding-left: 1em; padding-right: 1em; text-align: center; vertical-align: top\">7.3869554189</td>\n",
       "        <td style=\"padding-left: 1em; padding-right: 1em; text-align: center; vertical-align: top\">3.69347770945</td>\n",
       "    </tr>\n",
       "    <tr>\n",
       "        <td style=\"padding-left: 1em; padding-right: 1em; text-align: center; vertical-align: top\">president</td>\n",
       "        <td style=\"padding-left: 1em; padding-right: 1em; text-align: center; vertical-align: top\">7.22686929133</td>\n",
       "        <td style=\"padding-left: 1em; padding-right: 1em; text-align: center; vertical-align: top\">9.03358661416</td>\n",
       "    </tr>\n",
       "    <tr>\n",
       "        <td style=\"padding-left: 1em; padding-right: 1em; text-align: center; vertical-align: top\">policy</td>\n",
       "        <td style=\"padding-left: 1em; padding-right: 1em; text-align: center; vertical-align: top\">6.09538628214</td>\n",
       "        <td style=\"padding-left: 1em; padding-right: 1em; text-align: center; vertical-align: top\">3.04769314107</td>\n",
       "    </tr>\n",
       "    <tr>\n",
       "        <td style=\"padding-left: 1em; padding-right: 1em; text-align: center; vertical-align: top\">states</td>\n",
       "        <td style=\"padding-left: 1em; padding-right: 1em; text-align: center; vertical-align: top\">5.47320098963</td>\n",
       "        <td style=\"padding-left: 1em; padding-right: 1em; text-align: center; vertical-align: top\">1.82440032988</td>\n",
       "    </tr>\n",
       "    <tr>\n",
       "        <td style=\"padding-left: 1em; padding-right: 1em; text-align: center; vertical-align: top\">office</td>\n",
       "        <td style=\"padding-left: 1em; padding-right: 1em; text-align: center; vertical-align: top\">5.24817282322</td>\n",
       "        <td style=\"padding-left: 1em; padding-right: 1em; text-align: center; vertical-align: top\">2.62408641161</td>\n",
       "    </tr>\n",
       "    <tr>\n",
       "        <td style=\"padding-left: 1em; padding-right: 1em; text-align: center; vertical-align: top\">2011</td>\n",
       "        <td style=\"padding-left: 1em; padding-right: 1em; text-align: center; vertical-align: top\">5.10704127031</td>\n",
       "        <td style=\"padding-left: 1em; padding-right: 1em; text-align: center; vertical-align: top\">3.40469418021</td>\n",
       "    </tr>\n",
       "</table>\n",
       "[47 rows x 3 columns]<br/>Note: Only the head of the SFrame is printed.<br/>You can use print_rows(num_rows=m, num_columns=n) to print more rows and columns.\n",
       "</div>"
      ],
      "text/plain": [
       "Columns:\n",
       "\tword\tstr\n",
       "\tObama\tfloat\n",
       "\tSchiliro\tfloat\n",
       "\n",
       "Rows: 47\n",
       "\n",
       "Data:\n",
       "+--------------+---------------+---------------+\n",
       "|     word     |     Obama     |    Schiliro   |\n",
       "+--------------+---------------+---------------+\n",
       "|    obama     | 43.2956530721 | 9.62125623824 |\n",
       "|     law      | 14.7229357618 | 7.36146788088 |\n",
       "|  democratic  | 12.4106886973 | 6.20534434867 |\n",
       "|    senate    | 10.1642881797 |  3.3880960599 |\n",
       "| presidential |  7.3869554189 | 3.69347770945 |\n",
       "|  president   | 7.22686929133 | 9.03358661416 |\n",
       "|    policy    | 6.09538628214 | 3.04769314107 |\n",
       "|    states    | 5.47320098963 | 1.82440032988 |\n",
       "|    office    | 5.24817282322 | 2.62408641161 |\n",
       "|     2011     | 5.10704127031 | 3.40469418021 |\n",
       "+--------------+---------------+---------------+\n",
       "[47 rows x 3 columns]\n",
       "Note: Only the head of the SFrame is printed.\n",
       "You can use print_rows(num_rows=m, num_columns=n) to print more rows and columns."
      ]
     },
     "execution_count": 79,
     "metadata": {},
     "output_type": "execute_result"
    }
   ],
   "source": [
    "combined_words = obama_tf_idf.join(schiliro_tf_idf, on='word')\n",
    "combined_words\n",
    "combined_words = combined_words.rename({'weight':'Obama', 'weight.1':'Schiliro'})\n",
    "combined_words.sort('Obama', ascending=False)"
   ]
  },
  {
   "cell_type": "markdown",
   "metadata": {},
   "source": [
    "The first 10 words should say: Obama, law, democratic, Senate, presidential, president, policy, states, office, 2011."
   ]
  },
  {
   "cell_type": "markdown",
   "metadata": {},
   "source": [
    "**Quiz Question**. Among the words that appear in both Barack Obama and Phil Schiliro, take the 5 that have largest weights in Obama. How many of the articles in the Wikipedia dataset contain all of those 5 words?"
   ]
  },
  {
   "cell_type": "code",
   "execution_count": 83,
   "metadata": {
    "collapsed": false
   },
   "outputs": [
    {
     "data": {
      "text/plain": [
       "14"
      ]
     },
     "execution_count": 83,
     "metadata": {},
     "output_type": "execute_result"
    }
   ],
   "source": [
    "common_words = set(combined_words[\"word\"][:5])  # YOUR CODE HERE\n",
    "\n",
    "def has_top_words(word_count_vector):\n",
    "    # extract the keys of word_count_vector and convert it to a set\n",
    "    unique_words = set(word_count_vector.keys())   # YOUR CODE HERE\n",
    "    # return True if common_words is a subset of unique_words\n",
    "    # return False otherwise\n",
    "    if common_words.issubset(unique_words):\n",
    "        return True\n",
    "    else:\n",
    "        return False\n",
    "\n",
    "wiki['has_top_words'] = wiki['word_count'].apply(has_top_words)\n",
    "\n",
    "# use has_top_words column to answer the quiz question\n",
    "sum(wiki['has_top_words'])"
   ]
  },
  {
   "cell_type": "markdown",
   "metadata": {},
   "source": [
    "Notice the huge difference in this calculation using TF-IDF scores instead  of raw word counts. We've eliminated noise arising from extremely common words."
   ]
  },
  {
   "cell_type": "markdown",
   "metadata": {},
   "source": [
    "## Choosing metrics"
   ]
  },
  {
   "cell_type": "markdown",
   "metadata": {},
   "source": [
    "You may wonder why Joe Biden, Obama's running mate in two presidential elections, is missing from the query results of `model_tf_idf`. Let's find out why. First, compute the distance between TF-IDF features of Obama and Biden."
   ]
  },
  {
   "cell_type": "markdown",
   "metadata": {},
   "source": [
    "**Quiz Question**. Compute the Euclidean distance between TF-IDF features of Obama and Biden. Hint: When using Boolean filter in SFrame/SArray, take the index 0 to access the first match."
   ]
  },
  {
   "cell_type": "code",
   "execution_count": 99,
   "metadata": {
    "collapsed": false
   },
   "outputs": [
    {
     "name": "stdout",
     "output_type": "stream",
     "text": [
      "+------------+---------------+---------------+\n",
      "|    word    |     Obama     |     Biden     |\n",
      "+------------+---------------+---------------+\n",
      "|   obama    | 43.2956530721 | 19.2425124765 |\n",
      "|    act     |  27.678222623 | 17.2988891394 |\n",
      "|    iraq    |  17.747378588 | 4.43684464699 |\n",
      "|  control   | 14.8870608452 | 7.44353042259 |\n",
      "|    law     | 14.7229357618 | 2.45382262696 |\n",
      "|  military  | 13.1159327785 | 3.27898319462 |\n",
      "| democratic | 12.4106886973 |  9.308016523  |\n",
      "|     us     | 11.5919426928 | 9.65995224404 |\n",
      "|   senate   | 10.1642881797 | 10.1642881797 |\n",
      "|  nominee   | 9.43101391473 | 4.71550695737 |\n",
      "+------------+---------------+---------------+\n",
      "[84 rows x 3 columns]\n",
      "Note: Only the head of the SFrame is printed.\n",
      "You can use print_rows(num_rows=m, num_columns=n) to print more rows and columns.\n",
      "[43.2956530720749, 27.67822262297991, 17.747378587965535, 14.887060845181308, 14.722935761763422, 13.115932778499415, 12.410688697332166, 11.591942692842837, 10.164288179703693, 9.43101391473379, 9.319341564760851, 8.907053847545358, 8.842460838379667, 7.712676160711769, 7.654290879049991, 7.431147327735781, 7.386955418904825, 7.226869291326606, 7.0620334604226676, 6.642689967371511, 6.642689967371511, 6.3816977057812005, 6.095386282141427, 5.656236009557883, 5.6158573610975315, 5.592867842872833, 5.473200989631017, 5.107041270312876, 5.067601534952048, 4.88376320446593, 4.831637295208776, 4.703766236011668, 4.693309450812809, 4.594578275832593, 4.545548848592274, 4.523465932304524, 4.327201469541557, 4.176352939110058, 4.03568062078261, 4.015765311081669, 3.9453132752336004, 3.9140734886878232, 3.7697859025157365, 3.7451291059028766, 3.723866788250953, 3.68265216394749, 3.6593720969659014, 3.446936559924164, 3.445873860568042, 3.3821333532750204, 3.344851662973069, 3.3244978303233013, 3.185667920243947, 3.0725446998610506, 2.896399606044235, 2.8887260073502303, 2.8308461188591933, 2.809822617276739, 2.634930295807099, 2.0868146141979307, 2.0079609791418744, 1.7938099524877322, 1.713990158976156, 1.5093391374786154, 1.4967823726683713, 1.493579903611068, 1.0752380994247055, 0.8871532656125274, 0.8812660139569034, 0.7630171320744707, 0.6614069466714981, 0.6572291275451891, 0.6074059275661821, 0.53639254752953, 0.43063857330825733, 0.3968289280609173, 0.36882550670120073, 0.29145011737314763, 0.07481117158400744, 0.05523250095103998, 0.039334291308082026, 0.028962190503643476, 0.01564802185902329, 0.004063113702956533]\n"
     ]
    },
    {
     "data": {
      "text/plain": [
       "37.90533065920024"
      ]
     },
     "execution_count": 99,
     "metadata": {},
     "output_type": "execute_result"
    }
   ],
   "source": [
    "obama_tf_idf = top_words_tf_idf('Barack Obama')\n",
    "biden_tf_idf = top_words_tf_idf('Joe Biden')\n",
    "combined_words = obama_tf_idf.join(biden_tf_idf, on='word')\n",
    "combined_words = combined_words.rename({'weight':'Obama', 'weight.1':'Biden'})\n",
    "print combined_words\n",
    "print combined_words[\"Obama\"]\n",
    "obama_biden = graphlab.toolkits.distances.euclidean(np.array(combined_words[\"Obama\"]), \n",
    "                                                    np.array(combined_words[\"Biden\"]))\n",
    "obama_biden"
   ]
  },
  {
   "cell_type": "markdown",
   "metadata": {},
   "source": [
    "The distance is larger than the distances we found for the 10 nearest neighbors, which we repeat here for readability:"
   ]
  },
  {
   "cell_type": "code",
   "execution_count": 100,
   "metadata": {
    "collapsed": false
   },
   "outputs": [
    {
     "data": {
      "text/html": [
       "<pre>Starting pairwise querying.</pre>"
      ],
      "text/plain": [
       "Starting pairwise querying."
      ]
     },
     "metadata": {},
     "output_type": "display_data"
    },
    {
     "data": {
      "text/html": [
       "<pre>+--------------+---------+-------------+--------------+</pre>"
      ],
      "text/plain": [
       "+--------------+---------+-------------+--------------+"
      ]
     },
     "metadata": {},
     "output_type": "display_data"
    },
    {
     "data": {
      "text/html": [
       "<pre>| Query points | # Pairs | % Complete. | Elapsed Time |</pre>"
      ],
      "text/plain": [
       "| Query points | # Pairs | % Complete. | Elapsed Time |"
      ]
     },
     "metadata": {},
     "output_type": "display_data"
    },
    {
     "data": {
      "text/html": [
       "<pre>+--------------+---------+-------------+--------------+</pre>"
      ],
      "text/plain": [
       "+--------------+---------+-------------+--------------+"
      ]
     },
     "metadata": {},
     "output_type": "display_data"
    },
    {
     "data": {
      "text/html": [
       "<pre>| 0            | 1       | 0.00169288  | 5.942ms      |</pre>"
      ],
      "text/plain": [
       "| 0            | 1       | 0.00169288  | 5.942ms      |"
      ]
     },
     "metadata": {},
     "output_type": "display_data"
    },
    {
     "data": {
      "text/html": [
       "<pre>| Done         |         | 100         | 117.551ms    |</pre>"
      ],
      "text/plain": [
       "| Done         |         | 100         | 117.551ms    |"
      ]
     },
     "metadata": {},
     "output_type": "display_data"
    },
    {
     "data": {
      "text/html": [
       "<pre>+--------------+---------+-------------+--------------+</pre>"
      ],
      "text/plain": [
       "+--------------+---------+-------------+--------------+"
      ]
     },
     "metadata": {},
     "output_type": "display_data"
    },
    {
     "data": {
      "text/html": [
       "<div style=\"max-height:1000px;max-width:1500px;overflow:auto;\"><table frame=\"box\" rules=\"cols\">\n",
       "    <tr>\n",
       "        <th style=\"padding-left: 1em; padding-right: 1em; text-align: center\">query_label</th>\n",
       "        <th style=\"padding-left: 1em; padding-right: 1em; text-align: center\">reference_label</th>\n",
       "        <th style=\"padding-left: 1em; padding-right: 1em; text-align: center\">distance</th>\n",
       "        <th style=\"padding-left: 1em; padding-right: 1em; text-align: center\">rank</th>\n",
       "    </tr>\n",
       "    <tr>\n",
       "        <td style=\"padding-left: 1em; padding-right: 1em; text-align: center; vertical-align: top\">Barack Obama</td>\n",
       "        <td style=\"padding-left: 1em; padding-right: 1em; text-align: center; vertical-align: top\">Barack Obama</td>\n",
       "        <td style=\"padding-left: 1em; padding-right: 1em; text-align: center; vertical-align: top\">0.0</td>\n",
       "        <td style=\"padding-left: 1em; padding-right: 1em; text-align: center; vertical-align: top\">1</td>\n",
       "    </tr>\n",
       "    <tr>\n",
       "        <td style=\"padding-left: 1em; padding-right: 1em; text-align: center; vertical-align: top\">Barack Obama</td>\n",
       "        <td style=\"padding-left: 1em; padding-right: 1em; text-align: center; vertical-align: top\">Phil Schiliro</td>\n",
       "        <td style=\"padding-left: 1em; padding-right: 1em; text-align: center; vertical-align: top\">106.861013691</td>\n",
       "        <td style=\"padding-left: 1em; padding-right: 1em; text-align: center; vertical-align: top\">2</td>\n",
       "    </tr>\n",
       "    <tr>\n",
       "        <td style=\"padding-left: 1em; padding-right: 1em; text-align: center; vertical-align: top\">Barack Obama</td>\n",
       "        <td style=\"padding-left: 1em; padding-right: 1em; text-align: center; vertical-align: top\">Jeff Sessions</td>\n",
       "        <td style=\"padding-left: 1em; padding-right: 1em; text-align: center; vertical-align: top\">108.871674216</td>\n",
       "        <td style=\"padding-left: 1em; padding-right: 1em; text-align: center; vertical-align: top\">3</td>\n",
       "    </tr>\n",
       "    <tr>\n",
       "        <td style=\"padding-left: 1em; padding-right: 1em; text-align: center; vertical-align: top\">Barack Obama</td>\n",
       "        <td style=\"padding-left: 1em; padding-right: 1em; text-align: center; vertical-align: top\">Jesse Lee (politician)</td>\n",
       "        <td style=\"padding-left: 1em; padding-right: 1em; text-align: center; vertical-align: top\">109.045697909</td>\n",
       "        <td style=\"padding-left: 1em; padding-right: 1em; text-align: center; vertical-align: top\">4</td>\n",
       "    </tr>\n",
       "    <tr>\n",
       "        <td style=\"padding-left: 1em; padding-right: 1em; text-align: center; vertical-align: top\">Barack Obama</td>\n",
       "        <td style=\"padding-left: 1em; padding-right: 1em; text-align: center; vertical-align: top\">Samantha Power</td>\n",
       "        <td style=\"padding-left: 1em; padding-right: 1em; text-align: center; vertical-align: top\">109.108106165</td>\n",
       "        <td style=\"padding-left: 1em; padding-right: 1em; text-align: center; vertical-align: top\">5</td>\n",
       "    </tr>\n",
       "    <tr>\n",
       "        <td style=\"padding-left: 1em; padding-right: 1em; text-align: center; vertical-align: top\">Barack Obama</td>\n",
       "        <td style=\"padding-left: 1em; padding-right: 1em; text-align: center; vertical-align: top\">Bob Menendez</td>\n",
       "        <td style=\"padding-left: 1em; padding-right: 1em; text-align: center; vertical-align: top\">109.781867105</td>\n",
       "        <td style=\"padding-left: 1em; padding-right: 1em; text-align: center; vertical-align: top\">6</td>\n",
       "    </tr>\n",
       "    <tr>\n",
       "        <td style=\"padding-left: 1em; padding-right: 1em; text-align: center; vertical-align: top\">Barack Obama</td>\n",
       "        <td style=\"padding-left: 1em; padding-right: 1em; text-align: center; vertical-align: top\">Eric Stern (politician)</td>\n",
       "        <td style=\"padding-left: 1em; padding-right: 1em; text-align: center; vertical-align: top\">109.95778808</td>\n",
       "        <td style=\"padding-left: 1em; padding-right: 1em; text-align: center; vertical-align: top\">7</td>\n",
       "    </tr>\n",
       "    <tr>\n",
       "        <td style=\"padding-left: 1em; padding-right: 1em; text-align: center; vertical-align: top\">Barack Obama</td>\n",
       "        <td style=\"padding-left: 1em; padding-right: 1em; text-align: center; vertical-align: top\">James A. Guest</td>\n",
       "        <td style=\"padding-left: 1em; padding-right: 1em; text-align: center; vertical-align: top\">110.413888718</td>\n",
       "        <td style=\"padding-left: 1em; padding-right: 1em; text-align: center; vertical-align: top\">8</td>\n",
       "    </tr>\n",
       "    <tr>\n",
       "        <td style=\"padding-left: 1em; padding-right: 1em; text-align: center; vertical-align: top\">Barack Obama</td>\n",
       "        <td style=\"padding-left: 1em; padding-right: 1em; text-align: center; vertical-align: top\">Roland Grossenbacher</td>\n",
       "        <td style=\"padding-left: 1em; padding-right: 1em; text-align: center; vertical-align: top\">110.4706087</td>\n",
       "        <td style=\"padding-left: 1em; padding-right: 1em; text-align: center; vertical-align: top\">9</td>\n",
       "    </tr>\n",
       "    <tr>\n",
       "        <td style=\"padding-left: 1em; padding-right: 1em; text-align: center; vertical-align: top\">Barack Obama</td>\n",
       "        <td style=\"padding-left: 1em; padding-right: 1em; text-align: center; vertical-align: top\">Tulsi Gabbard</td>\n",
       "        <td style=\"padding-left: 1em; padding-right: 1em; text-align: center; vertical-align: top\">110.696997999</td>\n",
       "        <td style=\"padding-left: 1em; padding-right: 1em; text-align: center; vertical-align: top\">10</td>\n",
       "    </tr>\n",
       "</table>\n",
       "[10 rows x 4 columns]<br/>\n",
       "</div>"
      ],
      "text/plain": [
       "Columns:\n",
       "\tquery_label\tstr\n",
       "\treference_label\tstr\n",
       "\tdistance\tfloat\n",
       "\trank\tint\n",
       "\n",
       "Rows: 10\n",
       "\n",
       "Data:\n",
       "+--------------+-------------------------+---------------+------+\n",
       "| query_label  |     reference_label     |    distance   | rank |\n",
       "+--------------+-------------------------+---------------+------+\n",
       "| Barack Obama |       Barack Obama      |      0.0      |  1   |\n",
       "| Barack Obama |      Phil Schiliro      | 106.861013691 |  2   |\n",
       "| Barack Obama |      Jeff Sessions      | 108.871674216 |  3   |\n",
       "| Barack Obama |  Jesse Lee (politician) | 109.045697909 |  4   |\n",
       "| Barack Obama |      Samantha Power     | 109.108106165 |  5   |\n",
       "| Barack Obama |       Bob Menendez      | 109.781867105 |  6   |\n",
       "| Barack Obama | Eric Stern (politician) |  109.95778808 |  7   |\n",
       "| Barack Obama |      James A. Guest     | 110.413888718 |  8   |\n",
       "| Barack Obama |   Roland Grossenbacher  |  110.4706087  |  9   |\n",
       "| Barack Obama |      Tulsi Gabbard      | 110.696997999 |  10  |\n",
       "+--------------+-------------------------+---------------+------+\n",
       "[10 rows x 4 columns]"
      ]
     },
     "execution_count": 100,
     "metadata": {},
     "output_type": "execute_result"
    }
   ],
   "source": [
    "model_tf_idf.query(wiki[wiki['name'] == 'Barack Obama'], label='name', k=10)"
   ]
  },
  {
   "cell_type": "markdown",
   "metadata": {},
   "source": [
    "But one may wonder, is Biden's article that different from Obama's, more so than, say, Schiliro's? It turns out that, when we compute nearest neighbors using the Euclidean distances, we unwittingly favor short articles over long ones. Let us compute the length of each Wikipedia document, and examine the document lengths for the 100 nearest neighbors to Obama's page."
   ]
  },
  {
   "cell_type": "code",
   "execution_count": 101,
   "metadata": {
    "collapsed": false
   },
   "outputs": [],
   "source": [
    "def compute_length(row):\n",
    "    return len(row['text'].split(' '))\n",
    "\n",
    "wiki['length'] = wiki.apply(compute_length) "
   ]
  },
  {
   "cell_type": "code",
   "execution_count": 102,
   "metadata": {
    "collapsed": false
   },
   "outputs": [
    {
     "data": {
      "text/html": [
       "<pre>Starting pairwise querying.</pre>"
      ],
      "text/plain": [
       "Starting pairwise querying."
      ]
     },
     "metadata": {},
     "output_type": "display_data"
    },
    {
     "data": {
      "text/html": [
       "<pre>+--------------+---------+-------------+--------------+</pre>"
      ],
      "text/plain": [
       "+--------------+---------+-------------+--------------+"
      ]
     },
     "metadata": {},
     "output_type": "display_data"
    },
    {
     "data": {
      "text/html": [
       "<pre>| Query points | # Pairs | % Complete. | Elapsed Time |</pre>"
      ],
      "text/plain": [
       "| Query points | # Pairs | % Complete. | Elapsed Time |"
      ]
     },
     "metadata": {},
     "output_type": "display_data"
    },
    {
     "data": {
      "text/html": [
       "<pre>+--------------+---------+-------------+--------------+</pre>"
      ],
      "text/plain": [
       "+--------------+---------+-------------+--------------+"
      ]
     },
     "metadata": {},
     "output_type": "display_data"
    },
    {
     "data": {
      "text/html": [
       "<pre>| 0            | 1       | 0.00169288  | 7.168ms      |</pre>"
      ],
      "text/plain": [
       "| 0            | 1       | 0.00169288  | 7.168ms      |"
      ]
     },
     "metadata": {},
     "output_type": "display_data"
    },
    {
     "data": {
      "text/html": [
       "<pre>| Done         |         | 100         | 113.686ms    |</pre>"
      ],
      "text/plain": [
       "| Done         |         | 100         | 113.686ms    |"
      ]
     },
     "metadata": {},
     "output_type": "display_data"
    },
    {
     "data": {
      "text/html": [
       "<pre>+--------------+---------+-------------+--------------+</pre>"
      ],
      "text/plain": [
       "+--------------+---------+-------------+--------------+"
      ]
     },
     "metadata": {},
     "output_type": "display_data"
    }
   ],
   "source": [
    "nearest_neighbors_euclidean = model_tf_idf.query(wiki[wiki['name'] == 'Barack Obama'], label='name', k=100)\n",
    "nearest_neighbors_euclidean = nearest_neighbors_euclidean.join(wiki[['name', 'length']], on={'reference_label':'name'})"
   ]
  },
  {
   "cell_type": "code",
   "execution_count": 103,
   "metadata": {
    "collapsed": false
   },
   "outputs": [
    {
     "data": {
      "text/html": [
       "<div style=\"max-height:1000px;max-width:1500px;overflow:auto;\"><table frame=\"box\" rules=\"cols\">\n",
       "    <tr>\n",
       "        <th style=\"padding-left: 1em; padding-right: 1em; text-align: center\">query_label</th>\n",
       "        <th style=\"padding-left: 1em; padding-right: 1em; text-align: center\">reference_label</th>\n",
       "        <th style=\"padding-left: 1em; padding-right: 1em; text-align: center\">distance</th>\n",
       "        <th style=\"padding-left: 1em; padding-right: 1em; text-align: center\">rank</th>\n",
       "        <th style=\"padding-left: 1em; padding-right: 1em; text-align: center\">length</th>\n",
       "    </tr>\n",
       "    <tr>\n",
       "        <td style=\"padding-left: 1em; padding-right: 1em; text-align: center; vertical-align: top\">Barack Obama</td>\n",
       "        <td style=\"padding-left: 1em; padding-right: 1em; text-align: center; vertical-align: top\">Barack Obama</td>\n",
       "        <td style=\"padding-left: 1em; padding-right: 1em; text-align: center; vertical-align: top\">0.0</td>\n",
       "        <td style=\"padding-left: 1em; padding-right: 1em; text-align: center; vertical-align: top\">1</td>\n",
       "        <td style=\"padding-left: 1em; padding-right: 1em; text-align: center; vertical-align: top\">540</td>\n",
       "    </tr>\n",
       "    <tr>\n",
       "        <td style=\"padding-left: 1em; padding-right: 1em; text-align: center; vertical-align: top\">Barack Obama</td>\n",
       "        <td style=\"padding-left: 1em; padding-right: 1em; text-align: center; vertical-align: top\">Phil Schiliro</td>\n",
       "        <td style=\"padding-left: 1em; padding-right: 1em; text-align: center; vertical-align: top\">106.861013691</td>\n",
       "        <td style=\"padding-left: 1em; padding-right: 1em; text-align: center; vertical-align: top\">2</td>\n",
       "        <td style=\"padding-left: 1em; padding-right: 1em; text-align: center; vertical-align: top\">208</td>\n",
       "    </tr>\n",
       "    <tr>\n",
       "        <td style=\"padding-left: 1em; padding-right: 1em; text-align: center; vertical-align: top\">Barack Obama</td>\n",
       "        <td style=\"padding-left: 1em; padding-right: 1em; text-align: center; vertical-align: top\">Jeff Sessions</td>\n",
       "        <td style=\"padding-left: 1em; padding-right: 1em; text-align: center; vertical-align: top\">108.871674216</td>\n",
       "        <td style=\"padding-left: 1em; padding-right: 1em; text-align: center; vertical-align: top\">3</td>\n",
       "        <td style=\"padding-left: 1em; padding-right: 1em; text-align: center; vertical-align: top\">230</td>\n",
       "    </tr>\n",
       "    <tr>\n",
       "        <td style=\"padding-left: 1em; padding-right: 1em; text-align: center; vertical-align: top\">Barack Obama</td>\n",
       "        <td style=\"padding-left: 1em; padding-right: 1em; text-align: center; vertical-align: top\">Jesse Lee (politician)</td>\n",
       "        <td style=\"padding-left: 1em; padding-right: 1em; text-align: center; vertical-align: top\">109.045697909</td>\n",
       "        <td style=\"padding-left: 1em; padding-right: 1em; text-align: center; vertical-align: top\">4</td>\n",
       "        <td style=\"padding-left: 1em; padding-right: 1em; text-align: center; vertical-align: top\">216</td>\n",
       "    </tr>\n",
       "    <tr>\n",
       "        <td style=\"padding-left: 1em; padding-right: 1em; text-align: center; vertical-align: top\">Barack Obama</td>\n",
       "        <td style=\"padding-left: 1em; padding-right: 1em; text-align: center; vertical-align: top\">Samantha Power</td>\n",
       "        <td style=\"padding-left: 1em; padding-right: 1em; text-align: center; vertical-align: top\">109.108106165</td>\n",
       "        <td style=\"padding-left: 1em; padding-right: 1em; text-align: center; vertical-align: top\">5</td>\n",
       "        <td style=\"padding-left: 1em; padding-right: 1em; text-align: center; vertical-align: top\">310</td>\n",
       "    </tr>\n",
       "    <tr>\n",
       "        <td style=\"padding-left: 1em; padding-right: 1em; text-align: center; vertical-align: top\">Barack Obama</td>\n",
       "        <td style=\"padding-left: 1em; padding-right: 1em; text-align: center; vertical-align: top\">Bob Menendez</td>\n",
       "        <td style=\"padding-left: 1em; padding-right: 1em; text-align: center; vertical-align: top\">109.781867105</td>\n",
       "        <td style=\"padding-left: 1em; padding-right: 1em; text-align: center; vertical-align: top\">6</td>\n",
       "        <td style=\"padding-left: 1em; padding-right: 1em; text-align: center; vertical-align: top\">220</td>\n",
       "    </tr>\n",
       "    <tr>\n",
       "        <td style=\"padding-left: 1em; padding-right: 1em; text-align: center; vertical-align: top\">Barack Obama</td>\n",
       "        <td style=\"padding-left: 1em; padding-right: 1em; text-align: center; vertical-align: top\">Eric Stern (politician)</td>\n",
       "        <td style=\"padding-left: 1em; padding-right: 1em; text-align: center; vertical-align: top\">109.95778808</td>\n",
       "        <td style=\"padding-left: 1em; padding-right: 1em; text-align: center; vertical-align: top\">7</td>\n",
       "        <td style=\"padding-left: 1em; padding-right: 1em; text-align: center; vertical-align: top\">255</td>\n",
       "    </tr>\n",
       "    <tr>\n",
       "        <td style=\"padding-left: 1em; padding-right: 1em; text-align: center; vertical-align: top\">Barack Obama</td>\n",
       "        <td style=\"padding-left: 1em; padding-right: 1em; text-align: center; vertical-align: top\">James A. Guest</td>\n",
       "        <td style=\"padding-left: 1em; padding-right: 1em; text-align: center; vertical-align: top\">110.413888718</td>\n",
       "        <td style=\"padding-left: 1em; padding-right: 1em; text-align: center; vertical-align: top\">8</td>\n",
       "        <td style=\"padding-left: 1em; padding-right: 1em; text-align: center; vertical-align: top\">215</td>\n",
       "    </tr>\n",
       "    <tr>\n",
       "        <td style=\"padding-left: 1em; padding-right: 1em; text-align: center; vertical-align: top\">Barack Obama</td>\n",
       "        <td style=\"padding-left: 1em; padding-right: 1em; text-align: center; vertical-align: top\">Roland Grossenbacher</td>\n",
       "        <td style=\"padding-left: 1em; padding-right: 1em; text-align: center; vertical-align: top\">110.4706087</td>\n",
       "        <td style=\"padding-left: 1em; padding-right: 1em; text-align: center; vertical-align: top\">9</td>\n",
       "        <td style=\"padding-left: 1em; padding-right: 1em; text-align: center; vertical-align: top\">201</td>\n",
       "    </tr>\n",
       "    <tr>\n",
       "        <td style=\"padding-left: 1em; padding-right: 1em; text-align: center; vertical-align: top\">Barack Obama</td>\n",
       "        <td style=\"padding-left: 1em; padding-right: 1em; text-align: center; vertical-align: top\">Tulsi Gabbard</td>\n",
       "        <td style=\"padding-left: 1em; padding-right: 1em; text-align: center; vertical-align: top\">110.696997999</td>\n",
       "        <td style=\"padding-left: 1em; padding-right: 1em; text-align: center; vertical-align: top\">10</td>\n",
       "        <td style=\"padding-left: 1em; padding-right: 1em; text-align: center; vertical-align: top\">228</td>\n",
       "    </tr>\n",
       "</table>\n",
       "[100 rows x 5 columns]<br/>Note: Only the head of the SFrame is printed.<br/>You can use print_rows(num_rows=m, num_columns=n) to print more rows and columns.\n",
       "</div>"
      ],
      "text/plain": [
       "Columns:\n",
       "\tquery_label\tstr\n",
       "\treference_label\tstr\n",
       "\tdistance\tfloat\n",
       "\trank\tint\n",
       "\tlength\tint\n",
       "\n",
       "Rows: 100\n",
       "\n",
       "Data:\n",
       "+--------------+-------------------------+---------------+------+--------+\n",
       "| query_label  |     reference_label     |    distance   | rank | length |\n",
       "+--------------+-------------------------+---------------+------+--------+\n",
       "| Barack Obama |       Barack Obama      |      0.0      |  1   |  540   |\n",
       "| Barack Obama |      Phil Schiliro      | 106.861013691 |  2   |  208   |\n",
       "| Barack Obama |      Jeff Sessions      | 108.871674216 |  3   |  230   |\n",
       "| Barack Obama |  Jesse Lee (politician) | 109.045697909 |  4   |  216   |\n",
       "| Barack Obama |      Samantha Power     | 109.108106165 |  5   |  310   |\n",
       "| Barack Obama |       Bob Menendez      | 109.781867105 |  6   |  220   |\n",
       "| Barack Obama | Eric Stern (politician) |  109.95778808 |  7   |  255   |\n",
       "| Barack Obama |      James A. Guest     | 110.413888718 |  8   |  215   |\n",
       "| Barack Obama |   Roland Grossenbacher  |  110.4706087  |  9   |  201   |\n",
       "| Barack Obama |      Tulsi Gabbard      | 110.696997999 |  10  |  228   |\n",
       "+--------------+-------------------------+---------------+------+--------+\n",
       "[100 rows x 5 columns]\n",
       "Note: Only the head of the SFrame is printed.\n",
       "You can use print_rows(num_rows=m, num_columns=n) to print more rows and columns."
      ]
     },
     "execution_count": 103,
     "metadata": {},
     "output_type": "execute_result"
    }
   ],
   "source": [
    "nearest_neighbors_euclidean.sort('rank')"
   ]
  },
  {
   "cell_type": "markdown",
   "metadata": {},
   "source": [
    "To see how these document lengths compare to the lengths of other documents in the corpus, let's make a histogram of the document lengths of Obama's 100 nearest neighbors and compare to a histogram of document lengths for all documents."
   ]
  },
  {
   "cell_type": "code",
   "execution_count": null,
   "metadata": {
    "collapsed": false
   },
   "outputs": [],
   "source": [
    "plt.figure(figsize=(10.5,4.5))\n",
    "plt.hist(wiki['length'], 50, color='k', edgecolor='None', histtype='stepfilled', normed=True,\n",
    "         label='Entire Wikipedia', zorder=3, alpha=0.8)\n",
    "plt.hist(nearest_neighbors_euclidean['length'], 50, color='r', edgecolor='None', histtype='stepfilled', normed=True,\n",
    "         label='100 NNs of Obama (Euclidean)', zorder=10, alpha=0.8)\n",
    "plt.axvline(x=wiki['length'][wiki['name'] == 'Barack Obama'][0], color='k', linestyle='--', linewidth=4,\n",
    "           label='Length of Barack Obama', zorder=2)\n",
    "plt.axvline(x=wiki['length'][wiki['name'] == 'Joe Biden'][0], color='g', linestyle='--', linewidth=4,\n",
    "           label='Length of Joe Biden', zorder=1)\n",
    "plt.axis([0, 1000, 0, 0.04])\n",
    "\n",
    "plt.legend(loc='best', prop={'size':15})\n",
    "plt.title('Distribution of document length')\n",
    "plt.xlabel('# of words')\n",
    "plt.ylabel('Percentage')\n",
    "plt.rcParams.update({'font.size':16})\n",
    "plt.tight_layout()"
   ]
  },
  {
   "cell_type": "markdown",
   "metadata": {},
   "source": [
    "Relative to the rest of Wikipedia, nearest neighbors of Obama are overwhemingly short, most of them being shorter than 300 words. The bias towards short articles is not appropriate in this application as there is really no reason to  favor short articles over long articles (they are all Wikipedia articles, after all). Many of the Wikipedia articles are 300 words or more, and both Obama and Biden are over 300 words long.\n",
    "\n",
    "**Note**: For the interest of computation time, the dataset given here contains _excerpts_ of the articles rather than full text. For instance, the actual Wikipedia article about Obama is around 25000 words. Do not be surprised by the low numbers shown in the histogram."
   ]
  },
  {
   "cell_type": "markdown",
   "metadata": {},
   "source": [
    "**Note:** Both word-count features and TF-IDF are proportional to word frequencies. While TF-IDF penalizes very common words, longer articles tend to have longer TF-IDF vectors simply because they have more words in them."
   ]
  },
  {
   "cell_type": "markdown",
   "metadata": {
    "collapsed": true
   },
   "source": [
    "To remove this bias, we turn to **cosine distances**:\n",
    "$$\n",
    "d(\\mathbf{x},\\mathbf{y}) = 1 - \\frac{\\mathbf{x}^T\\mathbf{y}}{\\|\\mathbf{x}\\| \\|\\mathbf{y}\\|}\n",
    "$$\n",
    "Cosine distances let us compare word distributions of two articles of varying lengths.\n",
    "\n",
    "Let us train a new nearest neighbor model, this time with cosine distances.  We then repeat the search for Obama's 100 nearest neighbors."
   ]
  },
  {
   "cell_type": "code",
   "execution_count": null,
   "metadata": {
    "collapsed": false
   },
   "outputs": [],
   "source": [
    "model2_tf_idf = graphlab.nearest_neighbors.create(wiki, label='name', features=['tf_idf'],\n",
    "                                                  method='brute_force', distance='cosine')"
   ]
  },
  {
   "cell_type": "code",
   "execution_count": null,
   "metadata": {
    "collapsed": false
   },
   "outputs": [],
   "source": [
    "nearest_neighbors_cosine = model2_tf_idf.query(wiki[wiki['name'] == 'Barack Obama'], label='name', k=100)\n",
    "nearest_neighbors_cosine = nearest_neighbors_cosine.join(wiki[['name', 'length']], on={'reference_label':'name'})"
   ]
  },
  {
   "cell_type": "code",
   "execution_count": null,
   "metadata": {
    "collapsed": false
   },
   "outputs": [],
   "source": [
    "nearest_neighbors_cosine.sort('rank')"
   ]
  },
  {
   "cell_type": "markdown",
   "metadata": {},
   "source": [
    "From a glance at the above table, things look better.  For example, we now see Joe Biden as Barack Obama's nearest neighbor!  We also see Hillary Clinton on the list.  This list looks even more plausible as nearest neighbors of Barack Obama.\n",
    "\n",
    "Let's make a plot to better visualize the effect of having used cosine distance in place of Euclidean on our TF-IDF vectors."
   ]
  },
  {
   "cell_type": "code",
   "execution_count": null,
   "metadata": {
    "collapsed": false
   },
   "outputs": [],
   "source": [
    "plt.figure(figsize=(10.5,4.5))\n",
    "plt.figure(figsize=(10.5,4.5))\n",
    "plt.hist(wiki['length'], 50, color='k', edgecolor='None', histtype='stepfilled', normed=True,\n",
    "         label='Entire Wikipedia', zorder=3, alpha=0.8)\n",
    "plt.hist(nearest_neighbors_euclidean['length'], 50, color='r', edgecolor='None', histtype='stepfilled', normed=True,\n",
    "         label='100 NNs of Obama (Euclidean)', zorder=10, alpha=0.8)\n",
    "plt.hist(nearest_neighbors_cosine['length'], 50, color='b', edgecolor='None', histtype='stepfilled', normed=True,\n",
    "         label='100 NNs of Obama (cosine)', zorder=11, alpha=0.8)\n",
    "plt.axvline(x=wiki['length'][wiki['name'] == 'Barack Obama'][0], color='k', linestyle='--', linewidth=4,\n",
    "           label='Length of Barack Obama', zorder=2)\n",
    "plt.axvline(x=wiki['length'][wiki['name'] == 'Joe Biden'][0], color='g', linestyle='--', linewidth=4,\n",
    "           label='Length of Joe Biden', zorder=1)\n",
    "plt.axis([0, 1000, 0, 0.04])\n",
    "plt.legend(loc='best', prop={'size':15})\n",
    "plt.title('Distribution of document length')\n",
    "plt.xlabel('# of words')\n",
    "plt.ylabel('Percentage')\n",
    "plt.rcParams.update({'font.size': 16})\n",
    "plt.tight_layout()"
   ]
  },
  {
   "cell_type": "markdown",
   "metadata": {},
   "source": [
    "Indeed, the 100 nearest neighbors using cosine distance provide a sampling across the range of document lengths, rather than just short articles like Euclidean distance provided."
   ]
  },
  {
   "cell_type": "markdown",
   "metadata": {},
   "source": [
    "**Moral of the story**: In deciding the features and distance measures, check if they produce results that make sense for your particular application."
   ]
  },
  {
   "cell_type": "markdown",
   "metadata": {},
   "source": [
    "# Problem with cosine distances: tweets vs. long articles"
   ]
  },
  {
   "cell_type": "markdown",
   "metadata": {},
   "source": [
    "Happily ever after? Not so fast. Cosine distances ignore all document lengths, which may be great in certain situations but not in others. For instance, consider the following (admittedly contrived) example."
   ]
  },
  {
   "cell_type": "markdown",
   "metadata": {},
   "source": [
    "```\n",
    "+--------------------------------------------------------+\n",
    "|                                             +--------+ |\n",
    "|  One that shall not be named                | Follow | |\n",
    "|  @username                                  +--------+ |\n",
    "|                                                        |\n",
    "|  Democratic governments control law in response to     |\n",
    "|  popular act.                                          |\n",
    "|                                                        |\n",
    "|  8:05 AM - 16 May 2016                                 |\n",
    "|                                                        |\n",
    "|  Reply   Retweet (1,332)   Like (300)                  |\n",
    "|                                                        |\n",
    "+--------------------------------------------------------+\n",
    "```"
   ]
  },
  {
   "cell_type": "markdown",
   "metadata": {},
   "source": [
    "How similar is this tweet to Barack Obama's Wikipedia article? Let's transform the tweet into TF-IDF features, using an encoder fit to the Wikipedia dataset.  (That is, let's treat this tweet as an article in our Wikipedia dataset and see what happens.)"
   ]
  },
  {
   "cell_type": "code",
   "execution_count": null,
   "metadata": {
    "collapsed": false
   },
   "outputs": [],
   "source": [
    "sf = graphlab.SFrame({'text': ['democratic governments control law in response to popular act']})\n",
    "sf['word_count'] = graphlab.text_analytics.count_words(sf['text'])\n",
    "\n",
    "encoder = graphlab.feature_engineering.TFIDF(features=['word_count'], output_column_prefix='tf_idf')\n",
    "encoder.fit(wiki)\n",
    "sf = encoder.transform(sf)\n",
    "sf"
   ]
  },
  {
   "cell_type": "markdown",
   "metadata": {},
   "source": [
    "Let's look at the TF-IDF vectors for this tweet and for Barack Obama's Wikipedia entry, just to visually see their differences."
   ]
  },
  {
   "cell_type": "code",
   "execution_count": null,
   "metadata": {
    "collapsed": false
   },
   "outputs": [],
   "source": [
    "tweet_tf_idf = sf[0]['tf_idf.word_count']\n",
    "tweet_tf_idf"
   ]
  },
  {
   "cell_type": "code",
   "execution_count": null,
   "metadata": {
    "collapsed": false
   },
   "outputs": [],
   "source": [
    "obama = wiki[wiki['name'] == 'Barack Obama']\n",
    "obama"
   ]
  },
  {
   "cell_type": "markdown",
   "metadata": {},
   "source": [
    "Now, compute the cosine distance between the Barack Obama article and this tweet:"
   ]
  },
  {
   "cell_type": "code",
   "execution_count": null,
   "metadata": {
    "collapsed": false
   },
   "outputs": [],
   "source": [
    "obama_tf_idf = obama[0]['tf_idf']\n",
    "graphlab.toolkits.distances.cosine(obama_tf_idf, tweet_tf_idf)"
   ]
  },
  {
   "cell_type": "markdown",
   "metadata": {},
   "source": [
    "Let's compare this distance to the distance between the Barack Obama article and all of its Wikipedia 10 nearest neighbors:"
   ]
  },
  {
   "cell_type": "code",
   "execution_count": null,
   "metadata": {
    "collapsed": false
   },
   "outputs": [],
   "source": [
    "model2_tf_idf.query(obama, label='name', k=10)"
   ]
  },
  {
   "cell_type": "markdown",
   "metadata": {},
   "source": [
    "With cosine distances, the tweet is \"nearer\" to Barack Obama than everyone else, except for Joe Biden!  This probably is not something we want. If someone is reading the Barack Obama Wikipedia page, would you want to recommend they read this tweet? Ignoring article lengths completely resulted in nonsensical results. In practice, it is common to enforce maximum or minimum document lengths. After all, when someone is reading a long article from _The Atlantic_, you wouldn't recommend him/her a tweet."
   ]
  }
 ],
 "metadata": {
  "kernelspec": {
   "display_name": "Python [dato]",
   "language": "python",
   "name": "Python [dato]"
  },
  "language_info": {
   "codemirror_mode": {
    "name": "ipython",
    "version": 2
   },
   "file_extension": ".py",
   "mimetype": "text/x-python",
   "name": "python",
   "nbconvert_exporter": "python",
   "pygments_lexer": "ipython2",
   "version": "2.7.12"
  }
 },
 "nbformat": 4,
 "nbformat_minor": 0
}
